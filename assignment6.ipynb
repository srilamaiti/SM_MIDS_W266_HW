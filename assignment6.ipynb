{
  "cells": [
    {
      "cell_type": "markdown",
      "metadata": {
        "id": "view-in-github",
        "colab_type": "text"
      },
      "source": [
        "<a href=\"https://colab.research.google.com/github/srilamaiti/SM_MIDS_W266_HW/blob/main/assignment6.ipynb\" target=\"_parent\"><img src=\"https://colab.research.google.com/assets/colab-badge.svg\" alt=\"Open In Colab\"/></a>"
      ]
    },
    {
      "cell_type": "markdown",
      "metadata": {
        "id": "Vxv7QTnunEm9"
      },
      "source": [
        "# Assignment 6: Lighting Estimation\n",
        "\n",
        "MIDS W281: Computer Vision"
      ]
    },
    {
      "cell_type": "markdown",
      "metadata": {
        "id": "ir99Dp2mnEnA"
      },
      "source": [
        "## Recommended Libraries"
      ]
    },
    {
      "cell_type": "code",
      "execution_count": 1,
      "metadata": {
        "id": "nZOao0qwnEnB"
      },
      "outputs": [],
      "source": [
        "from scipy.io import loadmat\n",
        "import numpy as np\n",
        "import matplotlib.pyplot as plt"
      ]
    },
    {
      "cell_type": "markdown",
      "metadata": {
        "id": "fW86ogcInEnB"
      },
      "source": [
        "![Hybrid Teaser](https://raw.githubusercontent.com/W281/fileRepository/main/Assignments/Assignment_6/sphere.png)"
      ]
    },
    {
      "cell_type": "markdown",
      "metadata": {
        "id": "O5MFAVKznEnC"
      },
      "source": [
        " ### Overview\n",
        "Lighting estimation is critical for many computer vision applications, and demonstrates a common use of least squares operations on pixel values. Accurate estimation of the lighting environment under which an image was captured can be used for image forensics, image re-lighting, 3D surface modeling, and compositing images with rendered objects, and many other techniques. For this assignment we will compute the lighting direction for a simple toy problem consisting of a sphere with faceted edges.\n",
        "\n",
        "Consider the illuminated sphere shown above. If, as in this case, the light illuminating the sphere is distant and the sphere is a Lambertian surface, the amount of light $I$ that strikes any point ($X,Y,Z$) on the sphere's surface is equal to the dot product between the 3-D surface normal $N$ at ($X,Y,Z$) and the single 3-D vector $L$ which specifies the direction to the light source. In this assignment, you will estimate the direction to the light $L$ using least squares. You can assume that there is only one light source in the scene and there is no ambient light.\n",
        "\n",
        "### Description\n",
        "\n",
        "1. Write a Python code to load the given 3-D [$X$-](X.npy), [$Y$-](Y.npy), and [$Z$-](Z.npy) coordinates of the sphere and the corresponding illumination [$I$](I.npy). After loading the files you will have four 41 x 41 matrices corresponding to the illumination $I$ and the $X$-, $Y$-, and $Z$- coordinates of the sphere. That is, for any $u$ and $v$ between 1 and 41, the illumination on the sphere's surface at ($X_{u,v},Y_{u,v},Z_{u,v}$) is $I_{u,v}$. Display this sphere using the `plot_surface` method in Python. Set the color values so that the displayed sphere looks like the above image without the $L$ and $N$ arrows.  \n",
        "&nbsp;\n",
        "\n",
        "2. For each ($X,Y,Z$) on the sphere's surface, determine the surface normal $N$. The surface normal at any point on the sphere is a vector from the sphere origin to the point. Since the sphere is centered at the origin, this is a simple calculation. The surface normal should be specified as a unit vector.  \n",
        "&nbsp;  \n",
        "\n",
        "3. Using least-squares, estimate the lighting (a 3-D vector). Your solution should create an over constrained system of linear equations in the surface normal and illumination at each point ($X,Y,Z$) on the sphere's surface that is not in shadow (i.e. intensity is greater than zero). Your solution for the light vector $L$ is determined by solving this system of linear equations using least-squares.   \n",
        "&nbsp;\n",
        "\n",
        "**Do not use `numpy.linalg.pinv`.**\n",
        "\n",
        "### Deliverables:\n",
        "\n",
        "- Python code for computing the sphere normals and the light direction\n",
        "- A plot displaying the 3-D sphere\n",
        "- The 3-D direction of the light source"
      ]
    },
    {
      "cell_type": "markdown",
      "metadata": {
        "id": "ljoAZ93knEnD"
      },
      "source": [
        "#### Create your functions"
      ]
    },
    {
      "cell_type": "code",
      "source": [
        "def plot_save_sphere(X,Y,Z,C,out_file):\n",
        "    # write a function that takes the \n",
        "    # X,Y,Z and I NumPy array files as arguments,\n",
        "    # plots the sphere,\n",
        "    # then saves the figure to the out_file\n",
        "\n",
        "    fig = plt.figure(figsize =(8, 8)) \n",
        "    ax = plt.axes(projection ='3d') \n",
        "    ax.set_box_aspect([1, 1, 1])\n",
        "    ax.plot_surface(X, Y, Z, cmap='gray', facecolors=C)\n",
        "    ax.grid(False)\n",
        "    ax.set_xticks([])\n",
        "    ax.set_yticks([])\n",
        "    ax.set_zticks([])\n",
        "    ax.set_xlabel('X', fontsize=10)\n",
        "    ax.set_ylabel('Y', fontsize=10)\n",
        "    ax.set_zlabel('Z', fontsize=10)\n",
        "    \n",
        "    # display the sphere\n",
        "    # Plot and save the deliverable \n",
        "    plt.title('Plot the Sphere')\n",
        "    plt.tight_layout(pad=5.08, h_pad=None, w_pad=None, rect=None)\n",
        "    plt.savefig(out_file, bbox_inches='tight')\n",
        "    plt.show()"
      ],
      "metadata": {
        "id": "4gOz797h59J4"
      },
      "execution_count": 2,
      "outputs": []
    },
    {
      "cell_type": "code",
      "source": [
        "np.sqrt(16)"
      ],
      "metadata": {
        "colab": {
          "base_uri": "https://localhost:8080/"
        },
        "id": "EYhn0ZrjeVhZ",
        "outputId": "980186e8-85a2-46d4-946c-103834c72214"
      },
      "execution_count": 20,
      "outputs": [
        {
          "output_type": "execute_result",
          "data": {
            "text/plain": [
              "4.0"
            ]
          },
          "metadata": {},
          "execution_count": 20
        }
      ]
    },
    {
      "cell_type": "code",
      "execution_count": 21,
      "metadata": {
        "id": "F7VGSxPhnEnE"
      },
      "outputs": [],
      "source": [
        "def compute_normals(X,Y,Z):\n",
        "    \n",
        "    N = np.zeros((41*41, 3)) # your code should fill in the values for sphere normals\n",
        "    \n",
        "    # write a function that takes the \n",
        "    # X,Y,Z array files as arguments,\n",
        "    # each input is of size (41, 41)\n",
        "    # output N of size (41*41, 3)\n",
        "    \n",
        "    # TODO: vectorize the inputs to (41*41, 1)\n",
        "    x_v, y_v, z_v = X.flatten(), Y.flatten(), Z.flatten()\n",
        "    l2_normal = np.sqrt(np.square(x_v) + np.square(y_v) + np.square(z_v))\n",
        "    return np.array([normal / l2_normal_val for normal, l2_normal_val in zip(zip(x_v, y_v, z_v), l2_normal)])\n",
        "    \n",
        "    # TODO compute the normal at each point on the sphere\n",
        "    \n",
        "    # TODO calculate the 2-norm of each normal\n",
        "\n",
        "    # TODO divide each Normal by its norm\n",
        "    \n",
        "    return N"
      ]
    },
    {
      "cell_type": "markdown",
      "metadata": {
        "id": "J_y8c_kmnEnE"
      },
      "source": [
        "#### Run your code"
      ]
    },
    {
      "cell_type": "code",
      "source": [
        "# load the npy and plot the sphere\n",
        "X = np.load('X.npy')\n",
        "Y = np.load('Y.npy')\n",
        "Z = np.load('Z.npy')\n",
        "I = np.load('I.npy')"
      ],
      "metadata": {
        "id": "loCrXgzcnSEK"
      },
      "execution_count": 3,
      "outputs": []
    },
    {
      "cell_type": "code",
      "execution_count": 4,
      "metadata": {
        "colab": {
          "base_uri": "https://localhost:8080/",
          "height": 505
        },
        "id": "7J1t-3ranEnE",
        "outputId": "4a3a0d63-f2f8-426f-ed21-f55e9544d3f0"
      },
      "outputs": [
        {
          "output_type": "display_data",
          "data": {
            "text/plain": [
              "<Figure size 576x576 with 1 Axes>"
            ],
            "image/png": "[encoded data removed]"
          },
          "metadata": {}
        }
      ],
      "source": [
        "# plot the sphere\n",
        "plot_save_sphere(X,\n",
        "                 Y,\n",
        "                 Z, \n",
        "                 np.concatenate((I[:,:,np.newaxis],\n",
        "                                 I[:,:,np.newaxis],\n",
        "                                 I[:,:,np.newaxis]\n",
        "                                ), \n",
        "                                axis=2\n",
        "                                ), \n",
        "                 'temp.png'\n",
        "                )"
      ]
    },
    {
      "cell_type": "code",
      "source": [
        "N = compute_normals(X,Y,Z)\n",
        "N_transpose = N.T\n",
        "print(N.shape, N_transpose.shape)\n",
        "N"
      ],
      "metadata": {
        "colab": {
          "base_uri": "https://localhost:8080/"
        },
        "id": "wcpQnEkk5kYI",
        "outputId": "40342651-42dd-42af-c361-ab5ff880f5de"
      },
      "execution_count": 31,
      "outputs": [
        {
          "output_type": "stream",
          "name": "stdout",
          "text": [
            "(1681, 3) (3, 1681)\n"
          ]
        },
        {
          "output_type": "execute_result",
          "data": {
            "text/plain": [
              "array([[ 0.01513907,  0.        , -0.9998854 ],\n",
              "       [ 0.01513907,  0.        , -0.9998854 ],\n",
              "       [ 0.01513907,  0.        , -0.9998854 ],\n",
              "       ...,\n",
              "       [ 0.01513907,  0.        ,  0.9998854 ],\n",
              "       [ 0.01513907,  0.        ,  0.9998854 ],\n",
              "       [ 0.01513907,  0.        ,  0.9998854 ]])"
            ]
          },
          "metadata": {},
          "execution_count": 31
        }
      ]
    },
    {
      "cell_type": "markdown",
      "metadata": {
        "id": "Ut1qykd0nEnF"
      },
      "source": [
        "#### Calculate and print the 3D direction of light source"
      ]
    },
    {
      "cell_type": "code",
      "source": [
        "I_v = I.flatten() # Vectorizing I\n",
        "idxs = np.where(I_v > 0) # Getting only the illuminated points\n",
        "N_x, N_y, N_z, I_v = N_t[0][idxs], N_t[1][idxs], N_t[2][idxs], I_v[idxs] # Subsetting only on illuminated points\n",
        "\n",
        "M = np.vstack((N_x, N_y, N_z, np.ones(len(N_x)))).T\n",
        "l = np.linalg.inv((M.T @ M)) @ M.T @ I_v\n",
        "print(l.shape)\n",
        "print(l)"
      ],
      "metadata": {
        "id": "4vqmc9mXfCQk",
        "outputId": "d4ce0a05-f19b-49bb-fc05-45baa9b7935f",
        "colab": {
          "base_uri": "https://localhost:8080/"
        }
      },
      "execution_count": 29,
      "outputs": [
        {
          "output_type": "stream",
          "name": "stdout",
          "text": [
            "(4,)\n",
            "[ 5.96750974e-03 -7.07039366e-01  7.07022894e-01  2.88278895e-05]\n"
          ]
        }
      ]
    },
    {
      "cell_type": "code",
      "execution_count": null,
      "metadata": {
        "colab": {
          "base_uri": "https://localhost:8080/",
          "height": 201
        },
        "id": "llQZhPwonEnF",
        "outputId": "a1b4ab03-98a7-4134-a657-62cffa324760"
      },
      "outputs": [
        {
          "output_type": "error",
          "ename": "NameError",
          "evalue": "ignored",
          "traceback": [
            "\u001b[0;31m---------------------------------------------------------------------------\u001b[0m",
            "\u001b[0;31mNameError\u001b[0m                                 Traceback (most recent call last)",
            "\u001b[0;32m<ipython-input-7-c157439279d5>\u001b[0m in \u001b[0;36m<module>\u001b[0;34m\u001b[0m\n\u001b[1;32m      6\u001b[0m \u001b[0;34m\u001b[0m\u001b[0m\n\u001b[1;32m      7\u001b[0m \u001b[0;31m# print the light direction\u001b[0m\u001b[0;34m\u001b[0m\u001b[0;34m\u001b[0m\u001b[0m\n\u001b[0;32m----> 8\u001b[0;31m \u001b[0mprint\u001b[0m\u001b[0;34m(\u001b[0m\u001b[0ml\u001b[0m\u001b[0;34m)\u001b[0m\u001b[0;34m\u001b[0m\u001b[0;34m\u001b[0m\u001b[0m\n\u001b[0m",
            "\u001b[0;31mNameError\u001b[0m: name 'l' is not defined"
          ]
        }
      ],
      "source": [
        "# TODO calculate light direction using least squares\n",
        "# vectorize I \n",
        "i_v = I.flatten()\n",
        "\n",
        "# consider only those points which are not in shadow\n",
        "# that is pixel value is greater than 0\n",
        "illuminated_idx = np.where(I_v > 0) \n",
        "\n",
        "# solve for the light direction using least squares, remember I = N . l where l is the light direction\n",
        "\n",
        "# print the light direction\n",
        "\n",
        "#print(l)"
      ]
    }
  ],
  "metadata": {
    "kernelspec": {
      "display_name": "Python 3",
      "language": "python",
      "name": "python3"
    },
    "language_info": {
      "codemirror_mode": {
        "name": "ipython",
        "version": 3
      },
      "file_extension": ".py",
      "mimetype": "text/x-python",
      "name": "python",
      "nbconvert_exporter": "python",
      "pygments_lexer": "ipython3",
      "version": "3.7.6"
    },
    "colab": {
      "provenance": [],
      "include_colab_link": true
    }
  },
  "nbformat": 4,
  "nbformat_minor": 0
}