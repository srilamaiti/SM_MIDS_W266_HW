{
  "cells": [
    {
      "cell_type": "markdown",
      "metadata": {
        "id": "view-in-github",
        "colab_type": "text"
      },
      "source": [
        "<a href=\"https://colab.research.google.com/github/srilamaiti/SM_MIDS_W266_HW/blob/main/Multiclass_text_classification.ipynb\" target=\"_parent\"><img src=\"https://colab.research.google.com/assets/colab-badge.svg\" alt=\"Open In Colab\"/></a>"
      ]
    },
    {
      "cell_type": "markdown",
      "metadata": {
        "id": "Z-44Qz4-Xd1o"
      },
      "source": [
        "# Assignment 3: Fine tuning a multiclass classification BERT model\n",
        "\n",
        "**Description:** This assignment covers fine-tuning of a multiclass classification. You will compare two different types of solutions using BERT-based models. You should also be able to develop an intuition for:\n",
        "\n",
        "\n",
        "* Working with BERT\n",
        "* Using multiple models to focus on different sub-tasks\n",
        "* Different metrics to measure the effectiveness of your model\n",
        "\n",
        "\n",
        "\n",
        "The assignment notebook closely follows the lesson notebooks. We will use the 20 newsgroups dataset and will leverage some of the models, or part of the code, for our current investigation. \n",
        "\n",
        "**You are strongly encouraged to read through the entire notebook before answering any questions or writing any code.**\n",
        "\n",
        "The initial part of the notebook is purely setup. We will then generate our BERT model and see if and how we can improve it. \n",
        "\n",
        "Do not try to run this entire notebook on your GCP instance as the training of models requires a GPU to work in a timely fashion. This notebook should be run on a Google Colab leveraging a GPU. By default, when you open the notebook in Colab it will try to use a GPU. Total runtime of the entire notebook (with solutions and a Colab GPU) should be about 1h.\n",
        "\n",
        "\n",
        "[![Open In Colab](https://colab.research.google.com/assets/colab-badge.svg)](https://colab.research.google.com/github/datasci-w266/2023-spring-main/blob/master/assignment/a3/Multiclass_text_classification.ipynb)\n",
        "\n",
        "The overall assignment structure is as follows:\n",
        "\n",
        "1. Setup\n",
        "  \n",
        "  1.1 Libraries & Helper Functions\n",
        "\n",
        "  1.2 Data Acquisition\n",
        "\n",
        "  1.3 Training/Test/Validation Sets for BERT-based models\n",
        "\n",
        "2. Classification with a fine tuned BERT model\n",
        "\n",
        "  2.1 Create the specified BERT model\n",
        "  \n",
        "  2.2 Fine tune the BERT model as directed\n",
        "\n",
        "  2.3 Examine the predictions with various metrics\n",
        "\n",
        "3. Classification using two stages\n",
        "\n",
        "  3.1 Relabel the data to group the often confused classes\n",
        "\n",
        "  3.2 Train the first stage model on the relabeled data\n",
        "\n",
        "  3.3 Separate the data for just the confused classes\n",
        "\n",
        "  3.4. Train the second stage model on the two classes\n",
        "\n",
        "  3.5. Combine and evaluate the predictions from the two stages\n",
        "\n",
        "4. Look at examples of misclassifications, see what might have changed\n",
        "\n",
        "\n",
        "\n",
        "**INSTRUCTIONS:**: \n",
        "\n",
        "* Questions are always indicated as **QUESTION:**, so you can search for this string to make sure you answered all of the questions. You are expected to fill out, run, and submit this notebook, as well as to answer the questions in the **answers** file as you did in a1 and a2.\n",
        "\n",
        "* **### YOUR CODE HERE** indicates that you are supposed to write code.\n",
        "\n",
        "* If you want to, you can run all of the cells in section 1 in bulk. This is setup work and no questions are in there. At the end of section 1 we will state all of the relevant variables that were defined and created in section 1.\n",
        "\n",
        "* **IMPORTANT NOTE:** Because the data we're using is downloaded each time we run section 1, a different split of train, validation, and test records is created.  This means that the accuracy, precision, recall, and F1 scores will change, although the delta will be small.  Please enter the values from your final run so that the answer values in your answers file correspond to the answer values in the outputs in your notebook.\n"
      ]
    },
    {
      "cell_type": "markdown",
      "metadata": {
        "id": "NK2xTV-Xisrl"
      },
      "source": [
        "### 1. Setup\n",
        "\n",
        "Lets get all our libraries and download and process our data."
      ]
    },
    {
      "cell_type": "code",
      "execution_count": 1,
      "metadata": {
        "colab": {
          "base_uri": "https://localhost:8080/"
        },
        "id": "3gzOXaFdmgO8",
        "outputId": "e6211821-6cf0-4f25-dbea-e3febc70d564"
      },
      "outputs": [
        {
          "output_type": "stream",
          "name": "stdout",
          "text": [
            "\u001b[2K     \u001b[90m━━━━━━━━━━━━━━━━━━━━━━━━━━━━━━━━━━━━━━━━\u001b[0m \u001b[32m6.3/6.3 MB\u001b[0m \u001b[31m12.3 MB/s\u001b[0m eta \u001b[36m0:00:00\u001b[0m\n",
            "\u001b[2K     \u001b[90m━━━━━━━━━━━━━━━━━━━━━━━━━━━━━━━━━━━━━━\u001b[0m \u001b[32m190.3/190.3 KB\u001b[0m \u001b[31m10.4 MB/s\u001b[0m eta \u001b[36m0:00:00\u001b[0m\n",
            "\u001b[2K     \u001b[90m━━━━━━━━━━━━━━━━━━━━━━━━━━━━━━━━━━━━━━━━\u001b[0m \u001b[32m7.6/7.6 MB\u001b[0m \u001b[31m21.3 MB/s\u001b[0m eta \u001b[36m0:00:00\u001b[0m\n",
            "\u001b[?25h"
          ]
        }
      ],
      "source": [
        "!pip install -q transformers"
      ]
    },
    {
      "cell_type": "code",
      "execution_count": 2,
      "metadata": {
        "colab": {
          "base_uri": "https://localhost:8080/"
        },
        "id": "ULcKJUjHmkZT",
        "outputId": "214f9bd8-386e-4d6b-d3aa-62b393bff3e9"
      },
      "outputs": [
        {
          "output_type": "stream",
          "name": "stdout",
          "text": [
            "Looking in indexes: https://pypi.org/simple, https://us-python.pkg.dev/colab-wheels/public/simple/\n",
            "Requirement already satisfied: pydot in /usr/local/lib/python3.8/dist-packages (1.3.0)\n",
            "Requirement already satisfied: pyparsing>=2.1.4 in /usr/local/lib/python3.8/dist-packages (from pydot) (3.0.9)\n"
          ]
        }
      ],
      "source": [
        "!pip install pydot"
      ]
    },
    {
      "cell_type": "code",
      "execution_count": 3,
      "metadata": {
        "id": "aTq7Qjqbmkfv"
      },
      "outputs": [],
      "source": [
        "from sklearn.datasets import fetch_20newsgroups\n",
        "from sklearn.model_selection import train_test_split\n",
        "from sklearn.metrics import classification_report"
      ]
    },
    {
      "cell_type": "code",
      "execution_count": 4,
      "metadata": {
        "id": "-6E-xzDawK0Q"
      },
      "outputs": [],
      "source": [
        "from collections import Counter\n",
        "import numpy as np\n",
        "import tensorflow as tf\n",
        "from tensorflow import keras\n",
        "\n",
        "import seaborn as sns\n",
        "import matplotlib.pyplot as plt\n",
        "from pprint import pprint "
      ]
    },
    {
      "cell_type": "code",
      "execution_count": 5,
      "metadata": {
        "id": "99yIOuqFXMwU"
      },
      "outputs": [],
      "source": [
        "from transformers import BertTokenizer, TFBertModel"
      ]
    },
    {
      "cell_type": "code",
      "execution_count": 6,
      "metadata": {
        "id": "UWk_PZ9hmkk0"
      },
      "outputs": [],
      "source": [
        "def read_20newsgroups(test_size=0.1):\n",
        "  # download & load 20newsgroups dataset from sklearn's repos\n",
        "  dataset = fetch_20newsgroups(subset=\"all\", shuffle=True, remove=(\"headers\", \"footers\", \"quotes\"))\n",
        "  documents = dataset.data\n",
        "  labels = dataset.target\n",
        "  # split into training & testing a return data as well as label names\n",
        "  return train_test_split(documents, labels, test_size=test_size), dataset.target_names\n",
        "  \n",
        "# call the function\n",
        "(train_texts, test_texts, train_labels, test_labels), target_names = read_20newsgroups()"
      ]
    },
    {
      "cell_type": "markdown",
      "metadata": {
        "id": "8Ocyl9dnb1OM"
      },
      "source": [
        "Take a look at the records.  We basically have a long string of text and an associated label.  That label is the Usenet group where the posting occured. The records are the raw text.  They vary significantly in size."
      ]
    },
    {
      "cell_type": "code",
      "execution_count": 7,
      "metadata": {
        "colab": {
          "base_uri": "https://localhost:8080/"
        },
        "id": "O7Akxu2Umkpo",
        "outputId": "ff5d515d-e21c-4ac9-a47b-7fd095de7618"
      },
      "outputs": [
        {
          "output_type": "execute_result",
          "data": {
            "text/plain": [
              "['\"Bare\" = case, a power supply, and a motherboard (with RAM and a coprocessor).\\nEverything else is yours to add as you like.\\n\\nThe motherboard:\\n    - US-made Micronics 8-slot motherboard with Intel 386dx/25mhz CPU\\n    - 64kb SRAM cache\\n    - 4mb 80us RAM using 4x1mb simms (worth $120 alone)\\n    - Cyrix 83D87 math coprocessor (worth $90 alone)\\n    - Norton SI 6.0 rating of 26.1\\n    - Latest version Phoenix BIOS\\n\\nThe case/power supply:\\n     - Standard desktop case. 230watt power supply with the usual connectors.\\n     - Room for five floppy/hard drives (three visible, two internal).\\n\\n*New* Micronics CPUs often command a several-hundred dollar premium\\nover clone motherboards because they are US-made, use high-quality\\ncomponents, and are known to be both very reliable and compatible. They\\nhave been OEMed in systems sold by both Gateway and Zeos at various\\npoints in the past. (Check out the ads in the back pages of Byte or PC\\nMagazine if you want to see this price differential for yourself.)\\n\\nPrice: $450 complete, $100 less if you don\\'t want/need the case and\\npower supply. The board is fully guaranteed. Email for further details\\nor for any questions.\\n\\nThanks!',\n",
              " '\\nI hope there is something I don\\'t understand about this system, but can\\nsomeone tell me how these chips are going to be manufactured while maintaining\\neach half key under total control of the separate escrow agencies? Don\\'t\\nboth halfs of the key have to come together (in some form) at the time\\nthe chip is constructed?\\n\\nOr is it built like a fusable prom, with the chip being sent to the 1st\\nescrow agency to program its 1/2 key, then the 2nd agency to program its\\n1/2 key (but who invents the safeguards that prevent the 2nd agency from\\nreading the information already programmed by the 1st)?\\n\\nThis isn\\'t intended to be a flame or anything, I am just really curious\\nhow to manufacture these things while still maintaining the key escrow\\nsecurity without simply saying \"trust the manufacturer, they won\\'t look\".']"
            ]
          },
          "metadata": {},
          "execution_count": 7
        }
      ],
      "source": [
        "train_texts[:2]"
      ]
    },
    {
      "cell_type": "markdown",
      "metadata": {
        "id": "1eKIgSBdcHy9"
      },
      "source": [
        "Notice the \"labels\" are just integers that are an offset into the list of target names."
      ]
    },
    {
      "cell_type": "code",
      "execution_count": 8,
      "metadata": {
        "colab": {
          "base_uri": "https://localhost:8080/"
        },
        "id": "KRnu9CSQnMNN",
        "outputId": "a8a35b38-04bd-48c3-e280-45f8400ed428"
      },
      "outputs": [
        {
          "output_type": "execute_result",
          "data": {
            "text/plain": [
              "array([ 6, 11])"
            ]
          },
          "metadata": {},
          "execution_count": 8
        }
      ],
      "source": [
        "train_labels[:2]"
      ]
    },
    {
      "cell_type": "markdown",
      "metadata": {
        "id": "F-ksEnmbcWBt"
      },
      "source": [
        "The variable ''target_names'' stores all of the names of the labels."
      ]
    },
    {
      "cell_type": "code",
      "execution_count": 9,
      "metadata": {
        "colab": {
          "base_uri": "https://localhost:8080/"
        },
        "id": "qvNAnCstx-3S",
        "outputId": "0402bc1a-b117-47bb-c4d6-0c226ad7986d"
      },
      "outputs": [
        {
          "output_type": "stream",
          "name": "stdout",
          "text": [
            "['alt.atheism', 'comp.graphics', 'comp.os.ms-windows.misc', 'comp.sys.ibm.pc.hardware', 'comp.sys.mac.hardware', 'comp.windows.x', 'misc.forsale', 'rec.autos', 'rec.motorcycles', 'rec.sport.baseball', 'rec.sport.hockey', 'sci.crypt', 'sci.electronics', 'sci.med', 'sci.space', 'soc.religion.christian', 'talk.politics.guns', 'talk.politics.mideast', 'talk.politics.misc', 'talk.religion.misc']\n"
          ]
        }
      ],
      "source": [
        "print(target_names)"
      ]
    },
    {
      "cell_type": "markdown",
      "metadata": {
        "id": "m1SmEVYOcwP6"
      },
      "source": [
        "We already have a test set and a train set.  Let's explicitly set aside part of our training set for validation purposes."
      ]
    },
    {
      "cell_type": "code",
      "execution_count": 10,
      "metadata": {
        "id": "H1toWirQAAZ8"
      },
      "outputs": [],
      "source": [
        "len(train_texts)\n",
        "valid_texts = train_texts[16000:]\n",
        "valid_labels = train_labels[16000:]\n",
        "train_texts = train_texts[:16000]\n",
        "train_labels = train_labels[:16000]"
      ]
    },
    {
      "cell_type": "markdown",
      "metadata": {
        "id": "aBMiGVwHc76-"
      },
      "source": [
        "The validation set will always have 961 records."
      ]
    },
    {
      "cell_type": "code",
      "execution_count": 11,
      "metadata": {
        "colab": {
          "base_uri": "https://localhost:8080/"
        },
        "id": "bzuXsJjwAAOr",
        "outputId": "67d747da-e20e-420a-a7be-19d00a311cb4"
      },
      "outputs": [
        {
          "output_type": "execute_result",
          "data": {
            "text/plain": [
              "961"
            ]
          },
          "metadata": {},
          "execution_count": 11
        }
      ],
      "source": [
        "len(valid_texts)"
      ]
    },
    {
      "cell_type": "markdown",
      "metadata": {
        "id": "SBy5EKYwdBcZ"
      },
      "source": [
        "The training set will always have 16000 records."
      ]
    },
    {
      "cell_type": "code",
      "execution_count": 12,
      "metadata": {
        "colab": {
          "base_uri": "https://localhost:8080/"
        },
        "id": "MMVgiD8SCHUk",
        "outputId": "5828591c-06af-442a-b70c-9b7c1d53fe63"
      },
      "outputs": [
        {
          "output_type": "execute_result",
          "data": {
            "text/plain": [
              "16000"
            ]
          },
          "metadata": {},
          "execution_count": 12
        }
      ],
      "source": [
        "len(train_texts)"
      ]
    },
    {
      "cell_type": "markdown",
      "metadata": {
        "id": "LGVOwMBKu2OW"
      },
      "source": [
        "**NOTE:** Each time you rerun the data you will draw a *different* set of train and test documents even though the numbers 961 and 16000 will always be the same."
      ]
    },
    {
      "cell_type": "code",
      "execution_count": 13,
      "metadata": {
        "id": "mFISqjoM335H"
      },
      "outputs": [],
      "source": [
        "#get the labels in a needed data format for validation\n",
        "npvalid_labels = np.asarray(valid_labels)"
      ]
    },
    {
      "cell_type": "markdown",
      "metadata": {
        "id": "d3T5uytRdK7I"
      },
      "source": [
        "* train_texts - an array of text strings for training\n",
        "* test_texts - an array of text strings for testing \n",
        "* valid texts - an array of text strings for validation\n",
        "* train_labels - an array of integers representing the labels associated with train_texts\n",
        "* test_labels - an array of integers representing the labels associated with test_texts\n",
        "* valid_labels - an array of integers representing the labels associated with valid_texts\n",
        "* target_names - an array of label strings that correspond to the integers in the *_labels arrays\n",
        "\n",
        "### 2. Classification with a fine tuned BERT model\n",
        "\n",
        "Let's pick our BERT model.  We'll start with the base BERT model and we'll use the cased version since our data has capital and lower case letters."
      ]
    },
    {
      "cell_type": "code",
      "execution_count": 14,
      "metadata": {
        "id": "zjFWaM2ZnMIC"
      },
      "outputs": [],
      "source": [
        "#make it easier to use a variety of BERT subword models\n",
        "model_checkpoint = 'bert-base-cased'"
      ]
    },
    {
      "cell_type": "code",
      "execution_count": 17,
      "metadata": {
        "colab": {
          "base_uri": "https://localhost:8080/",
          "height": 252,
          "referenced_widgets": [
            "ba3ae52902204f33a04ccfaf0efc421f",
            "2948c076bfbd4192b7dca0b023249016",
            "cb07dc852fcf4b81976a6b56bd98e162",
            "925e65eb0e9748679246e7d57a892a05",
            "ceed9541725642b78179ae2387dd6294",
            "e304f3bcf2d849b9a1341d407c578eaf",
            "dead48bbe54f49cb991bcb0866f4ab94",
            "643d6fe570b54db3a317022d3aa5643c",
            "9ef651dbea984048a3dbabd66fe64d1d",
            "5535a30c22fa4204b4056602f3211efc",
            "1c75b0360efb43f1bda6a5ddf946afe1",
            "af2d09bcd98a4c1f9bb06fba9f5942f0",
            "485c5bb369fd40e1964eb2f906f3b63c",
            "01d91d4ef30b4d1582cc3a92d96b1738",
            "21a40b010da447f1b7ac3213e60b4860",
            "1490246cffa4486f884e15ec56d98ba3",
            "577f4af2118848d4b279d95281277d1b",
            "21aa7bb314df41b9aefea4b5f58d3ca5",
            "149350b49bf34c37b6e1dc186e2a81ad",
            "75700ae54a9045aeb0013623743a103c",
            "a8d370ed4c77432a98c990a0bd7e7673",
            "d390a0e182a844afbac498a87de2a696",
            "6ec9a96637e04181994c4a4e2972fc6e",
            "1be94a18d7944cf0a90eb41b49172837",
            "d6f7b41e90774511961179bdae1af366",
            "6a8865378a714cb2abf43a9edca8cf26",
            "161570939d2c40ff8d5d93d6a92cd6f6",
            "0f4495b2244a49cebe93c1b65d920bda",
            "9e678996b1c243b69c749cd130ef524d",
            "b9baec0f51174c18b29ca9e7474561cc",
            "3ab4962cd9704b2cb7bfcda3bd797b31",
            "4b0b588326f6432d814bbe0790b4ebc4",
            "52b7d9a0ec7e477b9d599d059833d684",
            "fdf5c6214e8a42909ba124670ec5fa2c",
            "0c4701ea39124ba381f2a84783a21680",
            "cbd3a58cc75a458ba35d9653576865f3",
            "a4dabf7544e045d2b7824ad1a612fb44",
            "3163ab6b5fd14da183941640d2cec1c2",
            "98f35a0544394d2fb5dbea0948fdf520",
            "a6adf5b101324a64a4306e31d6eef325",
            "2caa36d570b34a08bf5dd146c596b3f2",
            "6be75c8f0d314298bba3a3fa149d3f5f",
            "c3f54a6f93b94a1086f6ae18eb667f6e",
            "568413388ba44743a0f078a7d869aec6"
          ]
        },
        "id": "-7gV_GUdn9Ck",
        "outputId": "29be4161-832e-408e-adfd-5ed09e8f3ffb"
      },
      "outputs": [
        {
          "output_type": "display_data",
          "data": {
            "text/plain": [
              "Downloading (…)solve/main/vocab.txt:   0%|          | 0.00/213k [00:00<?, ?B/s]"
            ],
            "application/vnd.jupyter.widget-view+json": {
              "version_major": 2,
              "version_minor": 0,
              "model_id": "ba3ae52902204f33a04ccfaf0efc421f"
            }
          },
          "metadata": {}
        },
        {
          "output_type": "display_data",
          "data": {
            "text/plain": [
              "Downloading (…)okenizer_config.json:   0%|          | 0.00/29.0 [00:00<?, ?B/s]"
            ],
            "application/vnd.jupyter.widget-view+json": {
              "version_major": 2,
              "version_minor": 0,
              "model_id": "af2d09bcd98a4c1f9bb06fba9f5942f0"
            }
          },
          "metadata": {}
        },
        {
          "output_type": "display_data",
          "data": {
            "text/plain": [
              "Downloading (…)lve/main/config.json:   0%|          | 0.00/570 [00:00<?, ?B/s]"
            ],
            "application/vnd.jupyter.widget-view+json": {
              "version_major": 2,
              "version_minor": 0,
              "model_id": "6ec9a96637e04181994c4a4e2972fc6e"
            }
          },
          "metadata": {}
        },
        {
          "output_type": "display_data",
          "data": {
            "text/plain": [
              "Downloading (…)\"tf_model.h5\";:   0%|          | 0.00/527M [00:00<?, ?B/s]"
            ],
            "application/vnd.jupyter.widget-view+json": {
              "version_major": 2,
              "version_minor": 0,
              "model_id": "fdf5c6214e8a42909ba124670ec5fa2c"
            }
          },
          "metadata": {}
        },
        {
          "output_type": "stream",
          "name": "stderr",
          "text": [
            "Some layers from the model checkpoint at bert-base-cased were not used when initializing TFBertModel: ['mlm___cls', 'nsp___cls']\n",
            "- This IS expected if you are initializing TFBertModel from the checkpoint of a model trained on another task or with another architecture (e.g. initializing a BertForSequenceClassification model from a BertForPreTraining model).\n",
            "- This IS NOT expected if you are initializing TFBertModel from the checkpoint of a model that you expect to be exactly identical (initializing a BertForSequenceClassification model from a BertForSequenceClassification model).\n",
            "All the layers of TFBertModel were initialized from the model checkpoint at bert-base-cased.\n",
            "If your task is similar to the task the model of the checkpoint was trained on, you can already use TFBertModel for predictions without further training.\n"
          ]
        }
      ],
      "source": [
        "bert_tokenizer = BertTokenizer.from_pretrained(model_checkpoint)\n",
        "bert_model = TFBertModel.from_pretrained(model_checkpoint)"
      ]
    },
    {
      "cell_type": "markdown",
      "metadata": {
        "id": "ZJGkIHSHdilH"
      },
      "source": [
        "We're setting our maximum training record length to 200.  BERT models can handle more and after you've completed the assignment you're welcome to try larger and small sized records."
      ]
    },
    {
      "cell_type": "code",
      "execution_count": 18,
      "metadata": {
        "id": "h_59AaVznMCV"
      },
      "outputs": [],
      "source": [
        "max_length = 200"
      ]
    },
    {
      "cell_type": "markdown",
      "metadata": {
        "id": "n6d54_bqd58L"
      },
      "source": [
        "Now we'll tokenize our three data slices.  This will take a minute or two."
      ]
    },
    {
      "cell_type": "code",
      "execution_count": 19,
      "metadata": {
        "id": "bgv0nftinL6z"
      },
      "outputs": [],
      "source": [
        "# tokenize the dataset, truncate when passed `max_length`, \n",
        "# and pad with 0's when less than `max_length` and return a tf Tensor\n",
        "train_encodings = bert_tokenizer(train_texts, truncation=True, padding=True, max_length=max_length, return_tensors='tf')\n",
        "valid_encodings = bert_tokenizer(valid_texts, truncation=True, padding=True, max_length=max_length, return_tensors='tf')\n",
        "test_encodings = bert_tokenizer(test_texts, truncation=True, padding=True, max_length=max_length, return_tensors='tf')"
      ]
    },
    {
      "cell_type": "markdown",
      "metadata": {
        "id": "2gNS0Fi0emN8"
      },
      "source": [
        "Notice our input_ids for the first training record and their padding. The train_encodings also includes an array of token_type_ids and an attention_mask array. "
      ]
    },
    {
      "cell_type": "code",
      "execution_count": 20,
      "metadata": {
        "colab": {
          "base_uri": "https://localhost:8080/"
        },
        "id": "XFEXxgAmnLve",
        "outputId": "d9be2653-fe3b-435c-8806-c62eecc17821"
      },
      "outputs": [
        {
          "output_type": "execute_result",
          "data": {
            "text/plain": [
              "<tf.Tensor: shape=(1, 200), dtype=int32, numpy=\n",
              "array([[  101,   107,  6523,  1162,   107,   134,  1692,   117,   170,\n",
              "         1540,  3880,   117,  1105,   170,  1534,  4015,   113,  1114,\n",
              "        20898,  1105,   170,  9947,  2180, 22371,  1766,   114,   119,\n",
              "         5268,  1950,  1110,  6762,  1106,  5194,  1112,  1128,  1176,\n",
              "          119,  1109,  1534,  4015,   131,   118,  1646,   118,  1189,\n",
              "        27730, 21157,   129,   118, 10641,  1534,  4015,  1114, 15397,\n",
              "         3383,  1545,  1181,  1775,   120,  1512,  1306,  1324,  1584,\n",
              "        18701,   118,  3324,  1377,  1830,  5833, 10964, 21774,   118,\n",
              "          125, 12913,  2908,  1361, 20898,  1606,   125,  1775,  1475,\n",
              "        12913, 27466,  6262,  1116,   113,  3869,   109,  5356,  2041,\n",
              "          114,   118, 27688, 14799,  6032,  2137,  1604,  1559, 12523,\n",
              "         9947,  2180, 22371,  1766,   113,  3869,   109,  3078,  2041,\n",
              "          114,   118, 10685,   156,  2240,   127,   119,   121,  5261,\n",
              "         1104,  1744,   119,   122,   118,  6372,  2050,  1683,  6343,\n",
              "          139, 19368,  1708,  1109,  1692,   120,  1540,  3880,   131,\n",
              "          118,  6433, 18813,  1692,   119, 11866, 20543,  1204,  1540,\n",
              "         3880,  1114,  1103,  4400, 25609,  1116,   119,   118,  7043,\n",
              "         1111,  1421, 22593, 27643,   120,  1662,  9307,   113,  1210,\n",
              "         5085,   117,  1160,  4422,   114,   119,   115,  1203,   115,\n",
              "        27730, 21157, 18701,  1116,  1510,  2663,   170,  1317,   118,\n",
              "         2937,  8876, 16865,  1166, 22121,  1534, 13005,  1272,  1152,\n",
              "         1132,  1646,   118,  1189,   117,  1329,  1344,   118,  3068,\n",
              "         5644,   102]], dtype=int32)>"
            ]
          },
          "metadata": {},
          "execution_count": 20
        }
      ],
      "source": [
        "train_encodings.input_ids[:1]"
      ]
    },
    {
      "cell_type": "markdown",
      "metadata": {
        "id": "23lwfDw2T6gI"
      },
      "source": [
        "Write a function to create this multiclass bert model.\n",
        "\n",
        "Keep in mind the following:\n",
        "* Each record can have one of n labels where n = the size of target_names.\n",
        "* We'll still want a hidden size layer of size 201\n",
        "* We'll want our hidden layer to make use of the **pooler output** from BERT\n",
        "* We'll also want to use dropout\n",
        "* Our classification layer will need to be appropriately sized and use the correct non-linearity for a multi-class problem.\n",
        "* Since we have multiple labels we can no longer use binary cross entropy.  Instead we need to change our loss metric to a categorical cross entropy.  Which of the two categorical cross entropy metrics will work best here? \n",
        "* Make sure that training affects **all** of the layers in BERT.\n"
      ]
    },
    {
      "cell_type": "code",
      "execution_count": 27,
      "metadata": {
        "id": "RtWMrLi4tIun"
      },
      "outputs": [],
      "source": [
        "def create_bert_multiclass_model(checkpoint = model_checkpoint,\n",
        "                                 num_classes = 20,\n",
        "                                 hidden_size = 201, \n",
        "                                 dropout=0.3,\n",
        "                                 learning_rate=0.00005):\n",
        "    \"\"\"\n",
        "    Build a simple classification model with BERT. Use the Pooler Output for classification purposes.\n",
        "    \"\"\"\n",
        "    bert_model = TFBertModel.from_pretrained(checkpoint)                                              \n",
        "\n",
        "    ### YOUR CODE HERE\n",
        "    input_ids = tf.keras.layers.Input(shape=(max_length,), dtype=tf.int64, name='input_ids_layer')\n",
        "    token_type_ids = tf.keras.layers.Input(shape=(max_length,), dtype=tf.int64, name='token_type_ids_layer')\n",
        "    attention_mask = tf.keras.layers.Input(shape=(max_length,), dtype=tf.int64, name='attention_mask_layer')\n",
        "\n",
        "    bert_inputs = {'input_ids': input_ids,\n",
        "                   'token_type_ids': token_type_ids,\n",
        "                   'attention_mask': attention_mask}      \n",
        "\n",
        "    bert_out = bert_model(bert_inputs)\n",
        "\n",
        "    pooler_token = bert_out[1]\n",
        "    #cls_token = bert_out[0][:, 0, :]\n",
        "\n",
        "    hidden = tf.keras.layers.Dense(hidden_size, activation='relu', name='hidden_layer')(pooler_token)\n",
        "\n",
        "\n",
        "    hidden = tf.keras.layers.Dropout(dropout)(hidden)  \n",
        "\n",
        "\n",
        "    classification = tf.keras.layers.Dense(num_classes, \n",
        "                                           activation='sigmoid',\n",
        "                                           name='classification_layer')(hidden)\n",
        "    \n",
        "    classification_model = tf.keras.Model(inputs=[input_ids, token_type_ids, attention_mask], outputs=[classification])\n",
        "    \n",
        "    classification_model.compile(optimizer=tf.keras.optimizers.Adam(learning_rate=learning_rate),\n",
        "                                 loss = tf.keras.losses.SparseCategoricalCrossentropy(from_logits=True), \n",
        "                                 metrics='accuracy')\n",
        "    \n",
        "    ### END YOUR CODE\n",
        "    return classification_model"
      ]
    },
    {
      "cell_type": "code",
      "execution_count": 28,
      "metadata": {
        "colab": {
          "base_uri": "https://localhost:8080/"
        },
        "id": "uR-Id158tIlH",
        "outputId": "b3e2621a-cc6d-4a62-805a-7dbe50c6f4f7"
      },
      "outputs": [
        {
          "output_type": "stream",
          "name": "stderr",
          "text": [
            "Some layers from the model checkpoint at bert-base-cased were not used when initializing TFBertModel: ['mlm___cls', 'nsp___cls']\n",
            "- This IS expected if you are initializing TFBertModel from the checkpoint of a model trained on another task or with another architecture (e.g. initializing a BertForSequenceClassification model from a BertForPreTraining model).\n",
            "- This IS NOT expected if you are initializing TFBertModel from the checkpoint of a model that you expect to be exactly identical (initializing a BertForSequenceClassification model from a BertForSequenceClassification model).\n",
            "All the layers of TFBertModel were initialized from the model checkpoint at bert-base-cased.\n",
            "If your task is similar to the task the model of the checkpoint was trained on, you can already use TFBertModel for predictions without further training.\n"
          ]
        }
      ],
      "source": [
        "pooler_bert_model = create_bert_multiclass_model(checkpoint=model_checkpoint, num_classes=20)"
      ]
    },
    {
      "cell_type": "code",
      "execution_count": 29,
      "metadata": {
        "colab": {
          "base_uri": "https://localhost:8080/"
        },
        "id": "bMxpO16-tIaE",
        "outputId": "0905c0a6-bf9d-45a0-8677-decd34d052aa"
      },
      "outputs": [
        {
          "output_type": "stream",
          "name": "stdout",
          "text": [
            "Model: \"model_1\"\n",
            "__________________________________________________________________________________________________\n",
            " Layer (type)                   Output Shape         Param #     Connected to                     \n",
            "==================================================================================================\n",
            " attention_mask_layer (InputLay  [(None, 200)]       0           []                               \n",
            " er)                                                                                              \n",
            "                                                                                                  \n",
            " input_ids_layer (InputLayer)   [(None, 200)]        0           []                               \n",
            "                                                                                                  \n",
            " token_type_ids_layer (InputLay  [(None, 200)]       0           []                               \n",
            " er)                                                                                              \n",
            "                                                                                                  \n",
            " tf_bert_model_2 (TFBertModel)  TFBaseModelOutputWi  108310272   ['attention_mask_layer[0][0]',   \n",
            "                                thPoolingAndCrossAt               'input_ids_layer[0][0]',        \n",
            "                                tentions(last_hidde               'token_type_ids_layer[0][0]']   \n",
            "                                n_state=(None, 200,                                               \n",
            "                                 768),                                                            \n",
            "                                 pooler_output=(Non                                               \n",
            "                                e, 768),                                                          \n",
            "                                 past_key_values=No                                               \n",
            "                                ne, hidden_states=N                                               \n",
            "                                one, attentions=Non                                               \n",
            "                                e, cross_attentions                                               \n",
            "                                =None)                                                            \n",
            "                                                                                                  \n",
            " hidden_layer (Dense)           (None, 201)          154569      ['tf_bert_model_2[0][1]']        \n",
            "                                                                                                  \n",
            " dropout_112 (Dropout)          (None, 201)          0           ['hidden_layer[0][0]']           \n",
            "                                                                                                  \n",
            " classification_layer (Dense)   (None, 20)           4040        ['dropout_112[0][0]']            \n",
            "                                                                                                  \n",
            "==================================================================================================\n",
            "Total params: 108,468,881\n",
            "Trainable params: 108,468,881\n",
            "Non-trainable params: 0\n",
            "__________________________________________________________________________________________________\n"
          ]
        }
      ],
      "source": [
        "pooler_bert_model.summary()"
      ]
    },
    {
      "cell_type": "markdown",
      "metadata": {
        "id": "5chyZZnHdlf9"
      },
      "source": [
        "**QUESTION:** 2.1 How many trainable parameters are in your dense hidden layer?\n",
        "**154,569**\n",
        "\n",
        "**QUESTION:** 2.2 How many trainable parameters are in your classification layer? **4040**"
      ]
    },
    {
      "cell_type": "code",
      "execution_count": 30,
      "metadata": {
        "colab": {
          "base_uri": "https://localhost:8080/",
          "height": 438
        },
        "id": "xe3tTWX6FVZL",
        "outputId": "e616cb6a-052c-4118-979a-433b2ab0997c"
      },
      "outputs": [
        {
          "output_type": "execute_result",
          "data": {
            "image/png": "[encoded data removed]",
            "text/plain": [
              "<IPython.core.display.Image object>"
            ]
          },
          "metadata": {},
          "execution_count": 30
        }
      ],
      "source": [
        "keras.utils.plot_model(pooler_bert_model, show_shapes=False, show_dtype=False, show_layer_names=True, dpi=90)"
      ]
    },
    {
      "cell_type": "code",
      "execution_count": 31,
      "metadata": {
        "colab": {
          "base_uri": "https://localhost:8080/"
        },
        "id": "aLLjb3mOtICy",
        "outputId": "2f840483-295c-4165-c496-de0fd7f5a955"
      },
      "outputs": [
        {
          "output_type": "stream",
          "name": "stderr",
          "text": [
            "/usr/local/lib/python3.8/dist-packages/keras/backend.py:5585: UserWarning: \"`sparse_categorical_crossentropy` received `from_logits=True`, but the `output` argument was produced by a Softmax activation and thus does not represent logits. Was this intended?\n",
            "  output, from_logits = _get_logits(\n"
          ]
        },
        {
          "output_type": "stream",
          "name": "stdout",
          "text": [
            "2000/2000 [==============================] - 771s 365ms/step - loss: 1.4422 - accuracy: 0.5696 - val_loss: 1.1195 - val_accuracy: 0.6691\n"
          ]
        }
      ],
      "source": [
        "#It takes 10 to 14 minutes to complete an epoch when using a GPU\n",
        "pooler_bert_model_history = pooler_bert_model.fit([train_encodings.input_ids, train_encodings.token_type_ids, train_encodings.attention_mask], \n",
        "                                                  train_labels,   \n",
        "                                                  validation_data=([valid_encodings.input_ids, valid_encodings.token_type_ids, valid_encodings.attention_mask], \n",
        "                                                  npvalid_labels),    \n",
        "                                                  batch_size=8, \n",
        "                                                  epochs=1)  "
      ]
    },
    {
      "cell_type": "markdown",
      "metadata": {
        "id": "rdHlOd4LJUOH"
      },
      "source": [
        "Now we need to run evaluate against our fine-tuned model.  This will give us an overall accuracy based on the test set."
      ]
    },
    {
      "cell_type": "code",
      "execution_count": 32,
      "metadata": {
        "colab": {
          "base_uri": "https://localhost:8080/"
        },
        "id": "dPQn2tJPEGdU",
        "outputId": "c27110cb-c211-4aa3-f073-c13013738f05"
      },
      "outputs": [
        {
          "output_type": "stream",
          "name": "stdout",
          "text": [
            "59/59 [==============================] - 26s 436ms/step - loss: 1.0445 - accuracy: 0.6923\n",
            "Test loss: 1.0444976091384888\n",
            "Test accuracy: 0.692307710647583\n"
          ]
        }
      ],
      "source": [
        "#batch 8, ML=201\n",
        "score = pooler_bert_model.evaluate([test_encodings.input_ids, test_encodings.token_type_ids, test_encodings.attention_mask], \n",
        "                                                  test_labels) \n",
        "\n",
        "print('Test loss:', score[0]) \n",
        "print('Test accuracy:', score[1])"
      ]
    },
    {
      "cell_type": "markdown",
      "metadata": {
        "id": "3CnyZsXLfLJt"
      },
      "source": [
        "**QUESTION:** 2.3 What is the Test accuracy score you get from your model? (Just copy and paste the value into the answers sheet and round to five significant digits.) **0.69230**"
      ]
    },
    {
      "cell_type": "code",
      "execution_count": 33,
      "metadata": {
        "colab": {
          "base_uri": "https://localhost:8080/"
        },
        "id": "NS7Gp_IYEiJ_",
        "outputId": "91338ece-901d-45dd-bc30-08638991f166"
      },
      "outputs": [
        {
          "output_type": "stream",
          "name": "stdout",
          "text": [
            "1/1 [==============================] - 7s 7s/step\n"
          ]
        }
      ],
      "source": [
        "#run predict for the first three elements in the test data set\n",
        "predictions = pooler_bert_model.predict([test_encodings.input_ids[:3], test_encodings.token_type_ids[:3], test_encodings.attention_mask[:3]])"
      ]
    },
    {
      "cell_type": "code",
      "execution_count": 34,
      "metadata": {
        "colab": {
          "base_uri": "https://localhost:8080/"
        },
        "id": "ymGM8QnpchnC",
        "outputId": "a197831d-4e87-429e-ae3b-7e387ce3afcd"
      },
      "outputs": [
        {
          "output_type": "execute_result",
          "data": {
            "text/plain": [
              "array([[0.9247388 , 0.23585501, 0.10994814, 0.57301193, 0.21791898,\n",
              "        0.13203771, 0.22413899, 0.29135177, 0.32076615, 0.11886577,\n",
              "        0.11294931, 0.187158  , 0.4911487 , 0.1654889 , 0.499867  ,\n",
              "        0.99828523, 0.47517487, 0.40118897, 0.5079835 , 0.99100363],\n",
              "       [0.18966566, 0.78021735, 0.6878888 , 0.9642761 , 0.9227287 ,\n",
              "        0.23862901, 0.85428345, 0.6963142 , 0.49672276, 0.10831849,\n",
              "        0.13368538, 0.8195348 , 0.9933037 , 0.08269962, 0.49346116,\n",
              "        0.15015027, 0.1754445 , 0.1188565 , 0.17429265, 0.09798414],\n",
              "       [0.367658  , 0.3942396 , 0.34906986, 0.6596865 , 0.7408278 ,\n",
              "        0.29167467, 0.956749  , 0.8680619 , 0.66187614, 0.10610356,\n",
              "        0.26930252, 0.41149673, 0.7102769 , 0.30479494, 0.333943  ,\n",
              "        0.3474753 , 0.5051384 , 0.25843182, 0.8146148 , 0.29818004]],\n",
              "      dtype=float32)"
            ]
          },
          "metadata": {},
          "execution_count": 34
        }
      ],
      "source": [
        "predictions"
      ]
    },
    {
      "cell_type": "code",
      "execution_count": 35,
      "metadata": {
        "colab": {
          "base_uri": "https://localhost:8080/"
        },
        "id": "-ahMJ-zwEiCs",
        "outputId": "02c79bb1-a901-4829-fe5f-0e59bef1ad70"
      },
      "outputs": [
        {
          "output_type": "stream",
          "name": "stdout",
          "text": [
            "59/59 [==============================] - 25s 415ms/step\n"
          ]
        },
        {
          "output_type": "execute_result",
          "data": {
            "text/plain": [
              "<tf.Tensor: shape=(1885,), dtype=int64, numpy=array([15, 12,  6, ..., 18, 17, 14])>"
            ]
          },
          "metadata": {},
          "execution_count": 35
        }
      ],
      "source": [
        "#run and capture all predictions from our test set using model.predict\n",
        "### YOUR CODE HERE\n",
        "predictions_model1 = pooler_bert_model.predict([test_encodings.input_ids, test_encodings.token_type_ids, test_encodings.attention_mask])\n",
        "### END YOUR CODE\n",
        "\n",
        "#now we need to get the highest probability in the distribution for each prediction\n",
        "#and store that in a tf.Tensor\n",
        "predictions_model1 = tf.argmax(predictions_model1, axis=-1)\n",
        "predictions_model1"
      ]
    },
    {
      "cell_type": "markdown",
      "metadata": {
        "id": "LGI8oA6fMWTI"
      },
      "source": [
        "There are two ways to see what's going on with our classifier.  Overall accuracy is interesting but it can be misleading.  We need to make sure that each of our categories' prediction performance is operating at an equal or higher level than the overall.\n",
        "\n",
        "Here we'll use the classification report from scikit learn.  It expects two inputs as arrays.  One is the ground truth (y_true) and the other is the associated prediction (y_pred).  This is based on gethering all the predictions from our our test set."
      ]
    },
    {
      "cell_type": "code",
      "execution_count": 36,
      "metadata": {
        "colab": {
          "base_uri": "https://localhost:8080/"
        },
        "id": "wPqioIbh2XIE",
        "outputId": "d419ce4b-b458-4d30-d354-2ce3f7e5b96b"
      },
      "outputs": [
        {
          "output_type": "stream",
          "name": "stdout",
          "text": [
            "                          precision    recall  f1-score   support\n",
            "\n",
            "             alt.atheism       0.53      0.41      0.47        94\n",
            "           comp.graphics       0.77      0.70      0.74        97\n",
            " comp.os.ms-windows.misc       0.55      0.73      0.63       105\n",
            "comp.sys.ibm.pc.hardware       0.59      0.65      0.62        89\n",
            "   comp.sys.mac.hardware       0.82      0.57      0.68        89\n",
            "          comp.windows.x       0.86      0.72      0.78        98\n",
            "            misc.forsale       0.82      0.84      0.83        95\n",
            "               rec.autos       0.66      0.76      0.71       102\n",
            "         rec.motorcycles       0.36      0.55      0.44        99\n",
            "      rec.sport.baseball       0.96      0.86      0.91        92\n",
            "        rec.sport.hockey       0.92      0.90      0.91       102\n",
            "               sci.crypt       0.77      0.66      0.71       103\n",
            "         sci.electronics       0.55      0.72      0.63        93\n",
            "                 sci.med       0.96      0.75      0.84       107\n",
            "               sci.space       0.86      0.69      0.77       108\n",
            "  soc.religion.christian       0.61      0.79      0.69        96\n",
            "      talk.politics.guns       0.64      0.75      0.69        80\n",
            "   talk.politics.mideast       0.91      0.74      0.82        81\n",
            "      talk.politics.misc       0.56      0.73      0.63        97\n",
            "      talk.religion.misc       0.33      0.02      0.03        58\n",
            "\n",
            "                accuracy                           0.69      1885\n",
            "               macro avg       0.70      0.68      0.68      1885\n",
            "            weighted avg       0.71      0.69      0.69      1885\n",
            "\n"
          ]
        }
      ],
      "source": [
        "print(classification_report(test_labels, predictions_model1.numpy(), target_names=target_names))"
      ]
    },
    {
      "cell_type": "markdown",
      "metadata": {
        "id": "ddMMQ2vBOJKj"
      },
      "source": [
        "**QUESTION:** 2.4 What is the key difference between the macro average F1 score and the weighted average F1 score?\n",
        "**In Macro-average F1 score, all classes contribute equally to the final average value. This does not work for imbalanced data set. For weighted average F1 score considers each representative class's weighted contribution towards the average.**\n",
        "\n",
        "**QUESTION:** 2.5 What is the macro average F1 score you get from the classification report?\n",
        "**0.70000**\n",
        "\n",
        "Now we'll generate another very valuable visualization of what's happening with our classifier -- a confusion matrix."
      ]
    },
    {
      "cell_type": "code",
      "execution_count": 40,
      "metadata": {
        "id": "udwdL6iKEh7b"
      },
      "outputs": [],
      "source": [
        "cm = tf.math.confusion_matrix(test_labels, predictions_model1)\n",
        "cm = cm/cm.numpy().sum(axis=1)[:, tf.newaxis]"
      ]
    },
    {
      "cell_type": "code",
      "source": [
        "cm"
      ],
      "metadata": {
        "colab": {
          "base_uri": "https://localhost:8080/"
        },
        "id": "u9_GtH_tdwfa",
        "outputId": "81b6c65d-2974-4b38-90b8-b0070593085b"
      },
      "execution_count": 41,
      "outputs": [
        {
          "output_type": "execute_result",
          "data": {
            "text/plain": [
              "<tf.Tensor: shape=(20, 20), dtype=float64, numpy=\n",
              "array([[0.41489362, 0.        , 0.0212766 , 0.        , 0.        ,\n",
              "        0.        , 0.        , 0.0212766 , 0.10638298, 0.0106383 ,\n",
              "        0.        , 0.03191489, 0.0106383 , 0.        , 0.0212766 ,\n",
              "        0.19148936, 0.0212766 , 0.0212766 , 0.11702128, 0.0106383 ],\n",
              "       [0.        , 0.70103093, 0.09278351, 0.04123711, 0.02061856,\n",
              "        0.05154639, 0.        , 0.        , 0.02061856, 0.        ,\n",
              "        0.        , 0.        , 0.03092784, 0.        , 0.02061856,\n",
              "        0.02061856, 0.        , 0.        , 0.        , 0.        ],\n",
              "       [0.00952381, 0.02857143, 0.73333333, 0.06666667, 0.01904762,\n",
              "        0.02857143, 0.        , 0.00952381, 0.05714286, 0.        ,\n",
              "        0.        , 0.00952381, 0.02857143, 0.        , 0.        ,\n",
              "        0.        , 0.        , 0.        , 0.00952381, 0.        ],\n",
              "       [0.        , 0.01123596, 0.15730337, 0.65168539, 0.03370787,\n",
              "        0.        , 0.        , 0.        , 0.03370787, 0.        ,\n",
              "        0.        , 0.        , 0.1011236 , 0.01123596, 0.        ,\n",
              "        0.        , 0.        , 0.        , 0.        , 0.        ],\n",
              "       [0.        , 0.01123596, 0.07865169, 0.17977528, 0.57303371,\n",
              "        0.        , 0.04494382, 0.01123596, 0.03370787, 0.        ,\n",
              "        0.        , 0.        , 0.05617978, 0.        , 0.        ,\n",
              "        0.        , 0.        , 0.        , 0.01123596, 0.        ],\n",
              "       [0.        , 0.06122449, 0.13265306, 0.04081633, 0.        ,\n",
              "        0.7244898 , 0.        , 0.        , 0.02040816, 0.        ,\n",
              "        0.        , 0.02040816, 0.        , 0.        , 0.        ,\n",
              "        0.        , 0.        , 0.        , 0.        , 0.        ],\n",
              "       [0.        , 0.        , 0.03157895, 0.01052632, 0.01052632,\n",
              "        0.        , 0.84210526, 0.03157895, 0.02105263, 0.        ,\n",
              "        0.        , 0.01052632, 0.03157895, 0.        , 0.        ,\n",
              "        0.        , 0.        , 0.        , 0.        , 0.01052632],\n",
              "       [0.        , 0.00980392, 0.        , 0.00980392, 0.00980392,\n",
              "        0.        , 0.01960784, 0.76470588, 0.07843137, 0.        ,\n",
              "        0.        , 0.        , 0.06862745, 0.        , 0.00980392,\n",
              "        0.00980392, 0.        , 0.        , 0.01960784, 0.        ],\n",
              "       [0.        , 0.02020202, 0.02020202, 0.        , 0.        ,\n",
              "        0.        , 0.04040404, 0.24242424, 0.54545455, 0.        ,\n",
              "        0.        , 0.01010101, 0.05050505, 0.01010101, 0.        ,\n",
              "        0.        , 0.04040404, 0.        , 0.02020202, 0.        ],\n",
              "       [0.01086957, 0.        , 0.01086957, 0.01086957, 0.        ,\n",
              "        0.        , 0.        , 0.        , 0.02173913, 0.85869565,\n",
              "        0.0326087 , 0.0326087 , 0.02173913, 0.        , 0.        ,\n",
              "        0.        , 0.        , 0.        , 0.        , 0.        ],\n",
              "       [0.        , 0.        , 0.00980392, 0.        , 0.        ,\n",
              "        0.        , 0.00980392, 0.        , 0.04901961, 0.00980392,\n",
              "        0.90196078, 0.00980392, 0.        , 0.        , 0.00980392,\n",
              "        0.        , 0.        , 0.        , 0.        , 0.        ],\n",
              "       [0.01941748, 0.        , 0.00970874, 0.00970874, 0.        ,\n",
              "        0.01941748, 0.        , 0.        , 0.08737864, 0.        ,\n",
              "        0.        , 0.66019417, 0.02912621, 0.        , 0.        ,\n",
              "        0.        , 0.04854369, 0.        , 0.11650485, 0.        ],\n",
              "       [0.        , 0.        , 0.04301075, 0.05376344, 0.02150538,\n",
              "        0.        , 0.05376344, 0.04301075, 0.04301075, 0.        ,\n",
              "        0.        , 0.01075269, 0.72043011, 0.        , 0.01075269,\n",
              "        0.        , 0.        , 0.        , 0.        , 0.        ],\n",
              "       [0.04672897, 0.01869159, 0.00934579, 0.        , 0.        ,\n",
              "        0.00934579, 0.00934579, 0.        , 0.04672897, 0.        ,\n",
              "        0.00934579, 0.        , 0.05607477, 0.74766355, 0.00934579,\n",
              "        0.        , 0.        , 0.        , 0.03738318, 0.        ],\n",
              "       [0.00925926, 0.02777778, 0.02777778, 0.        , 0.        ,\n",
              "        0.00925926, 0.00925926, 0.03703704, 0.05555556, 0.        ,\n",
              "        0.01851852, 0.01851852, 0.02777778, 0.00925926, 0.69444444,\n",
              "        0.        , 0.00925926, 0.        , 0.0462963 , 0.        ],\n",
              "       [0.05208333, 0.        , 0.        , 0.        , 0.        ,\n",
              "        0.        , 0.        , 0.        , 0.08333333, 0.        ,\n",
              "        0.        , 0.01041667, 0.        , 0.        , 0.        ,\n",
              "        0.79166667, 0.        , 0.01041667, 0.05208333, 0.        ],\n",
              "       [0.0375    , 0.        , 0.        , 0.        , 0.        ,\n",
              "        0.        , 0.        , 0.        , 0.0625    , 0.        ,\n",
              "        0.        , 0.0125    , 0.025     , 0.        , 0.        ,\n",
              "        0.025     , 0.75      , 0.        , 0.0875    , 0.        ],\n",
              "       [0.0617284 , 0.01234568, 0.01234568, 0.        , 0.        ,\n",
              "        0.        , 0.        , 0.        , 0.04938272, 0.        ,\n",
              "        0.01234568, 0.        , 0.        , 0.        , 0.02469136,\n",
              "        0.        , 0.02469136, 0.74074074, 0.0617284 , 0.        ],\n",
              "       [0.03092784, 0.        , 0.        , 0.        , 0.        ,\n",
              "        0.        , 0.        , 0.02061856, 0.06185567, 0.01030928,\n",
              "        0.        , 0.02061856, 0.01030928, 0.        , 0.01030928,\n",
              "        0.01030928, 0.08247423, 0.01030928, 0.73195876, 0.        ],\n",
              "       [0.13793103, 0.        , 0.        , 0.01724138, 0.        ,\n",
              "        0.        , 0.        , 0.        , 0.06896552, 0.        ,\n",
              "        0.01724138, 0.01724138, 0.01724138, 0.        , 0.01724138,\n",
              "        0.43103448, 0.20689655, 0.03448276, 0.01724138, 0.01724138]])>"
            ]
          },
          "metadata": {},
          "execution_count": 41
        }
      ]
    },
    {
      "cell_type": "markdown",
      "metadata": {
        "id": "_9YL2AlQOY4Y"
      },
      "source": [
        "And now we'll display it!"
      ]
    },
    {
      "cell_type": "code",
      "execution_count": 42,
      "metadata": {
        "colab": {
          "base_uri": "https://localhost:8080/",
          "height": 584
        },
        "id": "gh0Bxg-8EhzZ",
        "outputId": "56346cf6-cc7a-4097-d4b3-d8bb46665ac7"
      },
      "outputs": [
        {
          "output_type": "execute_result",
          "data": {
            "text/plain": [
              "Text(159.0, 0.5, 'True')"
            ]
          },
          "metadata": {},
          "execution_count": 42
        },
        {
          "output_type": "display_data",
          "data": {
            "text/plain": [
              "<Figure size 1440x504 with 2 Axes>"
            ],
            "image/png": "[encoded data removed]"
          },
          "metadata": {
            "needs_background": "light"
          }
        }
      ],
      "source": [
        "plt.figure(figsize=(20,7))\n",
        "sns.heatmap(\n",
        "    cm, annot=True,\n",
        "    xticklabels=target_names,\n",
        "    yticklabels=target_names)\n",
        "plt.xlabel(\"Predicted\")\n",
        "plt.ylabel(\"True\")"
      ]
    },
    {
      "cell_type": "markdown",
      "metadata": {
        "id": "6OKhCGVDOgdl"
      },
      "source": [
        "### 3. Classification using two stages\n",
        "\n",
        "Okay, not bad.  As you can see, some categories are easier to distinguish than others. Look for the class with the lowest F1 score (it should be the one at the bottom of the list). In the confusion matrix, which other class is that one being mistaken for most often?\n",
        "\n",
        "You might notice that the categories in this dataset are somewhat heirarchical. There are more obvious differences between groups of news categories (e.g. computers vs recreation) and then subtler differences between categories within those groups (e.g. PC vs Mac, within computers).\n",
        "\n",
        "When this happens, one idea is to train a series of models, to first separate out the more obvious groups of classes, and then use more specialized sub-models to classify only a subset of the classes. Let's try that here."
      ]
    },
    {
      "cell_type": "markdown",
      "metadata": {
        "id": "E0qA4QBstsin"
      },
      "source": [
        "#### Step 1: New model with 19 classes\n",
        "\n",
        "For simplicity, we'll just combine two categories in our first step. We'll replace the label of the last class with the label of the class it's most often mistaken for. (That way, we'll have labels from 0 to 18 instead of 0 to 19, and don't have to renumber everything, though you would have to if you group them more.)"
      ]
    },
    {
      "cell_type": "code",
      "execution_count": null,
      "metadata": {
        "id": "b0rAv6nLmrwN"
      },
      "outputs": [],
      "source": [
        "label_to_replace = 19\n",
        "\n",
        "# label_to_replace_with = ...\n",
        "### YOUR CODE HERE\n",
        "\n",
        "\n",
        "### END YOUR CODE\n",
        "\n",
        "train_labels_19class = train_labels.copy()\n",
        "train_labels_19class[train_labels_19class == label_to_replace] = label_to_replace_with\n",
        "\n",
        "valid_labels_19class = npvalid_labels.copy()\n",
        "valid_labels_19class[valid_labels_19class == label_to_replace] = label_to_replace_with\n",
        "\n",
        "test_labels_19class = test_labels.copy()\n",
        "test_labels_19class[test_labels_19class == label_to_replace] = label_to_replace_with"
      ]
    },
    {
      "cell_type": "markdown",
      "metadata": {
        "id": "dSQd_UDQhmQd"
      },
      "source": [
        "Now let's create a new model with the same architecture, but to predict probabilities for 19 classes instead of 20. We're using all of the data in this first step, so we'll use the encodings we already preprocessed as inputs, but use the new labels that only have 19 classes."
      ]
    },
    {
      "cell_type": "code",
      "execution_count": null,
      "metadata": {
        "id": "s7hR7ahmmrYL"
      },
      "outputs": [],
      "source": [
        "bert_model_19class = create_bert_multiclass_model(checkpoint = model_checkpoint, num_classes=19)"
      ]
    },
    {
      "cell_type": "code",
      "execution_count": null,
      "metadata": {
        "id": "O4Qsai6UmrOj"
      },
      "outputs": [],
      "source": [
        "bert_model_19class_history = bert_model_19class.fit([train_encodings.input_ids, train_encodings.token_type_ids, train_encodings.attention_mask], \n",
        "                                                  train_labels_19class,   \n",
        "                                                  validation_data=([valid_encodings.input_ids, valid_encodings.token_type_ids, valid_encodings.attention_mask],\n",
        "                                                                   valid_labels_19class),    \n",
        "                                                  batch_size=8,\n",
        "                                                  epochs=1)"
      ]
    },
    {
      "cell_type": "code",
      "execution_count": null,
      "metadata": {
        "id": "BkW9hMq9g9dV"
      },
      "outputs": [],
      "source": [
        "#Evaluate the fine tuned 19-class model against the test data with 19-class labels\n",
        "### YOUR CODE HERE\n",
        "### END YOUR CODE\n",
        "print('Test loss:', score[0]) \n",
        "print('Test accuracy:', score[1])"
      ]
    },
    {
      "cell_type": "markdown",
      "metadata": {
        "id": "DPaUdul4hlp0"
      },
      "source": [
        "**QUESTION:** \n",
        "\n",
        "3.1 What is the test accuracy you get when you run the new first stage model with only 19 classes?\n"
      ]
    },
    {
      "cell_type": "code",
      "execution_count": null,
      "metadata": {
        "id": "TrWtaXSug9UR"
      },
      "outputs": [],
      "source": [
        "#run and capture all the predictions from the 19 class data\n",
        "### YOUR CODE HERE \n",
        "### END YOUR CODE\n",
        "\n",
        "predictions_19class"
      ]
    },
    {
      "cell_type": "code",
      "execution_count": null,
      "metadata": {
        "id": "-nAlDV7K8T4q"
      },
      "outputs": [],
      "source": [
        "target_names_19class = target_names[:label_to_replace_with] \\\n",
        "                     + ['** COMBINED CLASS **'] \\\n",
        "                     + target_names[label_to_replace_with+1:19]\n",
        "\n",
        "print(classification_report(test_labels_19class, predictions_19class.numpy(),\n",
        "                            target_names=target_names_19class))"
      ]
    },
    {
      "cell_type": "markdown",
      "metadata": {
        "id": "Eh6nKilF8V7b"
      },
      "source": [
        "**QUESTION:** \n",
        "\n",
        "3.2 What is the F1 score you get for the combined class when you run the new first stage model with only 19 classes?\n"
      ]
    },
    {
      "cell_type": "markdown",
      "metadata": {
        "id": "TTZcBibxR153"
      },
      "source": [
        "#### Step 2: New model with only the two classes combined in step one\n",
        "\n",
        "Now, our first stage model is able to determine which text is one of the two often confused classes, but we need to train a more specific model to distinguish between just these two classes. Ideally, this model will only focus on the more subtle differences between these two news categories, since it doesn't have to learn everything else about the other categories.\n",
        "\n",
        "For this model, we're only going to train using the text examples that are one of the two confused categories. We'll keep the encodings we already tokenized, so we need to separate out the input_ids, token_type_ids, and attention_mask for just the rows that have one of these two labels."
      ]
    },
    {
      "cell_type": "code",
      "execution_count": null,
      "metadata": {
        "id": "N4TmPG6B1mz0"
      },
      "outputs": [],
      "source": [
        "train_mask_2class = (train_labels_19class == label_to_replace_with)\n",
        "train_encodings_2class = {'input_ids': train_encodings.input_ids[train_mask_2class],\n",
        "                          'token_type_ids': train_encodings.token_type_ids[train_mask_2class],\n",
        "                          'attention_mask': train_encodings.attention_mask[train_mask_2class]}\n",
        "train_labels_2class = train_labels.copy()[train_mask_2class]\n",
        "train_labels_2class = (train_labels_2class == label_to_replace_with).astype(int)\n",
        "\n",
        "valid_mask_2class = (valid_labels_19class == label_to_replace_with)\n",
        "valid_encodings_2class = {'input_ids': valid_encodings.input_ids[valid_mask_2class],\n",
        "                          'token_type_ids': valid_encodings.token_type_ids[valid_mask_2class],\n",
        "                          'attention_mask': valid_encodings.attention_mask[valid_mask_2class]}\n",
        "valid_labels_2class = npvalid_labels.copy()[valid_mask_2class]\n",
        "valid_labels_2class = (valid_labels_2class == label_to_replace_with).astype(int)\n",
        "\n",
        "test_mask_2class = (test_labels_19class == label_to_replace_with)\n",
        "test_encodings_2class = {'input_ids': test_encodings.input_ids[test_mask_2class],\n",
        "                          'token_type_ids': test_encodings.token_type_ids[test_mask_2class],\n",
        "                          'attention_mask': test_encodings.attention_mask[test_mask_2class]}\n",
        "test_labels_2class = test_labels.copy()[test_mask_2class]\n",
        "test_labels_2class = (test_labels_2class == label_to_replace_with).astype(int)"
      ]
    },
    {
      "cell_type": "code",
      "execution_count": null,
      "metadata": {
        "id": "xwTzhDVp9YTT"
      },
      "outputs": [],
      "source": [
        "train_labels_2class.shape"
      ]
    },
    {
      "cell_type": "code",
      "execution_count": null,
      "metadata": {
        "id": "O76HzIGh9dct"
      },
      "outputs": [],
      "source": [
        "train_labels_2class"
      ]
    },
    {
      "cell_type": "markdown",
      "metadata": {
        "id": "3c7M7sFCucU8"
      },
      "source": [
        "Create and train a new model with the same architecture as before, except that it only predicts two classes. (Note that we could change this to a binary prediction model, but we'll keep it multiclass for consistency here.)"
      ]
    },
    {
      "cell_type": "code",
      "execution_count": null,
      "metadata": {
        "id": "dNe5zVOflttk"
      },
      "outputs": [],
      "source": [
        "bert_model_2class = create_bert_multiclass_model(checkpoint=model_checkpoint, num_classes=2)"
      ]
    },
    {
      "cell_type": "code",
      "execution_count": null,
      "metadata": {
        "id": "-F5DM3zGlvSd"
      },
      "outputs": [],
      "source": [
        "bert_model_2class_history = bert_model_2class.fit([train_encodings_2class['input_ids'],\n",
        "                                                   train_encodings_2class['token_type_ids'],\n",
        "                                                   train_encodings_2class['attention_mask']], \n",
        "                                                  train_labels_2class,   \n",
        "                                                  validation_data=([valid_encodings_2class['input_ids'],\n",
        "                                                                    valid_encodings_2class['token_type_ids'],\n",
        "                                                                    valid_encodings_2class['attention_mask']],\n",
        "                                                                   valid_labels_2class),    \n",
        "                                                  batch_size=8, \n",
        "                                                  epochs=1)"
      ]
    },
    {
      "cell_type": "code",
      "execution_count": null,
      "metadata": {
        "id": "UNEUeufxp1g5"
      },
      "outputs": [],
      "source": [
        "#Evaluate the two-class model against the two-class test set.\n",
        "### YOUR CODE HERE\n",
        "### END YOUR CODE\n",
        "print('Test loss:', score[0]) \n",
        "print('Test accuracy:', score[1])"
      ]
    },
    {
      "cell_type": "code",
      "execution_count": null,
      "metadata": {
        "id": "aPuN8_gaESJZ"
      },
      "outputs": [],
      "source": [
        "#run and capture all the predictions from the 2-class test data\n",
        "### YOUR CODE HERE \n",
        "### END YOUR CODE\n",
        "predictions_2class"
      ]
    },
    {
      "cell_type": "code",
      "execution_count": null,
      "metadata": {
        "id": "zEnHd3ijESPH"
      },
      "outputs": [],
      "source": [
        "# Run the sklearn classification_report again with the 2-class predictions\n",
        "### YOUR CODE HERE\n",
        "### END YOUR CODE"
      ]
    },
    {
      "cell_type": "markdown",
      "metadata": {
        "id": "1aTDW3JBut1P"
      },
      "source": [
        "**QUESTION:** \n",
        "\n",
        "3.3 What is the macro average F1 score you get when you run the new second stage model with only 2 classes?"
      ]
    },
    {
      "cell_type": "markdown",
      "metadata": {
        "id": "90DMNd_Nuzgz"
      },
      "source": [
        "#### Step 3: Combine the predicted labels from the two steps\n",
        "\n",
        "To combine our models into two steps, start with the predictions from the first step. Keep all predicted labels except the ones with a predicted value of label_to_replace_with (the label we gave to both of the confused classes in the first step).\n",
        "\n",
        "Wherever the first model predicted the combined category, we'll replace the predictions with the label from the second model. If we used these models in inference, we'd only send an example to the second model if the first model predicted that it was from the combined class."
      ]
    },
    {
      "cell_type": "code",
      "execution_count": null,
      "metadata": {
        "id": "bmSd5B8M-YPh"
      },
      "outputs": [],
      "source": [
        "predictions_2class = predictions_2class.numpy()\n",
        "predictions_2class[predictions_2class == 0] = label_to_replace\n",
        "predictions_2class[predictions_2class == 1] = label_to_replace_with"
      ]
    },
    {
      "cell_type": "code",
      "execution_count": null,
      "metadata": {
        "id": "czf7y8Ha5hu-"
      },
      "outputs": [],
      "source": [
        "predictions_2steps = predictions_19class.numpy()\n",
        "predictions_2steps[test_mask_2class] = predictions_2class\n",
        "\n",
        "predictions_2steps"
      ]
    },
    {
      "cell_type": "markdown",
      "metadata": {
        "id": "dxUBa20mv0Iq"
      },
      "source": [
        "Now let's look at the classification report and confusion matrix, using the combined predictions from our two step model (compared to the original labels). Did the overall results get better?"
      ]
    },
    {
      "cell_type": "code",
      "execution_count": null,
      "metadata": {
        "id": "bbtOD45X6QgO"
      },
      "outputs": [],
      "source": [
        "# Run the sklearn classification_report with all 20 classes from the 2-step predictions\n",
        "### YOUR CODE HERE\n",
        "### END YOUR CODE"
      ]
    },
    {
      "cell_type": "code",
      "execution_count": null,
      "metadata": {
        "id": "GoxOfneGDG60"
      },
      "outputs": [],
      "source": [
        "cm = tf.math.confusion_matrix(test_labels, predictions_2steps)\n",
        "cm = cm/cm.numpy().sum(axis=1)[:, tf.newaxis]"
      ]
    },
    {
      "cell_type": "code",
      "execution_count": null,
      "metadata": {
        "id": "of7FDh3CDHGy"
      },
      "outputs": [],
      "source": [
        "plt.figure(figsize=(20,7))\n",
        "sns.heatmap(\n",
        "    cm, annot=True,\n",
        "    xticklabels=target_names,\n",
        "    yticklabels=target_names)\n",
        "plt.xlabel(\"Predicted\")\n",
        "plt.ylabel(\"True\")"
      ]
    },
    {
      "cell_type": "markdown",
      "metadata": {
        "id": "8jXBmgS2iXDI"
      },
      "source": [
        "**QUESTION:**\n",
        "\n",
        "3.4 What is the macro average F1 score you get from the combined two-step model?\n",
        "\n",
        "3.5 What is the difference in points between the macro weighted F1 score for the original model and the combined two-step model?\n",
        "\n",
        "3.6 What is the new F1 score for the last category (i.e. label_to_replace, the one that had the lowest F1 score in the original model)?\n",
        "\n",
        "3.7 What is the new F1 score for the other category that you combined with the last category in the two-step model (i.e. label_to_replace_with)?\n",
        "\n",
        "3.8 Which metric (precision or recall) is now lower for the other category (i.e. label_to_replace_with)?"
      ]
    },
    {
      "cell_type": "markdown",
      "metadata": {
        "id": "coyVPop8SuG9"
      },
      "source": [
        "### Look at examples of misclassifications\n",
        "\n",
        "What happened in the two-step model? Did everything improve, or did something get worse? We were concerned about the last news category, which had a very low F1 score in the original model. In the two-step model, the F1 score for that category should have gone up.\n",
        "\n",
        "But for the other category that the original model often confused with the last category, the F1 score might have gone down. In particular, one of the two component metrics, precision or recall, probably went down. (We ask you which one went down in question 3.7 above.)\n",
        "\n",
        "We might be able to tell what happened from the confusion matrix, but it's also always a good idea to look at actual examples that were misclassified, to see if we can spot any patterns. We can also isolate more specific examples, like test examples that the original model got right, but the two-step model got wrong. Let's do that below.\n",
        "\n",
        "**CRITICAL NOTE:**  If nothing prints out when you run the code below, there are two possibilities.  The first is that there is some error in the code or variable names you have created in earlier cells.  The second possibility is that given your current train, validation, and test split, the second model predicted the \"label_to_replace_with\" class and the first model did so too.  This is unlikely but it is possible. In either case, you must go back and re-run the *ENTIRE* notebook to make sure you get a new train, validation, and test split which will allow you to observe the first and second models disagreeing. Please make sure you enter the metric values from this new run into your answers file."
      ]
    },
    {
      "cell_type": "code",
      "execution_count": null,
      "metadata": {
        "id": "Lj98aBdmNMrE"
      },
      "outputs": [],
      "source": [
        "# Make a vector the length of our test set, with 1 if the second model predicted the\n",
        "# \"label_to_replace_with\" class, and 0s otherwise\n",
        "select_predictions = (predictions_2steps == label_to_replace_with)\n"
      ]
    },
    {
      "cell_type": "code",
      "execution_count": null,
      "metadata": {
        "id": "vaBVzlNXdsWN"
      },
      "outputs": [],
      "source": [
        "# Now only keep a 1 if that was not the correct label, i.e. it was a false positive\n",
        "select_predictions = select_predictions * (test_labels != label_to_replace_with)"
      ]
    },
    {
      "cell_type": "code",
      "execution_count": null,
      "metadata": {
        "id": "E05K9v-RdsLT"
      },
      "outputs": [],
      "source": [
        "# And now only keep a 1 if the original model predicted the correct label instead\n",
        "select_predictions = select_predictions * (test_labels == predictions_model1.numpy())"
      ]
    },
    {
      "cell_type": "code",
      "execution_count": null,
      "metadata": {
        "id": "x4dEwbnc_6qr"
      },
      "outputs": [],
      "source": [
        "# Print out the original and clean text of the examples that met the above conditions\n",
        "for i in np.where(select_predictions)[0]:\n",
        "\n",
        "    print('Prediction: model1 = %s, model2 = %s):\\nText: %s\\n\\n' %\n",
        "          (target_names[predictions_model1[i]],\n",
        "           target_names[predictions_2steps[i]],\n",
        "           test_texts[i][:1000].replace('\\n', ' ')))"
      ]
    },
    {
      "cell_type": "markdown",
      "metadata": {
        "id": "ppncPlCzzz0B"
      },
      "source": [
        "**QUESTION:** \n",
        "\n",
        "4.1 Why do you think the two-step model got these examples wrong, when the original model got them right?\n",
        "\n",
        "- A. The two-step model saw less examples of the \"label_to_replace\" class, because we replaced them with the \"label_to_replace_with\" examples. So it didn't learn the kind of text in that class as well as the original model.\n",
        "\n",
        "- B. In the two-step process, the step 1 model overpredicted the combined class, and the step 2 model overpredicted the \"label_to_replace_with\" class. A third class is now getting mistaken more often for the \"label_to_replace_with\" class, than in the original model.\n",
        "\n",
        "- C. It's probably just random that the original model got these specific examples right and the two-step model got them wrong.\n",
        "\n",
        "\n",
        "\n",
        "4.2 Is there anything you might try next, to try to make the two-step model better?\n",
        "\n",
        "- A. Try to balance the training data across classes at each step, or add class weights when calling model.fit.\n",
        "\n",
        "- B. Try to combine another similar category with the two easily confused ones, for a step 1 model with 18 classes and the step 2 model with 3 classes.\n",
        "\n",
        "- C. Try both A and B"
      ]
    }
  ],
  "metadata": {
    "accelerator": "GPU",
    "colab": {
      "provenance": [],
      "include_colab_link": true
    },
    "gpuClass": "standard",
    "kernelspec": {
      "display_name": "Python 3",
      "language": "python",
      "name": "python3"
    },
    "language_info": {
      "codemirror_mode": {
        "name": "ipython",
        "version": 3
      },
      "file_extension": ".py",
      "mimetype": "text/x-python",
      "name": "python",
      "nbconvert_exporter": "python",
      "pygments_lexer": "ipython3",
      "version": "3.8.5"
    },
    "widgets": {
      "application/vnd.jupyter.widget-state+json": {
        "ba3ae52902204f33a04ccfaf0efc421f": {
          "model_module": "@jupyter-widgets/controls",
          "model_name": "HBoxModel",
          "model_module_version": "1.5.0",
          "state": {
            "_dom_classes": [],
            "_model_module": "@jupyter-widgets/controls",
            "_model_module_version": "1.5.0",
            "_model_name": "HBoxModel",
            "_view_count": null,
            "_view_module": "@jupyter-widgets/controls",
            "_view_module_version": "1.5.0",
            "_view_name": "HBoxView",
            "box_style": "",
            "children": [
              "IPY_MODEL_2948c076bfbd4192b7dca0b023249016",
              "IPY_MODEL_cb07dc852fcf4b81976a6b56bd98e162",
              "IPY_MODEL_925e65eb0e9748679246e7d57a892a05"
            ],
            "layout": "IPY_MODEL_ceed9541725642b78179ae2387dd6294"
          }
        },
        "2948c076bfbd4192b7dca0b023249016": {
          "model_module": "@jupyter-widgets/controls",
          "model_name": "HTMLModel",
          "model_module_version": "1.5.0",
          "state": {
            "_dom_classes": [],
            "_model_module": "@jupyter-widgets/controls",
            "_model_module_version": "1.5.0",
            "_model_name": "HTMLModel",
            "_view_count": null,
            "_view_module": "@jupyter-widgets/controls",
            "_view_module_version": "1.5.0",
            "_view_name": "HTMLView",
            "description": "",
            "description_tooltip": null,
            "layout": "IPY_MODEL_e304f3bcf2d849b9a1341d407c578eaf",
            "placeholder": "​",
            "style": "IPY_MODEL_dead48bbe54f49cb991bcb0866f4ab94",
            "value": "Downloading (…)solve/main/vocab.txt: 100%"
          }
        },
        "cb07dc852fcf4b81976a6b56bd98e162": {
          "model_module": "@jupyter-widgets/controls",
          "model_name": "FloatProgressModel",
          "model_module_version": "1.5.0",
          "state": {
            "_dom_classes": [],
            "_model_module": "@jupyter-widgets/controls",
            "_model_module_version": "1.5.0",
            "_model_name": "FloatProgressModel",
            "_view_count": null,
            "_view_module": "@jupyter-widgets/controls",
            "_view_module_version": "1.5.0",
            "_view_name": "ProgressView",
            "bar_style": "success",
            "description": "",
            "description_tooltip": null,
            "layout": "IPY_MODEL_643d6fe570b54db3a317022d3aa5643c",
            "max": 213450,
            "min": 0,
            "orientation": "horizontal",
            "style": "IPY_MODEL_9ef651dbea984048a3dbabd66fe64d1d",
            "value": 213450
          }
        },
        "925e65eb0e9748679246e7d57a892a05": {
          "model_module": "@jupyter-widgets/controls",
          "model_name": "HTMLModel",
          "model_module_version": "1.5.0",
          "state": {
            "_dom_classes": [],
            "_model_module": "@jupyter-widgets/controls",
            "_model_module_version": "1.5.0",
            "_model_name": "HTMLModel",
            "_view_count": null,
            "_view_module": "@jupyter-widgets/controls",
            "_view_module_version": "1.5.0",
            "_view_name": "HTMLView",
            "description": "",
            "description_tooltip": null,
            "layout": "IPY_MODEL_5535a30c22fa4204b4056602f3211efc",
            "placeholder": "​",
            "style": "IPY_MODEL_1c75b0360efb43f1bda6a5ddf946afe1",
            "value": " 213k/213k [00:00&lt;00:00, 1.97MB/s]"
          }
        },
        "ceed9541725642b78179ae2387dd6294": {
          "model_module": "@jupyter-widgets/base",
          "model_name": "LayoutModel",
          "model_module_version": "1.2.0",
          "state": {
            "_model_module": "@jupyter-widgets/base",
            "_model_module_version": "1.2.0",
            "_model_name": "LayoutModel",
            "_view_count": null,
            "_view_module": "@jupyter-widgets/base",
            "_view_module_version": "1.2.0",
            "_view_name": "LayoutView",
            "align_content": null,
            "align_items": null,
            "align_self": null,
            "border": null,
            "bottom": null,
            "display": null,
            "flex": null,
            "flex_flow": null,
            "grid_area": null,
            "grid_auto_columns": null,
            "grid_auto_flow": null,
            "grid_auto_rows": null,
            "grid_column": null,
            "grid_gap": null,
            "grid_row": null,
            "grid_template_areas": null,
            "grid_template_columns": null,
            "grid_template_rows": null,
            "height": null,
            "justify_content": null,
            "justify_items": null,
            "left": null,
            "margin": null,
            "max_height": null,
            "max_width": null,
            "min_height": null,
            "min_width": null,
            "object_fit": null,
            "object_position": null,
            "order": null,
            "overflow": null,
            "overflow_x": null,
            "overflow_y": null,
            "padding": null,
            "right": null,
            "top": null,
            "visibility": null,
            "width": null
          }
        },
        "e304f3bcf2d849b9a1341d407c578eaf": {
          "model_module": "@jupyter-widgets/base",
          "model_name": "LayoutModel",
          "model_module_version": "1.2.0",
          "state": {
            "_model_module": "@jupyter-widgets/base",
            "_model_module_version": "1.2.0",
            "_model_name": "LayoutModel",
            "_view_count": null,
            "_view_module": "@jupyter-widgets/base",
            "_view_module_version": "1.2.0",
            "_view_name": "LayoutView",
            "align_content": null,
            "align_items": null,
            "align_self": null,
            "border": null,
            "bottom": null,
            "display": null,
            "flex": null,
            "flex_flow": null,
            "grid_area": null,
            "grid_auto_columns": null,
            "grid_auto_flow": null,
            "grid_auto_rows": null,
            "grid_column": null,
            "grid_gap": null,
            "grid_row": null,
            "grid_template_areas": null,
            "grid_template_columns": null,
            "grid_template_rows": null,
            "height": null,
            "justify_content": null,
            "justify_items": null,
            "left": null,
            "margin": null,
            "max_height": null,
            "max_width": null,
            "min_height": null,
            "min_width": null,
            "object_fit": null,
            "object_position": null,
            "order": null,
            "overflow": null,
            "overflow_x": null,
            "overflow_y": null,
            "padding": null,
            "right": null,
            "top": null,
            "visibility": null,
            "width": null
          }
        },
        "dead48bbe54f49cb991bcb0866f4ab94": {
          "model_module": "@jupyter-widgets/controls",
          "model_name": "DescriptionStyleModel",
          "model_module_version": "1.5.0",
          "state": {
            "_model_module": "@jupyter-widgets/controls",
            "_model_module_version": "1.5.0",
            "_model_name": "DescriptionStyleModel",
            "_view_count": null,
            "_view_module": "@jupyter-widgets/base",
            "_view_module_version": "1.2.0",
            "_view_name": "StyleView",
            "description_width": ""
          }
        },
        "643d6fe570b54db3a317022d3aa5643c": {
          "model_module": "@jupyter-widgets/base",
          "model_name": "LayoutModel",
          "model_module_version": "1.2.0",
          "state": {
            "_model_module": "@jupyter-widgets/base",
            "_model_module_version": "1.2.0",
            "_model_name": "LayoutModel",
            "_view_count": null,
            "_view_module": "@jupyter-widgets/base",
            "_view_module_version": "1.2.0",
            "_view_name": "LayoutView",
            "align_content": null,
            "align_items": null,
            "align_self": null,
            "border": null,
            "bottom": null,
            "display": null,
            "flex": null,
            "flex_flow": null,
            "grid_area": null,
            "grid_auto_columns": null,
            "grid_auto_flow": null,
            "grid_auto_rows": null,
            "grid_column": null,
            "grid_gap": null,
            "grid_row": null,
            "grid_template_areas": null,
            "grid_template_columns": null,
            "grid_template_rows": null,
            "height": null,
            "justify_content": null,
            "justify_items": null,
            "left": null,
            "margin": null,
            "max_height": null,
            "max_width": null,
            "min_height": null,
            "min_width": null,
            "object_fit": null,
            "object_position": null,
            "order": null,
            "overflow": null,
            "overflow_x": null,
            "overflow_y": null,
            "padding": null,
            "right": null,
            "top": null,
            "visibility": null,
            "width": null
          }
        },
        "9ef651dbea984048a3dbabd66fe64d1d": {
          "model_module": "@jupyter-widgets/controls",
          "model_name": "ProgressStyleModel",
          "model_module_version": "1.5.0",
          "state": {
            "_model_module": "@jupyter-widgets/controls",
            "_model_module_version": "1.5.0",
            "_model_name": "ProgressStyleModel",
            "_view_count": null,
            "_view_module": "@jupyter-widgets/base",
            "_view_module_version": "1.2.0",
            "_view_name": "StyleView",
            "bar_color": null,
            "description_width": ""
          }
        },
        "5535a30c22fa4204b4056602f3211efc": {
          "model_module": "@jupyter-widgets/base",
          "model_name": "LayoutModel",
          "model_module_version": "1.2.0",
          "state": {
            "_model_module": "@jupyter-widgets/base",
            "_model_module_version": "1.2.0",
            "_model_name": "LayoutModel",
            "_view_count": null,
            "_view_module": "@jupyter-widgets/base",
            "_view_module_version": "1.2.0",
            "_view_name": "LayoutView",
            "align_content": null,
            "align_items": null,
            "align_self": null,
            "border": null,
            "bottom": null,
            "display": null,
            "flex": null,
            "flex_flow": null,
            "grid_area": null,
            "grid_auto_columns": null,
            "grid_auto_flow": null,
            "grid_auto_rows": null,
            "grid_column": null,
            "grid_gap": null,
            "grid_row": null,
            "grid_template_areas": null,
            "grid_template_columns": null,
            "grid_template_rows": null,
            "height": null,
            "justify_content": null,
            "justify_items": null,
            "left": null,
            "margin": null,
            "max_height": null,
            "max_width": null,
            "min_height": null,
            "min_width": null,
            "object_fit": null,
            "object_position": null,
            "order": null,
            "overflow": null,
            "overflow_x": null,
            "overflow_y": null,
            "padding": null,
            "right": null,
            "top": null,
            "visibility": null,
            "width": null
          }
        },
        "1c75b0360efb43f1bda6a5ddf946afe1": {
          "model_module": "@jupyter-widgets/controls",
          "model_name": "DescriptionStyleModel",
          "model_module_version": "1.5.0",
          "state": {
            "_model_module": "@jupyter-widgets/controls",
            "_model_module_version": "1.5.0",
            "_model_name": "DescriptionStyleModel",
            "_view_count": null,
            "_view_module": "@jupyter-widgets/base",
            "_view_module_version": "1.2.0",
            "_view_name": "StyleView",
            "description_width": ""
          }
        },
        "af2d09bcd98a4c1f9bb06fba9f5942f0": {
          "model_module": "@jupyter-widgets/controls",
          "model_name": "HBoxModel",
          "model_module_version": "1.5.0",
          "state": {
            "_dom_classes": [],
            "_model_module": "@jupyter-widgets/controls",
            "_model_module_version": "1.5.0",
            "_model_name": "HBoxModel",
            "_view_count": null,
            "_view_module": "@jupyter-widgets/controls",
            "_view_module_version": "1.5.0",
            "_view_name": "HBoxView",
            "box_style": "",
            "children": [
              "IPY_MODEL_485c5bb369fd40e1964eb2f906f3b63c",
              "IPY_MODEL_01d91d4ef30b4d1582cc3a92d96b1738",
              "IPY_MODEL_21a40b010da447f1b7ac3213e60b4860"
            ],
            "layout": "IPY_MODEL_1490246cffa4486f884e15ec56d98ba3"
          }
        },
        "485c5bb369fd40e1964eb2f906f3b63c": {
          "model_module": "@jupyter-widgets/controls",
          "model_name": "HTMLModel",
          "model_module_version": "1.5.0",
          "state": {
            "_dom_classes": [],
            "_model_module": "@jupyter-widgets/controls",
            "_model_module_version": "1.5.0",
            "_model_name": "HTMLModel",
            "_view_count": null,
            "_view_module": "@jupyter-widgets/controls",
            "_view_module_version": "1.5.0",
            "_view_name": "HTMLView",
            "description": "",
            "description_tooltip": null,
            "layout": "IPY_MODEL_577f4af2118848d4b279d95281277d1b",
            "placeholder": "​",
            "style": "IPY_MODEL_21aa7bb314df41b9aefea4b5f58d3ca5",
            "value": "Downloading (…)okenizer_config.json: 100%"
          }
        },
        "01d91d4ef30b4d1582cc3a92d96b1738": {
          "model_module": "@jupyter-widgets/controls",
          "model_name": "FloatProgressModel",
          "model_module_version": "1.5.0",
          "state": {
            "_dom_classes": [],
            "_model_module": "@jupyter-widgets/controls",
            "_model_module_version": "1.5.0",
            "_model_name": "FloatProgressModel",
            "_view_count": null,
            "_view_module": "@jupyter-widgets/controls",
            "_view_module_version": "1.5.0",
            "_view_name": "ProgressView",
            "bar_style": "success",
            "description": "",
            "description_tooltip": null,
            "layout": "IPY_MODEL_149350b49bf34c37b6e1dc186e2a81ad",
            "max": 29,
            "min": 0,
            "orientation": "horizontal",
            "style": "IPY_MODEL_75700ae54a9045aeb0013623743a103c",
            "value": 29
          }
        },
        "21a40b010da447f1b7ac3213e60b4860": {
          "model_module": "@jupyter-widgets/controls",
          "model_name": "HTMLModel",
          "model_module_version": "1.5.0",
          "state": {
            "_dom_classes": [],
            "_model_module": "@jupyter-widgets/controls",
            "_model_module_version": "1.5.0",
            "_model_name": "HTMLModel",
            "_view_count": null,
            "_view_module": "@jupyter-widgets/controls",
            "_view_module_version": "1.5.0",
            "_view_name": "HTMLView",
            "description": "",
            "description_tooltip": null,
            "layout": "IPY_MODEL_a8d370ed4c77432a98c990a0bd7e7673",
            "placeholder": "​",
            "style": "IPY_MODEL_d390a0e182a844afbac498a87de2a696",
            "value": " 29.0/29.0 [00:00&lt;00:00, 1.21kB/s]"
          }
        },
        "1490246cffa4486f884e15ec56d98ba3": {
          "model_module": "@jupyter-widgets/base",
          "model_name": "LayoutModel",
          "model_module_version": "1.2.0",
          "state": {
            "_model_module": "@jupyter-widgets/base",
            "_model_module_version": "1.2.0",
            "_model_name": "LayoutModel",
            "_view_count": null,
            "_view_module": "@jupyter-widgets/base",
            "_view_module_version": "1.2.0",
            "_view_name": "LayoutView",
            "align_content": null,
            "align_items": null,
            "align_self": null,
            "border": null,
            "bottom": null,
            "display": null,
            "flex": null,
            "flex_flow": null,
            "grid_area": null,
            "grid_auto_columns": null,
            "grid_auto_flow": null,
            "grid_auto_rows": null,
            "grid_column": null,
            "grid_gap": null,
            "grid_row": null,
            "grid_template_areas": null,
            "grid_template_columns": null,
            "grid_template_rows": null,
            "height": null,
            "justify_content": null,
            "justify_items": null,
            "left": null,
            "margin": null,
            "max_height": null,
            "max_width": null,
            "min_height": null,
            "min_width": null,
            "object_fit": null,
            "object_position": null,
            "order": null,
            "overflow": null,
            "overflow_x": null,
            "overflow_y": null,
            "padding": null,
            "right": null,
            "top": null,
            "visibility": null,
            "width": null
          }
        },
        "577f4af2118848d4b279d95281277d1b": {
          "model_module": "@jupyter-widgets/base",
          "model_name": "LayoutModel",
          "model_module_version": "1.2.0",
          "state": {
            "_model_module": "@jupyter-widgets/base",
            "_model_module_version": "1.2.0",
            "_model_name": "LayoutModel",
            "_view_count": null,
            "_view_module": "@jupyter-widgets/base",
            "_view_module_version": "1.2.0",
            "_view_name": "LayoutView",
            "align_content": null,
            "align_items": null,
            "align_self": null,
            "border": null,
            "bottom": null,
            "display": null,
            "flex": null,
            "flex_flow": null,
            "grid_area": null,
            "grid_auto_columns": null,
            "grid_auto_flow": null,
            "grid_auto_rows": null,
            "grid_column": null,
            "grid_gap": null,
            "grid_row": null,
            "grid_template_areas": null,
            "grid_template_columns": null,
            "grid_template_rows": null,
            "height": null,
            "justify_content": null,
            "justify_items": null,
            "left": null,
            "margin": null,
            "max_height": null,
            "max_width": null,
            "min_height": null,
            "min_width": null,
            "object_fit": null,
            "object_position": null,
            "order": null,
            "overflow": null,
            "overflow_x": null,
            "overflow_y": null,
            "padding": null,
            "right": null,
            "top": null,
            "visibility": null,
            "width": null
          }
        },
        "21aa7bb314df41b9aefea4b5f58d3ca5": {
          "model_module": "@jupyter-widgets/controls",
          "model_name": "DescriptionStyleModel",
          "model_module_version": "1.5.0",
          "state": {
            "_model_module": "@jupyter-widgets/controls",
            "_model_module_version": "1.5.0",
            "_model_name": "DescriptionStyleModel",
            "_view_count": null,
            "_view_module": "@jupyter-widgets/base",
            "_view_module_version": "1.2.0",
            "_view_name": "StyleView",
            "description_width": ""
          }
        },
        "149350b49bf34c37b6e1dc186e2a81ad": {
          "model_module": "@jupyter-widgets/base",
          "model_name": "LayoutModel",
          "model_module_version": "1.2.0",
          "state": {
            "_model_module": "@jupyter-widgets/base",
            "_model_module_version": "1.2.0",
            "_model_name": "LayoutModel",
            "_view_count": null,
            "_view_module": "@jupyter-widgets/base",
            "_view_module_version": "1.2.0",
            "_view_name": "LayoutView",
            "align_content": null,
            "align_items": null,
            "align_self": null,
            "border": null,
            "bottom": null,
            "display": null,
            "flex": null,
            "flex_flow": null,
            "grid_area": null,
            "grid_auto_columns": null,
            "grid_auto_flow": null,
            "grid_auto_rows": null,
            "grid_column": null,
            "grid_gap": null,
            "grid_row": null,
            "grid_template_areas": null,
            "grid_template_columns": null,
            "grid_template_rows": null,
            "height": null,
            "justify_content": null,
            "justify_items": null,
            "left": null,
            "margin": null,
            "max_height": null,
            "max_width": null,
            "min_height": null,
            "min_width": null,
            "object_fit": null,
            "object_position": null,
            "order": null,
            "overflow": null,
            "overflow_x": null,
            "overflow_y": null,
            "padding": null,
            "right": null,
            "top": null,
            "visibility": null,
            "width": null
          }
        },
        "75700ae54a9045aeb0013623743a103c": {
          "model_module": "@jupyter-widgets/controls",
          "model_name": "ProgressStyleModel",
          "model_module_version": "1.5.0",
          "state": {
            "_model_module": "@jupyter-widgets/controls",
            "_model_module_version": "1.5.0",
            "_model_name": "ProgressStyleModel",
            "_view_count": null,
            "_view_module": "@jupyter-widgets/base",
            "_view_module_version": "1.2.0",
            "_view_name": "StyleView",
            "bar_color": null,
            "description_width": ""
          }
        },
        "a8d370ed4c77432a98c990a0bd7e7673": {
          "model_module": "@jupyter-widgets/base",
          "model_name": "LayoutModel",
          "model_module_version": "1.2.0",
          "state": {
            "_model_module": "@jupyter-widgets/base",
            "_model_module_version": "1.2.0",
            "_model_name": "LayoutModel",
            "_view_count": null,
            "_view_module": "@jupyter-widgets/base",
            "_view_module_version": "1.2.0",
            "_view_name": "LayoutView",
            "align_content": null,
            "align_items": null,
            "align_self": null,
            "border": null,
            "bottom": null,
            "display": null,
            "flex": null,
            "flex_flow": null,
            "grid_area": null,
            "grid_auto_columns": null,
            "grid_auto_flow": null,
            "grid_auto_rows": null,
            "grid_column": null,
            "grid_gap": null,
            "grid_row": null,
            "grid_template_areas": null,
            "grid_template_columns": null,
            "grid_template_rows": null,
            "height": null,
            "justify_content": null,
            "justify_items": null,
            "left": null,
            "margin": null,
            "max_height": null,
            "max_width": null,
            "min_height": null,
            "min_width": null,
            "object_fit": null,
            "object_position": null,
            "order": null,
            "overflow": null,
            "overflow_x": null,
            "overflow_y": null,
            "padding": null,
            "right": null,
            "top": null,
            "visibility": null,
            "width": null
          }
        },
        "d390a0e182a844afbac498a87de2a696": {
          "model_module": "@jupyter-widgets/controls",
          "model_name": "DescriptionStyleModel",
          "model_module_version": "1.5.0",
          "state": {
            "_model_module": "@jupyter-widgets/controls",
            "_model_module_version": "1.5.0",
            "_model_name": "DescriptionStyleModel",
            "_view_count": null,
            "_view_module": "@jupyter-widgets/base",
            "_view_module_version": "1.2.0",
            "_view_name": "StyleView",
            "description_width": ""
          }
        },
        "6ec9a96637e04181994c4a4e2972fc6e": {
          "model_module": "@jupyter-widgets/controls",
          "model_name": "HBoxModel",
          "model_module_version": "1.5.0",
          "state": {
            "_dom_classes": [],
            "_model_module": "@jupyter-widgets/controls",
            "_model_module_version": "1.5.0",
            "_model_name": "HBoxModel",
            "_view_count": null,
            "_view_module": "@jupyter-widgets/controls",
            "_view_module_version": "1.5.0",
            "_view_name": "HBoxView",
            "box_style": "",
            "children": [
              "IPY_MODEL_1be94a18d7944cf0a90eb41b49172837",
              "IPY_MODEL_d6f7b41e90774511961179bdae1af366",
              "IPY_MODEL_6a8865378a714cb2abf43a9edca8cf26"
            ],
            "layout": "IPY_MODEL_161570939d2c40ff8d5d93d6a92cd6f6"
          }
        },
        "1be94a18d7944cf0a90eb41b49172837": {
          "model_module": "@jupyter-widgets/controls",
          "model_name": "HTMLModel",
          "model_module_version": "1.5.0",
          "state": {
            "_dom_classes": [],
            "_model_module": "@jupyter-widgets/controls",
            "_model_module_version": "1.5.0",
            "_model_name": "HTMLModel",
            "_view_count": null,
            "_view_module": "@jupyter-widgets/controls",
            "_view_module_version": "1.5.0",
            "_view_name": "HTMLView",
            "description": "",
            "description_tooltip": null,
            "layout": "IPY_MODEL_0f4495b2244a49cebe93c1b65d920bda",
            "placeholder": "​",
            "style": "IPY_MODEL_9e678996b1c243b69c749cd130ef524d",
            "value": "Downloading (…)lve/main/config.json: 100%"
          }
        },
        "d6f7b41e90774511961179bdae1af366": {
          "model_module": "@jupyter-widgets/controls",
          "model_name": "FloatProgressModel",
          "model_module_version": "1.5.0",
          "state": {
            "_dom_classes": [],
            "_model_module": "@jupyter-widgets/controls",
            "_model_module_version": "1.5.0",
            "_model_name": "FloatProgressModel",
            "_view_count": null,
            "_view_module": "@jupyter-widgets/controls",
            "_view_module_version": "1.5.0",
            "_view_name": "ProgressView",
            "bar_style": "success",
            "description": "",
            "description_tooltip": null,
            "layout": "IPY_MODEL_b9baec0f51174c18b29ca9e7474561cc",
            "max": 570,
            "min": 0,
            "orientation": "horizontal",
            "style": "IPY_MODEL_3ab4962cd9704b2cb7bfcda3bd797b31",
            "value": 570
          }
        },
        "6a8865378a714cb2abf43a9edca8cf26": {
          "model_module": "@jupyter-widgets/controls",
          "model_name": "HTMLModel",
          "model_module_version": "1.5.0",
          "state": {
            "_dom_classes": [],
            "_model_module": "@jupyter-widgets/controls",
            "_model_module_version": "1.5.0",
            "_model_name": "HTMLModel",
            "_view_count": null,
            "_view_module": "@jupyter-widgets/controls",
            "_view_module_version": "1.5.0",
            "_view_name": "HTMLView",
            "description": "",
            "description_tooltip": null,
            "layout": "IPY_MODEL_4b0b588326f6432d814bbe0790b4ebc4",
            "placeholder": "​",
            "style": "IPY_MODEL_52b7d9a0ec7e477b9d599d059833d684",
            "value": " 570/570 [00:00&lt;00:00, 24.3kB/s]"
          }
        },
        "161570939d2c40ff8d5d93d6a92cd6f6": {
          "model_module": "@jupyter-widgets/base",
          "model_name": "LayoutModel",
          "model_module_version": "1.2.0",
          "state": {
            "_model_module": "@jupyter-widgets/base",
            "_model_module_version": "1.2.0",
            "_model_name": "LayoutModel",
            "_view_count": null,
            "_view_module": "@jupyter-widgets/base",
            "_view_module_version": "1.2.0",
            "_view_name": "LayoutView",
            "align_content": null,
            "align_items": null,
            "align_self": null,
            "border": null,
            "bottom": null,
            "display": null,
            "flex": null,
            "flex_flow": null,
            "grid_area": null,
            "grid_auto_columns": null,
            "grid_auto_flow": null,
            "grid_auto_rows": null,
            "grid_column": null,
            "grid_gap": null,
            "grid_row": null,
            "grid_template_areas": null,
            "grid_template_columns": null,
            "grid_template_rows": null,
            "height": null,
            "justify_content": null,
            "justify_items": null,
            "left": null,
            "margin": null,
            "max_height": null,
            "max_width": null,
            "min_height": null,
            "min_width": null,
            "object_fit": null,
            "object_position": null,
            "order": null,
            "overflow": null,
            "overflow_x": null,
            "overflow_y": null,
            "padding": null,
            "right": null,
            "top": null,
            "visibility": null,
            "width": null
          }
        },
        "0f4495b2244a49cebe93c1b65d920bda": {
          "model_module": "@jupyter-widgets/base",
          "model_name": "LayoutModel",
          "model_module_version": "1.2.0",
          "state": {
            "_model_module": "@jupyter-widgets/base",
            "_model_module_version": "1.2.0",
            "_model_name": "LayoutModel",
            "_view_count": null,
            "_view_module": "@jupyter-widgets/base",
            "_view_module_version": "1.2.0",
            "_view_name": "LayoutView",
            "align_content": null,
            "align_items": null,
            "align_self": null,
            "border": null,
            "bottom": null,
            "display": null,
            "flex": null,
            "flex_flow": null,
            "grid_area": null,
            "grid_auto_columns": null,
            "grid_auto_flow": null,
            "grid_auto_rows": null,
            "grid_column": null,
            "grid_gap": null,
            "grid_row": null,
            "grid_template_areas": null,
            "grid_template_columns": null,
            "grid_template_rows": null,
            "height": null,
            "justify_content": null,
            "justify_items": null,
            "left": null,
            "margin": null,
            "max_height": null,
            "max_width": null,
            "min_height": null,
            "min_width": null,
            "object_fit": null,
            "object_position": null,
            "order": null,
            "overflow": null,
            "overflow_x": null,
            "overflow_y": null,
            "padding": null,
            "right": null,
            "top": null,
            "visibility": null,
            "width": null
          }
        },
        "9e678996b1c243b69c749cd130ef524d": {
          "model_module": "@jupyter-widgets/controls",
          "model_name": "DescriptionStyleModel",
          "model_module_version": "1.5.0",
          "state": {
            "_model_module": "@jupyter-widgets/controls",
            "_model_module_version": "1.5.0",
            "_model_name": "DescriptionStyleModel",
            "_view_count": null,
            "_view_module": "@jupyter-widgets/base",
            "_view_module_version": "1.2.0",
            "_view_name": "StyleView",
            "description_width": ""
          }
        },
        "b9baec0f51174c18b29ca9e7474561cc": {
          "model_module": "@jupyter-widgets/base",
          "model_name": "LayoutModel",
          "model_module_version": "1.2.0",
          "state": {
            "_model_module": "@jupyter-widgets/base",
            "_model_module_version": "1.2.0",
            "_model_name": "LayoutModel",
            "_view_count": null,
            "_view_module": "@jupyter-widgets/base",
            "_view_module_version": "1.2.0",
            "_view_name": "LayoutView",
            "align_content": null,
            "align_items": null,
            "align_self": null,
            "border": null,
            "bottom": null,
            "display": null,
            "flex": null,
            "flex_flow": null,
            "grid_area": null,
            "grid_auto_columns": null,
            "grid_auto_flow": null,
            "grid_auto_rows": null,
            "grid_column": null,
            "grid_gap": null,
            "grid_row": null,
            "grid_template_areas": null,
            "grid_template_columns": null,
            "grid_template_rows": null,
            "height": null,
            "justify_content": null,
            "justify_items": null,
            "left": null,
            "margin": null,
            "max_height": null,
            "max_width": null,
            "min_height": null,
            "min_width": null,
            "object_fit": null,
            "object_position": null,
            "order": null,
            "overflow": null,
            "overflow_x": null,
            "overflow_y": null,
            "padding": null,
            "right": null,
            "top": null,
            "visibility": null,
            "width": null
          }
        },
        "3ab4962cd9704b2cb7bfcda3bd797b31": {
          "model_module": "@jupyter-widgets/controls",
          "model_name": "ProgressStyleModel",
          "model_module_version": "1.5.0",
          "state": {
            "_model_module": "@jupyter-widgets/controls",
            "_model_module_version": "1.5.0",
            "_model_name": "ProgressStyleModel",
            "_view_count": null,
            "_view_module": "@jupyter-widgets/base",
            "_view_module_version": "1.2.0",
            "_view_name": "StyleView",
            "bar_color": null,
            "description_width": ""
          }
        },
        "4b0b588326f6432d814bbe0790b4ebc4": {
          "model_module": "@jupyter-widgets/base",
          "model_name": "LayoutModel",
          "model_module_version": "1.2.0",
          "state": {
            "_model_module": "@jupyter-widgets/base",
            "_model_module_version": "1.2.0",
            "_model_name": "LayoutModel",
            "_view_count": null,
            "_view_module": "@jupyter-widgets/base",
            "_view_module_version": "1.2.0",
            "_view_name": "LayoutView",
            "align_content": null,
            "align_items": null,
            "align_self": null,
            "border": null,
            "bottom": null,
            "display": null,
            "flex": null,
            "flex_flow": null,
            "grid_area": null,
            "grid_auto_columns": null,
            "grid_auto_flow": null,
            "grid_auto_rows": null,
            "grid_column": null,
            "grid_gap": null,
            "grid_row": null,
            "grid_template_areas": null,
            "grid_template_columns": null,
            "grid_template_rows": null,
            "height": null,
            "justify_content": null,
            "justify_items": null,
            "left": null,
            "margin": null,
            "max_height": null,
            "max_width": null,
            "min_height": null,
            "min_width": null,
            "object_fit": null,
            "object_position": null,
            "order": null,
            "overflow": null,
            "overflow_x": null,
            "overflow_y": null,
            "padding": null,
            "right": null,
            "top": null,
            "visibility": null,
            "width": null
          }
        },
        "52b7d9a0ec7e477b9d599d059833d684": {
          "model_module": "@jupyter-widgets/controls",
          "model_name": "DescriptionStyleModel",
          "model_module_version": "1.5.0",
          "state": {
            "_model_module": "@jupyter-widgets/controls",
            "_model_module_version": "1.5.0",
            "_model_name": "DescriptionStyleModel",
            "_view_count": null,
            "_view_module": "@jupyter-widgets/base",
            "_view_module_version": "1.2.0",
            "_view_name": "StyleView",
            "description_width": ""
          }
        },
        "fdf5c6214e8a42909ba124670ec5fa2c": {
          "model_module": "@jupyter-widgets/controls",
          "model_name": "HBoxModel",
          "model_module_version": "1.5.0",
          "state": {
            "_dom_classes": [],
            "_model_module": "@jupyter-widgets/controls",
            "_model_module_version": "1.5.0",
            "_model_name": "HBoxModel",
            "_view_count": null,
            "_view_module": "@jupyter-widgets/controls",
            "_view_module_version": "1.5.0",
            "_view_name": "HBoxView",
            "box_style": "",
            "children": [
              "IPY_MODEL_0c4701ea39124ba381f2a84783a21680",
              "IPY_MODEL_cbd3a58cc75a458ba35d9653576865f3",
              "IPY_MODEL_a4dabf7544e045d2b7824ad1a612fb44"
            ],
            "layout": "IPY_MODEL_3163ab6b5fd14da183941640d2cec1c2"
          }
        },
        "0c4701ea39124ba381f2a84783a21680": {
          "model_module": "@jupyter-widgets/controls",
          "model_name": "HTMLModel",
          "model_module_version": "1.5.0",
          "state": {
            "_dom_classes": [],
            "_model_module": "@jupyter-widgets/controls",
            "_model_module_version": "1.5.0",
            "_model_name": "HTMLModel",
            "_view_count": null,
            "_view_module": "@jupyter-widgets/controls",
            "_view_module_version": "1.5.0",
            "_view_name": "HTMLView",
            "description": "",
            "description_tooltip": null,
            "layout": "IPY_MODEL_98f35a0544394d2fb5dbea0948fdf520",
            "placeholder": "​",
            "style": "IPY_MODEL_a6adf5b101324a64a4306e31d6eef325",
            "value": "Downloading (…)&quot;tf_model.h5&quot;;: 100%"
          }
        },
        "cbd3a58cc75a458ba35d9653576865f3": {
          "model_module": "@jupyter-widgets/controls",
          "model_name": "FloatProgressModel",
          "model_module_version": "1.5.0",
          "state": {
            "_dom_classes": [],
            "_model_module": "@jupyter-widgets/controls",
            "_model_module_version": "1.5.0",
            "_model_name": "FloatProgressModel",
            "_view_count": null,
            "_view_module": "@jupyter-widgets/controls",
            "_view_module_version": "1.5.0",
            "_view_name": "ProgressView",
            "bar_style": "success",
            "description": "",
            "description_tooltip": null,
            "layout": "IPY_MODEL_2caa36d570b34a08bf5dd146c596b3f2",
            "max": 526681800,
            "min": 0,
            "orientation": "horizontal",
            "style": "IPY_MODEL_6be75c8f0d314298bba3a3fa149d3f5f",
            "value": 526681800
          }
        },
        "a4dabf7544e045d2b7824ad1a612fb44": {
          "model_module": "@jupyter-widgets/controls",
          "model_name": "HTMLModel",
          "model_module_version": "1.5.0",
          "state": {
            "_dom_classes": [],
            "_model_module": "@jupyter-widgets/controls",
            "_model_module_version": "1.5.0",
            "_model_name": "HTMLModel",
            "_view_count": null,
            "_view_module": "@jupyter-widgets/controls",
            "_view_module_version": "1.5.0",
            "_view_name": "HTMLView",
            "description": "",
            "description_tooltip": null,
            "layout": "IPY_MODEL_c3f54a6f93b94a1086f6ae18eb667f6e",
            "placeholder": "​",
            "style": "IPY_MODEL_568413388ba44743a0f078a7d869aec6",
            "value": " 527M/527M [00:03&lt;00:00, 165MB/s]"
          }
        },
        "3163ab6b5fd14da183941640d2cec1c2": {
          "model_module": "@jupyter-widgets/base",
          "model_name": "LayoutModel",
          "model_module_version": "1.2.0",
          "state": {
            "_model_module": "@jupyter-widgets/base",
            "_model_module_version": "1.2.0",
            "_model_name": "LayoutModel",
            "_view_count": null,
            "_view_module": "@jupyter-widgets/base",
            "_view_module_version": "1.2.0",
            "_view_name": "LayoutView",
            "align_content": null,
            "align_items": null,
            "align_self": null,
            "border": null,
            "bottom": null,
            "display": null,
            "flex": null,
            "flex_flow": null,
            "grid_area": null,
            "grid_auto_columns": null,
            "grid_auto_flow": null,
            "grid_auto_rows": null,
            "grid_column": null,
            "grid_gap": null,
            "grid_row": null,
            "grid_template_areas": null,
            "grid_template_columns": null,
            "grid_template_rows": null,
            "height": null,
            "justify_content": null,
            "justify_items": null,
            "left": null,
            "margin": null,
            "max_height": null,
            "max_width": null,
            "min_height": null,
            "min_width": null,
            "object_fit": null,
            "object_position": null,
            "order": null,
            "overflow": null,
            "overflow_x": null,
            "overflow_y": null,
            "padding": null,
            "right": null,
            "top": null,
            "visibility": null,
            "width": null
          }
        },
        "98f35a0544394d2fb5dbea0948fdf520": {
          "model_module": "@jupyter-widgets/base",
          "model_name": "LayoutModel",
          "model_module_version": "1.2.0",
          "state": {
            "_model_module": "@jupyter-widgets/base",
            "_model_module_version": "1.2.0",
            "_model_name": "LayoutModel",
            "_view_count": null,
            "_view_module": "@jupyter-widgets/base",
            "_view_module_version": "1.2.0",
            "_view_name": "LayoutView",
            "align_content": null,
            "align_items": null,
            "align_self": null,
            "border": null,
            "bottom": null,
            "display": null,
            "flex": null,
            "flex_flow": null,
            "grid_area": null,
            "grid_auto_columns": null,
            "grid_auto_flow": null,
            "grid_auto_rows": null,
            "grid_column": null,
            "grid_gap": null,
            "grid_row": null,
            "grid_template_areas": null,
            "grid_template_columns": null,
            "grid_template_rows": null,
            "height": null,
            "justify_content": null,
            "justify_items": null,
            "left": null,
            "margin": null,
            "max_height": null,
            "max_width": null,
            "min_height": null,
            "min_width": null,
            "object_fit": null,
            "object_position": null,
            "order": null,
            "overflow": null,
            "overflow_x": null,
            "overflow_y": null,
            "padding": null,
            "right": null,
            "top": null,
            "visibility": null,
            "width": null
          }
        },
        "a6adf5b101324a64a4306e31d6eef325": {
          "model_module": "@jupyter-widgets/controls",
          "model_name": "DescriptionStyleModel",
          "model_module_version": "1.5.0",
          "state": {
            "_model_module": "@jupyter-widgets/controls",
            "_model_module_version": "1.5.0",
            "_model_name": "DescriptionStyleModel",
            "_view_count": null,
            "_view_module": "@jupyter-widgets/base",
            "_view_module_version": "1.2.0",
            "_view_name": "StyleView",
            "description_width": ""
          }
        },
        "2caa36d570b34a08bf5dd146c596b3f2": {
          "model_module": "@jupyter-widgets/base",
          "model_name": "LayoutModel",
          "model_module_version": "1.2.0",
          "state": {
            "_model_module": "@jupyter-widgets/base",
            "_model_module_version": "1.2.0",
            "_model_name": "LayoutModel",
            "_view_count": null,
            "_view_module": "@jupyter-widgets/base",
            "_view_module_version": "1.2.0",
            "_view_name": "LayoutView",
            "align_content": null,
            "align_items": null,
            "align_self": null,
            "border": null,
            "bottom": null,
            "display": null,
            "flex": null,
            "flex_flow": null,
            "grid_area": null,
            "grid_auto_columns": null,
            "grid_auto_flow": null,
            "grid_auto_rows": null,
            "grid_column": null,
            "grid_gap": null,
            "grid_row": null,
            "grid_template_areas": null,
            "grid_template_columns": null,
            "grid_template_rows": null,
            "height": null,
            "justify_content": null,
            "justify_items": null,
            "left": null,
            "margin": null,
            "max_height": null,
            "max_width": null,
            "min_height": null,
            "min_width": null,
            "object_fit": null,
            "object_position": null,
            "order": null,
            "overflow": null,
            "overflow_x": null,
            "overflow_y": null,
            "padding": null,
            "right": null,
            "top": null,
            "visibility": null,
            "width": null
          }
        },
        "6be75c8f0d314298bba3a3fa149d3f5f": {
          "model_module": "@jupyter-widgets/controls",
          "model_name": "ProgressStyleModel",
          "model_module_version": "1.5.0",
          "state": {
            "_model_module": "@jupyter-widgets/controls",
            "_model_module_version": "1.5.0",
            "_model_name": "ProgressStyleModel",
            "_view_count": null,
            "_view_module": "@jupyter-widgets/base",
            "_view_module_version": "1.2.0",
            "_view_name": "StyleView",
            "bar_color": null,
            "description_width": ""
          }
        },
        "c3f54a6f93b94a1086f6ae18eb667f6e": {
          "model_module": "@jupyter-widgets/base",
          "model_name": "LayoutModel",
          "model_module_version": "1.2.0",
          "state": {
            "_model_module": "@jupyter-widgets/base",
            "_model_module_version": "1.2.0",
            "_model_name": "LayoutModel",
            "_view_count": null,
            "_view_module": "@jupyter-widgets/base",
            "_view_module_version": "1.2.0",
            "_view_name": "LayoutView",
            "align_content": null,
            "align_items": null,
            "align_self": null,
            "border": null,
            "bottom": null,
            "display": null,
            "flex": null,
            "flex_flow": null,
            "grid_area": null,
            "grid_auto_columns": null,
            "grid_auto_flow": null,
            "grid_auto_rows": null,
            "grid_column": null,
            "grid_gap": null,
            "grid_row": null,
            "grid_template_areas": null,
            "grid_template_columns": null,
            "grid_template_rows": null,
            "height": null,
            "justify_content": null,
            "justify_items": null,
            "left": null,
            "margin": null,
            "max_height": null,
            "max_width": null,
            "min_height": null,
            "min_width": null,
            "object_fit": null,
            "object_position": null,
            "order": null,
            "overflow": null,
            "overflow_x": null,
            "overflow_y": null,
            "padding": null,
            "right": null,
            "top": null,
            "visibility": null,
            "width": null
          }
        },
        "568413388ba44743a0f078a7d869aec6": {
          "model_module": "@jupyter-widgets/controls",
          "model_name": "DescriptionStyleModel",
          "model_module_version": "1.5.0",
          "state": {
            "_model_module": "@jupyter-widgets/controls",
            "_model_module_version": "1.5.0",
            "_model_name": "DescriptionStyleModel",
            "_view_count": null,
            "_view_module": "@jupyter-widgets/base",
            "_view_module_version": "1.2.0",
            "_view_name": "StyleView",
            "description_width": ""
          }
        }
      }
    }
  },
  "nbformat": 4,
  "nbformat_minor": 0
}