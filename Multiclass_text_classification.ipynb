{
  "cells": [
    {
      "cell_type": "markdown",
      "metadata": {
        "id": "view-in-github",
        "colab_type": "text"
      },
      "source": [
        "<a href=\"https://colab.research.google.com/github/srilamaiti/SM_MIDS_W266_HW/blob/main/Multiclass_text_classification.ipynb\" target=\"_parent\"><img src=\"https://colab.research.google.com/assets/colab-badge.svg\" alt=\"Open In Colab\"/></a>"
      ]
    },
    {
      "cell_type": "markdown",
      "metadata": {
        "id": "Z-44Qz4-Xd1o"
      },
      "source": [
        "# Assignment 3: Fine tuning a multiclass classification BERT model\n",
        "\n",
        "**Description:** This assignment covers fine-tuning of a multiclass classification. You will compare two different types of solutions using BERT-based models. You should also be able to develop an intuition for:\n",
        "\n",
        "\n",
        "* Working with BERT\n",
        "* Using multiple models to focus on different sub-tasks\n",
        "* Different metrics to measure the effectiveness of your model\n",
        "\n",
        "\n",
        "\n",
        "The assignment notebook closely follows the lesson notebooks. We will use the 20 newsgroups dataset and will leverage some of the models, or part of the code, for our current investigation. \n",
        "\n",
        "**You are strongly encouraged to read through the entire notebook before answering any questions or writing any code.**\n",
        "\n",
        "The initial part of the notebook is purely setup. We will then generate our BERT model and see if and how we can improve it. \n",
        "\n",
        "Do not try to run this entire notebook on your GCP instance as the training of models requires a GPU to work in a timely fashion. This notebook should be run on a Google Colab leveraging a GPU. By default, when you open the notebook in Colab it will try to use a GPU. Total runtime of the entire notebook (with solutions and a Colab GPU) should be about 1h.\n",
        "\n",
        "\n",
        "[![Open In Colab](https://colab.research.google.com/assets/colab-badge.svg)](https://colab.research.google.com/github/datasci-w266/2023-spring-main/blob/master/assignment/a3/Multiclass_text_classification.ipynb)\n",
        "\n",
        "The overall assignment structure is as follows:\n",
        "\n",
        "1. Setup\n",
        "  \n",
        "  1.1 Libraries & Helper Functions\n",
        "\n",
        "  1.2 Data Acquisition\n",
        "\n",
        "  1.3 Training/Test/Validation Sets for BERT-based models\n",
        "\n",
        "2. Classification with a fine tuned BERT model\n",
        "\n",
        "  2.1 Create the specified BERT model\n",
        "  \n",
        "  2.2 Fine tune the BERT model as directed\n",
        "\n",
        "  2.3 Examine the predictions with various metrics\n",
        "\n",
        "3. Classification using two stages\n",
        "\n",
        "  3.1 Relabel the data to group the often confused classes\n",
        "\n",
        "  3.2 Train the first stage model on the relabeled data\n",
        "\n",
        "  3.3 Separate the data for just the confused classes\n",
        "\n",
        "  3.4. Train the second stage model on the two classes\n",
        "\n",
        "  3.5. Combine and evaluate the predictions from the two stages\n",
        "\n",
        "4. Look at examples of misclassifications, see what might have changed\n",
        "\n",
        "\n",
        "\n",
        "**INSTRUCTIONS:**: \n",
        "\n",
        "* Questions are always indicated as **QUESTION:**, so you can search for this string to make sure you answered all of the questions. You are expected to fill out, run, and submit this notebook, as well as to answer the questions in the **answers** file as you did in a1 and a2.\n",
        "\n",
        "* **### YOUR CODE HERE** indicates that you are supposed to write code.\n",
        "\n",
        "* If you want to, you can run all of the cells in section 1 in bulk. This is setup work and no questions are in there. At the end of section 1 we will state all of the relevant variables that were defined and created in section 1.\n",
        "\n",
        "* **IMPORTANT NOTE:** Because the data we're using is downloaded each time we run section 1, a different split of train, validation, and test records is created.  This means that the accuracy, precision, recall, and F1 scores will change, although the delta will be small.  Please enter the values from your final run so that the answer values in your answers file correspond to the answer values in the outputs in your notebook.\n"
      ]
    },
    {
      "cell_type": "markdown",
      "metadata": {
        "id": "NK2xTV-Xisrl"
      },
      "source": [
        "### 1. Setup\n",
        "\n",
        "Lets get all our libraries and download and process our data."
      ]
    },
    {
      "cell_type": "code",
      "execution_count": 1,
      "metadata": {
        "colab": {
          "base_uri": "https://localhost:8080/"
        },
        "id": "3gzOXaFdmgO8",
        "outputId": "68a1e1bf-df6a-4545-9a44-a8682f2a9419"
      },
      "outputs": [
        {
          "output_type": "stream",
          "name": "stdout",
          "text": [
            "\u001b[2K     \u001b[90m━━━━━━━━━━━━━━━━━━━━━━━━━━━━━━━━━━━━━━━━\u001b[0m \u001b[32m6.3/6.3 MB\u001b[0m \u001b[31m33.2 MB/s\u001b[0m eta \u001b[36m0:00:00\u001b[0m\n",
            "\u001b[2K     \u001b[90m━━━━━━━━━━━━━━━━━━━━━━━━━━━━━━━━━━━━━━━━\u001b[0m \u001b[32m7.6/7.6 MB\u001b[0m \u001b[31m54.6 MB/s\u001b[0m eta \u001b[36m0:00:00\u001b[0m\n",
            "\u001b[2K     \u001b[90m━━━━━━━━━━━━━━━━━━━━━━━━━━━━━━━━━━━━━━━\u001b[0m \u001b[32m190.3/190.3 KB\u001b[0m \u001b[31m8.1 MB/s\u001b[0m eta \u001b[36m0:00:00\u001b[0m\n",
            "\u001b[?25h"
          ]
        }
      ],
      "source": [
        "!pip install -q transformers"
      ]
    },
    {
      "cell_type": "code",
      "execution_count": 2,
      "metadata": {
        "colab": {
          "base_uri": "https://localhost:8080/"
        },
        "id": "ULcKJUjHmkZT",
        "outputId": "856f207a-2cd3-49f0-e3ca-bf0d87d5cecf"
      },
      "outputs": [
        {
          "output_type": "stream",
          "name": "stdout",
          "text": [
            "Looking in indexes: https://pypi.org/simple, https://us-python.pkg.dev/colab-wheels/public/simple/\n",
            "Requirement already satisfied: pydot in /usr/local/lib/python3.8/dist-packages (1.3.0)\n",
            "Requirement already satisfied: pyparsing>=2.1.4 in /usr/local/lib/python3.8/dist-packages (from pydot) (3.0.9)\n"
          ]
        }
      ],
      "source": [
        "!pip install pydot"
      ]
    },
    {
      "cell_type": "code",
      "execution_count": 3,
      "metadata": {
        "id": "aTq7Qjqbmkfv"
      },
      "outputs": [],
      "source": [
        "from sklearn.datasets import fetch_20newsgroups\n",
        "from sklearn.model_selection import train_test_split\n",
        "from sklearn.metrics import classification_report"
      ]
    },
    {
      "cell_type": "code",
      "execution_count": 4,
      "metadata": {
        "id": "-6E-xzDawK0Q"
      },
      "outputs": [],
      "source": [
        "from collections import Counter\n",
        "import numpy as np\n",
        "import tensorflow as tf\n",
        "from tensorflow import keras\n",
        "\n",
        "import seaborn as sns\n",
        "import matplotlib.pyplot as plt\n",
        "from pprint import pprint "
      ]
    },
    {
      "cell_type": "code",
      "execution_count": 5,
      "metadata": {
        "id": "99yIOuqFXMwU"
      },
      "outputs": [],
      "source": [
        "from transformers import BertTokenizer, TFBertModel"
      ]
    },
    {
      "cell_type": "code",
      "execution_count": 6,
      "metadata": {
        "id": "UWk_PZ9hmkk0"
      },
      "outputs": [],
      "source": [
        "def read_20newsgroups(test_size=0.1):\n",
        "  # download & load 20newsgroups dataset from sklearn's repos\n",
        "  dataset = fetch_20newsgroups(subset=\"all\", shuffle=True, remove=(\"headers\", \"footers\", \"quotes\"))\n",
        "  documents = dataset.data\n",
        "  labels = dataset.target\n",
        "  # split into training & testing a return data as well as label names\n",
        "  return train_test_split(documents, labels, test_size=test_size), dataset.target_names\n",
        "  \n",
        "# call the function\n",
        "(train_texts, test_texts, train_labels, test_labels), target_names = read_20newsgroups()"
      ]
    },
    {
      "cell_type": "markdown",
      "metadata": {
        "id": "8Ocyl9dnb1OM"
      },
      "source": [
        "Take a look at the records.  We basically have a long string of text and an associated label.  That label is the Usenet group where the posting occured. The records are the raw text.  They vary significantly in size."
      ]
    },
    {
      "cell_type": "code",
      "execution_count": 7,
      "metadata": {
        "colab": {
          "base_uri": "https://localhost:8080/"
        },
        "id": "O7Akxu2Umkpo",
        "outputId": "88f5ecd5-ebcd-4937-b9be-dcd6122a3c16"
      },
      "outputs": [
        {
          "output_type": "execute_result",
          "data": {
            "text/plain": [
              "[\"I think Mark was talking about making it available to people who didn't\\nhave email in the first place.\\n\\nIf anybody in the Boston area wants a sci.space feed by honest-to-gosh UUCP\\n(no weird offline malreaders), let me know.  I'll also hand out logins to\\nanyone who wants one, especially the Boston Chapter of NSS (which I keep forgetting\\nto re-attend).\\n\\n\\n\",\n",
              " '\\n\\nIf anyone gets the New York Times, the Edit page has a transcript\\nof a VHS from Hams describing their methods of torture and \\nexecution. I will post it later on.\\n\\n\\n\\n\\n']"
            ]
          },
          "metadata": {},
          "execution_count": 7
        }
      ],
      "source": [
        "train_texts[:2]"
      ]
    },
    {
      "cell_type": "markdown",
      "metadata": {
        "id": "1eKIgSBdcHy9"
      },
      "source": [
        "Notice the \"labels\" are just integers that are an offset into the list of target names."
      ]
    },
    {
      "cell_type": "code",
      "execution_count": 8,
      "metadata": {
        "colab": {
          "base_uri": "https://localhost:8080/"
        },
        "id": "KRnu9CSQnMNN",
        "outputId": "bca71a23-1125-4c57-f02a-5b218a87dda5"
      },
      "outputs": [
        {
          "output_type": "execute_result",
          "data": {
            "text/plain": [
              "array([14, 17])"
            ]
          },
          "metadata": {},
          "execution_count": 8
        }
      ],
      "source": [
        "train_labels[:2]"
      ]
    },
    {
      "cell_type": "markdown",
      "metadata": {
        "id": "F-ksEnmbcWBt"
      },
      "source": [
        "The variable ''target_names'' stores all of the names of the labels."
      ]
    },
    {
      "cell_type": "code",
      "execution_count": 9,
      "metadata": {
        "colab": {
          "base_uri": "https://localhost:8080/"
        },
        "id": "qvNAnCstx-3S",
        "outputId": "0b427785-5a93-43e4-80ec-21ea0bff7f8a"
      },
      "outputs": [
        {
          "output_type": "stream",
          "name": "stdout",
          "text": [
            "['alt.atheism', 'comp.graphics', 'comp.os.ms-windows.misc', 'comp.sys.ibm.pc.hardware', 'comp.sys.mac.hardware', 'comp.windows.x', 'misc.forsale', 'rec.autos', 'rec.motorcycles', 'rec.sport.baseball', 'rec.sport.hockey', 'sci.crypt', 'sci.electronics', 'sci.med', 'sci.space', 'soc.religion.christian', 'talk.politics.guns', 'talk.politics.mideast', 'talk.politics.misc', 'talk.religion.misc']\n"
          ]
        }
      ],
      "source": [
        "print(target_names)"
      ]
    },
    {
      "cell_type": "markdown",
      "metadata": {
        "id": "m1SmEVYOcwP6"
      },
      "source": [
        "We already have a test set and a train set.  Let's explicitly set aside part of our training set for validation purposes."
      ]
    },
    {
      "cell_type": "code",
      "execution_count": 10,
      "metadata": {
        "id": "H1toWirQAAZ8"
      },
      "outputs": [],
      "source": [
        "len(train_texts)\n",
        "valid_texts = train_texts[16000:]\n",
        "valid_labels = train_labels[16000:]\n",
        "train_texts = train_texts[:16000]\n",
        "train_labels = train_labels[:16000]"
      ]
    },
    {
      "cell_type": "markdown",
      "metadata": {
        "id": "aBMiGVwHc76-"
      },
      "source": [
        "The validation set will always have 961 records."
      ]
    },
    {
      "cell_type": "code",
      "execution_count": 11,
      "metadata": {
        "colab": {
          "base_uri": "https://localhost:8080/"
        },
        "id": "bzuXsJjwAAOr",
        "outputId": "f6bc8d71-7baa-4b06-e23f-8ce428d47b52"
      },
      "outputs": [
        {
          "output_type": "execute_result",
          "data": {
            "text/plain": [
              "961"
            ]
          },
          "metadata": {},
          "execution_count": 11
        }
      ],
      "source": [
        "len(valid_texts)"
      ]
    },
    {
      "cell_type": "markdown",
      "metadata": {
        "id": "SBy5EKYwdBcZ"
      },
      "source": [
        "The training set will always have 16000 records."
      ]
    },
    {
      "cell_type": "code",
      "execution_count": 12,
      "metadata": {
        "colab": {
          "base_uri": "https://localhost:8080/"
        },
        "id": "MMVgiD8SCHUk",
        "outputId": "c93001f6-80b4-4612-9bdc-01129216e9cc"
      },
      "outputs": [
        {
          "output_type": "execute_result",
          "data": {
            "text/plain": [
              "16000"
            ]
          },
          "metadata": {},
          "execution_count": 12
        }
      ],
      "source": [
        "len(train_texts)"
      ]
    },
    {
      "cell_type": "markdown",
      "metadata": {
        "id": "LGVOwMBKu2OW"
      },
      "source": [
        "**NOTE:** Each time you rerun the data you will draw a *different* set of train and test documents even though the numbers 961 and 16000 will always be the same."
      ]
    },
    {
      "cell_type": "code",
      "execution_count": 13,
      "metadata": {
        "id": "mFISqjoM335H"
      },
      "outputs": [],
      "source": [
        "#get the labels in a needed data format for validation\n",
        "npvalid_labels = np.asarray(valid_labels)"
      ]
    },
    {
      "cell_type": "markdown",
      "metadata": {
        "id": "d3T5uytRdK7I"
      },
      "source": [
        "* train_texts - an array of text strings for training\n",
        "* test_texts - an array of text strings for testing \n",
        "* valid texts - an array of text strings for validation\n",
        "* train_labels - an array of integers representing the labels associated with train_texts\n",
        "* test_labels - an array of integers representing the labels associated with test_texts\n",
        "* valid_labels - an array of integers representing the labels associated with valid_texts\n",
        "* target_names - an array of label strings that correspond to the integers in the *_labels arrays\n",
        "\n",
        "### 2. Classification with a fine tuned BERT model\n",
        "\n",
        "Let's pick our BERT model.  We'll start with the base BERT model and we'll use the cased version since our data has capital and lower case letters."
      ]
    },
    {
      "cell_type": "code",
      "execution_count": 14,
      "metadata": {
        "id": "zjFWaM2ZnMIC"
      },
      "outputs": [],
      "source": [
        "#make it easier to use a variety of BERT subword models\n",
        "model_checkpoint = 'bert-base-cased'"
      ]
    },
    {
      "cell_type": "code",
      "execution_count": 15,
      "metadata": {
        "colab": {
          "base_uri": "https://localhost:8080/",
          "height": 254,
          "referenced_widgets": [
            "da6afb4e41bc425a82428789a8f974e1",
            "2967fd4fe4224a628eb20009f61d282e",
            "fe3a5dfd418649f88f8ebaef7abb322c",
            "f838cc82f14b4fe4956123a60428aa7b",
            "02b079cae0354659828c1419d036915a",
            "cc4af7119350449e9ed9370b89f29173",
            "9d029c11db7b4bf3bffce7f825e2b48b",
            "386ad95fcdac40eb9af84037f5189845",
            "66738c1a4b894f1dae65b3b21c1397c3",
            "a0abb2ac69fa4c4da59062a7151ee467",
            "8b5d44266f83481ba7b51f5428671020",
            "1bb472135449467493c6beff6f884e68",
            "b5799953550d4c6ead23f950ce092ac4",
            "8b34561b33a84c6d8cfce91177e5f30e",
            "ba769619c95143f1afe9e512c2ecc148",
            "52a6229d7992477cb4e2cb8ec35a9cda",
            "23b7e9556a6343df86659d65d2a21b83",
            "5b7a8390f4284665bf9e4b033a6f50be",
            "a6bec2566b49449fb3ec872fff1bb94f",
            "cb11666ff0c24cd89eb63b9551f2ccb2",
            "0df73674b15240baa1af370fb496db2c",
            "e8034f90b78746ecad13f9a66e7932b6",
            "45086235f3d74aab88d0653d9930fcd4",
            "0c7f625abf08439b9533229abd42d581",
            "11d53b3a3f1941ad8d93c815be7391e8",
            "19cecc99feea43808bf380a8ea6f07fd",
            "16c94d84604a4c3e88d5d5602c1b4468",
            "f41a3fc94bf04d4bbd1dc0890d320331",
            "29bc8298f14c4b5b92c8702bd6a41089",
            "4de941f38d8c4e4b8a201805f445cf9e",
            "ca72bce61be745fea9301e23c26b1839",
            "ea585c1c314646aa9cd9303dd3ff5d90",
            "235cc926602f498e8740b19639a31756",
            "d3979d9a55844d12b203885507393b4a",
            "a8f21842605d4c2f9578b539d140f9b4",
            "cea90d9cbe974beb87516253428613d3",
            "13de0c799c4546a2ac4adcbcbd17d06d",
            "3dd19de408274bffb1c1d9a4972d78dc",
            "e43b8525444a446f9c2bee04d689fb31",
            "28110d4e7d704a88bef719c9aeddf1e9",
            "9488b0006d744968934de6377e7d9acf",
            "7cd07e39b1c94ea891f0ee75e71bb65c",
            "7aa68cc040a34cfd9795ed38f5758d23",
            "4ba4ff86eaba443eb936db584ecb187c"
          ]
        },
        "id": "-7gV_GUdn9Ck",
        "outputId": "0a4a2d57-6eaf-41fd-d10c-3f8708c79289"
      },
      "outputs": [
        {
          "output_type": "display_data",
          "data": {
            "text/plain": [
              "Downloading (…)solve/main/vocab.txt:   0%|          | 0.00/213k [00:00<?, ?B/s]"
            ],
            "application/vnd.jupyter.widget-view+json": {
              "version_major": 2,
              "version_minor": 0,
              "model_id": "da6afb4e41bc425a82428789a8f974e1"
            }
          },
          "metadata": {}
        },
        {
          "output_type": "display_data",
          "data": {
            "text/plain": [
              "Downloading (…)okenizer_config.json:   0%|          | 0.00/29.0 [00:00<?, ?B/s]"
            ],
            "application/vnd.jupyter.widget-view+json": {
              "version_major": 2,
              "version_minor": 0,
              "model_id": "1bb472135449467493c6beff6f884e68"
            }
          },
          "metadata": {}
        },
        {
          "output_type": "display_data",
          "data": {
            "text/plain": [
              "Downloading (…)lve/main/config.json:   0%|          | 0.00/570 [00:00<?, ?B/s]"
            ],
            "application/vnd.jupyter.widget-view+json": {
              "version_major": 2,
              "version_minor": 0,
              "model_id": "45086235f3d74aab88d0653d9930fcd4"
            }
          },
          "metadata": {}
        },
        {
          "output_type": "display_data",
          "data": {
            "text/plain": [
              "Downloading (…)\"tf_model.h5\";:   0%|          | 0.00/527M [00:00<?, ?B/s]"
            ],
            "application/vnd.jupyter.widget-view+json": {
              "version_major": 2,
              "version_minor": 0,
              "model_id": "d3979d9a55844d12b203885507393b4a"
            }
          },
          "metadata": {}
        },
        {
          "output_type": "stream",
          "name": "stderr",
          "text": [
            "Some layers from the model checkpoint at bert-base-cased were not used when initializing TFBertModel: ['mlm___cls', 'nsp___cls']\n",
            "- This IS expected if you are initializing TFBertModel from the checkpoint of a model trained on another task or with another architecture (e.g. initializing a BertForSequenceClassification model from a BertForPreTraining model).\n",
            "- This IS NOT expected if you are initializing TFBertModel from the checkpoint of a model that you expect to be exactly identical (initializing a BertForSequenceClassification model from a BertForSequenceClassification model).\n",
            "All the layers of TFBertModel were initialized from the model checkpoint at bert-base-cased.\n",
            "If your task is similar to the task the model of the checkpoint was trained on, you can already use TFBertModel for predictions without further training.\n"
          ]
        }
      ],
      "source": [
        "bert_tokenizer = BertTokenizer.from_pretrained(model_checkpoint)\n",
        "bert_model = TFBertModel.from_pretrained(model_checkpoint)"
      ]
    },
    {
      "cell_type": "markdown",
      "metadata": {
        "id": "ZJGkIHSHdilH"
      },
      "source": [
        "We're setting our maximum training record length to 200.  BERT models can handle more and after you've completed the assignment you're welcome to try larger and small sized records."
      ]
    },
    {
      "cell_type": "code",
      "execution_count": 16,
      "metadata": {
        "id": "h_59AaVznMCV"
      },
      "outputs": [],
      "source": [
        "max_length = 200"
      ]
    },
    {
      "cell_type": "markdown",
      "metadata": {
        "id": "n6d54_bqd58L"
      },
      "source": [
        "Now we'll tokenize our three data slices.  This will take a minute or two."
      ]
    },
    {
      "cell_type": "code",
      "execution_count": 17,
      "metadata": {
        "id": "bgv0nftinL6z"
      },
      "outputs": [],
      "source": [
        "# tokenize the dataset, truncate when passed `max_length`, \n",
        "# and pad with 0's when less than `max_length` and return a tf Tensor\n",
        "train_encodings = bert_tokenizer(train_texts, truncation=True, padding=True, max_length=max_length, return_tensors='tf')\n",
        "valid_encodings = bert_tokenizer(valid_texts, truncation=True, padding=True, max_length=max_length, return_tensors='tf')\n",
        "test_encodings = bert_tokenizer(test_texts, truncation=True, padding=True, max_length=max_length, return_tensors='tf')"
      ]
    },
    {
      "cell_type": "markdown",
      "metadata": {
        "id": "2gNS0Fi0emN8"
      },
      "source": [
        "Notice our input_ids for the first training record and their padding. The train_encodings also includes an array of token_type_ids and an attention_mask array. "
      ]
    },
    {
      "cell_type": "code",
      "execution_count": 18,
      "metadata": {
        "colab": {
          "base_uri": "https://localhost:8080/"
        },
        "id": "XFEXxgAmnLve",
        "outputId": "54a63167-c13c-49a5-d807-4f644cb06021"
      },
      "outputs": [
        {
          "output_type": "execute_result",
          "data": {
            "text/plain": [
              "<tf.Tensor: shape=(1, 200), dtype=int32, numpy=\n",
              "array([[  101,   146,  1341,  2392,  1108,  2520,  1164,  1543,  1122,\n",
              "         1907,  1106,  1234,  1150,  1238,   112,   189,  1138, 10632,\n",
              "         1107,  1103,  1148,  1282,   119,  1409, 11183,  1107,  1103,\n",
              "         2859,  1298,  3349,   170,   188,  6617,   119,  2000,  4877,\n",
              "         1118,  7345,   118,  1106,   118,  1301,  2737,   158, 21986,\n",
              "         2101,   113,  1185,  6994,  1228,  2568, 12477,  1233, 11613,\n",
              "         1468,   114,   117,  1519,  1143,  1221,   119,   146,   112,\n",
              "         1325,  1145,  1289,  1149,  9366,  4935,  1106,  2256,  1150,\n",
              "         3349,  1141,   117,  2108,  1103,  2859,  2943,  1104,   151,\n",
              "        12480,   113,  1134,   146,  1712, 20608,  1106,  1231,   118,\n",
              "         4739,   114,   119,   102,     0,     0,     0,     0,     0,\n",
              "            0,     0,     0,     0,     0,     0,     0,     0,     0,\n",
              "            0,     0,     0,     0,     0,     0,     0,     0,     0,\n",
              "            0,     0,     0,     0,     0,     0,     0,     0,     0,\n",
              "            0,     0,     0,     0,     0,     0,     0,     0,     0,\n",
              "            0,     0,     0,     0,     0,     0,     0,     0,     0,\n",
              "            0,     0,     0,     0,     0,     0,     0,     0,     0,\n",
              "            0,     0,     0,     0,     0,     0,     0,     0,     0,\n",
              "            0,     0,     0,     0,     0,     0,     0,     0,     0,\n",
              "            0,     0,     0,     0,     0,     0,     0,     0,     0,\n",
              "            0,     0,     0,     0,     0,     0,     0,     0,     0,\n",
              "            0,     0,     0,     0,     0,     0,     0,     0,     0,\n",
              "            0,     0]], dtype=int32)>"
            ]
          },
          "metadata": {},
          "execution_count": 18
        }
      ],
      "source": [
        "train_encodings.input_ids[:1]"
      ]
    },
    {
      "cell_type": "markdown",
      "metadata": {
        "id": "23lwfDw2T6gI"
      },
      "source": [
        "Write a function to create this multiclass bert model.\n",
        "\n",
        "Keep in mind the following:\n",
        "* Each record can have one of n labels where n = the size of target_names.\n",
        "* We'll still want a hidden size layer of size 201\n",
        "* We'll want our hidden layer to make use of the **pooler output** from BERT\n",
        "* We'll also want to use dropout\n",
        "* Our classification layer will need to be appropriately sized and use the correct non-linearity for a multi-class problem.\n",
        "* Since we have multiple labels we can no longer use binary cross entropy.  Instead we need to change our loss metric to a categorical cross entropy.  Which of the two categorical cross entropy metrics will work best here? \n",
        "* Make sure that training affects **all** of the layers in BERT.\n"
      ]
    },
    {
      "cell_type": "code",
      "execution_count": 19,
      "metadata": {
        "id": "RtWMrLi4tIun"
      },
      "outputs": [],
      "source": [
        "def create_bert_multiclass_model(checkpoint = model_checkpoint,\n",
        "                                 num_classes = 20,\n",
        "                                 hidden_size = 201, \n",
        "                                 dropout=0.3,\n",
        "                                 learning_rate=0.00005):\n",
        "    \"\"\"\n",
        "    Build a simple classification model with BERT. Use the Pooler Output for classification purposes.\n",
        "    \"\"\"\n",
        "    bert_model = TFBertModel.from_pretrained(checkpoint)                                              \n",
        "\n",
        "    ### YOUR CODE HERE\n",
        "    input_ids = tf.keras.layers.Input(shape=(max_length,), dtype=tf.int64, name='input_ids_layer')\n",
        "    token_type_ids = tf.keras.layers.Input(shape=(max_length,), dtype=tf.int64, name='token_type_ids_layer')\n",
        "    attention_mask = tf.keras.layers.Input(shape=(max_length,), dtype=tf.int64, name='attention_mask_layer')\n",
        "\n",
        "    bert_inputs = {'input_ids': input_ids,\n",
        "                   'token_type_ids': token_type_ids,\n",
        "                   'attention_mask': attention_mask}      \n",
        "\n",
        "    bert_out = bert_model(bert_inputs)\n",
        "\n",
        "    pooler_token = bert_out[1]\n",
        "    #cls_token = bert_out[0][:, 0, :]\n",
        "\n",
        "    hidden = tf.keras.layers.Dense(hidden_size, activation='relu', name='hidden_layer')(pooler_token)\n",
        "\n",
        "\n",
        "    hidden = tf.keras.layers.Dropout(dropout)(hidden)  \n",
        "\n",
        "\n",
        "    classification = tf.keras.layers.Dense(num_classes, \n",
        "                                           activation='sigmoid',\n",
        "                                           name='classification_layer')(hidden)\n",
        "    \n",
        "    classification_model = tf.keras.Model(inputs=[input_ids, token_type_ids, attention_mask], outputs=[classification])\n",
        "    \n",
        "    classification_model.compile(optimizer=tf.keras.optimizers.Adam(learning_rate=learning_rate),\n",
        "                                 loss = tf.keras.losses.SparseCategoricalCrossentropy(from_logits=True), \n",
        "                                 metrics='accuracy')\n",
        "    \n",
        "    ### END YOUR CODE\n",
        "    return classification_model"
      ]
    },
    {
      "cell_type": "code",
      "execution_count": 20,
      "metadata": {
        "colab": {
          "base_uri": "https://localhost:8080/"
        },
        "id": "uR-Id158tIlH",
        "outputId": "5c125a9f-5a98-4cef-cb70-b4515f479337"
      },
      "outputs": [
        {
          "output_type": "stream",
          "name": "stderr",
          "text": [
            "Some layers from the model checkpoint at bert-base-cased were not used when initializing TFBertModel: ['mlm___cls', 'nsp___cls']\n",
            "- This IS expected if you are initializing TFBertModel from the checkpoint of a model trained on another task or with another architecture (e.g. initializing a BertForSequenceClassification model from a BertForPreTraining model).\n",
            "- This IS NOT expected if you are initializing TFBertModel from the checkpoint of a model that you expect to be exactly identical (initializing a BertForSequenceClassification model from a BertForSequenceClassification model).\n",
            "All the layers of TFBertModel were initialized from the model checkpoint at bert-base-cased.\n",
            "If your task is similar to the task the model of the checkpoint was trained on, you can already use TFBertModel for predictions without further training.\n"
          ]
        }
      ],
      "source": [
        "pooler_bert_model = create_bert_multiclass_model(checkpoint=model_checkpoint, num_classes=20)"
      ]
    },
    {
      "cell_type": "code",
      "execution_count": 21,
      "metadata": {
        "colab": {
          "base_uri": "https://localhost:8080/"
        },
        "id": "bMxpO16-tIaE",
        "outputId": "625f81ac-933b-45fc-9c5f-3835538195ca"
      },
      "outputs": [
        {
          "output_type": "stream",
          "name": "stdout",
          "text": [
            "Model: \"model\"\n",
            "__________________________________________________________________________________________________\n",
            " Layer (type)                   Output Shape         Param #     Connected to                     \n",
            "==================================================================================================\n",
            " attention_mask_layer (InputLay  [(None, 200)]       0           []                               \n",
            " er)                                                                                              \n",
            "                                                                                                  \n",
            " input_ids_layer (InputLayer)   [(None, 200)]        0           []                               \n",
            "                                                                                                  \n",
            " token_type_ids_layer (InputLay  [(None, 200)]       0           []                               \n",
            " er)                                                                                              \n",
            "                                                                                                  \n",
            " tf_bert_model_1 (TFBertModel)  TFBaseModelOutputWi  108310272   ['attention_mask_layer[0][0]',   \n",
            "                                thPoolingAndCrossAt               'input_ids_layer[0][0]',        \n",
            "                                tentions(last_hidde               'token_type_ids_layer[0][0]']   \n",
            "                                n_state=(None, 200,                                               \n",
            "                                 768),                                                            \n",
            "                                 pooler_output=(Non                                               \n",
            "                                e, 768),                                                          \n",
            "                                 past_key_values=No                                               \n",
            "                                ne, hidden_states=N                                               \n",
            "                                one, attentions=Non                                               \n",
            "                                e, cross_attentions                                               \n",
            "                                =None)                                                            \n",
            "                                                                                                  \n",
            " hidden_layer (Dense)           (None, 201)          154569      ['tf_bert_model_1[0][1]']        \n",
            "                                                                                                  \n",
            " dropout_74 (Dropout)           (None, 201)          0           ['hidden_layer[0][0]']           \n",
            "                                                                                                  \n",
            " classification_layer (Dense)   (None, 20)           4040        ['dropout_74[0][0]']             \n",
            "                                                                                                  \n",
            "==================================================================================================\n",
            "Total params: 108,468,881\n",
            "Trainable params: 108,468,881\n",
            "Non-trainable params: 0\n",
            "__________________________________________________________________________________________________\n"
          ]
        }
      ],
      "source": [
        "pooler_bert_model.summary()"
      ]
    },
    {
      "cell_type": "markdown",
      "metadata": {
        "id": "5chyZZnHdlf9"
      },
      "source": [
        "**QUESTION:** 2.1 How many trainable parameters are in your dense hidden layer?\n",
        "**154,569**\n",
        "\n",
        "**QUESTION:** 2.2 How many trainable parameters are in your classification layer? **4040**"
      ]
    },
    {
      "cell_type": "code",
      "execution_count": 22,
      "metadata": {
        "colab": {
          "base_uri": "https://localhost:8080/",
          "height": 438
        },
        "id": "xe3tTWX6FVZL",
        "outputId": "965c1715-6ff2-4252-b434-e996da5bc45a"
      },
      "outputs": [
        {
          "output_type": "execute_result",
          "data": {
            "image/png": "[encoded data removed]",
            "text/plain": [
              "<IPython.core.display.Image object>"
            ]
          },
          "metadata": {},
          "execution_count": 22
        }
      ],
      "source": [
        "keras.utils.plot_model(pooler_bert_model, show_shapes=False, show_dtype=False, show_layer_names=True, dpi=90)"
      ]
    },
    {
      "cell_type": "code",
      "execution_count": 23,
      "metadata": {
        "colab": {
          "base_uri": "https://localhost:8080/"
        },
        "id": "aLLjb3mOtICy",
        "outputId": "41db840f-4610-4d59-9283-079c826b2a0e"
      },
      "outputs": [
        {
          "output_type": "stream",
          "name": "stderr",
          "text": [
            "/usr/local/lib/python3.8/dist-packages/keras/backend.py:5585: UserWarning: \"`sparse_categorical_crossentropy` received `from_logits=True`, but the `output` argument was produced by a Softmax activation and thus does not represent logits. Was this intended?\n",
            "  output, from_logits = _get_logits(\n"
          ]
        },
        {
          "output_type": "stream",
          "name": "stdout",
          "text": [
            "2000/2000 [==============================] - 723s 343ms/step - loss: 1.5057 - accuracy: 0.5477 - val_loss: 1.0302 - val_accuracy: 0.7024\n"
          ]
        }
      ],
      "source": [
        "#It takes 10 to 14 minutes to complete an epoch when using a GPU\n",
        "pooler_bert_model_history = pooler_bert_model.fit([train_encodings.input_ids, train_encodings.token_type_ids, train_encodings.attention_mask], \n",
        "                                                  train_labels,   \n",
        "                                                  validation_data=([valid_encodings.input_ids, valid_encodings.token_type_ids, valid_encodings.attention_mask], \n",
        "                                                  npvalid_labels),    \n",
        "                                                  batch_size=8, \n",
        "                                                  epochs=1)  "
      ]
    },
    {
      "cell_type": "markdown",
      "metadata": {
        "id": "rdHlOd4LJUOH"
      },
      "source": [
        "Now we need to run evaluate against our fine-tuned model.  This will give us an overall accuracy based on the test set."
      ]
    },
    {
      "cell_type": "code",
      "execution_count": 24,
      "metadata": {
        "colab": {
          "base_uri": "https://localhost:8080/"
        },
        "id": "dPQn2tJPEGdU",
        "outputId": "2dd29715-3a33-4e08-c273-01ba4cc80644"
      },
      "outputs": [
        {
          "output_type": "stream",
          "name": "stdout",
          "text": [
            "59/59 [==============================] - 25s 430ms/step - loss: 1.0589 - accuracy: 0.6881\n",
            "Test loss: 1.0589268207550049\n",
            "Test accuracy: 0.6880636811256409\n"
          ]
        }
      ],
      "source": [
        "#batch 8, ML=201\n",
        "score = pooler_bert_model.evaluate([test_encodings.input_ids, test_encodings.token_type_ids, test_encodings.attention_mask], \n",
        "                                                  test_labels) \n",
        "\n",
        "print('Test loss:', score[0]) \n",
        "print('Test accuracy:', score[1])"
      ]
    },
    {
      "cell_type": "markdown",
      "metadata": {
        "id": "3CnyZsXLfLJt"
      },
      "source": [
        "**QUESTION:** 2.3 What is the Test accuracy score you get from your model? (Just copy and paste the value into the answers sheet and round to five significant digits.) **0.68806**"
      ]
    },
    {
      "cell_type": "code",
      "execution_count": 25,
      "metadata": {
        "colab": {
          "base_uri": "https://localhost:8080/"
        },
        "id": "NS7Gp_IYEiJ_",
        "outputId": "a3de3f03-4d68-4b06-b491-8255486d06e2"
      },
      "outputs": [
        {
          "output_type": "stream",
          "name": "stdout",
          "text": [
            "1/1 [==============================] - 3s 3s/step\n"
          ]
        }
      ],
      "source": [
        "#run predict for the first three elements in the test data set\n",
        "predictions = pooler_bert_model.predict([test_encodings.input_ids[:3], test_encodings.token_type_ids[:3], test_encodings.attention_mask[:3]])"
      ]
    },
    {
      "cell_type": "code",
      "execution_count": 26,
      "metadata": {
        "colab": {
          "base_uri": "https://localhost:8080/"
        },
        "id": "ymGM8QnpchnC",
        "outputId": "30a31063-6402-460b-ac8a-9a74bbf4a504"
      },
      "outputs": [
        {
          "output_type": "execute_result",
          "data": {
            "text/plain": [
              "array([[0.13724   , 0.20161813, 0.19382727, 0.41601625, 0.20512806,\n",
              "        0.19626981, 0.38486695, 0.99627787, 0.9287981 , 0.26547304,\n",
              "        0.39337844, 0.17556295, 0.73945355, 0.44673693, 0.41681552,\n",
              "        0.11861157, 0.7255455 , 0.24266554, 0.31652153, 0.35694423],\n",
              "       [0.43098742, 0.36371642, 0.30984643, 0.43132532, 0.1799477 ,\n",
              "        0.07211769, 0.53664184, 0.31456202, 0.61105436, 0.9990639 ,\n",
              "        0.9618307 , 0.19503857, 0.27734292, 0.26893368, 0.50383365,\n",
              "        0.3000215 , 0.48444003, 0.24859396, 0.62307453, 0.678376  ],\n",
              "       [0.43857577, 0.37375653, 0.19292487, 0.30093238, 0.20481952,\n",
              "        0.17278439, 0.5067927 , 0.44358426, 0.54181176, 0.9242133 ,\n",
              "        0.9991061 , 0.20385586, 0.48828968, 0.49646392, 0.53757447,\n",
              "        0.31208044, 0.50888675, 0.17265022, 0.48325315, 0.3602382 ]],\n",
              "      dtype=float32)"
            ]
          },
          "metadata": {},
          "execution_count": 26
        }
      ],
      "source": [
        "predictions"
      ]
    },
    {
      "cell_type": "code",
      "execution_count": 27,
      "metadata": {
        "colab": {
          "base_uri": "https://localhost:8080/"
        },
        "id": "-ahMJ-zwEiCs",
        "outputId": "3e5df99c-52ff-4782-b066-7c7706c8a3e8"
      },
      "outputs": [
        {
          "output_type": "stream",
          "name": "stdout",
          "text": [
            "59/59 [==============================] - 25s 423ms/step\n"
          ]
        },
        {
          "output_type": "execute_result",
          "data": {
            "text/plain": [
              "<tf.Tensor: shape=(1885,), dtype=int64, numpy=array([ 7,  9, 10, ...,  7,  9,  4])>"
            ]
          },
          "metadata": {},
          "execution_count": 27
        }
      ],
      "source": [
        "#run and capture all predictions from our test set using model.predict\n",
        "### YOUR CODE HERE\n",
        "predictions_model1 = pooler_bert_model.predict([test_encodings.input_ids, test_encodings.token_type_ids, test_encodings.attention_mask])\n",
        "### END YOUR CODE\n",
        "\n",
        "#now we need to get the highest probability in the distribution for each prediction\n",
        "#and store that in a tf.Tensor\n",
        "predictions_model1 = tf.argmax(predictions_model1, axis=-1)\n",
        "predictions_model1"
      ]
    },
    {
      "cell_type": "markdown",
      "metadata": {
        "id": "LGI8oA6fMWTI"
      },
      "source": [
        "There are two ways to see what's going on with our classifier.  Overall accuracy is interesting but it can be misleading.  We need to make sure that each of our categories' prediction performance is operating at an equal or higher level than the overall.\n",
        "\n",
        "Here we'll use the classification report from scikit learn.  It expects two inputs as arrays.  One is the ground truth (y_true) and the other is the associated prediction (y_pred).  This is based on gethering all the predictions from our our test set."
      ]
    },
    {
      "cell_type": "code",
      "source": [
        "help(classification_report)"
      ],
      "metadata": {
        "colab": {
          "base_uri": "https://localhost:8080/"
        },
        "id": "xQzPhzRyOeCr",
        "outputId": "c92acb83-0dbf-49ae-ebe5-6e7ecc33e284"
      },
      "execution_count": 28,
      "outputs": [
        {
          "output_type": "stream",
          "name": "stdout",
          "text": [
            "Help on function classification_report in module sklearn.metrics._classification:\n",
            "\n",
            "classification_report(y_true, y_pred, *, labels=None, target_names=None, sample_weight=None, digits=2, output_dict=False, zero_division='warn')\n",
            "    Build a text report showing the main classification metrics.\n",
            "    \n",
            "    Read more in the :ref:`User Guide <classification_report>`.\n",
            "    \n",
            "    Parameters\n",
            "    ----------\n",
            "    y_true : 1d array-like, or label indicator array / sparse matrix\n",
            "        Ground truth (correct) target values.\n",
            "    \n",
            "    y_pred : 1d array-like, or label indicator array / sparse matrix\n",
            "        Estimated targets as returned by a classifier.\n",
            "    \n",
            "    labels : array-like of shape (n_labels,), default=None\n",
            "        Optional list of label indices to include in the report.\n",
            "    \n",
            "    target_names : list of str of shape (n_labels,), default=None\n",
            "        Optional display names matching the labels (same order).\n",
            "    \n",
            "    sample_weight : array-like of shape (n_samples,), default=None\n",
            "        Sample weights.\n",
            "    \n",
            "    digits : int, default=2\n",
            "        Number of digits for formatting output floating point values.\n",
            "        When ``output_dict`` is ``True``, this will be ignored and the\n",
            "        returned values will not be rounded.\n",
            "    \n",
            "    output_dict : bool, default=False\n",
            "        If True, return output as dict.\n",
            "    \n",
            "        .. versionadded:: 0.20\n",
            "    \n",
            "    zero_division : \"warn\", 0 or 1, default=\"warn\"\n",
            "        Sets the value to return when there is a zero division. If set to\n",
            "        \"warn\", this acts as 0, but warnings are also raised.\n",
            "    \n",
            "    Returns\n",
            "    -------\n",
            "    report : str or dict\n",
            "        Text summary of the precision, recall, F1 score for each class.\n",
            "        Dictionary returned if output_dict is True. Dictionary has the\n",
            "        following structure::\n",
            "    \n",
            "            {'label 1': {'precision':0.5,\n",
            "                         'recall':1.0,\n",
            "                         'f1-score':0.67,\n",
            "                         'support':1},\n",
            "             'label 2': { ... },\n",
            "              ...\n",
            "            }\n",
            "    \n",
            "        The reported averages include macro average (averaging the unweighted\n",
            "        mean per label), weighted average (averaging the support-weighted mean\n",
            "        per label), and sample average (only for multilabel classification).\n",
            "        Micro average (averaging the total true positives, false negatives and\n",
            "        false positives) is only shown for multi-label or multi-class\n",
            "        with a subset of classes, because it corresponds to accuracy\n",
            "        otherwise and would be the same for all metrics.\n",
            "        See also :func:`precision_recall_fscore_support` for more details\n",
            "        on averages.\n",
            "    \n",
            "        Note that in binary classification, recall of the positive class\n",
            "        is also known as \"sensitivity\"; recall of the negative class is\n",
            "        \"specificity\".\n",
            "    \n",
            "    See Also\n",
            "    --------\n",
            "    precision_recall_fscore_support, confusion_matrix,\n",
            "    multilabel_confusion_matrix\n",
            "    \n",
            "    Examples\n",
            "    --------\n",
            "    >>> from sklearn.metrics import classification_report\n",
            "    >>> y_true = [0, 1, 2, 2, 2]\n",
            "    >>> y_pred = [0, 0, 2, 2, 1]\n",
            "    >>> target_names = ['class 0', 'class 1', 'class 2']\n",
            "    >>> print(classification_report(y_true, y_pred, target_names=target_names))\n",
            "                  precision    recall  f1-score   support\n",
            "    <BLANKLINE>\n",
            "         class 0       0.50      1.00      0.67         1\n",
            "         class 1       0.00      0.00      0.00         1\n",
            "         class 2       1.00      0.67      0.80         3\n",
            "    <BLANKLINE>\n",
            "        accuracy                           0.60         5\n",
            "       macro avg       0.50      0.56      0.49         5\n",
            "    weighted avg       0.70      0.60      0.61         5\n",
            "    <BLANKLINE>\n",
            "    >>> y_pred = [1, 1, 0]\n",
            "    >>> y_true = [1, 1, 1]\n",
            "    >>> print(classification_report(y_true, y_pred, labels=[1, 2, 3]))\n",
            "                  precision    recall  f1-score   support\n",
            "    <BLANKLINE>\n",
            "               1       1.00      0.67      0.80         3\n",
            "               2       0.00      0.00      0.00         0\n",
            "               3       0.00      0.00      0.00         0\n",
            "    <BLANKLINE>\n",
            "       micro avg       1.00      0.67      0.80         3\n",
            "       macro avg       0.33      0.22      0.27         3\n",
            "    weighted avg       1.00      0.67      0.80         3\n",
            "    <BLANKLINE>\n",
            "\n"
          ]
        }
      ]
    },
    {
      "cell_type": "code",
      "execution_count": 29,
      "metadata": {
        "colab": {
          "base_uri": "https://localhost:8080/"
        },
        "id": "wPqioIbh2XIE",
        "outputId": "2e30740f-c330-4637-ec1c-ecb6722907b1"
      },
      "outputs": [
        {
          "output_type": "stream",
          "name": "stdout",
          "text": [
            "                          precision    recall  f1-score   support\n",
            "\n",
            "             alt.atheism       0.47      0.48      0.47        96\n",
            "           comp.graphics       0.86      0.67      0.75        90\n",
            " comp.os.ms-windows.misc       0.70      0.56      0.63       101\n",
            "comp.sys.ibm.pc.hardware       0.56      0.48      0.51        82\n",
            "   comp.sys.mac.hardware       0.68      0.64      0.66        90\n",
            "          comp.windows.x       0.75      0.86      0.80        97\n",
            "            misc.forsale       0.91      0.68      0.78       105\n",
            "               rec.autos       0.59      0.81      0.68       114\n",
            "         rec.motorcycles       0.61      0.87      0.72        82\n",
            "      rec.sport.baseball       0.93      0.70      0.80        98\n",
            "        rec.sport.hockey       0.82      0.91      0.87        92\n",
            "               sci.crypt       0.71      0.66      0.68       109\n",
            "         sci.electronics       0.58      0.67      0.62       109\n",
            "                 sci.med       0.69      0.80      0.74       121\n",
            "               sci.space       0.77      0.83      0.80        93\n",
            "  soc.religion.christian       0.65      0.79      0.71        99\n",
            "      talk.politics.guns       0.67      0.62      0.64        81\n",
            "   talk.politics.mideast       0.86      0.86      0.86        84\n",
            "      talk.politics.misc       0.51      0.64      0.56        75\n",
            "      talk.religion.misc       0.00      0.00      0.00        67\n",
            "\n",
            "                accuracy                           0.69      1885\n",
            "               macro avg       0.67      0.68      0.66      1885\n",
            "            weighted avg       0.68      0.69      0.68      1885\n",
            "\n"
          ]
        }
      ],
      "source": [
        "print(classification_report(test_labels, predictions_model1.numpy(), target_names=target_names))"
      ]
    },
    {
      "cell_type": "code",
      "source": [
        "classification_report(test_labels, predictions_model1.numpy(), target_names=target_names, output_dict = True)"
      ],
      "metadata": {
        "colab": {
          "base_uri": "https://localhost:8080/"
        },
        "id": "nN-5cQVW_hVB",
        "outputId": "a1a25fb5-9b9f-4a27-93ec-df52b5058c46"
      },
      "execution_count": 67,
      "outputs": [
        {
          "output_type": "execute_result",
          "data": {
            "text/plain": [
              "{'alt.atheism': {'precision': 0.46938775510204084,\n",
              "  'recall': 0.4791666666666667,\n",
              "  'f1-score': 0.4742268041237114,\n",
              "  'support': 96},\n",
              " 'comp.graphics': {'precision': 0.8571428571428571,\n",
              "  'recall': 0.6666666666666666,\n",
              "  'f1-score': 0.75,\n",
              "  'support': 90},\n",
              " 'comp.os.ms-windows.misc': {'precision': 0.7037037037037037,\n",
              "  'recall': 0.5643564356435643,\n",
              "  'f1-score': 0.6263736263736264,\n",
              "  'support': 101},\n",
              " 'comp.sys.ibm.pc.hardware': {'precision': 0.5571428571428572,\n",
              "  'recall': 0.47560975609756095,\n",
              "  'f1-score': 0.5131578947368421,\n",
              "  'support': 82},\n",
              " 'comp.sys.mac.hardware': {'precision': 0.6823529411764706,\n",
              "  'recall': 0.6444444444444445,\n",
              "  'f1-score': 0.6628571428571428,\n",
              "  'support': 90},\n",
              " 'comp.windows.x': {'precision': 0.7545454545454545,\n",
              "  'recall': 0.8556701030927835,\n",
              "  'f1-score': 0.8019323671497585,\n",
              "  'support': 97},\n",
              " 'misc.forsale': {'precision': 0.9102564102564102,\n",
              "  'recall': 0.6761904761904762,\n",
              "  'f1-score': 0.7759562841530054,\n",
              "  'support': 105},\n",
              " 'rec.autos': {'precision': 0.5859872611464968,\n",
              "  'recall': 0.8070175438596491,\n",
              "  'f1-score': 0.6789667896678966,\n",
              "  'support': 114},\n",
              " 'rec.motorcycles': {'precision': 0.6120689655172413,\n",
              "  'recall': 0.8658536585365854,\n",
              "  'f1-score': 0.7171717171717171,\n",
              "  'support': 82},\n",
              " 'rec.sport.baseball': {'precision': 0.9324324324324325,\n",
              "  'recall': 0.7040816326530612,\n",
              "  'f1-score': 0.8023255813953488,\n",
              "  'support': 98},\n",
              " 'rec.sport.hockey': {'precision': 0.8235294117647058,\n",
              "  'recall': 0.9130434782608695,\n",
              "  'f1-score': 0.865979381443299,\n",
              "  'support': 92},\n",
              " 'sci.crypt': {'precision': 0.7058823529411765,\n",
              "  'recall': 0.6605504587155964,\n",
              "  'f1-score': 0.6824644549763033,\n",
              "  'support': 109},\n",
              " 'sci.electronics': {'precision': 0.5793650793650794,\n",
              "  'recall': 0.6697247706422018,\n",
              "  'f1-score': 0.6212765957446809,\n",
              "  'support': 109},\n",
              " 'sci.med': {'precision': 0.6928571428571428,\n",
              "  'recall': 0.8016528925619835,\n",
              "  'f1-score': 0.7432950191570881,\n",
              "  'support': 121},\n",
              " 'sci.space': {'precision': 0.77,\n",
              "  'recall': 0.8279569892473119,\n",
              "  'f1-score': 0.7979274611398963,\n",
              "  'support': 93},\n",
              " 'soc.religion.christian': {'precision': 0.65,\n",
              "  'recall': 0.7878787878787878,\n",
              "  'f1-score': 0.7123287671232875,\n",
              "  'support': 99},\n",
              " 'talk.politics.guns': {'precision': 0.6666666666666666,\n",
              "  'recall': 0.6172839506172839,\n",
              "  'f1-score': 0.641025641025641,\n",
              "  'support': 81},\n",
              " 'talk.politics.mideast': {'precision': 0.8571428571428571,\n",
              "  'recall': 0.8571428571428571,\n",
              "  'f1-score': 0.8571428571428571,\n",
              "  'support': 84},\n",
              " 'talk.politics.misc': {'precision': 0.5052631578947369,\n",
              "  'recall': 0.64,\n",
              "  'f1-score': 0.5647058823529412,\n",
              "  'support': 75},\n",
              " 'talk.religion.misc': {'precision': 0.0,\n",
              "  'recall': 0.0,\n",
              "  'f1-score': 0.0,\n",
              "  'support': 67},\n",
              " 'accuracy': 0.6880636604774536,\n",
              " 'macro avg': {'precision': 0.6657863653399165,\n",
              "  'recall': 0.6757145784459175,\n",
              "  'f1-score': 0.6644557133867522,\n",
              "  'support': 1885},\n",
              " 'weighted avg': {'precision': 0.6774860346520971,\n",
              "  'recall': 0.6880636604774536,\n",
              "  'f1-score': 0.6763114301389259,\n",
              "  'support': 1885}}"
            ]
          },
          "metadata": {},
          "execution_count": 67
        }
      ]
    },
    {
      "cell_type": "markdown",
      "metadata": {
        "id": "ddMMQ2vBOJKj"
      },
      "source": [
        "**QUESTION:** 2.4 What is the key difference between the macro average F1 score and the weighted average F1 score?\n",
        "**In Macro-average F1 score, all classes contribute equally to the final average value. This does not work for imbalanced data set. For weighted average F1 score considers each representative class's weighted contribution towards the average.**\n",
        "\n",
        "**QUESTION:** 2.5 What is the macro average F1 score you get from the classification report?\n",
        "**0.66446**\n",
        "\n",
        "Now we'll generate another very valuable visualization of what's happening with our classifier -- a confusion matrix."
      ]
    },
    {
      "cell_type": "code",
      "source": [
        "help(tf.math.confusion_matrix)"
      ],
      "metadata": {
        "colab": {
          "base_uri": "https://localhost:8080/"
        },
        "id": "H2hxeGj1Oxjz",
        "outputId": "b3f3d401-a5c9-43d7-9b04-38213344d541"
      },
      "execution_count": 30,
      "outputs": [
        {
          "output_type": "stream",
          "name": "stdout",
          "text": [
            "Help on function confusion_matrix in module tensorflow.python.ops.confusion_matrix:\n",
            "\n",
            "confusion_matrix(labels, predictions, num_classes=None, weights=None, dtype=tf.int32, name=None)\n",
            "    Computes the confusion matrix from predictions and labels.\n",
            "    \n",
            "    The matrix columns represent the prediction labels and the rows represent the\n",
            "    real labels. The confusion matrix is always a 2-D array of shape `[n, n]`,\n",
            "    where `n` is the number of valid labels for a given classification task. Both\n",
            "    prediction and labels must be 1-D arrays of the same shape in order for this\n",
            "    function to work.\n",
            "    \n",
            "    If `num_classes` is `None`, then `num_classes` will be set to one plus the\n",
            "    maximum value in either predictions or labels. Class labels are expected to\n",
            "    start at 0. For example, if `num_classes` is 3, then the possible labels\n",
            "    would be `[0, 1, 2]`.\n",
            "    \n",
            "    If `weights` is not `None`, then each prediction contributes its\n",
            "    corresponding weight to the total value of the confusion matrix cell.\n",
            "    \n",
            "    For example:\n",
            "    \n",
            "    ```python\n",
            "      tf.math.confusion_matrix([1, 2, 4], [2, 2, 4]) ==>\n",
            "          [[0 0 0 0 0]\n",
            "           [0 0 1 0 0]\n",
            "           [0 0 1 0 0]\n",
            "           [0 0 0 0 0]\n",
            "           [0 0 0 0 1]]\n",
            "    ```\n",
            "    \n",
            "    Note that the possible labels are assumed to be `[0, 1, 2, 3, 4]`,\n",
            "    resulting in a 5x5 confusion matrix.\n",
            "    \n",
            "    Args:\n",
            "      labels: 1-D `Tensor` of real labels for the classification task.\n",
            "      predictions: 1-D `Tensor` of predictions for a given classification.\n",
            "      num_classes: The possible number of labels the classification task can\n",
            "                   have. If this value is not provided, it will be calculated\n",
            "                   using both predictions and labels array.\n",
            "      weights: An optional `Tensor` whose shape matches `predictions`.\n",
            "      dtype: Data type of the confusion matrix.\n",
            "      name: Scope name.\n",
            "    \n",
            "    Returns:\n",
            "      A `Tensor` of type `dtype` with shape `[n, n]` representing the confusion\n",
            "      matrix, where `n` is the number of possible labels in the classification\n",
            "      task.\n",
            "    \n",
            "    Raises:\n",
            "      ValueError: If both predictions and labels are not 1-D vectors and have\n",
            "        mismatched shapes, or if `weights` is not `None` and its shape doesn't\n",
            "        match `predictions`.\n",
            "\n"
          ]
        }
      ]
    },
    {
      "cell_type": "code",
      "execution_count": 31,
      "metadata": {
        "id": "udwdL6iKEh7b",
        "colab": {
          "base_uri": "https://localhost:8080/"
        },
        "outputId": "a6b4ee23-4ebb-40cf-ea92-8325c6c43cff"
      },
      "outputs": [
        {
          "output_type": "execute_result",
          "data": {
            "text/plain": [
              "<tf.Tensor: shape=(20,), dtype=int32, numpy=\n",
              "array([46,  0,  0,  0,  0,  0,  0,  3,  3,  1,  0,  4,  0,  8,  1, 15,  1,\n",
              "        4,  9,  1], dtype=int32)>"
            ]
          },
          "metadata": {},
          "execution_count": 31
        }
      ],
      "source": [
        "cm_orig = tf.math.confusion_matrix(test_labels, predictions_model1)\n",
        "cm_orig[0]"
      ]
    },
    {
      "cell_type": "code",
      "source": [
        "test_labels.shape, cm_orig.shape"
      ],
      "metadata": {
        "colab": {
          "base_uri": "https://localhost:8080/"
        },
        "id": "Zv-E5X8PNQ63",
        "outputId": "e8edf09a-2cd7-4354-cd9f-67f8b2919aec"
      },
      "execution_count": 32,
      "outputs": [
        {
          "output_type": "execute_result",
          "data": {
            "text/plain": [
              "((1885,), TensorShape([20, 20]))"
            ]
          },
          "metadata": {},
          "execution_count": 32
        }
      ]
    },
    {
      "cell_type": "code",
      "source": [
        "cm = cm_orig /cm_orig.numpy().sum(axis=1)[:, tf.newaxis]\n",
        "cm[0]"
      ],
      "metadata": {
        "colab": {
          "base_uri": "https://localhost:8080/"
        },
        "id": "u9_GtH_tdwfa",
        "outputId": "3ee4bec6-bc68-4e2f-8e12-75b8595ae597"
      },
      "execution_count": 33,
      "outputs": [
        {
          "output_type": "execute_result",
          "data": {
            "text/plain": [
              "<tf.Tensor: shape=(20,), dtype=float64, numpy=\n",
              "array([0.47916667, 0.        , 0.        , 0.        , 0.        ,\n",
              "       0.        , 0.        , 0.03125   , 0.03125   , 0.01041667,\n",
              "       0.        , 0.04166667, 0.        , 0.08333333, 0.01041667,\n",
              "       0.15625   , 0.01041667, 0.04166667, 0.09375   , 0.01041667])>"
            ]
          },
          "metadata": {},
          "execution_count": 33
        }
      ]
    },
    {
      "cell_type": "code",
      "source": [
        "cm_orig[-1]"
      ],
      "metadata": {
        "colab": {
          "base_uri": "https://localhost:8080/"
        },
        "id": "EPXkiD5nJ9Fg",
        "outputId": "5aa08b46-3cef-4169-cef3-cc74935e51af"
      },
      "execution_count": 34,
      "outputs": [
        {
          "output_type": "execute_result",
          "data": {
            "text/plain": [
              "<tf.Tensor: shape=(20,), dtype=int32, numpy=\n",
              "array([25,  0,  0,  0,  0,  0,  0,  0,  1,  0,  1,  0,  0,  4,  1, 22,  7,\n",
              "        3,  3,  0], dtype=int32)>"
            ]
          },
          "metadata": {},
          "execution_count": 34
        }
      ]
    },
    {
      "cell_type": "code",
      "source": [
        "cm[-1]"
      ],
      "metadata": {
        "colab": {
          "base_uri": "https://localhost:8080/"
        },
        "id": "2VsFTdNfKCTF",
        "outputId": "0d78486e-823f-4469-9cd7-54f576f12eb2"
      },
      "execution_count": 35,
      "outputs": [
        {
          "output_type": "execute_result",
          "data": {
            "text/plain": [
              "<tf.Tensor: shape=(20,), dtype=float64, numpy=\n",
              "array([0.37313433, 0.        , 0.        , 0.        , 0.        ,\n",
              "       0.        , 0.        , 0.        , 0.01492537, 0.        ,\n",
              "       0.01492537, 0.        , 0.        , 0.05970149, 0.01492537,\n",
              "       0.32835821, 0.10447761, 0.04477612, 0.04477612, 0.        ])>"
            ]
          },
          "metadata": {},
          "execution_count": 35
        }
      ]
    },
    {
      "cell_type": "markdown",
      "metadata": {
        "id": "_9YL2AlQOY4Y"
      },
      "source": [
        "And now we'll display it!"
      ]
    },
    {
      "cell_type": "code",
      "execution_count": 36,
      "metadata": {
        "colab": {
          "base_uri": "https://localhost:8080/",
          "height": 585
        },
        "id": "gh0Bxg-8EhzZ",
        "outputId": "cfbc0651-ced4-4e41-f6dc-0d407dbd8782"
      },
      "outputs": [
        {
          "output_type": "execute_result",
          "data": {
            "text/plain": [
              "Text(159.0, 0.5, 'True')"
            ]
          },
          "metadata": {},
          "execution_count": 36
        },
        {
          "output_type": "display_data",
          "data": {
            "text/plain": [
              "<Figure size 1440x504 with 2 Axes>"
            ],
            "image/png": "[encoded data removed]"
          },
          "metadata": {
            "needs_background": "light"
          }
        }
      ],
      "source": [
        "plt.figure(figsize=(20,7))\n",
        "sns.heatmap(\n",
        "    cm, annot=True,\n",
        "    xticklabels=target_names,\n",
        "    yticklabels=target_names)\n",
        "plt.xlabel(\"Predicted\")\n",
        "plt.ylabel(\"True\")"
      ]
    },
    {
      "cell_type": "markdown",
      "metadata": {
        "id": "6OKhCGVDOgdl"
      },
      "source": [
        "### 3. Classification using two stages\n",
        "\n",
        "Okay, not bad.  As you can see, some categories are easier to distinguish than others. Look for the class with the lowest F1 score (it should be the one at the bottom of the list). In the confusion matrix, which other class is that one being mistaken for most often?\n",
        "\n",
        "You might notice that the categories in this dataset are somewhat heirarchical. There are more obvious differences between groups of news categories (e.g. computers vs recreation) and then subtler differences between categories within those groups (e.g. PC vs Mac, within computers).\n",
        "\n",
        "When this happens, one idea is to train a series of models, to first separate out the more obvious groups of classes, and then use more specialized sub-models to classify only a subset of the classes. Let's try that here."
      ]
    },
    {
      "cell_type": "markdown",
      "metadata": {
        "id": "E0qA4QBstsin"
      },
      "source": [
        "#### Step 1: New model with 19 classes\n",
        "\n",
        "For simplicity, we'll just combine two categories in our first step. We'll replace the label of the last class with the label of the class it's most often mistaken for. (That way, we'll have labels from 0 to 18 instead of 0 to 19, and don't have to renumber everything, though you would have to if you group them more.)"
      ]
    },
    {
      "cell_type": "code",
      "source": [
        "set(test_labels)"
      ],
      "metadata": {
        "colab": {
          "base_uri": "https://localhost:8080/"
        },
        "id": "96EKeupH4hob",
        "outputId": "0c0ef06d-5ac9-4115-c6f5-18b96de96dd8"
      },
      "execution_count": 37,
      "outputs": [
        {
          "output_type": "execute_result",
          "data": {
            "text/plain": [
              "{0, 1, 2, 3, 4, 5, 6, 7, 8, 9, 10, 11, 12, 13, 14, 15, 16, 17, 18, 19}"
            ]
          },
          "metadata": {},
          "execution_count": 37
        }
      ]
    },
    {
      "cell_type": "code",
      "source": [
        "from sklearn.metrics import precision_score\n",
        "from sklearn.metrics import confusion_matrix\n",
        "from sklearn.metrics import recall_score\n",
        "from sklearn.metrics import accuracy_score\n",
        "from sklearn.metrics import f1_score\n",
        "\n",
        "# Calculate precision scores\n",
        "classification_precision_scores = precision_score(test_labels, predictions_model1.numpy(), average = None)\n",
        "y_pos = np.arange(len(classification_precision_scores))\n",
        "\n",
        "plt.bar(y_pos, classification_precision_scores, align = 'center', alpha = 0.5)\n",
        "plt.xticks(y_pos, set(test_labels), rotation = 90)\n",
        "plt.ylabel('Precision Score')\n",
        "plt.title('Precision scores per class')\n",
        "\n",
        "print(\"Off the positive predictions, % of the right predictions per class\")\n",
        "for prec, lbl in list(zip(classification_precision_scores, set(test_labels))):\n",
        "    print(f\"{lbl} class has precision : {prec}\")\n",
        "plt.show(block = False)\n",
        "\n",
        "# Calculate recall scores\n",
        "classification_recall_scores = recall_score(test_labels, predictions_model1.numpy(), average = None)\n",
        "y_pos = np.arange(len(classification_precision_scores))\n",
        "\n",
        "plt.bar(y_pos, classification_recall_scores, align = 'center', alpha = 0.5)\n",
        "plt.xticks(y_pos, set(test_labels), rotation = 90)\n",
        "plt.ylabel('Recall Score')\n",
        "plt.title('Recall scores per class')\n",
        "\n",
        "print(\"Off the positive cases, % of the right predictions per class\")\n",
        "for prec, lbl in list(zip(classification_precision_scores, set(test_labels))):\n",
        "    print(f\"{lbl} class has recall : {prec}\")\n",
        "plt.show(block = False)\n",
        "\n",
        "# Calculate F1 scores\n",
        "classification_f1_scores = f1_score(test_labels, predictions_model1.numpy(), average = None)\n",
        "y_pos = np.arange(len(classification_f1_scores))\n",
        "\n",
        "plt.bar(y_pos, classification_f1_scores, align = 'center', alpha = 0.5)\n",
        "plt.xticks(y_pos, set(test_labels), rotation = 90)\n",
        "plt.ylabel('F1 Score')\n",
        "plt.title('F1 scores per class')\n",
        "\n",
        "print(\"F1 scores per class\")\n",
        "for prec, lbl in list(zip(classification_f1_scores, set(test_labels))):\n",
        "    print(f\"{lbl} class has f1 score : {prec}\")\n",
        "plt.show(block = False)"
      ],
      "metadata": {
        "colab": {
          "base_uri": "https://localhost:8080/",
          "height": 1000
        },
        "id": "z9EbRp_A4_yZ",
        "outputId": "80a44912-5fdb-4a4a-fc84-b1747becc76e"
      },
      "execution_count": 38,
      "outputs": [
        {
          "output_type": "stream",
          "name": "stdout",
          "text": [
            "Off the positive predictions, % of the right predictions per class\n",
            "0 class has precision : 0.46938775510204084\n",
            "1 class has precision : 0.8571428571428571\n",
            "2 class has precision : 0.7037037037037037\n",
            "3 class has precision : 0.5571428571428572\n",
            "4 class has precision : 0.6823529411764706\n",
            "5 class has precision : 0.7545454545454545\n",
            "6 class has precision : 0.9102564102564102\n",
            "7 class has precision : 0.5859872611464968\n",
            "8 class has precision : 0.6120689655172413\n",
            "9 class has precision : 0.9324324324324325\n",
            "10 class has precision : 0.8235294117647058\n",
            "11 class has precision : 0.7058823529411765\n",
            "12 class has precision : 0.5793650793650794\n",
            "13 class has precision : 0.6928571428571428\n",
            "14 class has precision : 0.77\n",
            "15 class has precision : 0.65\n",
            "16 class has precision : 0.6666666666666666\n",
            "17 class has precision : 0.8571428571428571\n",
            "18 class has precision : 0.5052631578947369\n",
            "19 class has precision : 0.0\n"
          ]
        },
        {
          "output_type": "display_data",
          "data": {
            "text/plain": [
              "<Figure size 432x288 with 1 Axes>"
            ],
            "image/png": "[encoded data removed]"
          },
          "metadata": {
            "needs_background": "light"
          }
        },
        {
          "output_type": "stream",
          "name": "stdout",
          "text": [
            "Off the positive cases, % of the right predictions per class\n",
            "0 class has recall : 0.46938775510204084\n",
            "1 class has recall : 0.8571428571428571\n",
            "2 class has recall : 0.7037037037037037\n",
            "3 class has recall : 0.5571428571428572\n",
            "4 class has recall : 0.6823529411764706\n",
            "5 class has recall : 0.7545454545454545\n",
            "6 class has recall : 0.9102564102564102\n",
            "7 class has recall : 0.5859872611464968\n",
            "8 class has recall : 0.6120689655172413\n",
            "9 class has recall : 0.9324324324324325\n",
            "10 class has recall : 0.8235294117647058\n",
            "11 class has recall : 0.7058823529411765\n",
            "12 class has recall : 0.5793650793650794\n",
            "13 class has recall : 0.6928571428571428\n",
            "14 class has recall : 0.77\n",
            "15 class has recall : 0.65\n",
            "16 class has recall : 0.6666666666666666\n",
            "17 class has recall : 0.8571428571428571\n",
            "18 class has recall : 0.5052631578947369\n",
            "19 class has recall : 0.0\n"
          ]
        },
        {
          "output_type": "display_data",
          "data": {
            "text/plain": [
              "<Figure size 432x288 with 1 Axes>"
            ],
            "image/png": "[encoded data removed]"
          },
          "metadata": {
            "needs_background": "light"
          }
        },
        {
          "output_type": "stream",
          "name": "stdout",
          "text": [
            "F1 scores per class\n",
            "0 class has f1 score : 0.4742268041237114\n",
            "1 class has f1 score : 0.75\n",
            "2 class has f1 score : 0.6263736263736264\n",
            "3 class has f1 score : 0.5131578947368421\n",
            "4 class has f1 score : 0.6628571428571428\n",
            "5 class has f1 score : 0.8019323671497585\n",
            "6 class has f1 score : 0.7759562841530054\n",
            "7 class has f1 score : 0.6789667896678966\n",
            "8 class has f1 score : 0.7171717171717171\n",
            "9 class has f1 score : 0.8023255813953488\n",
            "10 class has f1 score : 0.865979381443299\n",
            "11 class has f1 score : 0.6824644549763033\n",
            "12 class has f1 score : 0.6212765957446809\n",
            "13 class has f1 score : 0.7432950191570881\n",
            "14 class has f1 score : 0.7979274611398963\n",
            "15 class has f1 score : 0.7123287671232875\n",
            "16 class has f1 score : 0.641025641025641\n",
            "17 class has f1 score : 0.8571428571428571\n",
            "18 class has f1 score : 0.5647058823529412\n",
            "19 class has f1 score : 0.0\n"
          ]
        },
        {
          "output_type": "display_data",
          "data": {
            "text/plain": [
              "<Figure size 432x288 with 1 Axes>"
            ],
            "image/png": "[encoded data removed]"
          },
          "metadata": {
            "needs_background": "light"
          }
        }
      ]
    },
    {
      "cell_type": "code",
      "execution_count": 39,
      "metadata": {
        "id": "b0rAv6nLmrwN"
      },
      "outputs": [],
      "source": [
        "label_to_replace = 19\n",
        "\n",
        "# label_to_replace_with = ...\n",
        "### YOUR CODE HERE\n",
        "label_to_replace_with = 15\n",
        "\n",
        "### END YOUR CODE\n",
        "\n",
        "train_labels_19class = train_labels.copy()\n",
        "train_labels_19class[train_labels_19class == label_to_replace] = label_to_replace_with\n",
        "\n",
        "valid_labels_19class = npvalid_labels.copy()\n",
        "valid_labels_19class[valid_labels_19class == label_to_replace] = label_to_replace_with\n",
        "\n",
        "test_labels_19class = test_labels.copy()\n",
        "test_labels_19class[test_labels_19class == label_to_replace] = label_to_replace_with"
      ]
    },
    {
      "cell_type": "markdown",
      "metadata": {
        "id": "dSQd_UDQhmQd"
      },
      "source": [
        "Now let's create a new model with the same architecture, but to predict probabilities for 19 classes instead of 20. We're using all of the data in this first step, so we'll use the encodings we already preprocessed as inputs, but use the new labels that only have 19 classes."
      ]
    },
    {
      "cell_type": "code",
      "execution_count": 40,
      "metadata": {
        "id": "s7hR7ahmmrYL",
        "colab": {
          "base_uri": "https://localhost:8080/"
        },
        "outputId": "da105929-3cea-4b8d-e76f-0733141afcad"
      },
      "outputs": [
        {
          "output_type": "stream",
          "name": "stderr",
          "text": [
            "Some layers from the model checkpoint at bert-base-cased were not used when initializing TFBertModel: ['mlm___cls', 'nsp___cls']\n",
            "- This IS expected if you are initializing TFBertModel from the checkpoint of a model trained on another task or with another architecture (e.g. initializing a BertForSequenceClassification model from a BertForPreTraining model).\n",
            "- This IS NOT expected if you are initializing TFBertModel from the checkpoint of a model that you expect to be exactly identical (initializing a BertForSequenceClassification model from a BertForSequenceClassification model).\n",
            "All the layers of TFBertModel were initialized from the model checkpoint at bert-base-cased.\n",
            "If your task is similar to the task the model of the checkpoint was trained on, you can already use TFBertModel for predictions without further training.\n"
          ]
        }
      ],
      "source": [
        "bert_model_19class = create_bert_multiclass_model(checkpoint = model_checkpoint, num_classes=19)"
      ]
    },
    {
      "cell_type": "code",
      "execution_count": 41,
      "metadata": {
        "id": "O4Qsai6UmrOj",
        "colab": {
          "base_uri": "https://localhost:8080/"
        },
        "outputId": "3fad0924-08d7-46a1-a3af-3708aee29fa3"
      },
      "outputs": [
        {
          "output_type": "stream",
          "name": "stderr",
          "text": [
            "/usr/local/lib/python3.8/dist-packages/keras/backend.py:5585: UserWarning: \"`sparse_categorical_crossentropy` received `from_logits=True`, but the `output` argument was produced by a Softmax activation and thus does not represent logits. Was this intended?\n",
            "  output, from_logits = _get_logits(\n"
          ]
        },
        {
          "output_type": "stream",
          "name": "stdout",
          "text": [
            "2000/2000 [==============================] - 722s 343ms/step - loss: 1.3328 - accuracy: 0.6069 - val_loss: 1.0318 - val_accuracy: 0.6993\n"
          ]
        }
      ],
      "source": [
        "bert_model_19class_history = bert_model_19class.fit([train_encodings.input_ids, train_encodings.token_type_ids, train_encodings.attention_mask], \n",
        "                                                  train_labels_19class,   \n",
        "                                                  validation_data=([valid_encodings.input_ids, valid_encodings.token_type_ids, valid_encodings.attention_mask],\n",
        "                                                                   valid_labels_19class),    \n",
        "                                                  batch_size=8,\n",
        "                                                  epochs=1)"
      ]
    },
    {
      "cell_type": "code",
      "execution_count": 42,
      "metadata": {
        "id": "BkW9hMq9g9dV",
        "colab": {
          "base_uri": "https://localhost:8080/"
        },
        "outputId": "20e42dbe-e2da-4c8b-8df6-5f59fac6a692"
      },
      "outputs": [
        {
          "output_type": "stream",
          "name": "stdout",
          "text": [
            "59/59 [==============================] - 25s 418ms/step - loss: nan - accuracy: 0.6679\n",
            "Test loss: nan\n",
            "Test accuracy: 0.6679044961929321\n"
          ]
        }
      ],
      "source": [
        "#Evaluate the fine tuned 19-class model against the test data with 19-class labels\n",
        "### YOUR CODE HERE\n",
        "score_19class = bert_model_19class.evaluate([test_encodings.input_ids, test_encodings.token_type_ids, test_encodings.attention_mask], \n",
        "                                                  test_labels) \n",
        "\n",
        "print('Test loss:', score_19class[0]) \n",
        "print('Test accuracy:', score_19class[1])\n",
        "### END YOUR CODE"
      ]
    },
    {
      "cell_type": "markdown",
      "metadata": {
        "id": "DPaUdul4hlp0"
      },
      "source": [
        "**QUESTION:** \n",
        "\n",
        "3.1 What is the test accuracy you get when you run the new first stage model with only 19 classes?\n",
        "**0.66790**"
      ]
    },
    {
      "cell_type": "code",
      "execution_count": 43,
      "metadata": {
        "id": "TrWtaXSug9UR",
        "colab": {
          "base_uri": "https://localhost:8080/"
        },
        "outputId": "d71f1bb5-cf95-4864-dabb-783a70e1e5b0"
      },
      "outputs": [
        {
          "output_type": "stream",
          "name": "stdout",
          "text": [
            "59/59 [==============================] - 27s 419ms/step\n"
          ]
        },
        {
          "output_type": "execute_result",
          "data": {
            "text/plain": [
              "<tf.Tensor: shape=(1885,), dtype=int64, numpy=array([ 7,  9, 10, ..., 15,  9,  4])>"
            ]
          },
          "metadata": {},
          "execution_count": 43
        }
      ],
      "source": [
        "#run and capture all the predictions from the 19 class data\n",
        "### YOUR CODE HERE \n",
        "predictions_19class = bert_model_19class.predict([test_encodings.input_ids, test_encodings.token_type_ids, test_encodings.attention_mask])\n",
        "predictions_19class = tf.argmax(predictions_19class, axis=-1)\n",
        "### END YOUR CODE\n",
        "predictions_19class"
      ]
    },
    {
      "cell_type": "code",
      "source": [
        "predictions_19class"
      ],
      "metadata": {
        "id": "Kj8j_rie1Rc4",
        "outputId": "2527790c-19cd-45d7-f9d9-3cbe70423bc2",
        "colab": {
          "base_uri": "https://localhost:8080/"
        }
      },
      "execution_count": 44,
      "outputs": [
        {
          "output_type": "execute_result",
          "data": {
            "text/plain": [
              "<tf.Tensor: shape=(1885,), dtype=int64, numpy=array([ 7,  9, 10, ..., 15,  9,  4])>"
            ]
          },
          "metadata": {},
          "execution_count": 44
        }
      ]
    },
    {
      "cell_type": "code",
      "execution_count": 45,
      "metadata": {
        "id": "-nAlDV7K8T4q",
        "colab": {
          "base_uri": "https://localhost:8080/"
        },
        "outputId": "b2bd9d38-de35-45ae-d9c6-b7eff5d8cadb"
      },
      "outputs": [
        {
          "output_type": "stream",
          "name": "stdout",
          "text": [
            "                          precision    recall  f1-score   support\n",
            "\n",
            "             alt.atheism       0.39      0.66      0.49        96\n",
            "           comp.graphics       0.66      0.74      0.70        90\n",
            " comp.os.ms-windows.misc       0.68      0.48      0.56       101\n",
            "comp.sys.ibm.pc.hardware       0.49      0.67      0.56        82\n",
            "   comp.sys.mac.hardware       0.89      0.61      0.72        90\n",
            "          comp.windows.x       0.76      0.76      0.76        97\n",
            "            misc.forsale       0.96      0.61      0.74       105\n",
            "               rec.autos       0.91      0.75      0.82       114\n",
            "         rec.motorcycles       0.78      0.71      0.74        82\n",
            "      rec.sport.baseball       0.97      0.66      0.79        98\n",
            "        rec.sport.hockey       0.87      0.88      0.88        92\n",
            "               sci.crypt       0.54      0.79      0.64       109\n",
            "         sci.electronics       0.65      0.61      0.63       109\n",
            "                 sci.med       0.90      0.70      0.79       121\n",
            "               sci.space       0.87      0.82      0.84        93\n",
            "    ** COMBINED CLASS **       0.54      0.59      0.56       166\n",
            "      talk.politics.guns       0.65      0.51      0.57        81\n",
            "   talk.politics.mideast       0.80      0.83      0.81        84\n",
            "      talk.politics.misc       0.39      0.55      0.46        75\n",
            "\n",
            "                accuracy                           0.68      1885\n",
            "               macro avg       0.72      0.68      0.69      1885\n",
            "            weighted avg       0.72      0.68      0.69      1885\n",
            "\n"
          ]
        }
      ],
      "source": [
        "target_names_19class = target_names[:label_to_replace_with] \\\n",
        "                     + ['** COMBINED CLASS **'] \\\n",
        "                     + target_names[label_to_replace_with+1:19]\n",
        "print(classification_report(test_labels_19class, predictions_19class,\n",
        "                            target_names=target_names_19class))"
      ]
    },
    {
      "cell_type": "code",
      "source": [
        "classification_report(test_labels_19class, predictions_19class,target_names=target_names_19class, output_dict=True)"
      ],
      "metadata": {
        "colab": {
          "base_uri": "https://localhost:8080/"
        },
        "id": "HFY7o6leWRaZ",
        "outputId": "48b9cedf-2069-43d3-a68c-2428ff22cd8d"
      },
      "execution_count": 46,
      "outputs": [
        {
          "output_type": "execute_result",
          "data": {
            "text/plain": [
              "{'alt.atheism': {'precision': 0.38650306748466257,\n",
              "  'recall': 0.65625,\n",
              "  'f1-score': 0.48648648648648646,\n",
              "  'support': 96},\n",
              " 'comp.graphics': {'precision': 0.6568627450980392,\n",
              "  'recall': 0.7444444444444445,\n",
              "  'f1-score': 0.6979166666666667,\n",
              "  'support': 90},\n",
              " 'comp.os.ms-windows.misc': {'precision': 0.676056338028169,\n",
              "  'recall': 0.4752475247524752,\n",
              "  'f1-score': 0.5581395348837209,\n",
              "  'support': 101},\n",
              " 'comp.sys.ibm.pc.hardware': {'precision': 0.48672566371681414,\n",
              "  'recall': 0.6707317073170732,\n",
              "  'f1-score': 0.5641025641025641,\n",
              "  'support': 82},\n",
              " 'comp.sys.mac.hardware': {'precision': 0.8870967741935484,\n",
              "  'recall': 0.6111111111111112,\n",
              "  'f1-score': 0.7236842105263158,\n",
              "  'support': 90},\n",
              " 'comp.windows.x': {'precision': 0.7628865979381443,\n",
              "  'recall': 0.7628865979381443,\n",
              "  'f1-score': 0.7628865979381443,\n",
              "  'support': 97},\n",
              " 'misc.forsale': {'precision': 0.9552238805970149,\n",
              "  'recall': 0.6095238095238096,\n",
              "  'f1-score': 0.7441860465116279,\n",
              "  'support': 105},\n",
              " 'rec.autos': {'precision': 0.9052631578947369,\n",
              "  'recall': 0.7543859649122807,\n",
              "  'f1-score': 0.8229665071770335,\n",
              "  'support': 114},\n",
              " 'rec.motorcycles': {'precision': 0.7837837837837838,\n",
              "  'recall': 0.7073170731707317,\n",
              "  'f1-score': 0.7435897435897435,\n",
              "  'support': 82},\n",
              " 'rec.sport.baseball': {'precision': 0.9701492537313433,\n",
              "  'recall': 0.6632653061224489,\n",
              "  'f1-score': 0.7878787878787878,\n",
              "  'support': 98},\n",
              " 'rec.sport.hockey': {'precision': 0.8709677419354839,\n",
              "  'recall': 0.8804347826086957,\n",
              "  'f1-score': 0.8756756756756756,\n",
              "  'support': 92},\n",
              " 'sci.crypt': {'precision': 0.5375,\n",
              "  'recall': 0.7889908256880734,\n",
              "  'f1-score': 0.6394052044609666,\n",
              "  'support': 109},\n",
              " 'sci.electronics': {'precision': 0.6534653465346535,\n",
              "  'recall': 0.6055045871559633,\n",
              "  'f1-score': 0.6285714285714286,\n",
              "  'support': 109},\n",
              " 'sci.med': {'precision': 0.9042553191489362,\n",
              "  'recall': 0.7024793388429752,\n",
              "  'f1-score': 0.7906976744186046,\n",
              "  'support': 121},\n",
              " 'sci.space': {'precision': 0.8735632183908046,\n",
              "  'recall': 0.8172043010752689,\n",
              "  'f1-score': 0.8444444444444446,\n",
              "  'support': 93},\n",
              " '** COMBINED CLASS **': {'precision': 0.5355191256830601,\n",
              "  'recall': 0.5903614457831325,\n",
              "  'f1-score': 0.5616045845272207,\n",
              "  'support': 166},\n",
              " 'talk.politics.guns': {'precision': 0.6507936507936508,\n",
              "  'recall': 0.5061728395061729,\n",
              "  'f1-score': 0.5694444444444445,\n",
              "  'support': 81},\n",
              " 'talk.politics.mideast': {'precision': 0.7954545454545454,\n",
              "  'recall': 0.8333333333333334,\n",
              "  'f1-score': 0.8139534883720929,\n",
              "  'support': 84},\n",
              " 'talk.politics.misc': {'precision': 0.3904761904761905,\n",
              "  'recall': 0.5466666666666666,\n",
              "  'f1-score': 0.4555555555555556,\n",
              "  'support': 75},\n",
              " 'accuracy': 0.6785145888594164,\n",
              " 'macro avg': {'precision': 0.7201340210991358,\n",
              "  'recall': 0.6803321926290948,\n",
              "  'f1-score': 0.6879573498016592,\n",
              "  'support': 1885},\n",
              " 'weighted avg': {'precision': 0.7211735464288066,\n",
              "  'recall': 0.6785145888594164,\n",
              "  'f1-score': 0.6876864560425671,\n",
              "  'support': 1885}}"
            ]
          },
          "metadata": {},
          "execution_count": 46
        }
      ]
    },
    {
      "cell_type": "markdown",
      "metadata": {
        "id": "Eh6nKilF8V7b"
      },
      "source": [
        "**QUESTION:** \n",
        "\n",
        "3.2 What is the F1 score you get for the combined class when you run the new first stage model with only 19 classes?\n",
        "**Macro average F1 score 0.68796 and weighted average F1 score is 0.68769.**"
      ]
    },
    {
      "cell_type": "markdown",
      "metadata": {
        "id": "TTZcBibxR153"
      },
      "source": [
        "#### Step 2: New model with only the two classes combined in step one\n",
        "\n",
        "Now, our first stage model is able to determine which text is one of the two often confused classes, but we need to train a more specific model to distinguish between just these two classes. Ideally, this model will only focus on the more subtle differences between these two news categories, since it doesn't have to learn everything else about the other categories.\n",
        "\n",
        "For this model, we're only going to train using the text examples that are one of the two confused categories. We'll keep the encodings we already tokenized, so we need to separate out the input_ids, token_type_ids, and attention_mask for just the rows that have one of these two labels."
      ]
    },
    {
      "cell_type": "code",
      "source": [
        "label_to_replace_with, label_to_replace"
      ],
      "metadata": {
        "colab": {
          "base_uri": "https://localhost:8080/"
        },
        "id": "nqqK1IlhcTLQ",
        "outputId": "855f9726-7677-4019-e4e2-c3123bcf51fc"
      },
      "execution_count": 47,
      "outputs": [
        {
          "output_type": "execute_result",
          "data": {
            "text/plain": [
              "(15, 19)"
            ]
          },
          "metadata": {},
          "execution_count": 47
        }
      ]
    },
    {
      "cell_type": "code",
      "execution_count": 48,
      "metadata": {
        "id": "N4TmPG6B1mz0"
      },
      "outputs": [],
      "source": [
        "train_mask_2class = (train_labels_19class == label_to_replace_with)\n",
        "train_encodings_2class = {'input_ids': train_encodings.input_ids[train_mask_2class],\n",
        "                          'token_type_ids': train_encodings.token_type_ids[train_mask_2class],\n",
        "                          'attention_mask': train_encodings.attention_mask[train_mask_2class]}\n",
        "train_labels_2class = train_labels.copy()[train_mask_2class]\n",
        "train_labels_2class = (train_labels_2class == label_to_replace_with).astype(int)\n",
        "\n",
        "valid_mask_2class = (valid_labels_19class == label_to_replace_with)\n",
        "valid_encodings_2class = {'input_ids': valid_encodings.input_ids[valid_mask_2class],\n",
        "                          'token_type_ids': valid_encodings.token_type_ids[valid_mask_2class],\n",
        "                          'attention_mask': valid_encodings.attention_mask[valid_mask_2class]}\n",
        "valid_labels_2class = npvalid_labels.copy()[valid_mask_2class]\n",
        "valid_labels_2class = (valid_labels_2class == label_to_replace_with).astype(int)\n",
        "\n",
        "test_mask_2class = (test_labels_19class == label_to_replace_with)\n",
        "test_encodings_2class = {'input_ids': test_encodings.input_ids[test_mask_2class],\n",
        "                          'token_type_ids': test_encodings.token_type_ids[test_mask_2class],\n",
        "                          'attention_mask': test_encodings.attention_mask[test_mask_2class]}\n",
        "test_labels_2class = test_labels.copy()[test_mask_2class]\n",
        "test_labels_2class = (test_labels_2class == label_to_replace_with).astype(int)"
      ]
    },
    {
      "cell_type": "code",
      "execution_count": 49,
      "metadata": {
        "id": "xwTzhDVp9YTT",
        "colab": {
          "base_uri": "https://localhost:8080/"
        },
        "outputId": "842c1460-50b9-40d7-e180-c4b71e3236ac"
      },
      "outputs": [
        {
          "output_type": "execute_result",
          "data": {
            "text/plain": [
              "(1376,)"
            ]
          },
          "metadata": {},
          "execution_count": 49
        }
      ],
      "source": [
        "train_labels_2class.shape"
      ]
    },
    {
      "cell_type": "code",
      "execution_count": 50,
      "metadata": {
        "id": "O76HzIGh9dct",
        "colab": {
          "base_uri": "https://localhost:8080/"
        },
        "outputId": "dfe9508f-f622-43ad-de0c-dbd68218dd09"
      },
      "outputs": [
        {
          "output_type": "execute_result",
          "data": {
            "text/plain": [
              "array([0, 0, 0, ..., 1, 1, 1])"
            ]
          },
          "metadata": {},
          "execution_count": 50
        }
      ],
      "source": [
        "train_labels_2class"
      ]
    },
    {
      "cell_type": "markdown",
      "metadata": {
        "id": "3c7M7sFCucU8"
      },
      "source": [
        "Create and train a new model with the same architecture as before, except that it only predicts two classes. (Note that we could change this to a binary prediction model, but we'll keep it multiclass for consistency here.)"
      ]
    },
    {
      "cell_type": "code",
      "execution_count": 51,
      "metadata": {
        "id": "dNe5zVOflttk",
        "colab": {
          "base_uri": "https://localhost:8080/"
        },
        "outputId": "57036bb4-6846-491a-ab36-2eac5c9a45c3"
      },
      "outputs": [
        {
          "output_type": "stream",
          "name": "stderr",
          "text": [
            "Some layers from the model checkpoint at bert-base-cased were not used when initializing TFBertModel: ['mlm___cls', 'nsp___cls']\n",
            "- This IS expected if you are initializing TFBertModel from the checkpoint of a model trained on another task or with another architecture (e.g. initializing a BertForSequenceClassification model from a BertForPreTraining model).\n",
            "- This IS NOT expected if you are initializing TFBertModel from the checkpoint of a model that you expect to be exactly identical (initializing a BertForSequenceClassification model from a BertForSequenceClassification model).\n",
            "All the layers of TFBertModel were initialized from the model checkpoint at bert-base-cased.\n",
            "If your task is similar to the task the model of the checkpoint was trained on, you can already use TFBertModel for predictions without further training.\n"
          ]
        }
      ],
      "source": [
        "bert_model_2class = create_bert_multiclass_model(checkpoint=model_checkpoint, num_classes=2)"
      ]
    },
    {
      "cell_type": "code",
      "execution_count": 52,
      "metadata": {
        "id": "-F5DM3zGlvSd",
        "colab": {
          "base_uri": "https://localhost:8080/"
        },
        "outputId": "9e80bc44-ec1c-4033-91cd-38a04e7e73d8"
      },
      "outputs": [
        {
          "output_type": "stream",
          "name": "stderr",
          "text": [
            "/usr/local/lib/python3.8/dist-packages/keras/backend.py:5585: UserWarning: \"`sparse_categorical_crossentropy` received `from_logits=True`, but the `output` argument was produced by a Softmax activation and thus does not represent logits. Was this intended?\n",
            "  output, from_logits = _get_logits(\n"
          ]
        },
        {
          "output_type": "stream",
          "name": "stdout",
          "text": [
            "172/172 [==============================] - 106s 374ms/step - loss: 0.7075 - accuracy: 0.6410 - val_loss: 0.5215 - val_accuracy: 0.7470\n"
          ]
        }
      ],
      "source": [
        "bert_model_2class_history = bert_model_2class.fit([train_encodings_2class['input_ids'],\n",
        "                                                   train_encodings_2class['token_type_ids'],\n",
        "                                                   train_encodings_2class['attention_mask']], \n",
        "                                                  train_labels_2class,   \n",
        "                                                  validation_data=([valid_encodings_2class['input_ids'],\n",
        "                                                                    valid_encodings_2class['token_type_ids'],\n",
        "                                                                    valid_encodings_2class['attention_mask']],\n",
        "                                                                   valid_labels_2class),    \n",
        "                                                  batch_size=8, \n",
        "                                                  epochs=1)"
      ]
    },
    {
      "cell_type": "code",
      "execution_count": 53,
      "metadata": {
        "id": "UNEUeufxp1g5",
        "colab": {
          "base_uri": "https://localhost:8080/"
        },
        "outputId": "6855f10e-4a78-4393-cab8-756c2e77fe07"
      },
      "outputs": [
        {
          "output_type": "stream",
          "name": "stdout",
          "text": [
            "6/6 [==============================] - 2s 343ms/step - loss: 0.5159 - accuracy: 0.7530\n",
            "Test loss: 0.5158659815788269\n",
            "Test accuracy: 0.7530120611190796\n"
          ]
        }
      ],
      "source": [
        "#Evaluate the two-class model against the two-class test set.\n",
        "### YOUR CODE HERE\n",
        "score_2class = bert_model_2class.evaluate([test_encodings_2class['input_ids'], test_encodings_2class['token_type_ids'], test_encodings_2class['attention_mask']], \n",
        "                                                  test_labels_2class) \n",
        "\n",
        "### END YOUR CODE\n",
        "print('Test loss:', score_2class[0]) \n",
        "print('Test accuracy:', score_2class[1])"
      ]
    },
    {
      "cell_type": "code",
      "execution_count": 54,
      "metadata": {
        "id": "aPuN8_gaESJZ",
        "colab": {
          "base_uri": "https://localhost:8080/"
        },
        "outputId": "405fa4ca-8780-4c79-9717-5ab8a97d506a"
      },
      "outputs": [
        {
          "output_type": "stream",
          "name": "stdout",
          "text": [
            "6/6 [==============================] - 5s 347ms/step\n"
          ]
        },
        {
          "output_type": "execute_result",
          "data": {
            "text/plain": [
              "<tf.Tensor: shape=(166,), dtype=int64, numpy=\n",
              "array([1, 0, 0, 1, 0, 1, 1, 1, 0, 1, 1, 0, 1, 1, 0, 0, 1, 1, 1, 1, 1, 0,\n",
              "       1, 0, 1, 1, 1, 1, 1, 1, 1, 1, 1, 1, 0, 1, 1, 1, 1, 1, 1, 1, 1, 1,\n",
              "       1, 1, 1, 0, 1, 1, 0, 1, 0, 0, 0, 1, 1, 1, 1, 0, 1, 0, 1, 1, 1, 1,\n",
              "       1, 1, 1, 1, 1, 1, 0, 0, 0, 1, 1, 0, 1, 1, 1, 0, 0, 1, 1, 0, 0, 1,\n",
              "       1, 1, 1, 1, 1, 1, 0, 1, 1, 1, 1, 1, 1, 0, 1, 1, 0, 0, 1, 1, 1, 1,\n",
              "       1, 0, 1, 1, 0, 1, 1, 0, 1, 1, 1, 0, 0, 1, 0, 1, 1, 1, 1, 1, 0, 1,\n",
              "       1, 1, 1, 0, 1, 1, 1, 1, 0, 1, 0, 1, 1, 1, 0, 1, 1, 1, 0, 0, 1, 0,\n",
              "       0, 1, 1, 1, 1, 1, 0, 0, 0, 1, 1, 0])>"
            ]
          },
          "metadata": {},
          "execution_count": 54
        }
      ],
      "source": [
        "#run and capture all the predictions from the 2-class test data\n",
        "### YOUR CODE HERE \n",
        "predictions_2class = bert_model_2class.predict([test_encodings_2class['input_ids'], test_encodings_2class['token_type_ids'], test_encodings_2class['attention_mask']])\n",
        "predictions_2class = tf.argmax(predictions_2class, axis=-1)\n",
        "### END YOUR CODE\n",
        "predictions_2class"
      ]
    },
    {
      "cell_type": "code",
      "source": [
        "label_to_replace"
      ],
      "metadata": {
        "colab": {
          "base_uri": "https://localhost:8080/"
        },
        "id": "s5-MGSPHeamO",
        "outputId": "5f15ff47-ecf5-4056-c4fb-5e30fa8e1996"
      },
      "execution_count": 55,
      "outputs": [
        {
          "output_type": "execute_result",
          "data": {
            "text/plain": [
              "19"
            ]
          },
          "metadata": {},
          "execution_count": 55
        }
      ]
    },
    {
      "cell_type": "code",
      "execution_count": 56,
      "metadata": {
        "id": "zEnHd3ijESPH",
        "colab": {
          "base_uri": "https://localhost:8080/"
        },
        "outputId": "3add3c71-f3bd-44b9-ea81-538be8956ed3"
      },
      "outputs": [
        {
          "output_type": "stream",
          "name": "stdout",
          "text": [
            "                        precision    recall  f1-score   support\n",
            "\n",
            "soc.religion.christian       0.77      0.55      0.64        67\n",
            "    talk.religion.misc       0.75      0.89      0.81        99\n",
            "\n",
            "              accuracy                           0.75       166\n",
            "             macro avg       0.76      0.72      0.73       166\n",
            "          weighted avg       0.76      0.75      0.74       166\n",
            "\n"
          ]
        }
      ],
      "source": [
        "# Run the sklearn classification_report again with the 2-class predictions\n",
        "### YOUR CODE HERE\n",
        "target_names_2class = [target_names[label_to_replace_with]] + [target_names[label_to_replace]]\n",
        "print(classification_report(test_labels_2class, predictions_2class.numpy(),target_names=target_names_2class))\n",
        "### END YOUR CODE"
      ]
    },
    {
      "cell_type": "code",
      "source": [
        "classification_report(test_labels_2class, predictions_2class.numpy(),target_names=target_names_2class, output_dict=True)"
      ],
      "metadata": {
        "colab": {
          "base_uri": "https://localhost:8080/"
        },
        "id": "CLrASyNXe4kc",
        "outputId": "1a278a37-067c-497e-b34b-6681faf2efde"
      },
      "execution_count": 57,
      "outputs": [
        {
          "output_type": "execute_result",
          "data": {
            "text/plain": [
              "{'soc.religion.christian': {'precision': 0.7708333333333334,\n",
              "  'recall': 0.5522388059701493,\n",
              "  'f1-score': 0.6434782608695653,\n",
              "  'support': 67},\n",
              " 'talk.religion.misc': {'precision': 0.7457627118644068,\n",
              "  'recall': 0.8888888888888888,\n",
              "  'f1-score': 0.8110599078341013,\n",
              "  'support': 99},\n",
              " 'accuracy': 0.7530120481927711,\n",
              " 'macro avg': {'precision': 0.75829802259887,\n",
              "  'recall': 0.7205638474295191,\n",
              "  'f1-score': 0.7272690843518332,\n",
              "  'support': 166},\n",
              " 'weighted avg': {'precision': 0.7558815771560821,\n",
              "  'recall': 0.7530120481927711,\n",
              "  'f1-score': 0.7434215322520294,\n",
              "  'support': 166}}"
            ]
          },
          "metadata": {},
          "execution_count": 57
        }
      ]
    },
    {
      "cell_type": "markdown",
      "metadata": {
        "id": "1aTDW3JBut1P"
      },
      "source": [
        "**QUESTION:** \n",
        "\n",
        "3.3 What is the macro average F1 score you get when you run the new second stage model with only 2 classes?\n",
        "**Macro average F1 score 0.72727 and weighted average F1 score is 0.74342.**"
      ]
    },
    {
      "cell_type": "markdown",
      "metadata": {
        "id": "90DMNd_Nuzgz"
      },
      "source": [
        "#### Step 3: Combine the predicted labels from the two steps\n",
        "\n",
        "To combine our models into two steps, start with the predictions from the first step. Keep all predicted labels except the ones with a predicted value of label_to_replace_with (the label we gave to both of the confused classes in the first step).\n",
        "\n",
        "Wherever the first model predicted the combined category, we'll replace the predictions with the label from the second model. If we used these models in inference, we'd only send an example to the second model if the first model predicted that it was from the combined class."
      ]
    },
    {
      "cell_type": "code",
      "execution_count": 58,
      "metadata": {
        "id": "bmSd5B8M-YPh"
      },
      "outputs": [],
      "source": [
        "predictions_2class = predictions_2class.numpy()\n",
        "predictions_2class[predictions_2class == 0] = label_to_replace\n",
        "predictions_2class[predictions_2class == 1] = label_to_replace_with"
      ]
    },
    {
      "cell_type": "code",
      "execution_count": 59,
      "metadata": {
        "id": "czf7y8Ha5hu-",
        "colab": {
          "base_uri": "https://localhost:8080/"
        },
        "outputId": "e39084f5-0672-4bcc-ef46-d510d06a4fa9"
      },
      "outputs": [
        {
          "output_type": "execute_result",
          "data": {
            "text/plain": [
              "array([ 7,  9, 10, ..., 15,  9,  4])"
            ]
          },
          "metadata": {},
          "execution_count": 59
        }
      ],
      "source": [
        "predictions_2steps = predictions_19class.numpy()\n",
        "predictions_2steps[test_mask_2class] = predictions_2class\n",
        "\n",
        "predictions_2steps"
      ]
    },
    {
      "cell_type": "markdown",
      "metadata": {
        "id": "dxUBa20mv0Iq"
      },
      "source": [
        "Now let's look at the classification report and confusion matrix, using the combined predictions from our two step model (compared to the original labels). Did the overall results get better?"
      ]
    },
    {
      "cell_type": "code",
      "execution_count": 68,
      "metadata": {
        "id": "bbtOD45X6QgO",
        "colab": {
          "base_uri": "https://localhost:8080/"
        },
        "outputId": "956178bf-e8ce-4727-ff3e-c5ff926a8a88"
      },
      "outputs": [
        {
          "output_type": "execute_result",
          "data": {
            "text/plain": [
              "{'alt.atheism': {'precision': 0.5478260869565217,\n",
              "  'recall': 0.65625,\n",
              "  'f1-score': 0.5971563981042655,\n",
              "  'support': 96},\n",
              " 'comp.graphics': {'precision': 0.6633663366336634,\n",
              "  'recall': 0.7444444444444445,\n",
              "  'f1-score': 0.7015706806282722,\n",
              "  'support': 90},\n",
              " 'comp.os.ms-windows.misc': {'precision': 0.676056338028169,\n",
              "  'recall': 0.4752475247524752,\n",
              "  'f1-score': 0.5581395348837209,\n",
              "  'support': 101},\n",
              " 'comp.sys.ibm.pc.hardware': {'precision': 0.48672566371681414,\n",
              "  'recall': 0.6707317073170732,\n",
              "  'f1-score': 0.5641025641025641,\n",
              "  'support': 82},\n",
              " 'comp.sys.mac.hardware': {'precision': 0.8870967741935484,\n",
              "  'recall': 0.6111111111111112,\n",
              "  'f1-score': 0.7236842105263158,\n",
              "  'support': 90},\n",
              " 'comp.windows.x': {'precision': 0.7628865979381443,\n",
              "  'recall': 0.7628865979381443,\n",
              "  'f1-score': 0.7628865979381443,\n",
              "  'support': 97},\n",
              " 'misc.forsale': {'precision': 0.9552238805970149,\n",
              "  'recall': 0.6095238095238096,\n",
              "  'f1-score': 0.7441860465116279,\n",
              "  'support': 105},\n",
              " 'rec.autos': {'precision': 0.9052631578947369,\n",
              "  'recall': 0.7543859649122807,\n",
              "  'f1-score': 0.8229665071770335,\n",
              "  'support': 114},\n",
              " 'rec.motorcycles': {'precision': 0.7837837837837838,\n",
              "  'recall': 0.7073170731707317,\n",
              "  'f1-score': 0.7435897435897435,\n",
              "  'support': 82},\n",
              " 'rec.sport.baseball': {'precision': 0.9701492537313433,\n",
              "  'recall': 0.6632653061224489,\n",
              "  'f1-score': 0.7878787878787878,\n",
              "  'support': 98},\n",
              " 'rec.sport.hockey': {'precision': 0.8709677419354839,\n",
              "  'recall': 0.8804347826086957,\n",
              "  'f1-score': 0.8756756756756756,\n",
              "  'support': 92},\n",
              " 'sci.crypt': {'precision': 0.5477707006369427,\n",
              "  'recall': 0.7889908256880734,\n",
              "  'f1-score': 0.6466165413533834,\n",
              "  'support': 109},\n",
              " 'sci.electronics': {'precision': 0.6534653465346535,\n",
              "  'recall': 0.6055045871559633,\n",
              "  'f1-score': 0.6285714285714286,\n",
              "  'support': 109},\n",
              " 'sci.med': {'precision': 0.9139784946236559,\n",
              "  'recall': 0.7024793388429752,\n",
              "  'f1-score': 0.7943925233644861,\n",
              "  'support': 121},\n",
              " 'sci.space': {'precision': 0.8941176470588236,\n",
              "  'recall': 0.8172043010752689,\n",
              "  'f1-score': 0.8539325842696629,\n",
              "  'support': 93},\n",
              " 'soc.religion.christian': {'precision': 0.43349753694581283,\n",
              "  'recall': 0.8888888888888888,\n",
              "  'f1-score': 0.5827814569536425,\n",
              "  'support': 99},\n",
              " 'talk.politics.guns': {'precision': 0.7068965517241379,\n",
              "  'recall': 0.5061728395061729,\n",
              "  'f1-score': 0.5899280575539568,\n",
              "  'support': 81},\n",
              " 'talk.politics.mideast': {'precision': 0.7954545454545454,\n",
              "  'recall': 0.8333333333333334,\n",
              "  'f1-score': 0.8139534883720929,\n",
              "  'support': 84},\n",
              " 'talk.politics.misc': {'precision': 0.422680412371134,\n",
              "  'recall': 0.5466666666666666,\n",
              "  'f1-score': 0.4767441860465116,\n",
              "  'support': 75},\n",
              " 'talk.religion.misc': {'precision': 0.7708333333333334,\n",
              "  'recall': 0.5522388059701493,\n",
              "  'f1-score': 0.6434782608695653,\n",
              "  'support': 67},\n",
              " 'accuracy': 0.6928381962864721,\n",
              " 'macro avg': {'precision': 0.7324020092046133,\n",
              "  'recall': 0.6888538954514354,\n",
              "  'f1-score': 0.6956117637185442,\n",
              "  'support': 1885},\n",
              " 'weighted avg': {'precision': 0.7386300301532465,\n",
              "  'recall': 0.6928381962864721,\n",
              "  'f1-score': 0.7003649965482258,\n",
              "  'support': 1885}}"
            ]
          },
          "metadata": {},
          "execution_count": 68
        }
      ],
      "source": [
        "# Run the sklearn classification_report with all 20 classes from the 2-step predictions\n",
        "### YOUR CODE HERE\n",
        "classification_report(test_labels, predictions_2steps, target_names=target_names, output_dict=True)\n",
        "### END YOUR CODE"
      ]
    },
    {
      "cell_type": "code",
      "execution_count": 69,
      "metadata": {
        "id": "GoxOfneGDG60"
      },
      "outputs": [],
      "source": [
        "cm = tf.math.confusion_matrix(test_labels, predictions_2steps)\n",
        "cm = cm/cm.numpy().sum(axis=1)[:, tf.newaxis]"
      ]
    },
    {
      "cell_type": "code",
      "execution_count": 70,
      "metadata": {
        "id": "of7FDh3CDHGy",
        "colab": {
          "base_uri": "https://localhost:8080/",
          "height": 585
        },
        "outputId": "301b9904-7f48-4633-8177-0e004e785084"
      },
      "outputs": [
        {
          "output_type": "execute_result",
          "data": {
            "text/plain": [
              "Text(159.0, 0.5, 'True')"
            ]
          },
          "metadata": {},
          "execution_count": 70
        },
        {
          "output_type": "display_data",
          "data": {
            "text/plain": [
              "<Figure size 1440x504 with 2 Axes>"
            ],
            "image/png": "[encoded data removed]"
          },
          "metadata": {
            "needs_background": "light"
          }
        }
      ],
      "source": [
        "plt.figure(figsize=(20,7))\n",
        "sns.heatmap(\n",
        "    cm, annot=True,\n",
        "    xticklabels=target_names,\n",
        "    yticklabels=target_names)\n",
        "plt.xlabel(\"Predicted\")\n",
        "plt.ylabel(\"True\")"
      ]
    },
    {
      "cell_type": "markdown",
      "metadata": {
        "id": "8jXBmgS2iXDI"
      },
      "source": [
        "**QUESTION:**\n",
        "\n",
        "3.4 What is the macro average F1 score you get from the combined two-step model? **0.69561**\n",
        "\n",
        "3.5 What is the difference in points between the macro weighted F1 score for the original model and the combined two-step model?\n",
        "\n",
        "3.6 What is the new F1 score for the last category (i.e. label_to_replace, the one that had the lowest F1 score in the original model)?\n",
        "\n",
        "3.7 What is the new F1 score for the other category that you combined with the last category in the two-step model (i.e. label_to_replace_with)?\n",
        "\n",
        "3.8 Which metric (precision or recall) is now lower for the other category (i.e. label_to_replace_with)?"
      ]
    },
    {
      "cell_type": "markdown",
      "metadata": {
        "id": "coyVPop8SuG9"
      },
      "source": [
        "### Look at examples of misclassifications\n",
        "\n",
        "What happened in the two-step model? Did everything improve, or did something get worse? We were concerned about the last news category, which had a very low F1 score in the original model. In the two-step model, the F1 score for that category should have gone up.\n",
        "\n",
        "But for the other category that the original model often confused with the last category, the F1 score might have gone down. In particular, one of the two component metrics, precision or recall, probably went down. (We ask you which one went down in question 3.7 above.)\n",
        "\n",
        "We might be able to tell what happened from the confusion matrix, but it's also always a good idea to look at actual examples that were misclassified, to see if we can spot any patterns. We can also isolate more specific examples, like test examples that the original model got right, but the two-step model got wrong. Let's do that below.\n",
        "\n",
        "**CRITICAL NOTE:**  If nothing prints out when you run the code below, there are two possibilities.  The first is that there is some error in the code or variable names you have created in earlier cells.  The second possibility is that given your current train, validation, and test split, the second model predicted the \"label_to_replace_with\" class and the first model did so too.  This is unlikely but it is possible. In either case, you must go back and re-run the *ENTIRE* notebook to make sure you get a new train, validation, and test split which will allow you to observe the first and second models disagreeing. Please make sure you enter the metric values from this new run into your answers file."
      ]
    },
    {
      "cell_type": "code",
      "execution_count": 63,
      "metadata": {
        "id": "Lj98aBdmNMrE"
      },
      "outputs": [],
      "source": [
        "# Make a vector the length of our test set, with 1 if the second model predicted the\n",
        "# \"label_to_replace_with\" class, and 0s otherwise\n",
        "select_predictions = (predictions_2steps == label_to_replace_with)\n"
      ]
    },
    {
      "cell_type": "code",
      "execution_count": 64,
      "metadata": {
        "id": "vaBVzlNXdsWN"
      },
      "outputs": [],
      "source": [
        "# Now only keep a 1 if that was not the correct label, i.e. it was a false positive\n",
        "select_predictions = select_predictions * (test_labels != label_to_replace_with)"
      ]
    },
    {
      "cell_type": "code",
      "execution_count": 65,
      "metadata": {
        "id": "E05K9v-RdsLT"
      },
      "outputs": [],
      "source": [
        "# And now only keep a 1 if the original model predicted the correct label instead\n",
        "select_predictions = select_predictions * (test_labels == predictions_model1.numpy())"
      ]
    },
    {
      "cell_type": "code",
      "execution_count": 66,
      "metadata": {
        "id": "x4dEwbnc_6qr",
        "colab": {
          "base_uri": "https://localhost:8080/"
        },
        "outputId": "6478ce9d-9cbd-45ee-f458-16e0e2320ac4"
      },
      "outputs": [
        {
          "output_type": "stream",
          "name": "stdout",
          "text": [
            "Prediction: model1 = alt.atheism, model2 = soc.religion.christian):\n",
            "Text: rh> From: house@helios.usq.EDU.AU (ron house) rh> Newsgroups: alt.atheism rh> Organization: University of Southern Queensland    rh> I _know_ I shouldn't get involved, but...   :-)  rh> [bit deleted]  [rest of rant deleted]  This is a standard argument for fundies.  Can you spot the falicy? The statement is arguing from the assumption that Jesus actually existed.  So far, they have not been able to offer real proof of that existance.  Most of them try it using the (very) flawed writings of Josh McDowell and others to prove it, but those writers use VERY flawed sources.  (If they are real sources at all, some are not.)  When will they ever learn to do real research, instead of believing the drivel sold in the Christian bookstores.  rh> Righto, DAN, try this one with your Cornflakes...  rh> The book says that Muhammad was either a liar, or he was rh> crazy ( a  modern day Mad Mahdi) or he was actually who he rh> said he was. Some reasons why he wouldn't be a liar are as rh> follows.  Who\n",
            "\n",
            "\n",
            "Prediction: model1 = rec.autos, model2 = soc.religion.christian):\n",
            "Text: \n",
            "\n",
            "\n",
            "Prediction: model1 = rec.autos, model2 = soc.religion.christian):\n",
            "Text: \n",
            "\n",
            "\n",
            "Prediction: model1 = rec.autos, model2 = soc.religion.christian):\n",
            "Text: \n",
            "\n",
            "\n",
            "Prediction: model1 = sci.med, model2 = soc.religion.christian):\n",
            "Text: Sounds as though his heart's in the right place, but he is not adept at expressing it.  What you received was _meant_ to be a profound apology. Apologies delivered by overworked shy people often come out like that... \n",
            "\n",
            "\n",
            "Prediction: model1 = alt.atheism, model2 = soc.religion.christian):\n",
            "Text: This is the story of Kent, the archetype Finn, that lives in the  Bay Area, and tried to purchase Thomas Paine's \"Age of Reason\". This man was driving around, to Staceys, to Books Inc, to \"Well, Cleanlighted Place\", to Daltons, to various other places.  When he asked for this book, the well educated American book store assistants in most placed asked him to check out the thriller section, or then they said that his book has not been published yet, but they should receive the book soon. In some places the assistants bluntly said that they don't know of such an author, or that he is not  a well known living author, so they don't keep copies of his books.  Such is the life and times of America, 200+ years after the revolution.   Cheers, Kent\n",
            "\n",
            "\n",
            "Prediction: model1 = rec.autos, model2 = soc.religion.christian):\n",
            "Text: \n",
            "\n",
            "\n",
            "Prediction: model1 = sci.med, model2 = soc.religion.christian):\n",
            "Text:  How long ago was this?  When I said you'd get counselling, I meant if you did it now.  Long ago, practices varied and agencies had to gear up to provide the counselling.   Good for her.  What we don't need is everyone suing community service agencies that provide blood that people need.  Testing is not fool proof. The fact that he got AIDS from a transfusion (if he really did) does not mean the Red Cross screwed up.  Prior to 1983 or so, there wasn't a good test and a lot of bad blood got through.  This wasn't the fault of the Red Cross.  When did he get the transfusions?  --  ---------------------------------------------------------------------------- Gordon Banks  N3JXP      | \"Skepticism is the chastity of the intellect, and geb@cadre.dsl.pitt.edu   |  it is shameful to surrender it too soon.\" \n",
            "\n",
            "\n",
            "Prediction: model1 = rec.autos, model2 = soc.religion.christian):\n",
            "Text: \n",
            "\n",
            "\n",
            "Prediction: model1 = rec.autos, model2 = soc.religion.christian):\n",
            "Text: \n",
            "\n",
            "\n",
            "Prediction: model1 = rec.sport.hockey, model2 = soc.religion.christian):\n",
            "Text: Vielen dank Desperate Fan\n",
            "\n",
            "\n",
            "Prediction: model1 = rec.autos, model2 = soc.religion.christian):\n",
            "Text:  \n",
            "\n",
            "\n",
            "Prediction: model1 = sci.space, model2 = soc.religion.christian):\n",
            "Text: Picture our universe floating like a log in a river.  As the log floats down the river, it occasionally strikes rocks, the bank, the bottom, other logs.  When this collission occurs, kinetic energy is translated into heat, the log degrades, gets scraped up, and other energy  translaions occur.  The distribution of damage to the log depends on the shape of the log.  However, to a very small virus in a mite on the head of a termite in the center of the log, the shock waves from the collissions would appear uniformly random in direction.  This is my theory for GRB.  They are evidence of our universe interacting with other universes!  Why not!  Makes just as much sense as the GRB coming from the Oort cloud!  The log theory of universes can't be ruled out!  Of course, I'm a layman in the physics world.  You  physicists out there, Tell me about this !!!! \n",
            "\n",
            "\n",
            "Prediction: model1 = rec.autos, model2 = soc.religion.christian):\n",
            "Text:   \n",
            "\n",
            "\n",
            "Prediction: model1 = rec.motorcycles, model2 = soc.religion.christian):\n",
            "Text: Around here, even mentioning the DoD without a number in your .sig can get you soundly FAQed.  Notice, however, that I myself did not FAQ the careful monk.  He was, after all, waiting to press return.   Jack Waters II DoD#1919\n",
            "\n",
            "\n",
            "Prediction: model1 = sci.med, model2 = soc.religion.christian):\n",
            "Text:   Larry:  The subject content IS serious; as is the question.  On one hand you state that \"things have changed dramatically\" but, at the same time nothing you \"can think of has changed\".  Your girlfriend seems to want to see a counselor, but you don't.    I'd recommend that you examine your hesitation to see a counselor.  It's a very good environment to examine issues.    The fact of the matter is:  your girlfriend has a different perception than you.  The TWO of you need to address the issue in order to resolve it.  Please consider going to a counselor with your girlfriend.  What could it possibly hurt?\n",
            "\n",
            "\n"
          ]
        }
      ],
      "source": [
        "# Print out the original and clean text of the examples that met the above conditions\n",
        "for i in np.where(select_predictions)[0]:\n",
        "\n",
        "    print('Prediction: model1 = %s, model2 = %s):\\nText: %s\\n\\n' %\n",
        "          (target_names[predictions_model1[i]],\n",
        "           target_names[predictions_2steps[i]],\n",
        "           test_texts[i][:1000].replace('\\n', ' ')))"
      ]
    },
    {
      "cell_type": "markdown",
      "metadata": {
        "id": "ppncPlCzzz0B"
      },
      "source": [
        "**QUESTION:** \n",
        "\n",
        "4.1 Why do you think the two-step model got these examples wrong, when the original model got them right?\n",
        "\n",
        "- A. The two-step model saw less examples of the \"label_to_replace\" class, because we replaced them with the \"label_to_replace_with\" examples. So it didn't learn the kind of text in that class as well as the original model.\n",
        "\n",
        "- B. In the two-step process, the step 1 model overpredicted the combined class, and the step 2 model overpredicted the \"label_to_replace_with\" class. A third class is now getting mistaken more often for the \"label_to_replace_with\" class, than in the original model.\n",
        "\n",
        "- C. It's probably just random that the original model got these specific examples right and the two-step model got them wrong.\n",
        "\n",
        "\n",
        "\n",
        "4.2 Is there anything you might try next, to try to make the two-step model better?\n",
        "\n",
        "- A. Try to balance the training data across classes at each step, or add class weights when calling model.fit.\n",
        "\n",
        "- B. Try to combine another similar category with the two easily confused ones, for a step 1 model with 18 classes and the step 2 model with 3 classes.\n",
        "\n",
        "- C. Try both A and B"
      ]
    }
  ],
  "metadata": {
    "accelerator": "GPU",
    "colab": {
      "provenance": [],
      "include_colab_link": true
    },
    "gpuClass": "standard",
    "kernelspec": {
      "display_name": "Python 3",
      "language": "python",
      "name": "python3"
    },
    "language_info": {
      "codemirror_mode": {
        "name": "ipython",
        "version": 3
      },
      "file_extension": ".py",
      "mimetype": "text/x-python",
      "name": "python",
      "nbconvert_exporter": "python",
      "pygments_lexer": "ipython3",
      "version": "3.8.5"
    },
    "widgets": {
      "application/vnd.jupyter.widget-state+json": {
        "da6afb4e41bc425a82428789a8f974e1": {
          "model_module": "@jupyter-widgets/controls",
          "model_name": "HBoxModel",
          "model_module_version": "1.5.0",
          "state": {
            "_dom_classes": [],
            "_model_module": "@jupyter-widgets/controls",
            "_model_module_version": "1.5.0",
            "_model_name": "HBoxModel",
            "_view_count": null,
            "_view_module": "@jupyter-widgets/controls",
            "_view_module_version": "1.5.0",
            "_view_name": "HBoxView",
            "box_style": "",
            "children": [
              "IPY_MODEL_2967fd4fe4224a628eb20009f61d282e",
              "IPY_MODEL_fe3a5dfd418649f88f8ebaef7abb322c",
              "IPY_MODEL_f838cc82f14b4fe4956123a60428aa7b"
            ],
            "layout": "IPY_MODEL_02b079cae0354659828c1419d036915a"
          }
        },
        "2967fd4fe4224a628eb20009f61d282e": {
          "model_module": "@jupyter-widgets/controls",
          "model_name": "HTMLModel",
          "model_module_version": "1.5.0",
          "state": {
            "_dom_classes": [],
            "_model_module": "@jupyter-widgets/controls",
            "_model_module_version": "1.5.0",
            "_model_name": "HTMLModel",
            "_view_count": null,
            "_view_module": "@jupyter-widgets/controls",
            "_view_module_version": "1.5.0",
            "_view_name": "HTMLView",
            "description": "",
            "description_tooltip": null,
            "layout": "IPY_MODEL_cc4af7119350449e9ed9370b89f29173",
            "placeholder": "​",
            "style": "IPY_MODEL_9d029c11db7b4bf3bffce7f825e2b48b",
            "value": "Downloading (…)solve/main/vocab.txt: 100%"
          }
        },
        "fe3a5dfd418649f88f8ebaef7abb322c": {
          "model_module": "@jupyter-widgets/controls",
          "model_name": "FloatProgressModel",
          "model_module_version": "1.5.0",
          "state": {
            "_dom_classes": [],
            "_model_module": "@jupyter-widgets/controls",
            "_model_module_version": "1.5.0",
            "_model_name": "FloatProgressModel",
            "_view_count": null,
            "_view_module": "@jupyter-widgets/controls",
            "_view_module_version": "1.5.0",
            "_view_name": "ProgressView",
            "bar_style": "success",
            "description": "",
            "description_tooltip": null,
            "layout": "IPY_MODEL_386ad95fcdac40eb9af84037f5189845",
            "max": 213450,
            "min": 0,
            "orientation": "horizontal",
            "style": "IPY_MODEL_66738c1a4b894f1dae65b3b21c1397c3",
            "value": 213450
          }
        },
        "f838cc82f14b4fe4956123a60428aa7b": {
          "model_module": "@jupyter-widgets/controls",
          "model_name": "HTMLModel",
          "model_module_version": "1.5.0",
          "state": {
            "_dom_classes": [],
            "_model_module": "@jupyter-widgets/controls",
            "_model_module_version": "1.5.0",
            "_model_name": "HTMLModel",
            "_view_count": null,
            "_view_module": "@jupyter-widgets/controls",
            "_view_module_version": "1.5.0",
            "_view_name": "HTMLView",
            "description": "",
            "description_tooltip": null,
            "layout": "IPY_MODEL_a0abb2ac69fa4c4da59062a7151ee467",
            "placeholder": "​",
            "style": "IPY_MODEL_8b5d44266f83481ba7b51f5428671020",
            "value": " 213k/213k [00:00&lt;00:00, 243kB/s]"
          }
        },
        "02b079cae0354659828c1419d036915a": {
          "model_module": "@jupyter-widgets/base",
          "model_name": "LayoutModel",
          "model_module_version": "1.2.0",
          "state": {
            "_model_module": "@jupyter-widgets/base",
            "_model_module_version": "1.2.0",
            "_model_name": "LayoutModel",
            "_view_count": null,
            "_view_module": "@jupyter-widgets/base",
            "_view_module_version": "1.2.0",
            "_view_name": "LayoutView",
            "align_content": null,
            "align_items": null,
            "align_self": null,
            "border": null,
            "bottom": null,
            "display": null,
            "flex": null,
            "flex_flow": null,
            "grid_area": null,
            "grid_auto_columns": null,
            "grid_auto_flow": null,
            "grid_auto_rows": null,
            "grid_column": null,
            "grid_gap": null,
            "grid_row": null,
            "grid_template_areas": null,
            "grid_template_columns": null,
            "grid_template_rows": null,
            "height": null,
            "justify_content": null,
            "justify_items": null,
            "left": null,
            "margin": null,
            "max_height": null,
            "max_width": null,
            "min_height": null,
            "min_width": null,
            "object_fit": null,
            "object_position": null,
            "order": null,
            "overflow": null,
            "overflow_x": null,
            "overflow_y": null,
            "padding": null,
            "right": null,
            "top": null,
            "visibility": null,
            "width": null
          }
        },
        "cc4af7119350449e9ed9370b89f29173": {
          "model_module": "@jupyter-widgets/base",
          "model_name": "LayoutModel",
          "model_module_version": "1.2.0",
          "state": {
            "_model_module": "@jupyter-widgets/base",
            "_model_module_version": "1.2.0",
            "_model_name": "LayoutModel",
            "_view_count": null,
            "_view_module": "@jupyter-widgets/base",
            "_view_module_version": "1.2.0",
            "_view_name": "LayoutView",
            "align_content": null,
            "align_items": null,
            "align_self": null,
            "border": null,
            "bottom": null,
            "display": null,
            "flex": null,
            "flex_flow": null,
            "grid_area": null,
            "grid_auto_columns": null,
            "grid_auto_flow": null,
            "grid_auto_rows": null,
            "grid_column": null,
            "grid_gap": null,
            "grid_row": null,
            "grid_template_areas": null,
            "grid_template_columns": null,
            "grid_template_rows": null,
            "height": null,
            "justify_content": null,
            "justify_items": null,
            "left": null,
            "margin": null,
            "max_height": null,
            "max_width": null,
            "min_height": null,
            "min_width": null,
            "object_fit": null,
            "object_position": null,
            "order": null,
            "overflow": null,
            "overflow_x": null,
            "overflow_y": null,
            "padding": null,
            "right": null,
            "top": null,
            "visibility": null,
            "width": null
          }
        },
        "9d029c11db7b4bf3bffce7f825e2b48b": {
          "model_module": "@jupyter-widgets/controls",
          "model_name": "DescriptionStyleModel",
          "model_module_version": "1.5.0",
          "state": {
            "_model_module": "@jupyter-widgets/controls",
            "_model_module_version": "1.5.0",
            "_model_name": "DescriptionStyleModel",
            "_view_count": null,
            "_view_module": "@jupyter-widgets/base",
            "_view_module_version": "1.2.0",
            "_view_name": "StyleView",
            "description_width": ""
          }
        },
        "386ad95fcdac40eb9af84037f5189845": {
          "model_module": "@jupyter-widgets/base",
          "model_name": "LayoutModel",
          "model_module_version": "1.2.0",
          "state": {
            "_model_module": "@jupyter-widgets/base",
            "_model_module_version": "1.2.0",
            "_model_name": "LayoutModel",
            "_view_count": null,
            "_view_module": "@jupyter-widgets/base",
            "_view_module_version": "1.2.0",
            "_view_name": "LayoutView",
            "align_content": null,
            "align_items": null,
            "align_self": null,
            "border": null,
            "bottom": null,
            "display": null,
            "flex": null,
            "flex_flow": null,
            "grid_area": null,
            "grid_auto_columns": null,
            "grid_auto_flow": null,
            "grid_auto_rows": null,
            "grid_column": null,
            "grid_gap": null,
            "grid_row": null,
            "grid_template_areas": null,
            "grid_template_columns": null,
            "grid_template_rows": null,
            "height": null,
            "justify_content": null,
            "justify_items": null,
            "left": null,
            "margin": null,
            "max_height": null,
            "max_width": null,
            "min_height": null,
            "min_width": null,
            "object_fit": null,
            "object_position": null,
            "order": null,
            "overflow": null,
            "overflow_x": null,
            "overflow_y": null,
            "padding": null,
            "right": null,
            "top": null,
            "visibility": null,
            "width": null
          }
        },
        "66738c1a4b894f1dae65b3b21c1397c3": {
          "model_module": "@jupyter-widgets/controls",
          "model_name": "ProgressStyleModel",
          "model_module_version": "1.5.0",
          "state": {
            "_model_module": "@jupyter-widgets/controls",
            "_model_module_version": "1.5.0",
            "_model_name": "ProgressStyleModel",
            "_view_count": null,
            "_view_module": "@jupyter-widgets/base",
            "_view_module_version": "1.2.0",
            "_view_name": "StyleView",
            "bar_color": null,
            "description_width": ""
          }
        },
        "a0abb2ac69fa4c4da59062a7151ee467": {
          "model_module": "@jupyter-widgets/base",
          "model_name": "LayoutModel",
          "model_module_version": "1.2.0",
          "state": {
            "_model_module": "@jupyter-widgets/base",
            "_model_module_version": "1.2.0",
            "_model_name": "LayoutModel",
            "_view_count": null,
            "_view_module": "@jupyter-widgets/base",
            "_view_module_version": "1.2.0",
            "_view_name": "LayoutView",
            "align_content": null,
            "align_items": null,
            "align_self": null,
            "border": null,
            "bottom": null,
            "display": null,
            "flex": null,
            "flex_flow": null,
            "grid_area": null,
            "grid_auto_columns": null,
            "grid_auto_flow": null,
            "grid_auto_rows": null,
            "grid_column": null,
            "grid_gap": null,
            "grid_row": null,
            "grid_template_areas": null,
            "grid_template_columns": null,
            "grid_template_rows": null,
            "height": null,
            "justify_content": null,
            "justify_items": null,
            "left": null,
            "margin": null,
            "max_height": null,
            "max_width": null,
            "min_height": null,
            "min_width": null,
            "object_fit": null,
            "object_position": null,
            "order": null,
            "overflow": null,
            "overflow_x": null,
            "overflow_y": null,
            "padding": null,
            "right": null,
            "top": null,
            "visibility": null,
            "width": null
          }
        },
        "8b5d44266f83481ba7b51f5428671020": {
          "model_module": "@jupyter-widgets/controls",
          "model_name": "DescriptionStyleModel",
          "model_module_version": "1.5.0",
          "state": {
            "_model_module": "@jupyter-widgets/controls",
            "_model_module_version": "1.5.0",
            "_model_name": "DescriptionStyleModel",
            "_view_count": null,
            "_view_module": "@jupyter-widgets/base",
            "_view_module_version": "1.2.0",
            "_view_name": "StyleView",
            "description_width": ""
          }
        },
        "1bb472135449467493c6beff6f884e68": {
          "model_module": "@jupyter-widgets/controls",
          "model_name": "HBoxModel",
          "model_module_version": "1.5.0",
          "state": {
            "_dom_classes": [],
            "_model_module": "@jupyter-widgets/controls",
            "_model_module_version": "1.5.0",
            "_model_name": "HBoxModel",
            "_view_count": null,
            "_view_module": "@jupyter-widgets/controls",
            "_view_module_version": "1.5.0",
            "_view_name": "HBoxView",
            "box_style": "",
            "children": [
              "IPY_MODEL_b5799953550d4c6ead23f950ce092ac4",
              "IPY_MODEL_8b34561b33a84c6d8cfce91177e5f30e",
              "IPY_MODEL_ba769619c95143f1afe9e512c2ecc148"
            ],
            "layout": "IPY_MODEL_52a6229d7992477cb4e2cb8ec35a9cda"
          }
        },
        "b5799953550d4c6ead23f950ce092ac4": {
          "model_module": "@jupyter-widgets/controls",
          "model_name": "HTMLModel",
          "model_module_version": "1.5.0",
          "state": {
            "_dom_classes": [],
            "_model_module": "@jupyter-widgets/controls",
            "_model_module_version": "1.5.0",
            "_model_name": "HTMLModel",
            "_view_count": null,
            "_view_module": "@jupyter-widgets/controls",
            "_view_module_version": "1.5.0",
            "_view_name": "HTMLView",
            "description": "",
            "description_tooltip": null,
            "layout": "IPY_MODEL_23b7e9556a6343df86659d65d2a21b83",
            "placeholder": "​",
            "style": "IPY_MODEL_5b7a8390f4284665bf9e4b033a6f50be",
            "value": "Downloading (…)okenizer_config.json: 100%"
          }
        },
        "8b34561b33a84c6d8cfce91177e5f30e": {
          "model_module": "@jupyter-widgets/controls",
          "model_name": "FloatProgressModel",
          "model_module_version": "1.5.0",
          "state": {
            "_dom_classes": [],
            "_model_module": "@jupyter-widgets/controls",
            "_model_module_version": "1.5.0",
            "_model_name": "FloatProgressModel",
            "_view_count": null,
            "_view_module": "@jupyter-widgets/controls",
            "_view_module_version": "1.5.0",
            "_view_name": "ProgressView",
            "bar_style": "success",
            "description": "",
            "description_tooltip": null,
            "layout": "IPY_MODEL_a6bec2566b49449fb3ec872fff1bb94f",
            "max": 29,
            "min": 0,
            "orientation": "horizontal",
            "style": "IPY_MODEL_cb11666ff0c24cd89eb63b9551f2ccb2",
            "value": 29
          }
        },
        "ba769619c95143f1afe9e512c2ecc148": {
          "model_module": "@jupyter-widgets/controls",
          "model_name": "HTMLModel",
          "model_module_version": "1.5.0",
          "state": {
            "_dom_classes": [],
            "_model_module": "@jupyter-widgets/controls",
            "_model_module_version": "1.5.0",
            "_model_name": "HTMLModel",
            "_view_count": null,
            "_view_module": "@jupyter-widgets/controls",
            "_view_module_version": "1.5.0",
            "_view_name": "HTMLView",
            "description": "",
            "description_tooltip": null,
            "layout": "IPY_MODEL_0df73674b15240baa1af370fb496db2c",
            "placeholder": "​",
            "style": "IPY_MODEL_e8034f90b78746ecad13f9a66e7932b6",
            "value": " 29.0/29.0 [00:00&lt;00:00, 714B/s]"
          }
        },
        "52a6229d7992477cb4e2cb8ec35a9cda": {
          "model_module": "@jupyter-widgets/base",
          "model_name": "LayoutModel",
          "model_module_version": "1.2.0",
          "state": {
            "_model_module": "@jupyter-widgets/base",
            "_model_module_version": "1.2.0",
            "_model_name": "LayoutModel",
            "_view_count": null,
            "_view_module": "@jupyter-widgets/base",
            "_view_module_version": "1.2.0",
            "_view_name": "LayoutView",
            "align_content": null,
            "align_items": null,
            "align_self": null,
            "border": null,
            "bottom": null,
            "display": null,
            "flex": null,
            "flex_flow": null,
            "grid_area": null,
            "grid_auto_columns": null,
            "grid_auto_flow": null,
            "grid_auto_rows": null,
            "grid_column": null,
            "grid_gap": null,
            "grid_row": null,
            "grid_template_areas": null,
            "grid_template_columns": null,
            "grid_template_rows": null,
            "height": null,
            "justify_content": null,
            "justify_items": null,
            "left": null,
            "margin": null,
            "max_height": null,
            "max_width": null,
            "min_height": null,
            "min_width": null,
            "object_fit": null,
            "object_position": null,
            "order": null,
            "overflow": null,
            "overflow_x": null,
            "overflow_y": null,
            "padding": null,
            "right": null,
            "top": null,
            "visibility": null,
            "width": null
          }
        },
        "23b7e9556a6343df86659d65d2a21b83": {
          "model_module": "@jupyter-widgets/base",
          "model_name": "LayoutModel",
          "model_module_version": "1.2.0",
          "state": {
            "_model_module": "@jupyter-widgets/base",
            "_model_module_version": "1.2.0",
            "_model_name": "LayoutModel",
            "_view_count": null,
            "_view_module": "@jupyter-widgets/base",
            "_view_module_version": "1.2.0",
            "_view_name": "LayoutView",
            "align_content": null,
            "align_items": null,
            "align_self": null,
            "border": null,
            "bottom": null,
            "display": null,
            "flex": null,
            "flex_flow": null,
            "grid_area": null,
            "grid_auto_columns": null,
            "grid_auto_flow": null,
            "grid_auto_rows": null,
            "grid_column": null,
            "grid_gap": null,
            "grid_row": null,
            "grid_template_areas": null,
            "grid_template_columns": null,
            "grid_template_rows": null,
            "height": null,
            "justify_content": null,
            "justify_items": null,
            "left": null,
            "margin": null,
            "max_height": null,
            "max_width": null,
            "min_height": null,
            "min_width": null,
            "object_fit": null,
            "object_position": null,
            "order": null,
            "overflow": null,
            "overflow_x": null,
            "overflow_y": null,
            "padding": null,
            "right": null,
            "top": null,
            "visibility": null,
            "width": null
          }
        },
        "5b7a8390f4284665bf9e4b033a6f50be": {
          "model_module": "@jupyter-widgets/controls",
          "model_name": "DescriptionStyleModel",
          "model_module_version": "1.5.0",
          "state": {
            "_model_module": "@jupyter-widgets/controls",
            "_model_module_version": "1.5.0",
            "_model_name": "DescriptionStyleModel",
            "_view_count": null,
            "_view_module": "@jupyter-widgets/base",
            "_view_module_version": "1.2.0",
            "_view_name": "StyleView",
            "description_width": ""
          }
        },
        "a6bec2566b49449fb3ec872fff1bb94f": {
          "model_module": "@jupyter-widgets/base",
          "model_name": "LayoutModel",
          "model_module_version": "1.2.0",
          "state": {
            "_model_module": "@jupyter-widgets/base",
            "_model_module_version": "1.2.0",
            "_model_name": "LayoutModel",
            "_view_count": null,
            "_view_module": "@jupyter-widgets/base",
            "_view_module_version": "1.2.0",
            "_view_name": "LayoutView",
            "align_content": null,
            "align_items": null,
            "align_self": null,
            "border": null,
            "bottom": null,
            "display": null,
            "flex": null,
            "flex_flow": null,
            "grid_area": null,
            "grid_auto_columns": null,
            "grid_auto_flow": null,
            "grid_auto_rows": null,
            "grid_column": null,
            "grid_gap": null,
            "grid_row": null,
            "grid_template_areas": null,
            "grid_template_columns": null,
            "grid_template_rows": null,
            "height": null,
            "justify_content": null,
            "justify_items": null,
            "left": null,
            "margin": null,
            "max_height": null,
            "max_width": null,
            "min_height": null,
            "min_width": null,
            "object_fit": null,
            "object_position": null,
            "order": null,
            "overflow": null,
            "overflow_x": null,
            "overflow_y": null,
            "padding": null,
            "right": null,
            "top": null,
            "visibility": null,
            "width": null
          }
        },
        "cb11666ff0c24cd89eb63b9551f2ccb2": {
          "model_module": "@jupyter-widgets/controls",
          "model_name": "ProgressStyleModel",
          "model_module_version": "1.5.0",
          "state": {
            "_model_module": "@jupyter-widgets/controls",
            "_model_module_version": "1.5.0",
            "_model_name": "ProgressStyleModel",
            "_view_count": null,
            "_view_module": "@jupyter-widgets/base",
            "_view_module_version": "1.2.0",
            "_view_name": "StyleView",
            "bar_color": null,
            "description_width": ""
          }
        },
        "0df73674b15240baa1af370fb496db2c": {
          "model_module": "@jupyter-widgets/base",
          "model_name": "LayoutModel",
          "model_module_version": "1.2.0",
          "state": {
            "_model_module": "@jupyter-widgets/base",
            "_model_module_version": "1.2.0",
            "_model_name": "LayoutModel",
            "_view_count": null,
            "_view_module": "@jupyter-widgets/base",
            "_view_module_version": "1.2.0",
            "_view_name": "LayoutView",
            "align_content": null,
            "align_items": null,
            "align_self": null,
            "border": null,
            "bottom": null,
            "display": null,
            "flex": null,
            "flex_flow": null,
            "grid_area": null,
            "grid_auto_columns": null,
            "grid_auto_flow": null,
            "grid_auto_rows": null,
            "grid_column": null,
            "grid_gap": null,
            "grid_row": null,
            "grid_template_areas": null,
            "grid_template_columns": null,
            "grid_template_rows": null,
            "height": null,
            "justify_content": null,
            "justify_items": null,
            "left": null,
            "margin": null,
            "max_height": null,
            "max_width": null,
            "min_height": null,
            "min_width": null,
            "object_fit": null,
            "object_position": null,
            "order": null,
            "overflow": null,
            "overflow_x": null,
            "overflow_y": null,
            "padding": null,
            "right": null,
            "top": null,
            "visibility": null,
            "width": null
          }
        },
        "e8034f90b78746ecad13f9a66e7932b6": {
          "model_module": "@jupyter-widgets/controls",
          "model_name": "DescriptionStyleModel",
          "model_module_version": "1.5.0",
          "state": {
            "_model_module": "@jupyter-widgets/controls",
            "_model_module_version": "1.5.0",
            "_model_name": "DescriptionStyleModel",
            "_view_count": null,
            "_view_module": "@jupyter-widgets/base",
            "_view_module_version": "1.2.0",
            "_view_name": "StyleView",
            "description_width": ""
          }
        },
        "45086235f3d74aab88d0653d9930fcd4": {
          "model_module": "@jupyter-widgets/controls",
          "model_name": "HBoxModel",
          "model_module_version": "1.5.0",
          "state": {
            "_dom_classes": [],
            "_model_module": "@jupyter-widgets/controls",
            "_model_module_version": "1.5.0",
            "_model_name": "HBoxModel",
            "_view_count": null,
            "_view_module": "@jupyter-widgets/controls",
            "_view_module_version": "1.5.0",
            "_view_name": "HBoxView",
            "box_style": "",
            "children": [
              "IPY_MODEL_0c7f625abf08439b9533229abd42d581",
              "IPY_MODEL_11d53b3a3f1941ad8d93c815be7391e8",
              "IPY_MODEL_19cecc99feea43808bf380a8ea6f07fd"
            ],
            "layout": "IPY_MODEL_16c94d84604a4c3e88d5d5602c1b4468"
          }
        },
        "0c7f625abf08439b9533229abd42d581": {
          "model_module": "@jupyter-widgets/controls",
          "model_name": "HTMLModel",
          "model_module_version": "1.5.0",
          "state": {
            "_dom_classes": [],
            "_model_module": "@jupyter-widgets/controls",
            "_model_module_version": "1.5.0",
            "_model_name": "HTMLModel",
            "_view_count": null,
            "_view_module": "@jupyter-widgets/controls",
            "_view_module_version": "1.5.0",
            "_view_name": "HTMLView",
            "description": "",
            "description_tooltip": null,
            "layout": "IPY_MODEL_f41a3fc94bf04d4bbd1dc0890d320331",
            "placeholder": "​",
            "style": "IPY_MODEL_29bc8298f14c4b5b92c8702bd6a41089",
            "value": "Downloading (…)lve/main/config.json: 100%"
          }
        },
        "11d53b3a3f1941ad8d93c815be7391e8": {
          "model_module": "@jupyter-widgets/controls",
          "model_name": "FloatProgressModel",
          "model_module_version": "1.5.0",
          "state": {
            "_dom_classes": [],
            "_model_module": "@jupyter-widgets/controls",
            "_model_module_version": "1.5.0",
            "_model_name": "FloatProgressModel",
            "_view_count": null,
            "_view_module": "@jupyter-widgets/controls",
            "_view_module_version": "1.5.0",
            "_view_name": "ProgressView",
            "bar_style": "success",
            "description": "",
            "description_tooltip": null,
            "layout": "IPY_MODEL_4de941f38d8c4e4b8a201805f445cf9e",
            "max": 570,
            "min": 0,
            "orientation": "horizontal",
            "style": "IPY_MODEL_ca72bce61be745fea9301e23c26b1839",
            "value": 570
          }
        },
        "19cecc99feea43808bf380a8ea6f07fd": {
          "model_module": "@jupyter-widgets/controls",
          "model_name": "HTMLModel",
          "model_module_version": "1.5.0",
          "state": {
            "_dom_classes": [],
            "_model_module": "@jupyter-widgets/controls",
            "_model_module_version": "1.5.0",
            "_model_name": "HTMLModel",
            "_view_count": null,
            "_view_module": "@jupyter-widgets/controls",
            "_view_module_version": "1.5.0",
            "_view_name": "HTMLView",
            "description": "",
            "description_tooltip": null,
            "layout": "IPY_MODEL_ea585c1c314646aa9cd9303dd3ff5d90",
            "placeholder": "​",
            "style": "IPY_MODEL_235cc926602f498e8740b19639a31756",
            "value": " 570/570 [00:00&lt;00:00, 9.53kB/s]"
          }
        },
        "16c94d84604a4c3e88d5d5602c1b4468": {
          "model_module": "@jupyter-widgets/base",
          "model_name": "LayoutModel",
          "model_module_version": "1.2.0",
          "state": {
            "_model_module": "@jupyter-widgets/base",
            "_model_module_version": "1.2.0",
            "_model_name": "LayoutModel",
            "_view_count": null,
            "_view_module": "@jupyter-widgets/base",
            "_view_module_version": "1.2.0",
            "_view_name": "LayoutView",
            "align_content": null,
            "align_items": null,
            "align_self": null,
            "border": null,
            "bottom": null,
            "display": null,
            "flex": null,
            "flex_flow": null,
            "grid_area": null,
            "grid_auto_columns": null,
            "grid_auto_flow": null,
            "grid_auto_rows": null,
            "grid_column": null,
            "grid_gap": null,
            "grid_row": null,
            "grid_template_areas": null,
            "grid_template_columns": null,
            "grid_template_rows": null,
            "height": null,
            "justify_content": null,
            "justify_items": null,
            "left": null,
            "margin": null,
            "max_height": null,
            "max_width": null,
            "min_height": null,
            "min_width": null,
            "object_fit": null,
            "object_position": null,
            "order": null,
            "overflow": null,
            "overflow_x": null,
            "overflow_y": null,
            "padding": null,
            "right": null,
            "top": null,
            "visibility": null,
            "width": null
          }
        },
        "f41a3fc94bf04d4bbd1dc0890d320331": {
          "model_module": "@jupyter-widgets/base",
          "model_name": "LayoutModel",
          "model_module_version": "1.2.0",
          "state": {
            "_model_module": "@jupyter-widgets/base",
            "_model_module_version": "1.2.0",
            "_model_name": "LayoutModel",
            "_view_count": null,
            "_view_module": "@jupyter-widgets/base",
            "_view_module_version": "1.2.0",
            "_view_name": "LayoutView",
            "align_content": null,
            "align_items": null,
            "align_self": null,
            "border": null,
            "bottom": null,
            "display": null,
            "flex": null,
            "flex_flow": null,
            "grid_area": null,
            "grid_auto_columns": null,
            "grid_auto_flow": null,
            "grid_auto_rows": null,
            "grid_column": null,
            "grid_gap": null,
            "grid_row": null,
            "grid_template_areas": null,
            "grid_template_columns": null,
            "grid_template_rows": null,
            "height": null,
            "justify_content": null,
            "justify_items": null,
            "left": null,
            "margin": null,
            "max_height": null,
            "max_width": null,
            "min_height": null,
            "min_width": null,
            "object_fit": null,
            "object_position": null,
            "order": null,
            "overflow": null,
            "overflow_x": null,
            "overflow_y": null,
            "padding": null,
            "right": null,
            "top": null,
            "visibility": null,
            "width": null
          }
        },
        "29bc8298f14c4b5b92c8702bd6a41089": {
          "model_module": "@jupyter-widgets/controls",
          "model_name": "DescriptionStyleModel",
          "model_module_version": "1.5.0",
          "state": {
            "_model_module": "@jupyter-widgets/controls",
            "_model_module_version": "1.5.0",
            "_model_name": "DescriptionStyleModel",
            "_view_count": null,
            "_view_module": "@jupyter-widgets/base",
            "_view_module_version": "1.2.0",
            "_view_name": "StyleView",
            "description_width": ""
          }
        },
        "4de941f38d8c4e4b8a201805f445cf9e": {
          "model_module": "@jupyter-widgets/base",
          "model_name": "LayoutModel",
          "model_module_version": "1.2.0",
          "state": {
            "_model_module": "@jupyter-widgets/base",
            "_model_module_version": "1.2.0",
            "_model_name": "LayoutModel",
            "_view_count": null,
            "_view_module": "@jupyter-widgets/base",
            "_view_module_version": "1.2.0",
            "_view_name": "LayoutView",
            "align_content": null,
            "align_items": null,
            "align_self": null,
            "border": null,
            "bottom": null,
            "display": null,
            "flex": null,
            "flex_flow": null,
            "grid_area": null,
            "grid_auto_columns": null,
            "grid_auto_flow": null,
            "grid_auto_rows": null,
            "grid_column": null,
            "grid_gap": null,
            "grid_row": null,
            "grid_template_areas": null,
            "grid_template_columns": null,
            "grid_template_rows": null,
            "height": null,
            "justify_content": null,
            "justify_items": null,
            "left": null,
            "margin": null,
            "max_height": null,
            "max_width": null,
            "min_height": null,
            "min_width": null,
            "object_fit": null,
            "object_position": null,
            "order": null,
            "overflow": null,
            "overflow_x": null,
            "overflow_y": null,
            "padding": null,
            "right": null,
            "top": null,
            "visibility": null,
            "width": null
          }
        },
        "ca72bce61be745fea9301e23c26b1839": {
          "model_module": "@jupyter-widgets/controls",
          "model_name": "ProgressStyleModel",
          "model_module_version": "1.5.0",
          "state": {
            "_model_module": "@jupyter-widgets/controls",
            "_model_module_version": "1.5.0",
            "_model_name": "ProgressStyleModel",
            "_view_count": null,
            "_view_module": "@jupyter-widgets/base",
            "_view_module_version": "1.2.0",
            "_view_name": "StyleView",
            "bar_color": null,
            "description_width": ""
          }
        },
        "ea585c1c314646aa9cd9303dd3ff5d90": {
          "model_module": "@jupyter-widgets/base",
          "model_name": "LayoutModel",
          "model_module_version": "1.2.0",
          "state": {
            "_model_module": "@jupyter-widgets/base",
            "_model_module_version": "1.2.0",
            "_model_name": "LayoutModel",
            "_view_count": null,
            "_view_module": "@jupyter-widgets/base",
            "_view_module_version": "1.2.0",
            "_view_name": "LayoutView",
            "align_content": null,
            "align_items": null,
            "align_self": null,
            "border": null,
            "bottom": null,
            "display": null,
            "flex": null,
            "flex_flow": null,
            "grid_area": null,
            "grid_auto_columns": null,
            "grid_auto_flow": null,
            "grid_auto_rows": null,
            "grid_column": null,
            "grid_gap": null,
            "grid_row": null,
            "grid_template_areas": null,
            "grid_template_columns": null,
            "grid_template_rows": null,
            "height": null,
            "justify_content": null,
            "justify_items": null,
            "left": null,
            "margin": null,
            "max_height": null,
            "max_width": null,
            "min_height": null,
            "min_width": null,
            "object_fit": null,
            "object_position": null,
            "order": null,
            "overflow": null,
            "overflow_x": null,
            "overflow_y": null,
            "padding": null,
            "right": null,
            "top": null,
            "visibility": null,
            "width": null
          }
        },
        "235cc926602f498e8740b19639a31756": {
          "model_module": "@jupyter-widgets/controls",
          "model_name": "DescriptionStyleModel",
          "model_module_version": "1.5.0",
          "state": {
            "_model_module": "@jupyter-widgets/controls",
            "_model_module_version": "1.5.0",
            "_model_name": "DescriptionStyleModel",
            "_view_count": null,
            "_view_module": "@jupyter-widgets/base",
            "_view_module_version": "1.2.0",
            "_view_name": "StyleView",
            "description_width": ""
          }
        },
        "d3979d9a55844d12b203885507393b4a": {
          "model_module": "@jupyter-widgets/controls",
          "model_name": "HBoxModel",
          "model_module_version": "1.5.0",
          "state": {
            "_dom_classes": [],
            "_model_module": "@jupyter-widgets/controls",
            "_model_module_version": "1.5.0",
            "_model_name": "HBoxModel",
            "_view_count": null,
            "_view_module": "@jupyter-widgets/controls",
            "_view_module_version": "1.5.0",
            "_view_name": "HBoxView",
            "box_style": "",
            "children": [
              "IPY_MODEL_a8f21842605d4c2f9578b539d140f9b4",
              "IPY_MODEL_cea90d9cbe974beb87516253428613d3",
              "IPY_MODEL_13de0c799c4546a2ac4adcbcbd17d06d"
            ],
            "layout": "IPY_MODEL_3dd19de408274bffb1c1d9a4972d78dc"
          }
        },
        "a8f21842605d4c2f9578b539d140f9b4": {
          "model_module": "@jupyter-widgets/controls",
          "model_name": "HTMLModel",
          "model_module_version": "1.5.0",
          "state": {
            "_dom_classes": [],
            "_model_module": "@jupyter-widgets/controls",
            "_model_module_version": "1.5.0",
            "_model_name": "HTMLModel",
            "_view_count": null,
            "_view_module": "@jupyter-widgets/controls",
            "_view_module_version": "1.5.0",
            "_view_name": "HTMLView",
            "description": "",
            "description_tooltip": null,
            "layout": "IPY_MODEL_e43b8525444a446f9c2bee04d689fb31",
            "placeholder": "​",
            "style": "IPY_MODEL_28110d4e7d704a88bef719c9aeddf1e9",
            "value": "Downloading (…)&quot;tf_model.h5&quot;;: 100%"
          }
        },
        "cea90d9cbe974beb87516253428613d3": {
          "model_module": "@jupyter-widgets/controls",
          "model_name": "FloatProgressModel",
          "model_module_version": "1.5.0",
          "state": {
            "_dom_classes": [],
            "_model_module": "@jupyter-widgets/controls",
            "_model_module_version": "1.5.0",
            "_model_name": "FloatProgressModel",
            "_view_count": null,
            "_view_module": "@jupyter-widgets/controls",
            "_view_module_version": "1.5.0",
            "_view_name": "ProgressView",
            "bar_style": "success",
            "description": "",
            "description_tooltip": null,
            "layout": "IPY_MODEL_9488b0006d744968934de6377e7d9acf",
            "max": 526681800,
            "min": 0,
            "orientation": "horizontal",
            "style": "IPY_MODEL_7cd07e39b1c94ea891f0ee75e71bb65c",
            "value": 526681800
          }
        },
        "13de0c799c4546a2ac4adcbcbd17d06d": {
          "model_module": "@jupyter-widgets/controls",
          "model_name": "HTMLModel",
          "model_module_version": "1.5.0",
          "state": {
            "_dom_classes": [],
            "_model_module": "@jupyter-widgets/controls",
            "_model_module_version": "1.5.0",
            "_model_name": "HTMLModel",
            "_view_count": null,
            "_view_module": "@jupyter-widgets/controls",
            "_view_module_version": "1.5.0",
            "_view_name": "HTMLView",
            "description": "",
            "description_tooltip": null,
            "layout": "IPY_MODEL_7aa68cc040a34cfd9795ed38f5758d23",
            "placeholder": "​",
            "style": "IPY_MODEL_4ba4ff86eaba443eb936db584ecb187c",
            "value": " 527M/527M [00:01&lt;00:00, 261MB/s]"
          }
        },
        "3dd19de408274bffb1c1d9a4972d78dc": {
          "model_module": "@jupyter-widgets/base",
          "model_name": "LayoutModel",
          "model_module_version": "1.2.0",
          "state": {
            "_model_module": "@jupyter-widgets/base",
            "_model_module_version": "1.2.0",
            "_model_name": "LayoutModel",
            "_view_count": null,
            "_view_module": "@jupyter-widgets/base",
            "_view_module_version": "1.2.0",
            "_view_name": "LayoutView",
            "align_content": null,
            "align_items": null,
            "align_self": null,
            "border": null,
            "bottom": null,
            "display": null,
            "flex": null,
            "flex_flow": null,
            "grid_area": null,
            "grid_auto_columns": null,
            "grid_auto_flow": null,
            "grid_auto_rows": null,
            "grid_column": null,
            "grid_gap": null,
            "grid_row": null,
            "grid_template_areas": null,
            "grid_template_columns": null,
            "grid_template_rows": null,
            "height": null,
            "justify_content": null,
            "justify_items": null,
            "left": null,
            "margin": null,
            "max_height": null,
            "max_width": null,
            "min_height": null,
            "min_width": null,
            "object_fit": null,
            "object_position": null,
            "order": null,
            "overflow": null,
            "overflow_x": null,
            "overflow_y": null,
            "padding": null,
            "right": null,
            "top": null,
            "visibility": null,
            "width": null
          }
        },
        "e43b8525444a446f9c2bee04d689fb31": {
          "model_module": "@jupyter-widgets/base",
          "model_name": "LayoutModel",
          "model_module_version": "1.2.0",
          "state": {
            "_model_module": "@jupyter-widgets/base",
            "_model_module_version": "1.2.0",
            "_model_name": "LayoutModel",
            "_view_count": null,
            "_view_module": "@jupyter-widgets/base",
            "_view_module_version": "1.2.0",
            "_view_name": "LayoutView",
            "align_content": null,
            "align_items": null,
            "align_self": null,
            "border": null,
            "bottom": null,
            "display": null,
            "flex": null,
            "flex_flow": null,
            "grid_area": null,
            "grid_auto_columns": null,
            "grid_auto_flow": null,
            "grid_auto_rows": null,
            "grid_column": null,
            "grid_gap": null,
            "grid_row": null,
            "grid_template_areas": null,
            "grid_template_columns": null,
            "grid_template_rows": null,
            "height": null,
            "justify_content": null,
            "justify_items": null,
            "left": null,
            "margin": null,
            "max_height": null,
            "max_width": null,
            "min_height": null,
            "min_width": null,
            "object_fit": null,
            "object_position": null,
            "order": null,
            "overflow": null,
            "overflow_x": null,
            "overflow_y": null,
            "padding": null,
            "right": null,
            "top": null,
            "visibility": null,
            "width": null
          }
        },
        "28110d4e7d704a88bef719c9aeddf1e9": {
          "model_module": "@jupyter-widgets/controls",
          "model_name": "DescriptionStyleModel",
          "model_module_version": "1.5.0",
          "state": {
            "_model_module": "@jupyter-widgets/controls",
            "_model_module_version": "1.5.0",
            "_model_name": "DescriptionStyleModel",
            "_view_count": null,
            "_view_module": "@jupyter-widgets/base",
            "_view_module_version": "1.2.0",
            "_view_name": "StyleView",
            "description_width": ""
          }
        },
        "9488b0006d744968934de6377e7d9acf": {
          "model_module": "@jupyter-widgets/base",
          "model_name": "LayoutModel",
          "model_module_version": "1.2.0",
          "state": {
            "_model_module": "@jupyter-widgets/base",
            "_model_module_version": "1.2.0",
            "_model_name": "LayoutModel",
            "_view_count": null,
            "_view_module": "@jupyter-widgets/base",
            "_view_module_version": "1.2.0",
            "_view_name": "LayoutView",
            "align_content": null,
            "align_items": null,
            "align_self": null,
            "border": null,
            "bottom": null,
            "display": null,
            "flex": null,
            "flex_flow": null,
            "grid_area": null,
            "grid_auto_columns": null,
            "grid_auto_flow": null,
            "grid_auto_rows": null,
            "grid_column": null,
            "grid_gap": null,
            "grid_row": null,
            "grid_template_areas": null,
            "grid_template_columns": null,
            "grid_template_rows": null,
            "height": null,
            "justify_content": null,
            "justify_items": null,
            "left": null,
            "margin": null,
            "max_height": null,
            "max_width": null,
            "min_height": null,
            "min_width": null,
            "object_fit": null,
            "object_position": null,
            "order": null,
            "overflow": null,
            "overflow_x": null,
            "overflow_y": null,
            "padding": null,
            "right": null,
            "top": null,
            "visibility": null,
            "width": null
          }
        },
        "7cd07e39b1c94ea891f0ee75e71bb65c": {
          "model_module": "@jupyter-widgets/controls",
          "model_name": "ProgressStyleModel",
          "model_module_version": "1.5.0",
          "state": {
            "_model_module": "@jupyter-widgets/controls",
            "_model_module_version": "1.5.0",
            "_model_name": "ProgressStyleModel",
            "_view_count": null,
            "_view_module": "@jupyter-widgets/base",
            "_view_module_version": "1.2.0",
            "_view_name": "StyleView",
            "bar_color": null,
            "description_width": ""
          }
        },
        "7aa68cc040a34cfd9795ed38f5758d23": {
          "model_module": "@jupyter-widgets/base",
          "model_name": "LayoutModel",
          "model_module_version": "1.2.0",
          "state": {
            "_model_module": "@jupyter-widgets/base",
            "_model_module_version": "1.2.0",
            "_model_name": "LayoutModel",
            "_view_count": null,
            "_view_module": "@jupyter-widgets/base",
            "_view_module_version": "1.2.0",
            "_view_name": "LayoutView",
            "align_content": null,
            "align_items": null,
            "align_self": null,
            "border": null,
            "bottom": null,
            "display": null,
            "flex": null,
            "flex_flow": null,
            "grid_area": null,
            "grid_auto_columns": null,
            "grid_auto_flow": null,
            "grid_auto_rows": null,
            "grid_column": null,
            "grid_gap": null,
            "grid_row": null,
            "grid_template_areas": null,
            "grid_template_columns": null,
            "grid_template_rows": null,
            "height": null,
            "justify_content": null,
            "justify_items": null,
            "left": null,
            "margin": null,
            "max_height": null,
            "max_width": null,
            "min_height": null,
            "min_width": null,
            "object_fit": null,
            "object_position": null,
            "order": null,
            "overflow": null,
            "overflow_x": null,
            "overflow_y": null,
            "padding": null,
            "right": null,
            "top": null,
            "visibility": null,
            "width": null
          }
        },
        "4ba4ff86eaba443eb936db584ecb187c": {
          "model_module": "@jupyter-widgets/controls",
          "model_name": "DescriptionStyleModel",
          "model_module_version": "1.5.0",
          "state": {
            "_model_module": "@jupyter-widgets/controls",
            "_model_module_version": "1.5.0",
            "_model_name": "DescriptionStyleModel",
            "_view_count": null,
            "_view_module": "@jupyter-widgets/base",
            "_view_module_version": "1.2.0",
            "_view_name": "StyleView",
            "description_width": ""
          }
        }
      }
    }
  },
  "nbformat": 4,
  "nbformat_minor": 0
}