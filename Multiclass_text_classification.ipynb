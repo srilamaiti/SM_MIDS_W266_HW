{
  "cells": [
    {
      "cell_type": "markdown",
      "metadata": {
        "id": "view-in-github",
        "colab_type": "text"
      },
      "source": [
        "<a href=\"https://colab.research.google.com/github/srilamaiti/SM_MIDS_W266_HW/blob/main/Multiclass_text_classification.ipynb\" target=\"_parent\"><img src=\"https://colab.research.google.com/assets/colab-badge.svg\" alt=\"Open In Colab\"/></a>"
      ]
    },
    {
      "cell_type": "markdown",
      "metadata": {
        "id": "Z-44Qz4-Xd1o"
      },
      "source": [
        "# Assignment 3: Fine tuning a multiclass classification BERT model\n",
        "\n",
        "**Description:** This assignment covers fine-tuning of a multiclass classification. You will compare two different types of solutions using BERT-based models. You should also be able to develop an intuition for:\n",
        "\n",
        "\n",
        "* Working with BERT\n",
        "* Using multiple models to focus on different sub-tasks\n",
        "* Different metrics to measure the effectiveness of your model\n",
        "\n",
        "\n",
        "\n",
        "The assignment notebook closely follows the lesson notebooks. We will use the 20 newsgroups dataset and will leverage some of the models, or part of the code, for our current investigation. \n",
        "\n",
        "**You are strongly encouraged to read through the entire notebook before answering any questions or writing any code.**\n",
        "\n",
        "The initial part of the notebook is purely setup. We will then generate our BERT model and see if and how we can improve it. \n",
        "\n",
        "Do not try to run this entire notebook on your GCP instance as the training of models requires a GPU to work in a timely fashion. This notebook should be run on a Google Colab leveraging a GPU. By default, when you open the notebook in Colab it will try to use a GPU. Total runtime of the entire notebook (with solutions and a Colab GPU) should be about 1h.\n",
        "\n",
        "\n",
        "[![Open In Colab](https://colab.research.google.com/assets/colab-badge.svg)](https://colab.research.google.com/github/datasci-w266/2023-spring-main/blob/master/assignment/a3/Multiclass_text_classification.ipynb)\n",
        "\n",
        "The overall assignment structure is as follows:\n",
        "\n",
        "1. Setup\n",
        "  \n",
        "  1.1 Libraries & Helper Functions\n",
        "\n",
        "  1.2 Data Acquisition\n",
        "\n",
        "  1.3 Training/Test/Validation Sets for BERT-based models\n",
        "\n",
        "2. Classification with a fine tuned BERT model\n",
        "\n",
        "  2.1 Create the specified BERT model\n",
        "  \n",
        "  2.2 Fine tune the BERT model as directed\n",
        "\n",
        "  2.3 Examine the predictions with various metrics\n",
        "\n",
        "3. Classification using two stages\n",
        "\n",
        "  3.1 Relabel the data to group the often confused classes\n",
        "\n",
        "  3.2 Train the first stage model on the relabeled data\n",
        "\n",
        "  3.3 Separate the data for just the confused classes\n",
        "\n",
        "  3.4. Train the second stage model on the two classes\n",
        "\n",
        "  3.5. Combine and evaluate the predictions from the two stages\n",
        "\n",
        "4. Look at examples of misclassifications, see what might have changed\n",
        "\n",
        "\n",
        "\n",
        "**INSTRUCTIONS:**: \n",
        "\n",
        "* Questions are always indicated as **QUESTION:**, so you can search for this string to make sure you answered all of the questions. You are expected to fill out, run, and submit this notebook, as well as to answer the questions in the **answers** file as you did in a1 and a2.\n",
        "\n",
        "* **### YOUR CODE HERE** indicates that you are supposed to write code.\n",
        "\n",
        "* If you want to, you can run all of the cells in section 1 in bulk. This is setup work and no questions are in there. At the end of section 1 we will state all of the relevant variables that were defined and created in section 1.\n",
        "\n",
        "* **IMPORTANT NOTE:** Because the data we're using is downloaded each time we run section 1, a different split of train, validation, and test records is created.  This means that the accuracy, precision, recall, and F1 scores will change, although the delta will be small.  Please enter the values from your final run so that the answer values in your answers file correspond to the answer values in the outputs in your notebook.\n"
      ]
    },
    {
      "cell_type": "markdown",
      "metadata": {
        "id": "NK2xTV-Xisrl"
      },
      "source": [
        "### 1. Setup\n",
        "\n",
        "Lets get all our libraries and download and process our data."
      ]
    },
    {
      "cell_type": "code",
      "execution_count": 1,
      "metadata": {
        "colab": {
          "base_uri": "https://localhost:8080/"
        },
        "id": "3gzOXaFdmgO8",
        "outputId": "cd5bdcae-e6aa-42e6-c218-12c8a3ddb2b3"
      },
      "outputs": [
        {
          "output_type": "stream",
          "name": "stdout",
          "text": [
            "\u001b[2K     \u001b[90m━━━━━━━━━━━━━━━━━━━━━━━━━━━━━━━━━━━━━━━━\u001b[0m \u001b[32m6.3/6.3 MB\u001b[0m \u001b[31m13.2 MB/s\u001b[0m eta \u001b[36m0:00:00\u001b[0m\n",
            "\u001b[2K     \u001b[90m━━━━━━━━━━━━━━━━━━━━━━━━━━━━━━━━━━━━━━━━\u001b[0m \u001b[32m7.6/7.6 MB\u001b[0m \u001b[31m22.4 MB/s\u001b[0m eta \u001b[36m0:00:00\u001b[0m\n",
            "\u001b[2K     \u001b[90m━━━━━━━━━━━━━━━━━━━━━━━━━━━━━━━━━━━━━━\u001b[0m \u001b[32m190.3/190.3 KB\u001b[0m \u001b[31m14.5 MB/s\u001b[0m eta \u001b[36m0:00:00\u001b[0m\n",
            "\u001b[?25h"
          ]
        }
      ],
      "source": [
        "!pip install -q transformers"
      ]
    },
    {
      "cell_type": "code",
      "execution_count": 2,
      "metadata": {
        "colab": {
          "base_uri": "https://localhost:8080/"
        },
        "id": "ULcKJUjHmkZT",
        "outputId": "683eb4dd-b133-45e9-dcf0-3fffb163caea"
      },
      "outputs": [
        {
          "output_type": "stream",
          "name": "stdout",
          "text": [
            "Looking in indexes: https://pypi.org/simple, https://us-python.pkg.dev/colab-wheels/public/simple/\n",
            "Requirement already satisfied: pydot in /usr/local/lib/python3.8/dist-packages (1.3.0)\n",
            "Requirement already satisfied: pyparsing>=2.1.4 in /usr/local/lib/python3.8/dist-packages (from pydot) (3.0.9)\n"
          ]
        }
      ],
      "source": [
        "!pip install pydot"
      ]
    },
    {
      "cell_type": "code",
      "execution_count": 3,
      "metadata": {
        "id": "aTq7Qjqbmkfv"
      },
      "outputs": [],
      "source": [
        "from sklearn.datasets import fetch_20newsgroups\n",
        "from sklearn.model_selection import train_test_split\n",
        "from sklearn.metrics import classification_report"
      ]
    },
    {
      "cell_type": "code",
      "execution_count": 4,
      "metadata": {
        "id": "-6E-xzDawK0Q"
      },
      "outputs": [],
      "source": [
        "from collections import Counter\n",
        "import numpy as np\n",
        "import tensorflow as tf\n",
        "from tensorflow import keras\n",
        "\n",
        "import seaborn as sns\n",
        "import matplotlib.pyplot as plt\n",
        "from pprint import pprint "
      ]
    },
    {
      "cell_type": "code",
      "execution_count": 5,
      "metadata": {
        "id": "99yIOuqFXMwU"
      },
      "outputs": [],
      "source": [
        "from transformers import BertTokenizer, TFBertModel"
      ]
    },
    {
      "cell_type": "code",
      "execution_count": 6,
      "metadata": {
        "id": "UWk_PZ9hmkk0"
      },
      "outputs": [],
      "source": [
        "def read_20newsgroups(test_size=0.1):\n",
        "  # download & load 20newsgroups dataset from sklearn's repos\n",
        "  dataset = fetch_20newsgroups(subset=\"all\", shuffle=True, remove=(\"headers\", \"footers\", \"quotes\"))\n",
        "  documents = dataset.data\n",
        "  labels = dataset.target\n",
        "  # split into training & testing a return data as well as label names\n",
        "  return train_test_split(documents, labels, test_size=test_size), dataset.target_names\n",
        "  \n",
        "# call the function\n",
        "(train_texts, test_texts, train_labels, test_labels), target_names = read_20newsgroups()"
      ]
    },
    {
      "cell_type": "markdown",
      "metadata": {
        "id": "8Ocyl9dnb1OM"
      },
      "source": [
        "Take a look at the records.  We basically have a long string of text and an associated label.  That label is the Usenet group where the posting occured. The records are the raw text.  They vary significantly in size."
      ]
    },
    {
      "cell_type": "code",
      "execution_count": 7,
      "metadata": {
        "colab": {
          "base_uri": "https://localhost:8080/"
        },
        "id": "O7Akxu2Umkpo",
        "outputId": "2d150d12-64ca-46f5-cebf-8ba1dc430c2e"
      },
      "outputs": [
        {
          "output_type": "execute_result",
          "data": {
            "text/plain": [
              "[\"\\nMainly carbon dust with iron in a plastic binder that is melted on to the\\npaper.  Same stuff as dry paper photocopiers.\\n\\nAllergies?  Haven't heard of any, but anything's possible with allergies ;-)\",\n",
              " '\\nTrue.. but what about showing the missing part of a leaf?  Is this\\n\"corona discharge\"?\\n\\n\\n']"
            ]
          },
          "metadata": {},
          "execution_count": 7
        }
      ],
      "source": [
        "train_texts[:2]"
      ]
    },
    {
      "cell_type": "markdown",
      "metadata": {
        "id": "1eKIgSBdcHy9"
      },
      "source": [
        "Notice the \"labels\" are just integers that are an offset into the list of target names."
      ]
    },
    {
      "cell_type": "code",
      "execution_count": 8,
      "metadata": {
        "colab": {
          "base_uri": "https://localhost:8080/"
        },
        "id": "KRnu9CSQnMNN",
        "outputId": "16cb8ffb-85be-4af1-fd89-466fc2ffa682"
      },
      "outputs": [
        {
          "output_type": "execute_result",
          "data": {
            "text/plain": [
              "array([13, 13])"
            ]
          },
          "metadata": {},
          "execution_count": 8
        }
      ],
      "source": [
        "train_labels[:2]"
      ]
    },
    {
      "cell_type": "markdown",
      "metadata": {
        "id": "F-ksEnmbcWBt"
      },
      "source": [
        "The variable ''target_names'' stores all of the names of the labels."
      ]
    },
    {
      "cell_type": "code",
      "execution_count": 9,
      "metadata": {
        "colab": {
          "base_uri": "https://localhost:8080/"
        },
        "id": "qvNAnCstx-3S",
        "outputId": "1e185992-7c2b-4c92-e9da-36351c7bd5bc"
      },
      "outputs": [
        {
          "output_type": "stream",
          "name": "stdout",
          "text": [
            "['alt.atheism', 'comp.graphics', 'comp.os.ms-windows.misc', 'comp.sys.ibm.pc.hardware', 'comp.sys.mac.hardware', 'comp.windows.x', 'misc.forsale', 'rec.autos', 'rec.motorcycles', 'rec.sport.baseball', 'rec.sport.hockey', 'sci.crypt', 'sci.electronics', 'sci.med', 'sci.space', 'soc.religion.christian', 'talk.politics.guns', 'talk.politics.mideast', 'talk.politics.misc', 'talk.religion.misc']\n"
          ]
        }
      ],
      "source": [
        "print(target_names)"
      ]
    },
    {
      "cell_type": "markdown",
      "metadata": {
        "id": "m1SmEVYOcwP6"
      },
      "source": [
        "We already have a test set and a train set.  Let's explicitly set aside part of our training set for validation purposes."
      ]
    },
    {
      "cell_type": "code",
      "execution_count": 10,
      "metadata": {
        "id": "H1toWirQAAZ8"
      },
      "outputs": [],
      "source": [
        "len(train_texts)\n",
        "valid_texts = train_texts[16000:]\n",
        "valid_labels = train_labels[16000:]\n",
        "train_texts = train_texts[:16000]\n",
        "train_labels = train_labels[:16000]"
      ]
    },
    {
      "cell_type": "markdown",
      "metadata": {
        "id": "aBMiGVwHc76-"
      },
      "source": [
        "The validation set will always have 961 records."
      ]
    },
    {
      "cell_type": "code",
      "execution_count": 11,
      "metadata": {
        "colab": {
          "base_uri": "https://localhost:8080/"
        },
        "id": "bzuXsJjwAAOr",
        "outputId": "5a1f5962-a3db-4999-944a-de71e295a154"
      },
      "outputs": [
        {
          "output_type": "execute_result",
          "data": {
            "text/plain": [
              "961"
            ]
          },
          "metadata": {},
          "execution_count": 11
        }
      ],
      "source": [
        "len(valid_texts)"
      ]
    },
    {
      "cell_type": "markdown",
      "metadata": {
        "id": "SBy5EKYwdBcZ"
      },
      "source": [
        "The training set will always have 16000 records."
      ]
    },
    {
      "cell_type": "code",
      "execution_count": 12,
      "metadata": {
        "colab": {
          "base_uri": "https://localhost:8080/"
        },
        "id": "MMVgiD8SCHUk",
        "outputId": "c55c60d1-2fef-48f4-a121-2c3d52a27a98"
      },
      "outputs": [
        {
          "output_type": "execute_result",
          "data": {
            "text/plain": [
              "16000"
            ]
          },
          "metadata": {},
          "execution_count": 12
        }
      ],
      "source": [
        "len(train_texts)"
      ]
    },
    {
      "cell_type": "markdown",
      "metadata": {
        "id": "LGVOwMBKu2OW"
      },
      "source": [
        "**NOTE:** Each time you rerun the data you will draw a *different* set of train and test documents even though the numbers 961 and 16000 will always be the same."
      ]
    },
    {
      "cell_type": "code",
      "execution_count": 13,
      "metadata": {
        "id": "mFISqjoM335H"
      },
      "outputs": [],
      "source": [
        "#get the labels in a needed data format for validation\n",
        "npvalid_labels = np.asarray(valid_labels)"
      ]
    },
    {
      "cell_type": "markdown",
      "metadata": {
        "id": "d3T5uytRdK7I"
      },
      "source": [
        "* train_texts - an array of text strings for training\n",
        "* test_texts - an array of text strings for testing \n",
        "* valid texts - an array of text strings for validation\n",
        "* train_labels - an array of integers representing the labels associated with train_texts\n",
        "* test_labels - an array of integers representing the labels associated with test_texts\n",
        "* valid_labels - an array of integers representing the labels associated with valid_texts\n",
        "* target_names - an array of label strings that correspond to the integers in the *_labels arrays\n",
        "\n",
        "### 2. Classification with a fine tuned BERT model\n",
        "\n",
        "Let's pick our BERT model.  We'll start with the base BERT model and we'll use the cased version since our data has capital and lower case letters."
      ]
    },
    {
      "cell_type": "code",
      "execution_count": 14,
      "metadata": {
        "id": "zjFWaM2ZnMIC"
      },
      "outputs": [],
      "source": [
        "#make it easier to use a variety of BERT subword models\n",
        "model_checkpoint = 'bert-base-cased'"
      ]
    },
    {
      "cell_type": "code",
      "execution_count": 15,
      "metadata": {
        "colab": {
          "base_uri": "https://localhost:8080/",
          "height": 254,
          "referenced_widgets": [
            "a8d85435f9924672821f884c35c6a1c6",
            "01f91065a1384402b29c53e68be29e4f",
            "8ca065fe8e5f4edbbc81ab13a02b5a95",
            "af48dd5d2d184f8e817b8d5e7996b5fb",
            "bf8bf0bc7bbe41edbe5f7a348586bfc8",
            "6354410d2ca646039d5f677b738847a1",
            "3ff5c5f87fc74aa3bdc6e8071e425be5",
            "9e5f83259d6344f1bd7bbdf712288e2d",
            "8a8510eccb61483c97fdaf85ccff432b",
            "e9fc365cce7b469496194528facb1f29",
            "a73af835e4f14ce28b7ba940ad394d8f",
            "b9fe11755323457698e01016f0854359",
            "8b4b10bab4fa4fa49e4a70a798ecc39a",
            "0e41684f52df4c3ca369c1f8d8049505",
            "77c425c90457425598377ab3b7515b6e",
            "853e2f00b22244fc93b6644a4743b74b",
            "eb2a79a406f14ec59bcac9392867dacd",
            "67ea2ce9c76f4ab2908e19492cee76b4",
            "da1143d4187d4f898190ba60dd1bec82",
            "9a74eed5e47349b892d6335efbe6ed2f",
            "558838662d35490b8a8e1be448e776e1",
            "89609a9f670e450e9792dcfd81b6112c",
            "119c7e998f9248019b50d6ee652b7667",
            "9b843aacbdf8424187ea06345b6c2e71",
            "7f2c1503e1dc46f499cd7508bde93e10",
            "ff80219b7bee49ccab6cea3276ff1228",
            "d0d17f74f60649fa816333551c397950",
            "abdbd357629d45c28d0c038ab1745d09",
            "57563e1df4bc4cfa81e69df9f8c7c3da",
            "2e45add3129a420c968d33819e19b44c",
            "e6ba2b85791f4497961987868bdeb0b6",
            "ba3e45ccc3c4415bbfb6233cda3185f1",
            "223296e1c6e94620b078afd26b9d235b",
            "6e602b2e23ed47e89d6e59a910f5b018",
            "5ecfa8bc5f6f4a16b706e78f747fd921",
            "39ea87239e254f4798db1b78acdb6056",
            "45138689910a40bb98914694df79d7e8",
            "9aa51ab35674490aa22b260a8c5412df",
            "0644d1519f4a40a694df7c4dc6b30c21",
            "cf71e4f112f94627bdfa70e0813a9174",
            "e214b1ba25c046a0a60783dc9d2b6a18",
            "830173e4ecec4b8f92f53391161c746f",
            "0e7ddde292f145fb83d4887d82e4c2f9",
            "f6344e8c303d4f91ba18becc53357838"
          ]
        },
        "id": "-7gV_GUdn9Ck",
        "outputId": "36e866a5-9055-4f6e-ae09-3daac92d4c8c"
      },
      "outputs": [
        {
          "output_type": "display_data",
          "data": {
            "text/plain": [
              "Downloading (…)solve/main/vocab.txt:   0%|          | 0.00/213k [00:00<?, ?B/s]"
            ],
            "application/vnd.jupyter.widget-view+json": {
              "version_major": 2,
              "version_minor": 0,
              "model_id": "a8d85435f9924672821f884c35c6a1c6"
            }
          },
          "metadata": {}
        },
        {
          "output_type": "display_data",
          "data": {
            "text/plain": [
              "Downloading (…)okenizer_config.json:   0%|          | 0.00/29.0 [00:00<?, ?B/s]"
            ],
            "application/vnd.jupyter.widget-view+json": {
              "version_major": 2,
              "version_minor": 0,
              "model_id": "b9fe11755323457698e01016f0854359"
            }
          },
          "metadata": {}
        },
        {
          "output_type": "display_data",
          "data": {
            "text/plain": [
              "Downloading (…)lve/main/config.json:   0%|          | 0.00/570 [00:00<?, ?B/s]"
            ],
            "application/vnd.jupyter.widget-view+json": {
              "version_major": 2,
              "version_minor": 0,
              "model_id": "119c7e998f9248019b50d6ee652b7667"
            }
          },
          "metadata": {}
        },
        {
          "output_type": "display_data",
          "data": {
            "text/plain": [
              "Downloading (…)\"tf_model.h5\";:   0%|          | 0.00/527M [00:00<?, ?B/s]"
            ],
            "application/vnd.jupyter.widget-view+json": {
              "version_major": 2,
              "version_minor": 0,
              "model_id": "6e602b2e23ed47e89d6e59a910f5b018"
            }
          },
          "metadata": {}
        },
        {
          "output_type": "stream",
          "name": "stderr",
          "text": [
            "Some layers from the model checkpoint at bert-base-cased were not used when initializing TFBertModel: ['mlm___cls', 'nsp___cls']\n",
            "- This IS expected if you are initializing TFBertModel from the checkpoint of a model trained on another task or with another architecture (e.g. initializing a BertForSequenceClassification model from a BertForPreTraining model).\n",
            "- This IS NOT expected if you are initializing TFBertModel from the checkpoint of a model that you expect to be exactly identical (initializing a BertForSequenceClassification model from a BertForSequenceClassification model).\n",
            "All the layers of TFBertModel were initialized from the model checkpoint at bert-base-cased.\n",
            "If your task is similar to the task the model of the checkpoint was trained on, you can already use TFBertModel for predictions without further training.\n"
          ]
        }
      ],
      "source": [
        "bert_tokenizer = BertTokenizer.from_pretrained(model_checkpoint)\n",
        "bert_model = TFBertModel.from_pretrained(model_checkpoint)"
      ]
    },
    {
      "cell_type": "markdown",
      "metadata": {
        "id": "ZJGkIHSHdilH"
      },
      "source": [
        "We're setting our maximum training record length to 200.  BERT models can handle more and after you've completed the assignment you're welcome to try larger and small sized records."
      ]
    },
    {
      "cell_type": "code",
      "execution_count": 16,
      "metadata": {
        "id": "h_59AaVznMCV"
      },
      "outputs": [],
      "source": [
        "max_length = 200"
      ]
    },
    {
      "cell_type": "markdown",
      "metadata": {
        "id": "n6d54_bqd58L"
      },
      "source": [
        "Now we'll tokenize our three data slices.  This will take a minute or two."
      ]
    },
    {
      "cell_type": "code",
      "execution_count": 17,
      "metadata": {
        "id": "bgv0nftinL6z"
      },
      "outputs": [],
      "source": [
        "# tokenize the dataset, truncate when passed `max_length`, \n",
        "# and pad with 0's when less than `max_length` and return a tf Tensor\n",
        "train_encodings = bert_tokenizer(train_texts, truncation=True, padding=True, max_length=max_length, return_tensors='tf')\n",
        "valid_encodings = bert_tokenizer(valid_texts, truncation=True, padding=True, max_length=max_length, return_tensors='tf')\n",
        "test_encodings = bert_tokenizer(test_texts, truncation=True, padding=True, max_length=max_length, return_tensors='tf')"
      ]
    },
    {
      "cell_type": "markdown",
      "metadata": {
        "id": "2gNS0Fi0emN8"
      },
      "source": [
        "Notice our input_ids for the first training record and their padding. The train_encodings also includes an array of token_type_ids and an attention_mask array. "
      ]
    },
    {
      "cell_type": "code",
      "execution_count": 18,
      "metadata": {
        "colab": {
          "base_uri": "https://localhost:8080/"
        },
        "id": "XFEXxgAmnLve",
        "outputId": "64bd8b17-9544-4b49-bf9f-5051883070a7"
      },
      "outputs": [
        {
          "output_type": "execute_result",
          "data": {
            "text/plain": [
              "<tf.Tensor: shape=(1, 200), dtype=int32, numpy=\n",
              "array([[  101,  4304,  1193,  6302,  6693,  1114,  3926,  1107,   170,\n",
              "         5828, 15600,  1200,  1115,  1110, 12755,  1113,  1106,  1103,\n",
              "         2526,   119, 14060,  4333,  1112,  3712,  2526,  6307,  2528,\n",
              "        15418,  1733,   119,  1398,  1200, 19310,   136,  7755,   112,\n",
              "          189,  1767,  1104,  1251,   117,  1133,  1625,   112,   188,\n",
              "         1936,  1114,  1155,  1200, 19310,   132,   118,   114,   102,\n",
              "            0,     0,     0,     0,     0,     0,     0,     0,     0,\n",
              "            0,     0,     0,     0,     0,     0,     0,     0,     0,\n",
              "            0,     0,     0,     0,     0,     0,     0,     0,     0,\n",
              "            0,     0,     0,     0,     0,     0,     0,     0,     0,\n",
              "            0,     0,     0,     0,     0,     0,     0,     0,     0,\n",
              "            0,     0,     0,     0,     0,     0,     0,     0,     0,\n",
              "            0,     0,     0,     0,     0,     0,     0,     0,     0,\n",
              "            0,     0,     0,     0,     0,     0,     0,     0,     0,\n",
              "            0,     0,     0,     0,     0,     0,     0,     0,     0,\n",
              "            0,     0,     0,     0,     0,     0,     0,     0,     0,\n",
              "            0,     0,     0,     0,     0,     0,     0,     0,     0,\n",
              "            0,     0,     0,     0,     0,     0,     0,     0,     0,\n",
              "            0,     0,     0,     0,     0,     0,     0,     0,     0,\n",
              "            0,     0,     0,     0,     0,     0,     0,     0,     0,\n",
              "            0,     0,     0,     0,     0,     0,     0,     0,     0,\n",
              "            0,     0,     0,     0,     0,     0,     0,     0,     0,\n",
              "            0,     0]], dtype=int32)>"
            ]
          },
          "metadata": {},
          "execution_count": 18
        }
      ],
      "source": [
        "train_encodings.input_ids[:1]"
      ]
    },
    {
      "cell_type": "markdown",
      "metadata": {
        "id": "23lwfDw2T6gI"
      },
      "source": [
        "Write a function to create this multiclass bert model.\n",
        "\n",
        "Keep in mind the following:\n",
        "* Each record can have one of n labels where n = the size of target_names.\n",
        "* We'll still want a hidden size layer of size 201\n",
        "* We'll want our hidden layer to make use of the **pooler output** from BERT\n",
        "* We'll also want to use dropout\n",
        "* Our classification layer will need to be appropriately sized and use the correct non-linearity for a multi-class problem.\n",
        "* Since we have multiple labels we can no longer use binary cross entropy.  Instead we need to change our loss metric to a categorical cross entropy.  Which of the two categorical cross entropy metrics will work best here? \n",
        "* Make sure that training affects **all** of the layers in BERT.\n"
      ]
    },
    {
      "cell_type": "code",
      "execution_count": 19,
      "metadata": {
        "id": "RtWMrLi4tIun"
      },
      "outputs": [],
      "source": [
        "def create_bert_multiclass_model(checkpoint = model_checkpoint,\n",
        "                                 num_classes = 20,\n",
        "                                 hidden_size = 201, \n",
        "                                 dropout=0.3,\n",
        "                                 learning_rate=0.00005):\n",
        "    \"\"\"\n",
        "    Build a simple classification model with BERT. Use the Pooler Output for classification purposes.\n",
        "    \"\"\"\n",
        "    # Add trainable to True\n",
        "    bert_model = TFBertModel.from_pretrained(checkpoint)                \n",
        "    bert_model.trainable = True                              \n",
        "\n",
        "    ### YOUR CODE HERE\n",
        "    input_ids = tf.keras.layers.Input(shape=(max_length,), dtype=tf.int64, name='input_ids_layer')\n",
        "    token_type_ids = tf.keras.layers.Input(shape=(max_length,), dtype=tf.int64, name='token_type_ids_layer')\n",
        "    attention_mask = tf.keras.layers.Input(shape=(max_length,), dtype=tf.int64, name='attention_mask_layer')\n",
        "\n",
        "    bert_inputs = {'input_ids': input_ids,\n",
        "                   'token_type_ids': token_type_ids,\n",
        "                   'attention_mask': attention_mask}      \n",
        "\n",
        "    bert_out = bert_model(bert_inputs)\n",
        "\n",
        "    pooler_token = bert_out[1]\n",
        "    #cls_token = bert_out[0][:, 0, :]\n",
        "\n",
        "    hidden = tf.keras.layers.Dense(hidden_size, activation='relu', name='hidden_layer')(pooler_token)\n",
        "\n",
        "\n",
        "    hidden = tf.keras.layers.Dropout(dropout)(hidden)  \n",
        "\n",
        "\n",
        "    classification = tf.keras.layers.Dense(num_classes, \n",
        "                                           activation='softmax',\n",
        "                                           name='classification_layer')(hidden)\n",
        "    \n",
        "    classification_model = tf.keras.Model(inputs=[input_ids, token_type_ids, attention_mask], outputs=[classification])\n",
        "    \n",
        "    classification_model.compile(optimizer=tf.keras.optimizers.Adam(learning_rate=learning_rate),\n",
        "                                 loss = tf.keras.losses.SparseCategoricalCrossentropy(from_logits=True), \n",
        "                                 metrics='accuracy')\n",
        "    \n",
        "    ### END YOUR CODE\n",
        "    return classification_model"
      ]
    },
    {
      "cell_type": "code",
      "execution_count": 20,
      "metadata": {
        "colab": {
          "base_uri": "https://localhost:8080/"
        },
        "id": "uR-Id158tIlH",
        "outputId": "df1c1452-1243-478f-b5b3-b198ac2dfdd9"
      },
      "outputs": [
        {
          "output_type": "stream",
          "name": "stderr",
          "text": [
            "Some layers from the model checkpoint at bert-base-cased were not used when initializing TFBertModel: ['mlm___cls', 'nsp___cls']\n",
            "- This IS expected if you are initializing TFBertModel from the checkpoint of a model trained on another task or with another architecture (e.g. initializing a BertForSequenceClassification model from a BertForPreTraining model).\n",
            "- This IS NOT expected if you are initializing TFBertModel from the checkpoint of a model that you expect to be exactly identical (initializing a BertForSequenceClassification model from a BertForSequenceClassification model).\n",
            "All the layers of TFBertModel were initialized from the model checkpoint at bert-base-cased.\n",
            "If your task is similar to the task the model of the checkpoint was trained on, you can already use TFBertModel for predictions without further training.\n"
          ]
        }
      ],
      "source": [
        "pooler_bert_model = create_bert_multiclass_model(checkpoint=model_checkpoint, num_classes=20)"
      ]
    },
    {
      "cell_type": "code",
      "execution_count": 21,
      "metadata": {
        "colab": {
          "base_uri": "https://localhost:8080/"
        },
        "id": "bMxpO16-tIaE",
        "outputId": "cf019fae-34a5-4600-f24e-71e5388606d2"
      },
      "outputs": [
        {
          "output_type": "stream",
          "name": "stdout",
          "text": [
            "Model: \"model\"\n",
            "__________________________________________________________________________________________________\n",
            " Layer (type)                   Output Shape         Param #     Connected to                     \n",
            "==================================================================================================\n",
            " attention_mask_layer (InputLay  [(None, 200)]       0           []                               \n",
            " er)                                                                                              \n",
            "                                                                                                  \n",
            " input_ids_layer (InputLayer)   [(None, 200)]        0           []                               \n",
            "                                                                                                  \n",
            " token_type_ids_layer (InputLay  [(None, 200)]       0           []                               \n",
            " er)                                                                                              \n",
            "                                                                                                  \n",
            " tf_bert_model_1 (TFBertModel)  TFBaseModelOutputWi  108310272   ['attention_mask_layer[0][0]',   \n",
            "                                thPoolingAndCrossAt               'input_ids_layer[0][0]',        \n",
            "                                tentions(last_hidde               'token_type_ids_layer[0][0]']   \n",
            "                                n_state=(None, 200,                                               \n",
            "                                 768),                                                            \n",
            "                                 pooler_output=(Non                                               \n",
            "                                e, 768),                                                          \n",
            "                                 past_key_values=No                                               \n",
            "                                ne, hidden_states=N                                               \n",
            "                                one, attentions=Non                                               \n",
            "                                e, cross_attentions                                               \n",
            "                                =None)                                                            \n",
            "                                                                                                  \n",
            " hidden_layer (Dense)           (None, 201)          154569      ['tf_bert_model_1[0][1]']        \n",
            "                                                                                                  \n",
            " dropout_74 (Dropout)           (None, 201)          0           ['hidden_layer[0][0]']           \n",
            "                                                                                                  \n",
            " classification_layer (Dense)   (None, 20)           4040        ['dropout_74[0][0]']             \n",
            "                                                                                                  \n",
            "==================================================================================================\n",
            "Total params: 108,468,881\n",
            "Trainable params: 108,468,881\n",
            "Non-trainable params: 0\n",
            "__________________________________________________________________________________________________\n"
          ]
        }
      ],
      "source": [
        "pooler_bert_model.summary()"
      ]
    },
    {
      "cell_type": "markdown",
      "metadata": {
        "id": "5chyZZnHdlf9"
      },
      "source": [
        "**QUESTION:** 2.1 How many trainable parameters are in your dense hidden layer?\n",
        "**154,569**\n",
        "\n",
        "**QUESTION:** 2.2 How many trainable parameters are in your classification layer? **4040**"
      ]
    },
    {
      "cell_type": "code",
      "execution_count": 22,
      "metadata": {
        "colab": {
          "base_uri": "https://localhost:8080/",
          "height": 438
        },
        "id": "xe3tTWX6FVZL",
        "outputId": "ef262479-d037-431f-c05a-2fa0f2f8a399"
      },
      "outputs": [
        {
          "output_type": "execute_result",
          "data": {
            "image/png": "[encoded data removed]",
            "text/plain": [
              "<IPython.core.display.Image object>"
            ]
          },
          "metadata": {},
          "execution_count": 22
        }
      ],
      "source": [
        "keras.utils.plot_model(pooler_bert_model, show_shapes=False, show_dtype=False, show_layer_names=True, dpi=90)"
      ]
    },
    {
      "cell_type": "code",
      "execution_count": 23,
      "metadata": {
        "colab": {
          "base_uri": "https://localhost:8080/"
        },
        "id": "aLLjb3mOtICy",
        "outputId": "2634db80-9350-4252-e48d-d796c02be247"
      },
      "outputs": [
        {
          "output_type": "stream",
          "name": "stderr",
          "text": [
            "/usr/local/lib/python3.8/dist-packages/keras/backend.py:5585: UserWarning: \"`sparse_categorical_crossentropy` received `from_logits=True`, but the `output` argument was produced by a Softmax activation and thus does not represent logits. Was this intended?\n",
            "  output, from_logits = _get_logits(\n"
          ]
        },
        {
          "output_type": "stream",
          "name": "stdout",
          "text": [
            "2000/2000 [==============================] - 742s 353ms/step - loss: 1.4231 - accuracy: 0.5785 - val_loss: 1.1933 - val_accuracy: 0.6712\n"
          ]
        }
      ],
      "source": [
        "#It takes 10 to 14 minutes to complete an epoch when using a GPU\n",
        "pooler_bert_model_history = pooler_bert_model.fit([train_encodings.input_ids, train_encodings.token_type_ids, train_encodings.attention_mask], \n",
        "                                                  train_labels,   \n",
        "                                                  validation_data=([valid_encodings.input_ids, valid_encodings.token_type_ids, valid_encodings.attention_mask], \n",
        "                                                  npvalid_labels),    \n",
        "                                                  batch_size=8, \n",
        "                                                  epochs=1)  "
      ]
    },
    {
      "cell_type": "markdown",
      "metadata": {
        "id": "rdHlOd4LJUOH"
      },
      "source": [
        "Now we need to run evaluate against our fine-tuned model.  This will give us an overall accuracy based on the test set."
      ]
    },
    {
      "cell_type": "code",
      "execution_count": 24,
      "metadata": {
        "colab": {
          "base_uri": "https://localhost:8080/"
        },
        "id": "dPQn2tJPEGdU",
        "outputId": "9e2129c4-c3c3-4d13-bc5c-6515590222e5"
      },
      "outputs": [
        {
          "output_type": "stream",
          "name": "stdout",
          "text": [
            "59/59 [==============================] - 26s 440ms/step - loss: 1.0896 - accuracy: 0.6870\n",
            "Test loss: 1.089592456817627\n",
            "Test accuracy: 0.6870026588439941\n"
          ]
        }
      ],
      "source": [
        "#batch 8, ML=201\n",
        "score = pooler_bert_model.evaluate([test_encodings.input_ids, test_encodings.token_type_ids, test_encodings.attention_mask], \n",
        "                                                  test_labels) \n",
        "\n",
        "print('Test loss:', score[0]) \n",
        "print('Test accuracy:', score[1])"
      ]
    },
    {
      "cell_type": "markdown",
      "metadata": {
        "id": "3CnyZsXLfLJt"
      },
      "source": [
        "**QUESTION:** 2.3 What is the Test accuracy score you get from your model? (Just copy and paste the value into the answers sheet and round to five significant digits.) **0.68700**"
      ]
    },
    {
      "cell_type": "code",
      "execution_count": 25,
      "metadata": {
        "colab": {
          "base_uri": "https://localhost:8080/"
        },
        "id": "NS7Gp_IYEiJ_",
        "outputId": "569325e6-1391-4566-da0f-fc853fa07def"
      },
      "outputs": [
        {
          "output_type": "stream",
          "name": "stdout",
          "text": [
            "1/1 [==============================] - 3s 3s/step\n"
          ]
        }
      ],
      "source": [
        "#run predict for the first three elements in the test data set\n",
        "predictions = pooler_bert_model.predict([test_encodings.input_ids[:3], test_encodings.token_type_ids[:3], test_encodings.attention_mask[:3]])"
      ]
    },
    {
      "cell_type": "code",
      "execution_count": 26,
      "metadata": {
        "colab": {
          "base_uri": "https://localhost:8080/"
        },
        "id": "ymGM8QnpchnC",
        "outputId": "fe8a4743-1ff2-4dea-f4db-9b34927ee57d"
      },
      "outputs": [
        {
          "output_type": "execute_result",
          "data": {
            "text/plain": [
              "array([[0.13494396, 0.9254356 , 0.997844  , 0.8687509 , 0.47345555,\n",
              "        0.78440404, 0.81918246, 0.46424484, 0.24076317, 0.10899474,\n",
              "        0.25686425, 0.24118558, 0.24266301, 0.184721  , 0.627868  ,\n",
              "        0.06516719, 0.18170363, 0.31543502, 0.6043052 , 0.1995085 ],\n",
              "       [0.77999663, 0.40065792, 0.3228269 , 0.49138966, 0.26193154,\n",
              "        0.4396079 , 0.2202422 , 0.47341216, 0.21027727, 0.10345611,\n",
              "        0.1307496 , 0.17690723, 0.34542122, 0.6858435 , 0.35232034,\n",
              "        0.99322635, 0.51409924, 0.5958803 , 0.71966213, 0.9283756 ],\n",
              "       [0.2561045 , 0.93440473, 0.9552804 , 0.7690694 , 0.88557345,\n",
              "        0.45787206, 0.7508346 , 0.4287533 , 0.16449803, 0.09304635,\n",
              "        0.20956075, 0.21351486, 0.46528313, 0.23851262, 0.40595493,\n",
              "        0.12050088, 0.3686914 , 0.38457662, 0.53445965, 0.2300488 ]],\n",
              "      dtype=float32)"
            ]
          },
          "metadata": {},
          "execution_count": 26
        }
      ],
      "source": [
        "predictions"
      ]
    },
    {
      "cell_type": "code",
      "execution_count": 27,
      "metadata": {
        "colab": {
          "base_uri": "https://localhost:8080/"
        },
        "id": "-ahMJ-zwEiCs",
        "outputId": "3be32330-a06b-4a7b-8d85-a98ae5bd08ab"
      },
      "outputs": [
        {
          "output_type": "stream",
          "name": "stdout",
          "text": [
            "59/59 [==============================] - 26s 442ms/step\n"
          ]
        },
        {
          "output_type": "execute_result",
          "data": {
            "text/plain": [
              "<tf.Tensor: shape=(1885,), dtype=int64, numpy=array([ 2, 15,  2, ..., 11,  1,  5])>"
            ]
          },
          "metadata": {},
          "execution_count": 27
        }
      ],
      "source": [
        "#run and capture all predictions from our test set using model.predict\n",
        "### YOUR CODE HERE\n",
        "predictions_model1 = pooler_bert_model.predict([test_encodings.input_ids, test_encodings.token_type_ids, test_encodings.attention_mask])\n",
        "### END YOUR CODE\n",
        "\n",
        "#now we need to get the highest probability in the distribution for each prediction\n",
        "#and store that in a tf.Tensor\n",
        "predictions_model1 = tf.argmax(predictions_model1, axis=-1)\n",
        "predictions_model1"
      ]
    },
    {
      "cell_type": "markdown",
      "metadata": {
        "id": "LGI8oA6fMWTI"
      },
      "source": [
        "There are two ways to see what's going on with our classifier.  Overall accuracy is interesting but it can be misleading.  We need to make sure that each of our categories' prediction performance is operating at an equal or higher level than the overall.\n",
        "\n",
        "Here we'll use the classification report from scikit learn.  It expects two inputs as arrays.  One is the ground truth (y_true) and the other is the associated prediction (y_pred).  This is based on gethering all the predictions from our our test set."
      ]
    },
    {
      "cell_type": "code",
      "execution_count": 29,
      "metadata": {
        "colab": {
          "base_uri": "https://localhost:8080/"
        },
        "id": "wPqioIbh2XIE",
        "outputId": "804647df-7817-4944-e3cf-f868948bf401"
      },
      "outputs": [
        {
          "output_type": "stream",
          "name": "stdout",
          "text": [
            "                          precision    recall  f1-score   support\n",
            "\n",
            "             alt.atheism       0.61      0.48      0.53        82\n",
            "           comp.graphics       0.57      0.72      0.63        95\n",
            " comp.os.ms-windows.misc       0.61      0.80      0.69       100\n",
            "comp.sys.ibm.pc.hardware       0.62      0.45      0.52        99\n",
            "   comp.sys.mac.hardware       0.85      0.54      0.66        85\n",
            "          comp.windows.x       0.74      0.82      0.78       102\n",
            "            misc.forsale       0.87      0.71      0.78        93\n",
            "               rec.autos       0.48      0.68      0.56        92\n",
            "         rec.motorcycles       0.58      0.76      0.66       108\n",
            "      rec.sport.baseball       0.93      0.73      0.82       114\n",
            "        rec.sport.hockey       0.85      0.88      0.87       100\n",
            "               sci.crypt       0.93      0.72      0.81       107\n",
            "         sci.electronics       0.55      0.58      0.57        91\n",
            "                 sci.med       0.68      0.92      0.78       101\n",
            "               sci.space       0.95      0.72      0.82       102\n",
            "  soc.religion.christian       0.55      0.84      0.66        85\n",
            "      talk.politics.guns       0.60      0.76      0.67        80\n",
            "   talk.politics.mideast       0.85      0.79      0.82        92\n",
            "      talk.politics.misc       0.63      0.55      0.59        91\n",
            "      talk.religion.misc       0.00      0.00      0.00        66\n",
            "\n",
            "                accuracy                           0.69      1885\n",
            "               macro avg       0.67      0.67      0.66      1885\n",
            "            weighted avg       0.69      0.69      0.68      1885\n",
            "\n"
          ]
        },
        {
          "output_type": "stream",
          "name": "stderr",
          "text": [
            "/usr/local/lib/python3.8/dist-packages/sklearn/metrics/_classification.py:1318: UndefinedMetricWarning: Precision and F-score are ill-defined and being set to 0.0 in labels with no predicted samples. Use `zero_division` parameter to control this behavior.\n",
            "  _warn_prf(average, modifier, msg_start, len(result))\n",
            "/usr/local/lib/python3.8/dist-packages/sklearn/metrics/_classification.py:1318: UndefinedMetricWarning: Precision and F-score are ill-defined and being set to 0.0 in labels with no predicted samples. Use `zero_division` parameter to control this behavior.\n",
            "  _warn_prf(average, modifier, msg_start, len(result))\n",
            "/usr/local/lib/python3.8/dist-packages/sklearn/metrics/_classification.py:1318: UndefinedMetricWarning: Precision and F-score are ill-defined and being set to 0.0 in labels with no predicted samples. Use `zero_division` parameter to control this behavior.\n",
            "  _warn_prf(average, modifier, msg_start, len(result))\n"
          ]
        }
      ],
      "source": [
        "print(classification_report(test_labels, predictions_model1.numpy(), target_names=target_names))"
      ]
    },
    {
      "cell_type": "code",
      "source": [
        "classification_report(test_labels, predictions_model1.numpy(), target_names=target_names, output_dict = True)"
      ],
      "metadata": {
        "colab": {
          "base_uri": "https://localhost:8080/"
        },
        "id": "nN-5cQVW_hVB",
        "outputId": "fb414056-1683-4d0d-b801-0a38787cbdaa"
      },
      "execution_count": 30,
      "outputs": [
        {
          "output_type": "stream",
          "name": "stderr",
          "text": [
            "/usr/local/lib/python3.8/dist-packages/sklearn/metrics/_classification.py:1318: UndefinedMetricWarning: Precision and F-score are ill-defined and being set to 0.0 in labels with no predicted samples. Use `zero_division` parameter to control this behavior.\n",
            "  _warn_prf(average, modifier, msg_start, len(result))\n",
            "/usr/local/lib/python3.8/dist-packages/sklearn/metrics/_classification.py:1318: UndefinedMetricWarning: Precision and F-score are ill-defined and being set to 0.0 in labels with no predicted samples. Use `zero_division` parameter to control this behavior.\n",
            "  _warn_prf(average, modifier, msg_start, len(result))\n",
            "/usr/local/lib/python3.8/dist-packages/sklearn/metrics/_classification.py:1318: UndefinedMetricWarning: Precision and F-score are ill-defined and being set to 0.0 in labels with no predicted samples. Use `zero_division` parameter to control this behavior.\n",
            "  _warn_prf(average, modifier, msg_start, len(result))\n"
          ]
        },
        {
          "output_type": "execute_result",
          "data": {
            "text/plain": [
              "{'alt.atheism': {'precision': 0.609375,\n",
              "  'recall': 0.47560975609756095,\n",
              "  'f1-score': 0.5342465753424657,\n",
              "  'support': 82},\n",
              " 'comp.graphics': {'precision': 0.5666666666666667,\n",
              "  'recall': 0.7157894736842105,\n",
              "  'f1-score': 0.6325581395348837,\n",
              "  'support': 95},\n",
              " 'comp.os.ms-windows.misc': {'precision': 0.6060606060606061,\n",
              "  'recall': 0.8,\n",
              "  'f1-score': 0.689655172413793,\n",
              "  'support': 100},\n",
              " 'comp.sys.ibm.pc.hardware': {'precision': 0.6164383561643836,\n",
              "  'recall': 0.45454545454545453,\n",
              "  'f1-score': 0.5232558139534884,\n",
              "  'support': 99},\n",
              " 'comp.sys.mac.hardware': {'precision': 0.8518518518518519,\n",
              "  'recall': 0.5411764705882353,\n",
              "  'f1-score': 0.6618705035971222,\n",
              "  'support': 85},\n",
              " 'comp.windows.x': {'precision': 0.7433628318584071,\n",
              "  'recall': 0.8235294117647058,\n",
              "  'f1-score': 0.7813953488372093,\n",
              "  'support': 102},\n",
              " 'misc.forsale': {'precision': 0.868421052631579,\n",
              "  'recall': 0.7096774193548387,\n",
              "  'f1-score': 0.7810650887573964,\n",
              "  'support': 93},\n",
              " 'rec.autos': {'precision': 0.4772727272727273,\n",
              "  'recall': 0.6847826086956522,\n",
              "  'f1-score': 0.5625000000000001,\n",
              "  'support': 92},\n",
              " 'rec.motorcycles': {'precision': 0.5815602836879432,\n",
              "  'recall': 0.7592592592592593,\n",
              "  'f1-score': 0.6586345381526104,\n",
              "  'support': 108},\n",
              " 'rec.sport.baseball': {'precision': 0.9325842696629213,\n",
              "  'recall': 0.7280701754385965,\n",
              "  'f1-score': 0.8177339901477831,\n",
              "  'support': 114},\n",
              " 'rec.sport.hockey': {'precision': 0.8543689320388349,\n",
              "  'recall': 0.88,\n",
              "  'f1-score': 0.8669950738916256,\n",
              "  'support': 100},\n",
              " 'sci.crypt': {'precision': 0.927710843373494,\n",
              "  'recall': 0.719626168224299,\n",
              "  'f1-score': 0.8105263157894735,\n",
              "  'support': 107},\n",
              " 'sci.electronics': {'precision': 0.5520833333333334,\n",
              "  'recall': 0.5824175824175825,\n",
              "  'f1-score': 0.5668449197860963,\n",
              "  'support': 91},\n",
              " 'sci.med': {'precision': 0.6838235294117647,\n",
              "  'recall': 0.9207920792079208,\n",
              "  'f1-score': 0.7848101265822783,\n",
              "  'support': 101},\n",
              " 'sci.space': {'precision': 0.948051948051948,\n",
              "  'recall': 0.7156862745098039,\n",
              "  'f1-score': 0.8156424581005587,\n",
              "  'support': 102},\n",
              " 'soc.religion.christian': {'precision': 0.5461538461538461,\n",
              "  'recall': 0.8352941176470589,\n",
              "  'f1-score': 0.6604651162790697,\n",
              "  'support': 85},\n",
              " 'talk.politics.guns': {'precision': 0.6039603960396039,\n",
              "  'recall': 0.7625,\n",
              "  'f1-score': 0.6740331491712708,\n",
              "  'support': 80},\n",
              " 'talk.politics.mideast': {'precision': 0.8488372093023255,\n",
              "  'recall': 0.7934782608695652,\n",
              "  'f1-score': 0.8202247191011235,\n",
              "  'support': 92},\n",
              " 'talk.politics.misc': {'precision': 0.6329113924050633,\n",
              "  'recall': 0.5494505494505495,\n",
              "  'f1-score': 0.5882352941176472,\n",
              "  'support': 91},\n",
              " 'talk.religion.misc': {'precision': 0.0,\n",
              "  'recall': 0.0,\n",
              "  'f1-score': 0.0,\n",
              "  'support': 66},\n",
              " 'accuracy': 0.6870026525198939,\n",
              " 'macro avg': {'precision': 0.672574753798365,\n",
              "  'recall': 0.6725842530877646,\n",
              "  'f1-score': 0.6615346171777947,\n",
              "  'support': 1885},\n",
              " 'weighted avg': {'precision': 0.6889115141439358,\n",
              "  'recall': 0.6870026525198939,\n",
              "  'f1-score': 0.6768679039921796,\n",
              "  'support': 1885}}"
            ]
          },
          "metadata": {},
          "execution_count": 30
        }
      ]
    },
    {
      "cell_type": "code",
      "source": [
        "report_orig = classification_report(test_labels, predictions_model1.numpy(), target_names=target_names, output_dict = True, zero_division=False)"
      ],
      "metadata": {
        "id": "7Y-tfBYzti9L"
      },
      "execution_count": 83,
      "outputs": []
    },
    {
      "cell_type": "markdown",
      "metadata": {
        "id": "ddMMQ2vBOJKj"
      },
      "source": [
        "**QUESTION:** 2.4 What is the key difference between the macro average F1 score and the weighted average F1 score?\n",
        "**In Macro-average F1 score, all classes contribute equally to the final average value. This does not work for imbalanced data set. For weighted average F1 score considers each representative class's weighted contribution towards the average.**\n",
        "\n",
        "**QUESTION:** 2.5 What is the macro average F1 score you get from the classification report?\n",
        "**0.66153**\n",
        "\n",
        "Now we'll generate another very valuable visualization of what's happening with our classifier -- a confusion matrix."
      ]
    },
    {
      "cell_type": "code",
      "execution_count": 32,
      "metadata": {
        "id": "udwdL6iKEh7b",
        "colab": {
          "base_uri": "https://localhost:8080/"
        },
        "outputId": "90e8b400-3cce-462c-f565-7724bf39649b"
      },
      "outputs": [
        {
          "output_type": "execute_result",
          "data": {
            "text/plain": [
              "<tf.Tensor: shape=(20,), dtype=int32, numpy=\n",
              "array([39,  1,  0,  0,  0,  0,  0,  4,  4,  0,  0,  0,  0,  4,  0, 24,  0,\n",
              "        5,  1,  0], dtype=int32)>"
            ]
          },
          "metadata": {},
          "execution_count": 32
        }
      ],
      "source": [
        "cm_orig = tf.math.confusion_matrix(test_labels, predictions_model1)\n",
        "cm_orig[0]"
      ]
    },
    {
      "cell_type": "code",
      "source": [
        "test_labels.shape, cm_orig.shape"
      ],
      "metadata": {
        "colab": {
          "base_uri": "https://localhost:8080/"
        },
        "id": "Zv-E5X8PNQ63",
        "outputId": "107a501d-b9a5-4578-cdd9-86a94af22c03"
      },
      "execution_count": 33,
      "outputs": [
        {
          "output_type": "execute_result",
          "data": {
            "text/plain": [
              "((1885,), TensorShape([20, 20]))"
            ]
          },
          "metadata": {},
          "execution_count": 33
        }
      ]
    },
    {
      "cell_type": "code",
      "source": [
        "cm = cm_orig /cm_orig.numpy().sum(axis=1)[:, tf.newaxis]\n",
        "cm[0]"
      ],
      "metadata": {
        "colab": {
          "base_uri": "https://localhost:8080/"
        },
        "id": "u9_GtH_tdwfa",
        "outputId": "b47c91d4-bc74-4d34-c5e5-3dd7a835bf82"
      },
      "execution_count": 34,
      "outputs": [
        {
          "output_type": "execute_result",
          "data": {
            "text/plain": [
              "<tf.Tensor: shape=(20,), dtype=float64, numpy=\n",
              "array([0.47560976, 0.01219512, 0.        , 0.        , 0.        ,\n",
              "       0.        , 0.        , 0.04878049, 0.04878049, 0.        ,\n",
              "       0.        , 0.        , 0.        , 0.04878049, 0.        ,\n",
              "       0.29268293, 0.        , 0.06097561, 0.01219512, 0.        ])>"
            ]
          },
          "metadata": {},
          "execution_count": 34
        }
      ]
    },
    {
      "cell_type": "code",
      "source": [
        "cm_orig[-1]"
      ],
      "metadata": {
        "colab": {
          "base_uri": "https://localhost:8080/"
        },
        "id": "EPXkiD5nJ9Fg",
        "outputId": "b4fc65cf-44e6-491d-822c-4baa8ae07feb"
      },
      "execution_count": 35,
      "outputs": [
        {
          "output_type": "execute_result",
          "data": {
            "text/plain": [
              "<tf.Tensor: shape=(20,), dtype=int32, numpy=\n",
              "array([12,  1,  0,  0,  0,  0,  0,  3,  3,  0,  0,  0,  0,  2,  1, 31,  9,\n",
              "        0,  4,  0], dtype=int32)>"
            ]
          },
          "metadata": {},
          "execution_count": 35
        }
      ]
    },
    {
      "cell_type": "code",
      "source": [
        "cm[-1]"
      ],
      "metadata": {
        "colab": {
          "base_uri": "https://localhost:8080/"
        },
        "id": "2VsFTdNfKCTF",
        "outputId": "53189e53-b2dd-4fc1-c2b4-1743b7edefba"
      },
      "execution_count": 36,
      "outputs": [
        {
          "output_type": "execute_result",
          "data": {
            "text/plain": [
              "<tf.Tensor: shape=(20,), dtype=float64, numpy=\n",
              "array([0.18181818, 0.01515152, 0.        , 0.        , 0.        ,\n",
              "       0.        , 0.        , 0.04545455, 0.04545455, 0.        ,\n",
              "       0.        , 0.        , 0.        , 0.03030303, 0.01515152,\n",
              "       0.46969697, 0.13636364, 0.        , 0.06060606, 0.        ])>"
            ]
          },
          "metadata": {},
          "execution_count": 36
        }
      ]
    },
    {
      "cell_type": "markdown",
      "metadata": {
        "id": "_9YL2AlQOY4Y"
      },
      "source": [
        "And now we'll display it!"
      ]
    },
    {
      "cell_type": "code",
      "execution_count": 37,
      "metadata": {
        "colab": {
          "base_uri": "https://localhost:8080/",
          "height": 585
        },
        "id": "gh0Bxg-8EhzZ",
        "outputId": "dd9e856e-b824-4cee-b8c4-1289fcf03929"
      },
      "outputs": [
        {
          "output_type": "execute_result",
          "data": {
            "text/plain": [
              "Text(159.0, 0.5, 'True')"
            ]
          },
          "metadata": {},
          "execution_count": 37
        },
        {
          "output_type": "display_data",
          "data": {
            "text/plain": [
              "<Figure size 1440x504 with 2 Axes>"
            ],
            "image/png": "[encoded data removed]"
          },
          "metadata": {
            "needs_background": "light"
          }
        }
      ],
      "source": [
        "plt.figure(figsize=(20,7))\n",
        "sns.heatmap(\n",
        "    cm, annot=True,\n",
        "    xticklabels=target_names,\n",
        "    yticklabels=target_names)\n",
        "plt.xlabel(\"Predicted\")\n",
        "plt.ylabel(\"True\")"
      ]
    },
    {
      "cell_type": "markdown",
      "metadata": {
        "id": "6OKhCGVDOgdl"
      },
      "source": [
        "### 3. Classification using two stages\n",
        "\n",
        "Okay, not bad.  As you can see, some categories are easier to distinguish than others. Look for the class with the lowest F1 score (it should be the one at the bottom of the list). In the confusion matrix, which other class is that one being mistaken for most often?\n",
        "\n",
        "You might notice that the categories in this dataset are somewhat heirarchical. There are more obvious differences between groups of news categories (e.g. computers vs recreation) and then subtler differences between categories within those groups (e.g. PC vs Mac, within computers).\n",
        "\n",
        "When this happens, one idea is to train a series of models, to first separate out the more obvious groups of classes, and then use more specialized sub-models to classify only a subset of the classes. Let's try that here."
      ]
    },
    {
      "cell_type": "markdown",
      "metadata": {
        "id": "E0qA4QBstsin"
      },
      "source": [
        "#### Step 1: New model with 19 classes\n",
        "\n",
        "For simplicity, we'll just combine two categories in our first step. We'll replace the label of the last class with the label of the class it's most often mistaken for. (That way, we'll have labels from 0 to 18 instead of 0 to 19, and don't have to renumber everything, though you would have to if you group them more.)"
      ]
    },
    {
      "cell_type": "code",
      "source": [
        "from sklearn.metrics import precision_score\n",
        "from sklearn.metrics import confusion_matrix\n",
        "from sklearn.metrics import recall_score\n",
        "from sklearn.metrics import accuracy_score\n",
        "from sklearn.metrics import f1_score\n",
        "\n",
        "# Calculate precision scores\n",
        "classification_precision_scores = precision_score(test_labels, predictions_model1.numpy(), average = None)\n",
        "y_pos = np.arange(len(classification_precision_scores))\n",
        "\n",
        "plt.bar(y_pos, classification_precision_scores, align = 'center', alpha = 0.5)\n",
        "plt.xticks(y_pos, set(test_labels), rotation = 90)\n",
        "plt.ylabel('Precision Score')\n",
        "plt.title('Precision scores per class')\n",
        "\n",
        "print(\"Off the positive predictions, % of the right predictions per class\")\n",
        "for prec, lbl in list(zip(classification_precision_scores, set(test_labels))):\n",
        "    print(f\"{lbl} class has precision : {prec}\")\n",
        "plt.show(block = False)\n",
        "\n",
        "# Calculate recall scores\n",
        "classification_recall_scores = recall_score(test_labels, predictions_model1.numpy(), average = None)\n",
        "y_pos = np.arange(len(classification_precision_scores))\n",
        "\n",
        "plt.bar(y_pos, classification_recall_scores, align = 'center', alpha = 0.5)\n",
        "plt.xticks(y_pos, set(test_labels), rotation = 90)\n",
        "plt.ylabel('Recall Score')\n",
        "plt.title('Recall scores per class')\n",
        "\n",
        "print(\"Off the positive cases, % of the right predictions per class\")\n",
        "for prec, lbl in list(zip(classification_precision_scores, set(test_labels))):\n",
        "    print(f\"{lbl} class has recall : {prec}\")\n",
        "plt.show(block = False)\n",
        "\n",
        "# Calculate F1 scores\n",
        "classification_f1_scores = f1_score(test_labels, predictions_model1.numpy(), average = None)\n",
        "y_pos = np.arange(len(classification_f1_scores))\n",
        "\n",
        "plt.bar(y_pos, classification_f1_scores, align = 'center', alpha = 0.5)\n",
        "plt.xticks(y_pos, set(test_labels), rotation = 90)\n",
        "plt.ylabel('F1 Score')\n",
        "plt.title('F1 scores per class')\n",
        "\n",
        "print(\"F1 scores per class\")\n",
        "for prec, lbl in list(zip(classification_f1_scores, set(test_labels))):\n",
        "    print(f\"{lbl} class has f1 score : {prec}\")\n",
        "plt.show(block = False)"
      ],
      "metadata": {
        "colab": {
          "base_uri": "https://localhost:8080/",
          "height": 1000
        },
        "id": "z9EbRp_A4_yZ",
        "outputId": "b3a9fa36-91fa-4fd8-e2bc-4940701dc86a"
      },
      "execution_count": 39,
      "outputs": [
        {
          "output_type": "stream",
          "name": "stderr",
          "text": [
            "/usr/local/lib/python3.8/dist-packages/sklearn/metrics/_classification.py:1318: UndefinedMetricWarning: Precision is ill-defined and being set to 0.0 in labels with no predicted samples. Use `zero_division` parameter to control this behavior.\n",
            "  _warn_prf(average, modifier, msg_start, len(result))\n"
          ]
        },
        {
          "output_type": "stream",
          "name": "stdout",
          "text": [
            "Off the positive predictions, % of the right predictions per class\n",
            "0 class has precision : 0.609375\n",
            "1 class has precision : 0.5666666666666667\n",
            "2 class has precision : 0.6060606060606061\n",
            "3 class has precision : 0.6164383561643836\n",
            "4 class has precision : 0.8518518518518519\n",
            "5 class has precision : 0.7433628318584071\n",
            "6 class has precision : 0.868421052631579\n",
            "7 class has precision : 0.4772727272727273\n",
            "8 class has precision : 0.5815602836879432\n",
            "9 class has precision : 0.9325842696629213\n",
            "10 class has precision : 0.8543689320388349\n",
            "11 class has precision : 0.927710843373494\n",
            "12 class has precision : 0.5520833333333334\n",
            "13 class has precision : 0.6838235294117647\n",
            "14 class has precision : 0.948051948051948\n",
            "15 class has precision : 0.5461538461538461\n",
            "16 class has precision : 0.6039603960396039\n",
            "17 class has precision : 0.8488372093023255\n",
            "18 class has precision : 0.6329113924050633\n",
            "19 class has precision : 0.0\n"
          ]
        },
        {
          "output_type": "display_data",
          "data": {
            "text/plain": [
              "<Figure size 432x288 with 1 Axes>"
            ],
            "image/png": "[encoded data removed]"
          },
          "metadata": {
            "needs_background": "light"
          }
        },
        {
          "output_type": "stream",
          "name": "stdout",
          "text": [
            "Off the positive cases, % of the right predictions per class\n",
            "0 class has recall : 0.609375\n",
            "1 class has recall : 0.5666666666666667\n",
            "2 class has recall : 0.6060606060606061\n",
            "3 class has recall : 0.6164383561643836\n",
            "4 class has recall : 0.8518518518518519\n",
            "5 class has recall : 0.7433628318584071\n",
            "6 class has recall : 0.868421052631579\n",
            "7 class has recall : 0.4772727272727273\n",
            "8 class has recall : 0.5815602836879432\n",
            "9 class has recall : 0.9325842696629213\n",
            "10 class has recall : 0.8543689320388349\n",
            "11 class has recall : 0.927710843373494\n",
            "12 class has recall : 0.5520833333333334\n",
            "13 class has recall : 0.6838235294117647\n",
            "14 class has recall : 0.948051948051948\n",
            "15 class has recall : 0.5461538461538461\n",
            "16 class has recall : 0.6039603960396039\n",
            "17 class has recall : 0.8488372093023255\n",
            "18 class has recall : 0.6329113924050633\n",
            "19 class has recall : 0.0\n"
          ]
        },
        {
          "output_type": "display_data",
          "data": {
            "text/plain": [
              "<Figure size 432x288 with 1 Axes>"
            ],
            "image/png": "[encoded data removed]"
          },
          "metadata": {
            "needs_background": "light"
          }
        },
        {
          "output_type": "stream",
          "name": "stdout",
          "text": [
            "F1 scores per class\n",
            "0 class has f1 score : 0.5342465753424657\n",
            "1 class has f1 score : 0.6325581395348837\n",
            "2 class has f1 score : 0.689655172413793\n",
            "3 class has f1 score : 0.5232558139534884\n",
            "4 class has f1 score : 0.6618705035971222\n",
            "5 class has f1 score : 0.7813953488372093\n",
            "6 class has f1 score : 0.7810650887573964\n",
            "7 class has f1 score : 0.5625000000000001\n",
            "8 class has f1 score : 0.6586345381526104\n",
            "9 class has f1 score : 0.8177339901477831\n",
            "10 class has f1 score : 0.8669950738916256\n",
            "11 class has f1 score : 0.8105263157894735\n",
            "12 class has f1 score : 0.5668449197860963\n",
            "13 class has f1 score : 0.7848101265822783\n",
            "14 class has f1 score : 0.8156424581005587\n",
            "15 class has f1 score : 0.6604651162790697\n",
            "16 class has f1 score : 0.6740331491712708\n",
            "17 class has f1 score : 0.8202247191011235\n",
            "18 class has f1 score : 0.5882352941176472\n",
            "19 class has f1 score : 0.0\n"
          ]
        },
        {
          "output_type": "display_data",
          "data": {
            "text/plain": [
              "<Figure size 432x288 with 1 Axes>"
            ],
            "image/png": "[encoded data removed]"
          },
          "metadata": {
            "needs_background": "light"
          }
        }
      ]
    },
    {
      "cell_type": "code",
      "execution_count": 40,
      "metadata": {
        "id": "b0rAv6nLmrwN"
      },
      "outputs": [],
      "source": [
        "label_to_replace = 19\n",
        "\n",
        "# label_to_replace_with = ...\n",
        "### YOUR CODE HERE\n",
        "label_to_replace_with = 15\n",
        "\n",
        "### END YOUR CODE\n",
        "\n",
        "train_labels_19class = train_labels.copy()\n",
        "train_labels_19class[train_labels_19class == label_to_replace] = label_to_replace_with\n",
        "\n",
        "valid_labels_19class = npvalid_labels.copy()\n",
        "valid_labels_19class[valid_labels_19class == label_to_replace] = label_to_replace_with\n",
        "\n",
        "test_labels_19class = test_labels.copy()\n",
        "test_labels_19class[test_labels_19class == label_to_replace] = label_to_replace_with"
      ]
    },
    {
      "cell_type": "markdown",
      "metadata": {
        "id": "dSQd_UDQhmQd"
      },
      "source": [
        "Now let's create a new model with the same architecture, but to predict probabilities for 19 classes instead of 20. We're using all of the data in this first step, so we'll use the encodings we already preprocessed as inputs, but use the new labels that only have 19 classes."
      ]
    },
    {
      "cell_type": "code",
      "execution_count": 41,
      "metadata": {
        "id": "s7hR7ahmmrYL",
        "colab": {
          "base_uri": "https://localhost:8080/"
        },
        "outputId": "eee83d15-5089-4449-8300-ac954226aec9"
      },
      "outputs": [
        {
          "output_type": "stream",
          "name": "stderr",
          "text": [
            "Some layers from the model checkpoint at bert-base-cased were not used when initializing TFBertModel: ['mlm___cls', 'nsp___cls']\n",
            "- This IS expected if you are initializing TFBertModel from the checkpoint of a model trained on another task or with another architecture (e.g. initializing a BertForSequenceClassification model from a BertForPreTraining model).\n",
            "- This IS NOT expected if you are initializing TFBertModel from the checkpoint of a model that you expect to be exactly identical (initializing a BertForSequenceClassification model from a BertForSequenceClassification model).\n",
            "All the layers of TFBertModel were initialized from the model checkpoint at bert-base-cased.\n",
            "If your task is similar to the task the model of the checkpoint was trained on, you can already use TFBertModel for predictions without further training.\n"
          ]
        }
      ],
      "source": [
        "bert_model_19class = create_bert_multiclass_model(checkpoint = model_checkpoint, num_classes=19)"
      ]
    },
    {
      "cell_type": "code",
      "execution_count": 42,
      "metadata": {
        "id": "O4Qsai6UmrOj",
        "colab": {
          "base_uri": "https://localhost:8080/"
        },
        "outputId": "24e8c88b-5729-473a-9914-e08be4e81bd2"
      },
      "outputs": [
        {
          "output_type": "stream",
          "name": "stderr",
          "text": [
            "/usr/local/lib/python3.8/dist-packages/keras/backend.py:5585: UserWarning: \"`sparse_categorical_crossentropy` received `from_logits=True`, but the `output` argument was produced by a Softmax activation and thus does not represent logits. Was this intended?\n",
            "  output, from_logits = _get_logits(\n"
          ]
        },
        {
          "output_type": "stream",
          "name": "stdout",
          "text": [
            "2000/2000 [==============================] - 745s 352ms/step - loss: 1.3551 - accuracy: 0.6044 - val_loss: 1.0926 - val_accuracy: 0.6847\n"
          ]
        }
      ],
      "source": [
        "bert_model_19class_history = bert_model_19class.fit([train_encodings.input_ids, train_encodings.token_type_ids, train_encodings.attention_mask], \n",
        "                                                  train_labels_19class,   \n",
        "                                                  validation_data=([valid_encodings.input_ids, valid_encodings.token_type_ids, valid_encodings.attention_mask],\n",
        "                                                                   valid_labels_19class),    \n",
        "                                                  batch_size=8,\n",
        "                                                  epochs=1)"
      ]
    },
    {
      "cell_type": "code",
      "execution_count": 43,
      "metadata": {
        "id": "BkW9hMq9g9dV",
        "colab": {
          "base_uri": "https://localhost:8080/"
        },
        "outputId": "a76acb45-2af1-4a98-ab6e-6068aac78686"
      },
      "outputs": [
        {
          "output_type": "stream",
          "name": "stdout",
          "text": [
            "59/59 [==============================] - 26s 442ms/step - loss: nan - accuracy: 0.6748\n",
            "Test loss: nan\n",
            "Test accuracy: 0.6748010516166687\n"
          ]
        }
      ],
      "source": [
        "#Evaluate the fine tuned 19-class model against the test data with 19-class labels\n",
        "### YOUR CODE HERE\n",
        "score_19class = bert_model_19class.evaluate([test_encodings.input_ids, test_encodings.token_type_ids, test_encodings.attention_mask], \n",
        "                                                  test_labels) \n",
        "\n",
        "print('Test loss:', score_19class[0]) \n",
        "print('Test accuracy:', score_19class[1])\n",
        "### END YOUR CODE"
      ]
    },
    {
      "cell_type": "markdown",
      "metadata": {
        "id": "DPaUdul4hlp0"
      },
      "source": [
        "**QUESTION:** \n",
        "\n",
        "3.1 What is the test accuracy you get when you run the new first stage model with only 19 classes?\n",
        "**0.67480**"
      ]
    },
    {
      "cell_type": "code",
      "execution_count": 44,
      "metadata": {
        "id": "TrWtaXSug9UR",
        "colab": {
          "base_uri": "https://localhost:8080/"
        },
        "outputId": "7323f4c8-fd0b-473d-ae31-e8ccc8622795"
      },
      "outputs": [
        {
          "output_type": "stream",
          "name": "stdout",
          "text": [
            "59/59 [==============================] - 29s 439ms/step\n"
          ]
        },
        {
          "output_type": "execute_result",
          "data": {
            "text/plain": [
              "<tf.Tensor: shape=(1885,), dtype=int64, numpy=array([ 2, 15,  4, ..., 11,  1,  5])>"
            ]
          },
          "metadata": {},
          "execution_count": 44
        }
      ],
      "source": [
        "#run and capture all the predictions from the 19 class data\n",
        "### YOUR CODE HERE \n",
        "predictions_19class = bert_model_19class.predict([test_encodings.input_ids, test_encodings.token_type_ids, test_encodings.attention_mask])\n",
        "predictions_19class = tf.argmax(predictions_19class, axis=-1)\n",
        "### END YOUR CODE\n",
        "predictions_19class"
      ]
    },
    {
      "cell_type": "code",
      "source": [
        "predictions_19class"
      ],
      "metadata": {
        "id": "Kj8j_rie1Rc4",
        "outputId": "d9fc965a-bfbb-4347-839d-2cfa07efa14b",
        "colab": {
          "base_uri": "https://localhost:8080/"
        }
      },
      "execution_count": 45,
      "outputs": [
        {
          "output_type": "execute_result",
          "data": {
            "text/plain": [
              "<tf.Tensor: shape=(1885,), dtype=int64, numpy=array([ 2, 15,  4, ..., 11,  1,  5])>"
            ]
          },
          "metadata": {},
          "execution_count": 45
        }
      ]
    },
    {
      "cell_type": "code",
      "execution_count": 46,
      "metadata": {
        "id": "-nAlDV7K8T4q",
        "colab": {
          "base_uri": "https://localhost:8080/"
        },
        "outputId": "6086cff8-5250-41c7-c022-1fad4910fca0"
      },
      "outputs": [
        {
          "output_type": "stream",
          "name": "stdout",
          "text": [
            "                          precision    recall  f1-score   support\n",
            "\n",
            "             alt.atheism       0.84      0.20      0.32        82\n",
            "           comp.graphics       0.71      0.62      0.66        95\n",
            " comp.os.ms-windows.misc       0.58      0.81      0.67       100\n",
            "comp.sys.ibm.pc.hardware       0.65      0.40      0.50        99\n",
            "   comp.sys.mac.hardware       0.63      0.72      0.67        85\n",
            "          comp.windows.x       0.83      0.80      0.82       102\n",
            "            misc.forsale       0.62      0.81      0.70        93\n",
            "               rec.autos       0.43      0.84      0.57        92\n",
            "         rec.motorcycles       0.77      0.64      0.70       108\n",
            "      rec.sport.baseball       0.98      0.73      0.83       114\n",
            "        rec.sport.hockey       0.92      0.88      0.90       100\n",
            "               sci.crypt       0.88      0.79      0.83       107\n",
            "         sci.electronics       0.58      0.56      0.57        91\n",
            "                 sci.med       0.93      0.86      0.89       101\n",
            "               sci.space       0.76      0.76      0.76       102\n",
            "    ** COMBINED CLASS **       0.68      0.77      0.73       151\n",
            "      talk.politics.guns       0.49      0.84      0.62        80\n",
            "   talk.politics.mideast       0.78      0.77      0.78        92\n",
            "      talk.politics.misc       0.86      0.33      0.48        91\n",
            "\n",
            "                accuracy                           0.70      1885\n",
            "               macro avg       0.73      0.69      0.68      1885\n",
            "            weighted avg       0.74      0.70      0.69      1885\n",
            "\n"
          ]
        }
      ],
      "source": [
        "target_names_19class = target_names[:label_to_replace_with] \\\n",
        "                     + ['** COMBINED CLASS **'] \\\n",
        "                     + target_names[label_to_replace_with+1:19]\n",
        "print(classification_report(test_labels_19class, predictions_19class,\n",
        "                            target_names=target_names_19class))"
      ]
    },
    {
      "cell_type": "code",
      "source": [
        "classification_report(test_labels_19class, predictions_19class,target_names=target_names_19class, output_dict=True)"
      ],
      "metadata": {
        "colab": {
          "base_uri": "https://localhost:8080/"
        },
        "id": "HFY7o6leWRaZ",
        "outputId": "406acc85-e114-431c-cb07-37fb6ba1c68f"
      },
      "execution_count": 47,
      "outputs": [
        {
          "output_type": "execute_result",
          "data": {
            "text/plain": [
              "{'alt.atheism': {'precision': 0.8421052631578947,\n",
              "  'recall': 0.1951219512195122,\n",
              "  'f1-score': 0.31683168316831684,\n",
              "  'support': 82},\n",
              " 'comp.graphics': {'precision': 0.7108433734939759,\n",
              "  'recall': 0.6210526315789474,\n",
              "  'f1-score': 0.6629213483146067,\n",
              "  'support': 95},\n",
              " 'comp.os.ms-windows.misc': {'precision': 0.5785714285714286,\n",
              "  'recall': 0.81,\n",
              "  'f1-score': 0.6749999999999999,\n",
              "  'support': 100},\n",
              " 'comp.sys.ibm.pc.hardware': {'precision': 0.6451612903225806,\n",
              "  'recall': 0.40404040404040403,\n",
              "  'f1-score': 0.49689440993788814,\n",
              "  'support': 99},\n",
              " 'comp.sys.mac.hardware': {'precision': 0.6288659793814433,\n",
              "  'recall': 0.7176470588235294,\n",
              "  'f1-score': 0.6703296703296703,\n",
              "  'support': 85},\n",
              " 'comp.windows.x': {'precision': 0.8282828282828283,\n",
              "  'recall': 0.803921568627451,\n",
              "  'f1-score': 0.8159203980099502,\n",
              "  'support': 102},\n",
              " 'misc.forsale': {'precision': 0.6198347107438017,\n",
              "  'recall': 0.8064516129032258,\n",
              "  'f1-score': 0.7009345794392523,\n",
              "  'support': 93},\n",
              " 'rec.autos': {'precision': 0.42777777777777776,\n",
              "  'recall': 0.8369565217391305,\n",
              "  'f1-score': 0.5661764705882353,\n",
              "  'support': 92},\n",
              " 'rec.motorcycles': {'precision': 0.7666666666666667,\n",
              "  'recall': 0.6388888888888888,\n",
              "  'f1-score': 0.696969696969697,\n",
              "  'support': 108},\n",
              " 'rec.sport.baseball': {'precision': 0.9764705882352941,\n",
              "  'recall': 0.7280701754385965,\n",
              "  'f1-score': 0.834170854271357,\n",
              "  'support': 114},\n",
              " 'rec.sport.hockey': {'precision': 0.9166666666666666,\n",
              "  'recall': 0.88,\n",
              "  'f1-score': 0.8979591836734694,\n",
              "  'support': 100},\n",
              " 'sci.crypt': {'precision': 0.875,\n",
              "  'recall': 0.7850467289719626,\n",
              "  'f1-score': 0.8275862068965517,\n",
              "  'support': 107},\n",
              " 'sci.electronics': {'precision': 0.5795454545454546,\n",
              "  'recall': 0.5604395604395604,\n",
              "  'f1-score': 0.5698324022346368,\n",
              "  'support': 91},\n",
              " 'sci.med': {'precision': 0.925531914893617,\n",
              "  'recall': 0.8613861386138614,\n",
              "  'f1-score': 0.8923076923076922,\n",
              "  'support': 101},\n",
              " 'sci.space': {'precision': 0.7647058823529411,\n",
              "  'recall': 0.7647058823529411,\n",
              "  'f1-score': 0.7647058823529412,\n",
              "  'support': 102},\n",
              " '** COMBINED CLASS **': {'precision': 0.6842105263157895,\n",
              "  'recall': 0.7748344370860927,\n",
              "  'f1-score': 0.7267080745341615,\n",
              "  'support': 151},\n",
              " 'talk.politics.guns': {'precision': 0.49264705882352944,\n",
              "  'recall': 0.8375,\n",
              "  'f1-score': 0.6203703703703705,\n",
              "  'support': 80},\n",
              " 'talk.politics.mideast': {'precision': 0.7802197802197802,\n",
              "  'recall': 0.7717391304347826,\n",
              "  'f1-score': 0.7759562841530054,\n",
              "  'support': 92},\n",
              " 'talk.politics.misc': {'precision': 0.8571428571428571,\n",
              "  'recall': 0.32967032967032966,\n",
              "  'f1-score': 0.4761904761904761,\n",
              "  'support': 91},\n",
              " 'accuracy': 0.6981432360742705,\n",
              " 'macro avg': {'precision': 0.7315921077681224,\n",
              "  'recall': 0.6909196326752219,\n",
              "  'f1-score': 0.6835666149338041,\n",
              "  'support': 1885},\n",
              " 'weighted avg': {'precision': 0.7370737137931681,\n",
              "  'recall': 0.6981432360742705,\n",
              "  'f1-score': 0.6927877238735343,\n",
              "  'support': 1885}}"
            ]
          },
          "metadata": {},
          "execution_count": 47
        }
      ]
    },
    {
      "cell_type": "code",
      "source": [
        "report_19cls = classification_report(test_labels_19class, predictions_19class,target_names=target_names_19class, output_dict=True, zero_division=False)"
      ],
      "metadata": {
        "id": "RhGH5NK2txXl"
      },
      "execution_count": 84,
      "outputs": []
    },
    {
      "cell_type": "markdown",
      "metadata": {
        "id": "Eh6nKilF8V7b"
      },
      "source": [
        "**QUESTION:** \n",
        "\n",
        "3.2 What is the F1 score you get for the combined class when you run the new first stage model with only 19 classes?\n",
        "**Macro average F1 score 0.68357 and weighted average F1 score is 0.69278.**"
      ]
    },
    {
      "cell_type": "markdown",
      "metadata": {
        "id": "TTZcBibxR153"
      },
      "source": [
        "#### Step 2: New model with only the two classes combined in step one\n",
        "\n",
        "Now, our first stage model is able to determine which text is one of the two often confused classes, but we need to train a more specific model to distinguish between just these two classes. Ideally, this model will only focus on the more subtle differences between these two news categories, since it doesn't have to learn everything else about the other categories.\n",
        "\n",
        "For this model, we're only going to train using the text examples that are one of the two confused categories. We'll keep the encodings we already tokenized, so we need to separate out the input_ids, token_type_ids, and attention_mask for just the rows that have one of these two labels."
      ]
    },
    {
      "cell_type": "code",
      "source": [
        "label_to_replace, label_to_replace_with"
      ],
      "metadata": {
        "colab": {
          "base_uri": "https://localhost:8080/"
        },
        "id": "nqqK1IlhcTLQ",
        "outputId": "58bd4358-ca4a-48ee-a7a3-df52958efde3"
      },
      "execution_count": 73,
      "outputs": [
        {
          "output_type": "execute_result",
          "data": {
            "text/plain": [
              "(19, 15)"
            ]
          },
          "metadata": {},
          "execution_count": 73
        }
      ]
    },
    {
      "cell_type": "code",
      "execution_count": 49,
      "metadata": {
        "id": "N4TmPG6B1mz0"
      },
      "outputs": [],
      "source": [
        "train_mask_2class = (train_labels_19class == label_to_replace_with)\n",
        "train_encodings_2class = {'input_ids': train_encodings.input_ids[train_mask_2class],\n",
        "                          'token_type_ids': train_encodings.token_type_ids[train_mask_2class],\n",
        "                          'attention_mask': train_encodings.attention_mask[train_mask_2class]}\n",
        "train_labels_2class = train_labels.copy()[train_mask_2class]\n",
        "train_labels_2class = (train_labels_2class == label_to_replace_with).astype(int)\n",
        "\n",
        "valid_mask_2class = (valid_labels_19class == label_to_replace_with)\n",
        "valid_encodings_2class = {'input_ids': valid_encodings.input_ids[valid_mask_2class],\n",
        "                          'token_type_ids': valid_encodings.token_type_ids[valid_mask_2class],\n",
        "                          'attention_mask': valid_encodings.attention_mask[valid_mask_2class]}\n",
        "valid_labels_2class = npvalid_labels.copy()[valid_mask_2class]\n",
        "valid_labels_2class = (valid_labels_2class == label_to_replace_with).astype(int)\n",
        "\n",
        "test_mask_2class = (test_labels_19class == label_to_replace_with)\n",
        "test_encodings_2class = {'input_ids': test_encodings.input_ids[test_mask_2class],\n",
        "                          'token_type_ids': test_encodings.token_type_ids[test_mask_2class],\n",
        "                          'attention_mask': test_encodings.attention_mask[test_mask_2class]}\n",
        "test_labels_2class = test_labels.copy()[test_mask_2class]\n",
        "test_labels_2class = (test_labels_2class == label_to_replace_with).astype(int)"
      ]
    },
    {
      "cell_type": "code",
      "execution_count": 50,
      "metadata": {
        "id": "xwTzhDVp9YTT",
        "colab": {
          "base_uri": "https://localhost:8080/"
        },
        "outputId": "852590f7-aa7a-485b-a698-551578054bda"
      },
      "outputs": [
        {
          "output_type": "execute_result",
          "data": {
            "text/plain": [
              "(1385,)"
            ]
          },
          "metadata": {},
          "execution_count": 50
        }
      ],
      "source": [
        "train_labels_2class.shape"
      ]
    },
    {
      "cell_type": "code",
      "execution_count": 51,
      "metadata": {
        "id": "O76HzIGh9dct",
        "colab": {
          "base_uri": "https://localhost:8080/"
        },
        "outputId": "feb8b085-d450-465a-80be-36be75feaa97"
      },
      "outputs": [
        {
          "output_type": "execute_result",
          "data": {
            "text/plain": [
              "array([1, 0, 1, ..., 0, 1, 1])"
            ]
          },
          "metadata": {},
          "execution_count": 51
        }
      ],
      "source": [
        "train_labels_2class"
      ]
    },
    {
      "cell_type": "markdown",
      "metadata": {
        "id": "3c7M7sFCucU8"
      },
      "source": [
        "Create and train a new model with the same architecture as before, except that it only predicts two classes. (Note that we could change this to a binary prediction model, but we'll keep it multiclass for consistency here.)"
      ]
    },
    {
      "cell_type": "code",
      "execution_count": 52,
      "metadata": {
        "id": "dNe5zVOflttk",
        "colab": {
          "base_uri": "https://localhost:8080/"
        },
        "outputId": "2b653c19-1a09-409d-9be0-12c1a21c0cb6"
      },
      "outputs": [
        {
          "output_type": "stream",
          "name": "stderr",
          "text": [
            "Some layers from the model checkpoint at bert-base-cased were not used when initializing TFBertModel: ['mlm___cls', 'nsp___cls']\n",
            "- This IS expected if you are initializing TFBertModel from the checkpoint of a model trained on another task or with another architecture (e.g. initializing a BertForSequenceClassification model from a BertForPreTraining model).\n",
            "- This IS NOT expected if you are initializing TFBertModel from the checkpoint of a model that you expect to be exactly identical (initializing a BertForSequenceClassification model from a BertForSequenceClassification model).\n",
            "All the layers of TFBertModel were initialized from the model checkpoint at bert-base-cased.\n",
            "If your task is similar to the task the model of the checkpoint was trained on, you can already use TFBertModel for predictions without further training.\n"
          ]
        }
      ],
      "source": [
        "bert_model_2class = create_bert_multiclass_model(checkpoint=model_checkpoint, num_classes=2)"
      ]
    },
    {
      "cell_type": "code",
      "execution_count": 53,
      "metadata": {
        "id": "-F5DM3zGlvSd",
        "colab": {
          "base_uri": "https://localhost:8080/"
        },
        "outputId": "51881f8c-9933-4678-ce8a-3021efcb1663"
      },
      "outputs": [
        {
          "output_type": "stream",
          "name": "stderr",
          "text": [
            "/usr/local/lib/python3.8/dist-packages/keras/backend.py:5585: UserWarning: \"`sparse_categorical_crossentropy` received `from_logits=True`, but the `output` argument was produced by a Softmax activation and thus does not represent logits. Was this intended?\n",
            "  output, from_logits = _get_logits(\n"
          ]
        },
        {
          "output_type": "stream",
          "name": "stdout",
          "text": [
            "174/174 [==============================] - 116s 418ms/step - loss: 0.6795 - accuracy: 0.6354 - val_loss: 0.6032 - val_accuracy: 0.7079\n"
          ]
        }
      ],
      "source": [
        "bert_model_2class_history = bert_model_2class.fit([train_encodings_2class['input_ids'],\n",
        "                                                   train_encodings_2class['token_type_ids'],\n",
        "                                                   train_encodings_2class['attention_mask']], \n",
        "                                                  train_labels_2class,   \n",
        "                                                  validation_data=([valid_encodings_2class['input_ids'],\n",
        "                                                                    valid_encodings_2class['token_type_ids'],\n",
        "                                                                    valid_encodings_2class['attention_mask']],\n",
        "                                                                   valid_labels_2class),    \n",
        "                                                  batch_size=8, \n",
        "                                                  epochs=1)"
      ]
    },
    {
      "cell_type": "code",
      "execution_count": 54,
      "metadata": {
        "id": "UNEUeufxp1g5",
        "colab": {
          "base_uri": "https://localhost:8080/"
        },
        "outputId": "395ad707-18d6-4a84-a705-e6537e939273"
      },
      "outputs": [
        {
          "output_type": "stream",
          "name": "stdout",
          "text": [
            "5/5 [==============================] - 2s 390ms/step - loss: 0.6189 - accuracy: 0.6954\n",
            "Test loss: 0.6189409494400024\n",
            "Test accuracy: 0.695364236831665\n"
          ]
        }
      ],
      "source": [
        "#Evaluate the two-class model against the two-class test set.\n",
        "### YOUR CODE HERE\n",
        "score_2class = bert_model_2class.evaluate([test_encodings_2class['input_ids'], test_encodings_2class['token_type_ids'], test_encodings_2class['attention_mask']], \n",
        "                                                  test_labels_2class) \n",
        "\n",
        "### END YOUR CODE\n",
        "print('Test loss:', score_2class[0]) \n",
        "print('Test accuracy:', score_2class[1])"
      ]
    },
    {
      "cell_type": "code",
      "execution_count": 88,
      "metadata": {
        "id": "aPuN8_gaESJZ",
        "colab": {
          "base_uri": "https://localhost:8080/"
        },
        "outputId": "31d52571-f952-4c90-ca0d-263b5bc93878"
      },
      "outputs": [
        {
          "output_type": "stream",
          "name": "stdout",
          "text": [
            "5/5 [==============================] - 2s 373ms/step\n"
          ]
        },
        {
          "output_type": "execute_result",
          "data": {
            "text/plain": [
              "<tf.Tensor: shape=(151,), dtype=int64, numpy=\n",
              "array([1, 1, 1, 1, 1, 1, 1, 1, 1, 0, 1, 0, 1, 1, 1, 1, 1, 1, 1, 1, 1, 0,\n",
              "       1, 0, 1, 0, 1, 1, 1, 1, 0, 1, 1, 1, 1, 1, 1, 1, 0, 0, 1, 0, 1, 1,\n",
              "       1, 1, 0, 1, 1, 1, 1, 1, 1, 1, 1, 1, 1, 1, 1, 1, 0, 1, 1, 1, 1, 1,\n",
              "       1, 1, 1, 1, 1, 1, 0, 1, 0, 0, 1, 1, 1, 1, 1, 1, 1, 1, 1, 1, 0, 1,\n",
              "       0, 1, 1, 1, 1, 1, 1, 1, 0, 0, 0, 1, 0, 1, 1, 1, 1, 0, 1, 1, 1, 0,\n",
              "       1, 1, 1, 1, 1, 1, 1, 1, 0, 1, 1, 1, 1, 1, 1, 0, 1, 1, 1, 1, 1, 1,\n",
              "       0, 1, 1, 1, 1, 0, 0, 1, 1, 0, 0, 1, 0, 1, 1, 0, 1, 0, 1])>"
            ]
          },
          "metadata": {},
          "execution_count": 88
        }
      ],
      "source": [
        "#run and capture all the predictions from the 2-class test data\n",
        "### YOUR CODE HERE \n",
        "predictions_2class = bert_model_2class.predict([test_encodings_2class['input_ids'], test_encodings_2class['token_type_ids'], test_encodings_2class['attention_mask']])\n",
        "predictions_2class = tf.argmax(predictions_2class, axis=-1)\n",
        "### END YOUR CODE\n",
        "predictions_2class"
      ]
    },
    {
      "cell_type": "code",
      "execution_count": 89,
      "metadata": {
        "id": "zEnHd3ijESPH",
        "colab": {
          "base_uri": "https://localhost:8080/"
        },
        "outputId": "e7541dec-f290-42fc-f562-a0f50335f1a5"
      },
      "outputs": [
        {
          "output_type": "stream",
          "name": "stdout",
          "text": [
            "                        precision    recall  f1-score   support\n",
            "\n",
            "soc.religion.christian       0.81      0.39      0.53        66\n",
            "    talk.religion.misc       0.66      0.93      0.77        85\n",
            "\n",
            "              accuracy                           0.70       151\n",
            "             macro avg       0.74      0.66      0.65       151\n",
            "          weighted avg       0.73      0.70      0.67       151\n",
            "\n"
          ]
        }
      ],
      "source": [
        "# Run the sklearn classification_report again with the 2-class predictions\n",
        "### YOUR CODE HERE\n",
        "target_names_2class = [target_names[label_to_replace_with]] + [target_names[label_to_replace]]\n",
        "print(classification_report(test_labels_2class, predictions_2class.numpy(),target_names=target_names_2class))\n",
        "### END YOUR CODE"
      ]
    },
    {
      "cell_type": "code",
      "source": [
        "classification_report(test_labels_2class, predictions_2class.numpy(),target_names=target_names_2class, output_dict=True)"
      ],
      "metadata": {
        "colab": {
          "base_uri": "https://localhost:8080/"
        },
        "id": "CLrASyNXe4kc",
        "outputId": "e52d9a9f-53ec-4600-ce50-4df2516745b5"
      },
      "execution_count": 90,
      "outputs": [
        {
          "output_type": "execute_result",
          "data": {
            "text/plain": [
              "{'soc.religion.christian': {'precision': 0.8125,\n",
              "  'recall': 0.3939393939393939,\n",
              "  'f1-score': 0.5306122448979591,\n",
              "  'support': 66},\n",
              " 'talk.religion.misc': {'precision': 0.6638655462184874,\n",
              "  'recall': 0.9294117647058824,\n",
              "  'f1-score': 0.7745098039215687,\n",
              "  'support': 85},\n",
              " 'accuracy': 0.695364238410596,\n",
              " 'macro avg': {'precision': 0.7381827731092436,\n",
              "  'recall': 0.6616755793226381,\n",
              "  'f1-score': 0.6525610244097639,\n",
              "  'support': 151},\n",
              " 'weighted avg': {'precision': 0.7288315988647114,\n",
              "  'recall': 0.695364238410596,\n",
              "  'f1-score': 0.6679055728251565,\n",
              "  'support': 151}}"
            ]
          },
          "metadata": {},
          "execution_count": 90
        }
      ]
    },
    {
      "cell_type": "code",
      "source": [
        "report_2cls = classification_report(test_labels_2class, predictions_2class,target_names=target_names_2class, output_dict=True, zero_division=False)"
      ],
      "metadata": {
        "id": "mRY95gXHt74C"
      },
      "execution_count": 91,
      "outputs": []
    },
    {
      "cell_type": "markdown",
      "metadata": {
        "id": "1aTDW3JBut1P"
      },
      "source": [
        "**QUESTION:** \n",
        "\n",
        "3.3 What is the macro average F1 score you get when you run the new second stage model with only 2 classes?\n",
        "**Macro average F1 score 0.65256 and weighted average F1 score is 0.66791.**"
      ]
    },
    {
      "cell_type": "markdown",
      "metadata": {
        "id": "90DMNd_Nuzgz"
      },
      "source": [
        "#### Step 3: Combine the predicted labels from the two steps\n",
        "\n",
        "To combine our models into two steps, start with the predictions from the first step. Keep all predicted labels except the ones with a predicted value of label_to_replace_with (the label we gave to both of the confused classes in the first step).\n",
        "\n",
        "Wherever the first model predicted the combined category, we'll replace the predictions with the label from the second model. If we used these models in inference, we'd only send an example to the second model if the first model predicted that it was from the combined class."
      ]
    },
    {
      "cell_type": "code",
      "execution_count": 59,
      "metadata": {
        "id": "bmSd5B8M-YPh"
      },
      "outputs": [],
      "source": [
        "predictions_2class = predictions_2class.numpy()\n",
        "predictions_2class[predictions_2class == 0] = label_to_replace\n",
        "predictions_2class[predictions_2class == 1] = label_to_replace_with"
      ]
    },
    {
      "cell_type": "code",
      "execution_count": 60,
      "metadata": {
        "id": "czf7y8Ha5hu-",
        "colab": {
          "base_uri": "https://localhost:8080/"
        },
        "outputId": "594b303d-3e19-452c-aa29-f9cc270c7e61"
      },
      "outputs": [
        {
          "output_type": "execute_result",
          "data": {
            "text/plain": [
              "array([ 2, 15,  4, ..., 11,  1,  5])"
            ]
          },
          "metadata": {},
          "execution_count": 60
        }
      ],
      "source": [
        "predictions_2steps = predictions_19class.numpy()\n",
        "predictions_2steps[test_mask_2class] = predictions_2class\n",
        "\n",
        "predictions_2steps"
      ]
    },
    {
      "cell_type": "markdown",
      "metadata": {
        "id": "dxUBa20mv0Iq"
      },
      "source": [
        "Now let's look at the classification report and confusion matrix, using the combined predictions from our two step model (compared to the original labels). Did the overall results get better?"
      ]
    },
    {
      "cell_type": "code",
      "source": [
        "print(classification_report(test_labels, predictions_2steps, target_names=target_names))"
      ],
      "metadata": {
        "colab": {
          "base_uri": "https://localhost:8080/"
        },
        "id": "1cKDRON5HjiM",
        "outputId": "875621c6-a2f2-40a5-f0b8-6c710a04f019"
      },
      "execution_count": 61,
      "outputs": [
        {
          "output_type": "stream",
          "name": "stdout",
          "text": [
            "                          precision    recall  f1-score   support\n",
            "\n",
            "             alt.atheism       0.84      0.20      0.32        82\n",
            "           comp.graphics       0.72      0.62      0.67        95\n",
            " comp.os.ms-windows.misc       0.58      0.81      0.68       100\n",
            "comp.sys.ibm.pc.hardware       0.65      0.40      0.50        99\n",
            "   comp.sys.mac.hardware       0.63      0.72      0.67        85\n",
            "          comp.windows.x       0.84      0.80      0.82       102\n",
            "            misc.forsale       0.63      0.81      0.71        93\n",
            "               rec.autos       0.45      0.84      0.59        92\n",
            "         rec.motorcycles       0.78      0.64      0.70       108\n",
            "      rec.sport.baseball       0.98      0.73      0.83       114\n",
            "        rec.sport.hockey       0.92      0.88      0.90       100\n",
            "               sci.crypt       0.88      0.79      0.83       107\n",
            "         sci.electronics       0.58      0.56      0.57        91\n",
            "                 sci.med       0.94      0.86      0.90       101\n",
            "               sci.space       0.78      0.76      0.77       102\n",
            "  soc.religion.christian       0.46      0.93      0.61        85\n",
            "      talk.politics.guns       0.54      0.84      0.65        80\n",
            "   talk.politics.mideast       0.79      0.77      0.78        92\n",
            "      talk.politics.misc       0.91      0.33      0.48        91\n",
            "      talk.religion.misc       0.81      0.39      0.53        66\n",
            "\n",
            "                accuracy                           0.69      1885\n",
            "               macro avg       0.73      0.68      0.68      1885\n",
            "            weighted avg       0.74      0.69      0.69      1885\n",
            "\n"
          ]
        }
      ]
    },
    {
      "cell_type": "code",
      "execution_count": 62,
      "metadata": {
        "id": "bbtOD45X6QgO",
        "colab": {
          "base_uri": "https://localhost:8080/"
        },
        "outputId": "2d6a92b3-4033-49c6-9554-190fd05f4c62"
      },
      "outputs": [
        {
          "output_type": "execute_result",
          "data": {
            "text/plain": [
              "{'alt.atheism': {'precision': 0.8421052631578947,\n",
              "  'recall': 0.1951219512195122,\n",
              "  'f1-score': 0.31683168316831684,\n",
              "  'support': 82},\n",
              " 'comp.graphics': {'precision': 0.7195121951219512,\n",
              "  'recall': 0.6210526315789474,\n",
              "  'f1-score': 0.6666666666666667,\n",
              "  'support': 95},\n",
              " 'comp.os.ms-windows.misc': {'precision': 0.5827338129496403,\n",
              "  'recall': 0.81,\n",
              "  'f1-score': 0.6778242677824269,\n",
              "  'support': 100},\n",
              " 'comp.sys.ibm.pc.hardware': {'precision': 0.6451612903225806,\n",
              "  'recall': 0.40404040404040403,\n",
              "  'f1-score': 0.49689440993788814,\n",
              "  'support': 99},\n",
              " 'comp.sys.mac.hardware': {'precision': 0.6288659793814433,\n",
              "  'recall': 0.7176470588235294,\n",
              "  'f1-score': 0.6703296703296703,\n",
              "  'support': 85},\n",
              " 'comp.windows.x': {'precision': 0.8367346938775511,\n",
              "  'recall': 0.803921568627451,\n",
              "  'f1-score': 0.8200000000000001,\n",
              "  'support': 102},\n",
              " 'misc.forsale': {'precision': 0.6302521008403361,\n",
              "  'recall': 0.8064516129032258,\n",
              "  'f1-score': 0.7075471698113207,\n",
              "  'support': 93},\n",
              " 'rec.autos': {'precision': 0.45294117647058824,\n",
              "  'recall': 0.8369565217391305,\n",
              "  'f1-score': 0.5877862595419847,\n",
              "  'support': 92},\n",
              " 'rec.motorcycles': {'precision': 0.7840909090909091,\n",
              "  'recall': 0.6388888888888888,\n",
              "  'f1-score': 0.7040816326530611,\n",
              "  'support': 108},\n",
              " 'rec.sport.baseball': {'precision': 0.9764705882352941,\n",
              "  'recall': 0.7280701754385965,\n",
              "  'f1-score': 0.834170854271357,\n",
              "  'support': 114},\n",
              " 'rec.sport.hockey': {'precision': 0.9166666666666666,\n",
              "  'recall': 0.88,\n",
              "  'f1-score': 0.8979591836734694,\n",
              "  'support': 100},\n",
              " 'sci.crypt': {'precision': 0.875,\n",
              "  'recall': 0.7850467289719626,\n",
              "  'f1-score': 0.8275862068965517,\n",
              "  'support': 107},\n",
              " 'sci.electronics': {'precision': 0.5795454545454546,\n",
              "  'recall': 0.5604395604395604,\n",
              "  'f1-score': 0.5698324022346368,\n",
              "  'support': 91},\n",
              " 'sci.med': {'precision': 0.9354838709677419,\n",
              "  'recall': 0.8613861386138614,\n",
              "  'f1-score': 0.8969072164948454,\n",
              "  'support': 101},\n",
              " 'sci.space': {'precision': 0.78,\n",
              "  'recall': 0.7647058823529411,\n",
              "  'f1-score': 0.7722772277227723,\n",
              "  'support': 102},\n",
              " 'soc.religion.christian': {'precision': 0.45664739884393063,\n",
              "  'recall': 0.9294117647058824,\n",
              "  'f1-score': 0.6124031007751939,\n",
              "  'support': 85},\n",
              " 'talk.politics.guns': {'precision': 0.536,\n",
              "  'recall': 0.8375,\n",
              "  'f1-score': 0.6536585365853659,\n",
              "  'support': 80},\n",
              " 'talk.politics.mideast': {'precision': 0.7888888888888889,\n",
              "  'recall': 0.7717391304347826,\n",
              "  'f1-score': 0.7802197802197802,\n",
              "  'support': 92},\n",
              " 'talk.politics.misc': {'precision': 0.9090909090909091,\n",
              "  'recall': 0.32967032967032966,\n",
              "  'f1-score': 0.4838709677419355,\n",
              "  'support': 91},\n",
              " 'talk.religion.misc': {'precision': 0.8125,\n",
              "  'recall': 0.3939393939393939,\n",
              "  'f1-score': 0.5306122448979591,\n",
              "  'support': 66},\n",
              " 'accuracy': 0.6917771883289124,\n",
              " 'macro avg': {'precision': 0.734434559922589,\n",
              "  'recall': 0.6837994871194201,\n",
              "  'f1-score': 0.6753729740702602,\n",
              "  'support': 1885},\n",
              " 'weighted avg': {'precision': 0.7412912140234916,\n",
              "  'recall': 0.6917771883289124,\n",
              "  'f1-score': 0.6857629563820083,\n",
              "  'support': 1885}}"
            ]
          },
          "metadata": {},
          "execution_count": 62
        }
      ],
      "source": [
        "# Run the sklearn classification_report with all 20 classes from the 2-step predictions\n",
        "### YOUR CODE HERE\n",
        "classification_report(test_labels, predictions_2steps, target_names=target_names, output_dict=True)\n",
        "### END YOUR CODE"
      ]
    },
    {
      "cell_type": "code",
      "source": [
        "report_combined = classification_report(test_labels, predictions_2steps, target_names=target_names, output_dict=True)"
      ],
      "metadata": {
        "id": "AnEDWi3DuTr-"
      },
      "execution_count": 92,
      "outputs": []
    },
    {
      "cell_type": "code",
      "source": [
        "label_to_replace, label_to_replace_with"
      ],
      "metadata": {
        "colab": {
          "base_uri": "https://localhost:8080/"
        },
        "id": "Dl9lcUEcHPS3",
        "outputId": "d09b79a2-a959-40b7-a858-1e66b3698176"
      },
      "execution_count": 66,
      "outputs": [
        {
          "output_type": "execute_result",
          "data": {
            "text/plain": [
              "(19, 15)"
            ]
          },
          "metadata": {},
          "execution_count": 66
        }
      ]
    },
    {
      "cell_type": "code",
      "execution_count": 67,
      "metadata": {
        "id": "GoxOfneGDG60"
      },
      "outputs": [],
      "source": [
        "cm = tf.math.confusion_matrix(test_labels, predictions_2steps)\n",
        "cm = cm/cm.numpy().sum(axis=1)[:, tf.newaxis]"
      ]
    },
    {
      "cell_type": "code",
      "execution_count": 68,
      "metadata": {
        "id": "of7FDh3CDHGy",
        "colab": {
          "base_uri": "https://localhost:8080/",
          "height": 585
        },
        "outputId": "3985c837-fa44-4e2d-e81d-c67f8cfde658"
      },
      "outputs": [
        {
          "output_type": "execute_result",
          "data": {
            "text/plain": [
              "Text(159.0, 0.5, 'True')"
            ]
          },
          "metadata": {},
          "execution_count": 68
        },
        {
          "output_type": "display_data",
          "data": {
            "text/plain": [
              "<Figure size 1440x504 with 2 Axes>"
            ],
            "image/png": "[encoded data removed]"
          },
          "metadata": {
            "needs_background": "light"
          }
        }
      ],
      "source": [
        "plt.figure(figsize=(20,7))\n",
        "sns.heatmap(\n",
        "    cm, annot=True,\n",
        "    xticklabels=target_names,\n",
        "    yticklabels=target_names)\n",
        "plt.xlabel(\"Predicted\")\n",
        "plt.ylabel(\"True\")"
      ]
    },
    {
      "cell_type": "markdown",
      "metadata": {
        "id": "8jXBmgS2iXDI"
      },
      "source": [
        "**QUESTION:**\n",
        "\n",
        "3.4 What is the macro average F1 score you get from the combined two-step model? \n",
        "\n",
        "3.5 What is the difference in points between the macro weighted F1 score for the original model and the combined two-step model? \n",
        "\n",
        "3.6 What is the new F1 score for the last category (i.e. label_to_replace, the one that had the lowest F1 score in the original model)? \n",
        "\n",
        "3.7 What is the new F1 score for the other category that you combined with the last category in the two-step model (i.e. label_to_replace_with)? \n",
        "\n",
        "3.8 Which metric (precision or recall) is now lower for the other category (i.e. label_to_replace_with)? "
      ]
    },
    {
      "cell_type": "markdown",
      "source": [
        "3.4 What is the macro average F1 score you get from the combined two-step model? **0.67537**"
      ],
      "metadata": {
        "id": "qwuhRCkMwweg"
      }
    },
    {
      "cell_type": "code",
      "source": [
        "report_combined['macro avg']['f1-score']"
      ],
      "metadata": {
        "colab": {
          "base_uri": "https://localhost:8080/"
        },
        "id": "lWb9s2Rww0Zw",
        "outputId": "899f8e68-4b27-486f-feb6-fa1196e07c3c"
      },
      "execution_count": 106,
      "outputs": [
        {
          "output_type": "execute_result",
          "data": {
            "text/plain": [
              "0.6753729740702602"
            ]
          },
          "metadata": {},
          "execution_count": 106
        }
      ]
    },
    {
      "cell_type": "markdown",
      "source": [
        "3.5 What is the difference in points between the macro weighted F1 score for the original model and the combined two-step model? **0.013838**"
      ],
      "metadata": {
        "id": "6pemPZL_rBVK"
      }
    },
    {
      "cell_type": "code",
      "source": [
        "report_combined['macro avg']['f1-score'] - report_orig['macro avg']['f1-score']"
      ],
      "metadata": {
        "colab": {
          "base_uri": "https://localhost:8080/"
        },
        "id": "WG87DAvAue7s",
        "outputId": "34993c08-249c-4139-a3b3-9f2c131c2beb"
      },
      "execution_count": 95,
      "outputs": [
        {
          "output_type": "execute_result",
          "data": {
            "text/plain": [
              "0.013838356892465487"
            ]
          },
          "metadata": {},
          "execution_count": 95
        }
      ]
    },
    {
      "cell_type": "markdown",
      "source": [
        "3.6 What is the new F1 score for the last category (i.e. label_to_replace, the one that had the lowest F1 score in the original model)? **0.53061**"
      ],
      "metadata": {
        "id": "jJFhef3Xrf-K"
      }
    },
    {
      "cell_type": "code",
      "source": [
        "label_to_replace, target_names[label_to_replace]"
      ],
      "metadata": {
        "colab": {
          "base_uri": "https://localhost:8080/"
        },
        "id": "B2LCrclmr-Is",
        "outputId": "c1a451f2-18bf-406a-cc00-59693bed260b"
      },
      "execution_count": 79,
      "outputs": [
        {
          "output_type": "execute_result",
          "data": {
            "text/plain": [
              "(19, 'talk.religion.misc')"
            ]
          },
          "metadata": {},
          "execution_count": 79
        }
      ]
    },
    {
      "cell_type": "code",
      "source": [
        "report_combined[target_names[label_to_replace]]['f1-score']"
      ],
      "metadata": {
        "colab": {
          "base_uri": "https://localhost:8080/"
        },
        "id": "jOsm7Gucrreo",
        "outputId": "a17bcc58-4b06-4b63-b496-236d3b346eae"
      },
      "execution_count": 96,
      "outputs": [
        {
          "output_type": "execute_result",
          "data": {
            "text/plain": [
              "0.5306122448979591"
            ]
          },
          "metadata": {},
          "execution_count": 96
        }
      ]
    },
    {
      "cell_type": "markdown",
      "source": [
        "3.7 What is the new F1 score for the other category that you combined with the last category in the two-step model (i.e. label_to_replace_with)? **0.61240**"
      ],
      "metadata": {
        "id": "UcgeoD9Zu3Ma"
      }
    },
    {
      "cell_type": "code",
      "source": [
        "label_to_replace_with, target_names[label_to_replace_with]"
      ],
      "metadata": {
        "colab": {
          "base_uri": "https://localhost:8080/"
        },
        "id": "chq5yj2xvDfX",
        "outputId": "39471829-2c8b-4217-8027-e502a9c7ef84"
      },
      "execution_count": 98,
      "outputs": [
        {
          "output_type": "execute_result",
          "data": {
            "text/plain": [
              "(15, 'soc.religion.christian')"
            ]
          },
          "metadata": {},
          "execution_count": 98
        }
      ]
    },
    {
      "cell_type": "code",
      "source": [
        "report_combined[target_names[label_to_replace_with]]['f1-score']"
      ],
      "metadata": {
        "colab": {
          "base_uri": "https://localhost:8080/"
        },
        "id": "CzXIAfA5u5li",
        "outputId": "0296e980-7aca-4d44-d5c8-81c6c6c0bd61"
      },
      "execution_count": 97,
      "outputs": [
        {
          "output_type": "execute_result",
          "data": {
            "text/plain": [
              "0.6124031007751939"
            ]
          },
          "metadata": {},
          "execution_count": 97
        }
      ]
    },
    {
      "cell_type": "markdown",
      "source": [
        "3.8 Which metric (precision or recall) is now lower for the other category (i.e. label_to_replace_with)? **precision**"
      ],
      "metadata": {
        "id": "8ldrSVzOvL4n"
      }
    },
    {
      "cell_type": "code",
      "source": [
        "print(f\"Precision in 2step model : {report_combined[target_names[label_to_replace_with]]['precision']}\")\n",
        "print(f\"Recall in 2step model : {report_combined[target_names[label_to_replace_with]]['recall']}\")\n",
        "\n",
        "print(f\"Precision in original model : {report_orig[target_names[label_to_replace_with]]['precision']}\")\n",
        "print(f\"Recall in original model : {report_orig[target_names[label_to_replace_with]]['recall']}\")"
      ],
      "metadata": {
        "colab": {
          "base_uri": "https://localhost:8080/"
        },
        "id": "Dx5g6wAbvZuo",
        "outputId": "966c31ce-5aa4-4809-9c17-d21e983f65f6"
      },
      "execution_count": 101,
      "outputs": [
        {
          "output_type": "stream",
          "name": "stdout",
          "text": [
            "Precision in 2step model : 0.45664739884393063\n",
            "Recall in 2step model : 0.9294117647058824\n",
            "Precision in original model : 0.5461538461538461\n",
            "Recall in original model : 0.8352941176470589\n"
          ]
        }
      ]
    },
    {
      "cell_type": "markdown",
      "metadata": {
        "id": "coyVPop8SuG9"
      },
      "source": [
        "### Look at examples of misclassifications\n",
        "\n",
        "What happened in the two-step model? Did everything improve, or did something get worse? We were concerned about the last news category, which had a very low F1 score in the original model. In the two-step model, the F1 score for that category should have gone up.\n",
        "\n",
        "But for the other category that the original model often confused with the last category, the F1 score might have gone down. In particular, one of the two component metrics, precision or recall, probably went down. (We ask you which one went down in question 3.7 above.)\n",
        "\n",
        "We might be able to tell what happened from the confusion matrix, but it's also always a good idea to look at actual examples that were misclassified, to see if we can spot any patterns. We can also isolate more specific examples, like test examples that the original model got right, but the two-step model got wrong. Let's do that below.\n",
        "\n",
        "**CRITICAL NOTE:**  If nothing prints out when you run the code below, there are two possibilities.  The first is that there is some error in the code or variable names you have created in earlier cells.  The second possibility is that given your current train, validation, and test split, the second model predicted the \"label_to_replace_with\" class and the first model did so too.  This is unlikely but it is possible. In either case, you must go back and re-run the *ENTIRE* notebook to make sure you get a new train, validation, and test split which will allow you to observe the first and second models disagreeing. Please make sure you enter the metric values from this new run into your answers file."
      ]
    },
    {
      "cell_type": "code",
      "execution_count": 102,
      "metadata": {
        "id": "Lj98aBdmNMrE"
      },
      "outputs": [],
      "source": [
        "# Make a vector the length of our test set, with 1 if the second model predicted the\n",
        "# \"label_to_replace_with\" class, and 0s otherwise\n",
        "select_predictions = (predictions_2steps == label_to_replace_with)\n"
      ]
    },
    {
      "cell_type": "code",
      "execution_count": 103,
      "metadata": {
        "id": "vaBVzlNXdsWN"
      },
      "outputs": [],
      "source": [
        "# Now only keep a 1 if that was not the correct label, i.e. it was a false positive\n",
        "select_predictions = select_predictions * (test_labels != label_to_replace_with)"
      ]
    },
    {
      "cell_type": "code",
      "execution_count": 104,
      "metadata": {
        "id": "E05K9v-RdsLT"
      },
      "outputs": [],
      "source": [
        "# And now only keep a 1 if the original model predicted the correct label instead\n",
        "select_predictions = select_predictions * (test_labels == predictions_model1.numpy())"
      ]
    },
    {
      "cell_type": "code",
      "execution_count": 105,
      "metadata": {
        "id": "x4dEwbnc_6qr",
        "colab": {
          "base_uri": "https://localhost:8080/"
        },
        "outputId": "ccf1b838-1589-48dd-fb84-720f0cd23daf"
      },
      "outputs": [
        {
          "output_type": "stream",
          "name": "stdout",
          "text": [
            "Prediction: model1 = alt.atheism, model2 = soc.religion.christian):\n",
            "Text:   It only falls apart if you attempt to apply it.  This doesn't mean that an objective system can't exist.  It just means that one cannot be implemented.\n",
            "\n",
            "\n",
            "Prediction: model1 = alt.atheism, model2 = soc.religion.christian):\n",
            "Text:  \t(2) is a corrallary of (1).  \tThe negation of (2) would contridict (1).     (2) Is a corrallary of (1)    The negation of (2) would contradict (1). --          \"Satan and the Angels do not have freewill.           They do what god tells them to do. \"\n",
            "\n",
            "\n",
            "Prediction: model1 = alt.atheism, model2 = soc.religion.christian):\n",
            "Text:   Is the distinction important?   Well, our moral system seems to mimic the natural one, in a number of ways.   I don't know.  What is wrong?  Is it possible for humans to survive for a long time in the wild?  Yes, it's possible, but it is difficult.  Humans are a social animal, and that is a cause of our success.   Isn't it?  Why don't you think so?   No.  As noted earlier, lack of mating (such as abstinence or homosexuality) isn't really destructive to the system.  It is a worst neutral.   Again, the mating practices are something to be reexamined...\n",
            "\n",
            "\n",
            "Prediction: model1 = alt.atheism, model2 = soc.religion.christian):\n",
            "Text: In <1qjahh$mrs@horus.ap.mchp.sni.de> frank@D012S658.uucp (Frank O'Dwyer)        How do we measure truth, beauty, goodness, love, friendship, trust, honesty,  etc.?  If things have no basis in objective fact then aren't we limited in what we know to be true?  Can't we say that we can examples or instances of reason, but cannot measure reason, or is that semantics?  MAC -- ****************************************************************                                                     Michael A. Cobb  \"...and I won't raise taxes on the middle     University of Illinois     class to pay for my programs.\"                 Champaign-Urbana           -Bill Clinton 3rd Debate             cobb@alexia.lis.uiuc.edu\n",
            "\n",
            "\n",
            "Prediction: model1 = alt.atheism, model2 = soc.religion.christian):\n",
            "Text:      No, that's praying on the young.  Preying on the young comes   later, when the bright eyed little altar boy finds out what the   priest really wears under that chasible.   /\\/\\/\\/\\/\\/\\/\\/\\/\\/\\/\\/\\/\\/\\/\\/\\/\\/\\/\\/\\/\\/\\/\\/\\/\\/\\/\\/\\/\\/\\/\\/\\/\\/\\   Bob Beauchaine bobbe@vice.ICO.TEK.COM   They said that Queens could stay, they blew the Bronx away, and sank Manhattan out at sea.\n",
            "\n",
            "\n",
            "Prediction: model1 = rec.sport.baseball, model2 = soc.religion.christian):\n",
            "Text: Lowenstein is NOT Jewish.  However, there is a long list including Hank Greenberg, Moe Berg, Rod Carew (a convert), the Sherry brothers, Art Shamsky, and Ron Blomberg.\n",
            "\n",
            "\n",
            "Prediction: model1 = alt.atheism, model2 = soc.religion.christian):\n",
            "Text:  So what you're saying is that your mind is made up, and you'll just explain away any differences at being statistically insignificant?   So you'll just explain away any inconsistancies in your \"theory\" as being \"a special case\".   You just equated them.  Re-read your own words.   A study release in 1991 found that 11% of female seagulls are lesbians.   Now, apply this last sentence of your to YOUR theory.  Notice how your are contridicting observations?   You don't know much math, do you?  The ability to use SAS to determine the length of the third side of the triangle is fundemental to geometry.   Goals <> postulates.  Again, if one of the \"goals\" of this \"objective/natural morality\" system you are proposing is \"survival of the species\", then homosexuality is immoral.\n",
            "\n",
            "\n",
            "Prediction: model1 = alt.atheism, model2 = soc.religion.christian):\n",
            "Text:  You don't need any counterfeit athiest's myth to make religion appear absurd.  You need only read any of friendly Christian Bill Conner's posts. \n",
            "\n",
            "\n",
            "Prediction: model1 = alt.atheism, model2 = soc.religion.christian):\n",
            "Text:     Sure, a person could have great respect for Jesus and yet be an  atheist.  (Having great respect for Jesus does not necessarily mean  that one has to follow the Christian [or Muslim] interpretation of  his life.) \n",
            "\n",
            "\n",
            "Prediction: model1 = alt.atheism, model2 = soc.religion.christian):\n",
            "Text:  (WEBSTER:  myth:  \"a traditional or legendary story...            ...a belief...whose truth is accepted uncritically.\")  How does that qualify? Indeed, it's almost oxymoronic...a rather amusing instance. I've found that most atheists hold almost no atheist-views as \"accepted uncritically,\" especially the few that are legend. Many are trying to explain basic truths, as myths do, but they don't meet the other criterions. Also...   You accuse him of referencing mythology, then you procede to launch your own xtian mythology.  (This time meeting all the requirements of myth.)   Ah, but not everyone \"knows\" that god exists.  So you have a fallacy.   And that makes it true?  Holding with the Bible rules out controversy? Read the FAQ.  If you've read it, you missed something, so re-read. (Not a bad suggestion for anyone...I re-read it just before this.)   ...should I repeat what I wrote above for the sake of getting it across?  You may trust the Bible, but your trusting it doesn't make it any\n",
            "\n",
            "\n",
            "Prediction: model1 = alt.atheism, model2 = soc.religion.christian):\n",
            "Text:   See, we are disagreeing on the definition of moral here.  Earlier, you said that it must be a conscious act.  By your definition, no instinctive behavior pattern could be an act of morality.  You are trying to apply human terms to non-humans.  I think that even if someone is not conscious of an alternative, this does not prevent his behavior from being moral.   I try to show it, but by your definition, it can't be shown.  And, morality can be thought of a large class of princples.  It could be defined in terms of many things--the laws of physics if you wish.  However, it seems silly to talk of a \"moral\" planet because it obeys the laws of phyics.  It is less silly to talk about animals, as they have at least some free will.\n",
            "\n",
            "\n",
            "Prediction: model1 = talk.politics.mideast, model2 = soc.religion.christian):\n",
            "Text:  \tThe American press routinely uses the word fundamentalist to refer to both Christians and Jews.  Christian fundementalists are often refered to in the context of anti-abortion protests.  The American media also uses fundamentalist to refer to Jews who live in Judea, Samaria or Gaza, and to any Jew who follows the torah.  Adam Adam Shostack \t\t\t\t       adam@das.harvard.edu\n",
            "\n",
            "\n",
            "Prediction: model1 = talk.politics.mideast, model2 = soc.religion.christian):\n",
            "Text: First this man promotes the dissolution of the Jews through an intermarriage process, and then says that it will be just a bunch of 'fundamentalist' Jews who will object.  This clown even called for 'buying' the dissolution of the Jewish people.     Does this idiot mean to suggest that any Jew who objects to an imibicilic notion like this is fundamentalist?  Or does he simply mean to insult the orthodox by using the word 'fundamentalist?'     I am not orthodox.  I am not fundamentalist.  I would desire a genuine peace in the region more than this pinhead  Davidsson can ever understand.  But when he shows his willingness to dismiss an entire culture, he proves that the only thing more brain-boggling than his stupidity is his willingness to display his stupidity in  this newsgroup.\n",
            "\n",
            "\n",
            "Prediction: model1 = alt.atheism, model2 = soc.religion.christian):\n",
            "Text:  Well, this particular thread of vituperation slopped its venom over into alt.atheism, where we spend most of our time entertaining arguments against our belief system, without resorting to accusing others of bigotry.  It's somewhat ironic that our exposure to bigotry happens in this instance to have originated in rec.scouting, since I always understood scouting to teach tolerance and diversity.  I understand bigotry to be irrational prejudice against other people who happen to be of a different race, religion, ethnic background, sex, or other inconsequential characteristics.  All the evidence I've seen indicates that sexual orientation and lack of belief in gods are exactly such inconsequential characteristics.  Thus, pending further evidence, I conclude that those who show prejudice against such people are bigots, and organizations that exclude such people are discriminatory.\n",
            "\n",
            "\n",
            "Prediction: model1 = alt.atheism, model2 = soc.religion.christian):\n",
            "Text:  False dichotomy.  You claimed the killing were *not* religiously motivated, and I'm saying that's wrong.   I'm not saying that each and every killing is religiously motivate, as I spelled out in detail.    Does anyone else see the contradiction in this paragraph?    Sorry, Frank, but what I put in quotes is your own words from your posting <1qi83b$ec4@horus.ap.mchp.sni.de>.  Don't tell us now that  it's a different claim.   If you can no longer stand behind your  original claim, just say so.\n",
            "\n",
            "\n",
            "Prediction: model1 = alt.atheism, model2 = soc.religion.christian):\n",
            "Text:   If you're talking about this intellectual engagement of revelation, well, it's obviously a risk one takes.   I'm not an objectivist, so I'm not particularly impressed with problems of conceptualization.  The problem in this case is at least as bad as that of trying to explain quantum mechanics and relativity in the terms of ordinary experience.  One can get some rough understanding, but the language is, from the perspective of ordinary phenomena, inconsistent, and from the perspective of what's being described, rather inexact (to be charitable).  An analogous situation (supposedly) obtains in metaphysics; the problem is that the \"better\" descriptive language is not available.   This word \"reliable\" is essentially meaningless in the context-- unless you can show how reliability can be determined.\n",
            "\n",
            "\n",
            "Prediction: model1 = comp.graphics, model2 = soc.religion.christian):\n",
            "Text: \tHave you checked Foley's book? The solutions are in chapter 13.\n",
            "\n",
            "\n",
            "Prediction: model1 = alt.atheism, model2 = soc.religion.christian):\n",
            "Text:  Well, that explains some things; I posted on soc.religion.islam with an attached quote by Bobby to the effect that all atheists are lying evil scum, and asked if it was a commonly-held idea among muslims.  I got no response.  Asking about the unknown, I guess...  Karl  -----------------------------------------------------------------------------\n",
            "\n",
            "\n",
            "Prediction: model1 = alt.atheism, model2 = soc.religion.christian):\n",
            "Text:   I disagree.  In the end, the *individual* is responsible for his/her own irrationality.  The individual's belief in some dogmatic religion is a  symptom of that irrationality.   Atheists and agnostics, I would imagine, but yes, that was my point.  An atheist would theoretically be just as ill-equipped to study the philosophy of religion as a Christian, and yet there is a persistence of atheists among the ranks of philosophers.  Therefore, the conflict between one's religious beliefs (or lack thereof) and the ability to be a philosopher must not be as great as you assert.  The fact that most philosophers may be non-religious was a secondary point.    As opposed to science practiced by theists?  Be careful here.  Science does have a built-in defence against faith and dogma: skepticism.  Unfortunately, it is not foolproof.  There is that  wonderful little creature known as the \"theory.\"  Many of us believe in the theory of evolution.  We have no absolute proof that this  theory is true,\n",
            "\n",
            "\n",
            "Prediction: model1 = alt.atheism, model2 = soc.religion.christian):\n",
            "Text:   That's right.  Humans have gone somewhat beyond this though.  Perhaps our goal is one of self-actualization.   Now you are letting an omniscient being give information to me.  This was not part of the original premise.   Which type of morality are you talking about?  In a natural sense, it is not at all immoral to harm another species (as long as it doesn't adversely affect your own, I guess).\n",
            "\n",
            "\n",
            "Prediction: model1 = alt.atheism, model2 = soc.religion.christian):\n",
            "Text:   No it didn't.  The motto has been on various coins since the Civil War. It was just required to be on *all* currency in the 50's.\n",
            "\n",
            "\n",
            "Prediction: model1 = alt.atheism, model2 = soc.religion.christian):\n",
            "Text: [deletions...]    First of all, infinity is a mathematical concept created by humans to explain certain things in a certain way. We don't know if it actually applies to reality, we don't know if anything in the world is infinite.   You don't know if the universe is actually continuous. Continuum is another mathematical concept (based on infinity) used to explain things in a certain way.   I have a pretty good idea of what infinity is. It's a man-made concept, and like many man-made concepts, it has evolved through time. Ancient Greeks had a different understanding of it.   Precicely. We don't even know if infinity applies to reality. \n",
            "\n",
            "\n"
          ]
        }
      ],
      "source": [
        "# Print out the original and clean text of the examples that met the above conditions\n",
        "for i in np.where(select_predictions)[0]:\n",
        "\n",
        "    print('Prediction: model1 = %s, model2 = %s):\\nText: %s\\n\\n' %\n",
        "          (target_names[predictions_model1[i]],\n",
        "           target_names[predictions_2steps[i]],\n",
        "           test_texts[i][:1000].replace('\\n', ' ')))"
      ]
    },
    {
      "cell_type": "markdown",
      "metadata": {
        "id": "ppncPlCzzz0B"
      },
      "source": [
        "**QUESTION:** \n",
        "\n",
        "4.1 Why do you think the two-step model got these examples wrong, when the original model got them right?\n",
        "\n",
        "- A. The two-step model saw less examples of the \"label_to_replace\" class, because we replaced them with the \"label_to_replace_with\" examples. So it didn't learn the kind of text in that class as well as the original model.\n",
        "\n",
        "- B. In the two-step process, the step 1 model overpredicted the combined class, and the step 2 model overpredicted the \"label_to_replace_with\" class. A third class is now getting mistaken more often for the \"label_to_replace_with\" class, than in the original model.\n",
        "\n",
        "- C. It's probably just random that the original model got these specific examples right and the two-step model got them wrong.\n",
        "\n",
        "**A**\n",
        "\n",
        "4.2 Is there anything you might try next, to try to make the two-step model better?\n",
        "\n",
        "- A. Try to balance the training data across classes at each step, or add class weights when calling model.fit.\n",
        "\n",
        "- B. Try to combine another similar category with the two easily confused ones, for a step 1 model with 18 classes and the step 2 model with 3 classes.\n",
        "\n",
        "- C. Try both A and B\n",
        "\n",
        "**A**"
      ]
    }
  ],
  "metadata": {
    "accelerator": "GPU",
    "colab": {
      "provenance": [],
      "include_colab_link": true
    },
    "gpuClass": "standard",
    "kernelspec": {
      "display_name": "Python 3",
      "language": "python",
      "name": "python3"
    },
    "language_info": {
      "codemirror_mode": {
        "name": "ipython",
        "version": 3
      },
      "file_extension": ".py",
      "mimetype": "text/x-python",
      "name": "python",
      "nbconvert_exporter": "python",
      "pygments_lexer": "ipython3",
      "version": "3.8.5"
    },
    "widgets": {
      "application/vnd.jupyter.widget-state+json": {
        "a8d85435f9924672821f884c35c6a1c6": {
          "model_module": "@jupyter-widgets/controls",
          "model_name": "HBoxModel",
          "model_module_version": "1.5.0",
          "state": {
            "_dom_classes": [],
            "_model_module": "@jupyter-widgets/controls",
            "_model_module_version": "1.5.0",
            "_model_name": "HBoxModel",
            "_view_count": null,
            "_view_module": "@jupyter-widgets/controls",
            "_view_module_version": "1.5.0",
            "_view_name": "HBoxView",
            "box_style": "",
            "children": [
              "IPY_MODEL_01f91065a1384402b29c53e68be29e4f",
              "IPY_MODEL_8ca065fe8e5f4edbbc81ab13a02b5a95",
              "IPY_MODEL_af48dd5d2d184f8e817b8d5e7996b5fb"
            ],
            "layout": "IPY_MODEL_bf8bf0bc7bbe41edbe5f7a348586bfc8"
          }
        },
        "01f91065a1384402b29c53e68be29e4f": {
          "model_module": "@jupyter-widgets/controls",
          "model_name": "HTMLModel",
          "model_module_version": "1.5.0",
          "state": {
            "_dom_classes": [],
            "_model_module": "@jupyter-widgets/controls",
            "_model_module_version": "1.5.0",
            "_model_name": "HTMLModel",
            "_view_count": null,
            "_view_module": "@jupyter-widgets/controls",
            "_view_module_version": "1.5.0",
            "_view_name": "HTMLView",
            "description": "",
            "description_tooltip": null,
            "layout": "IPY_MODEL_6354410d2ca646039d5f677b738847a1",
            "placeholder": "​",
            "style": "IPY_MODEL_3ff5c5f87fc74aa3bdc6e8071e425be5",
            "value": "Downloading (…)solve/main/vocab.txt: 100%"
          }
        },
        "8ca065fe8e5f4edbbc81ab13a02b5a95": {
          "model_module": "@jupyter-widgets/controls",
          "model_name": "FloatProgressModel",
          "model_module_version": "1.5.0",
          "state": {
            "_dom_classes": [],
            "_model_module": "@jupyter-widgets/controls",
            "_model_module_version": "1.5.0",
            "_model_name": "FloatProgressModel",
            "_view_count": null,
            "_view_module": "@jupyter-widgets/controls",
            "_view_module_version": "1.5.0",
            "_view_name": "ProgressView",
            "bar_style": "success",
            "description": "",
            "description_tooltip": null,
            "layout": "IPY_MODEL_9e5f83259d6344f1bd7bbdf712288e2d",
            "max": 213450,
            "min": 0,
            "orientation": "horizontal",
            "style": "IPY_MODEL_8a8510eccb61483c97fdaf85ccff432b",
            "value": 213450
          }
        },
        "af48dd5d2d184f8e817b8d5e7996b5fb": {
          "model_module": "@jupyter-widgets/controls",
          "model_name": "HTMLModel",
          "model_module_version": "1.5.0",
          "state": {
            "_dom_classes": [],
            "_model_module": "@jupyter-widgets/controls",
            "_model_module_version": "1.5.0",
            "_model_name": "HTMLModel",
            "_view_count": null,
            "_view_module": "@jupyter-widgets/controls",
            "_view_module_version": "1.5.0",
            "_view_name": "HTMLView",
            "description": "",
            "description_tooltip": null,
            "layout": "IPY_MODEL_e9fc365cce7b469496194528facb1f29",
            "placeholder": "​",
            "style": "IPY_MODEL_a73af835e4f14ce28b7ba940ad394d8f",
            "value": " 213k/213k [00:00&lt;00:00, 1.57MB/s]"
          }
        },
        "bf8bf0bc7bbe41edbe5f7a348586bfc8": {
          "model_module": "@jupyter-widgets/base",
          "model_name": "LayoutModel",
          "model_module_version": "1.2.0",
          "state": {
            "_model_module": "@jupyter-widgets/base",
            "_model_module_version": "1.2.0",
            "_model_name": "LayoutModel",
            "_view_count": null,
            "_view_module": "@jupyter-widgets/base",
            "_view_module_version": "1.2.0",
            "_view_name": "LayoutView",
            "align_content": null,
            "align_items": null,
            "align_self": null,
            "border": null,
            "bottom": null,
            "display": null,
            "flex": null,
            "flex_flow": null,
            "grid_area": null,
            "grid_auto_columns": null,
            "grid_auto_flow": null,
            "grid_auto_rows": null,
            "grid_column": null,
            "grid_gap": null,
            "grid_row": null,
            "grid_template_areas": null,
            "grid_template_columns": null,
            "grid_template_rows": null,
            "height": null,
            "justify_content": null,
            "justify_items": null,
            "left": null,
            "margin": null,
            "max_height": null,
            "max_width": null,
            "min_height": null,
            "min_width": null,
            "object_fit": null,
            "object_position": null,
            "order": null,
            "overflow": null,
            "overflow_x": null,
            "overflow_y": null,
            "padding": null,
            "right": null,
            "top": null,
            "visibility": null,
            "width": null
          }
        },
        "6354410d2ca646039d5f677b738847a1": {
          "model_module": "@jupyter-widgets/base",
          "model_name": "LayoutModel",
          "model_module_version": "1.2.0",
          "state": {
            "_model_module": "@jupyter-widgets/base",
            "_model_module_version": "1.2.0",
            "_model_name": "LayoutModel",
            "_view_count": null,
            "_view_module": "@jupyter-widgets/base",
            "_view_module_version": "1.2.0",
            "_view_name": "LayoutView",
            "align_content": null,
            "align_items": null,
            "align_self": null,
            "border": null,
            "bottom": null,
            "display": null,
            "flex": null,
            "flex_flow": null,
            "grid_area": null,
            "grid_auto_columns": null,
            "grid_auto_flow": null,
            "grid_auto_rows": null,
            "grid_column": null,
            "grid_gap": null,
            "grid_row": null,
            "grid_template_areas": null,
            "grid_template_columns": null,
            "grid_template_rows": null,
            "height": null,
            "justify_content": null,
            "justify_items": null,
            "left": null,
            "margin": null,
            "max_height": null,
            "max_width": null,
            "min_height": null,
            "min_width": null,
            "object_fit": null,
            "object_position": null,
            "order": null,
            "overflow": null,
            "overflow_x": null,
            "overflow_y": null,
            "padding": null,
            "right": null,
            "top": null,
            "visibility": null,
            "width": null
          }
        },
        "3ff5c5f87fc74aa3bdc6e8071e425be5": {
          "model_module": "@jupyter-widgets/controls",
          "model_name": "DescriptionStyleModel",
          "model_module_version": "1.5.0",
          "state": {
            "_model_module": "@jupyter-widgets/controls",
            "_model_module_version": "1.5.0",
            "_model_name": "DescriptionStyleModel",
            "_view_count": null,
            "_view_module": "@jupyter-widgets/base",
            "_view_module_version": "1.2.0",
            "_view_name": "StyleView",
            "description_width": ""
          }
        },
        "9e5f83259d6344f1bd7bbdf712288e2d": {
          "model_module": "@jupyter-widgets/base",
          "model_name": "LayoutModel",
          "model_module_version": "1.2.0",
          "state": {
            "_model_module": "@jupyter-widgets/base",
            "_model_module_version": "1.2.0",
            "_model_name": "LayoutModel",
            "_view_count": null,
            "_view_module": "@jupyter-widgets/base",
            "_view_module_version": "1.2.0",
            "_view_name": "LayoutView",
            "align_content": null,
            "align_items": null,
            "align_self": null,
            "border": null,
            "bottom": null,
            "display": null,
            "flex": null,
            "flex_flow": null,
            "grid_area": null,
            "grid_auto_columns": null,
            "grid_auto_flow": null,
            "grid_auto_rows": null,
            "grid_column": null,
            "grid_gap": null,
            "grid_row": null,
            "grid_template_areas": null,
            "grid_template_columns": null,
            "grid_template_rows": null,
            "height": null,
            "justify_content": null,
            "justify_items": null,
            "left": null,
            "margin": null,
            "max_height": null,
            "max_width": null,
            "min_height": null,
            "min_width": null,
            "object_fit": null,
            "object_position": null,
            "order": null,
            "overflow": null,
            "overflow_x": null,
            "overflow_y": null,
            "padding": null,
            "right": null,
            "top": null,
            "visibility": null,
            "width": null
          }
        },
        "8a8510eccb61483c97fdaf85ccff432b": {
          "model_module": "@jupyter-widgets/controls",
          "model_name": "ProgressStyleModel",
          "model_module_version": "1.5.0",
          "state": {
            "_model_module": "@jupyter-widgets/controls",
            "_model_module_version": "1.5.0",
            "_model_name": "ProgressStyleModel",
            "_view_count": null,
            "_view_module": "@jupyter-widgets/base",
            "_view_module_version": "1.2.0",
            "_view_name": "StyleView",
            "bar_color": null,
            "description_width": ""
          }
        },
        "e9fc365cce7b469496194528facb1f29": {
          "model_module": "@jupyter-widgets/base",
          "model_name": "LayoutModel",
          "model_module_version": "1.2.0",
          "state": {
            "_model_module": "@jupyter-widgets/base",
            "_model_module_version": "1.2.0",
            "_model_name": "LayoutModel",
            "_view_count": null,
            "_view_module": "@jupyter-widgets/base",
            "_view_module_version": "1.2.0",
            "_view_name": "LayoutView",
            "align_content": null,
            "align_items": null,
            "align_self": null,
            "border": null,
            "bottom": null,
            "display": null,
            "flex": null,
            "flex_flow": null,
            "grid_area": null,
            "grid_auto_columns": null,
            "grid_auto_flow": null,
            "grid_auto_rows": null,
            "grid_column": null,
            "grid_gap": null,
            "grid_row": null,
            "grid_template_areas": null,
            "grid_template_columns": null,
            "grid_template_rows": null,
            "height": null,
            "justify_content": null,
            "justify_items": null,
            "left": null,
            "margin": null,
            "max_height": null,
            "max_width": null,
            "min_height": null,
            "min_width": null,
            "object_fit": null,
            "object_position": null,
            "order": null,
            "overflow": null,
            "overflow_x": null,
            "overflow_y": null,
            "padding": null,
            "right": null,
            "top": null,
            "visibility": null,
            "width": null
          }
        },
        "a73af835e4f14ce28b7ba940ad394d8f": {
          "model_module": "@jupyter-widgets/controls",
          "model_name": "DescriptionStyleModel",
          "model_module_version": "1.5.0",
          "state": {
            "_model_module": "@jupyter-widgets/controls",
            "_model_module_version": "1.5.0",
            "_model_name": "DescriptionStyleModel",
            "_view_count": null,
            "_view_module": "@jupyter-widgets/base",
            "_view_module_version": "1.2.0",
            "_view_name": "StyleView",
            "description_width": ""
          }
        },
        "b9fe11755323457698e01016f0854359": {
          "model_module": "@jupyter-widgets/controls",
          "model_name": "HBoxModel",
          "model_module_version": "1.5.0",
          "state": {
            "_dom_classes": [],
            "_model_module": "@jupyter-widgets/controls",
            "_model_module_version": "1.5.0",
            "_model_name": "HBoxModel",
            "_view_count": null,
            "_view_module": "@jupyter-widgets/controls",
            "_view_module_version": "1.5.0",
            "_view_name": "HBoxView",
            "box_style": "",
            "children": [
              "IPY_MODEL_8b4b10bab4fa4fa49e4a70a798ecc39a",
              "IPY_MODEL_0e41684f52df4c3ca369c1f8d8049505",
              "IPY_MODEL_77c425c90457425598377ab3b7515b6e"
            ],
            "layout": "IPY_MODEL_853e2f00b22244fc93b6644a4743b74b"
          }
        },
        "8b4b10bab4fa4fa49e4a70a798ecc39a": {
          "model_module": "@jupyter-widgets/controls",
          "model_name": "HTMLModel",
          "model_module_version": "1.5.0",
          "state": {
            "_dom_classes": [],
            "_model_module": "@jupyter-widgets/controls",
            "_model_module_version": "1.5.0",
            "_model_name": "HTMLModel",
            "_view_count": null,
            "_view_module": "@jupyter-widgets/controls",
            "_view_module_version": "1.5.0",
            "_view_name": "HTMLView",
            "description": "",
            "description_tooltip": null,
            "layout": "IPY_MODEL_eb2a79a406f14ec59bcac9392867dacd",
            "placeholder": "​",
            "style": "IPY_MODEL_67ea2ce9c76f4ab2908e19492cee76b4",
            "value": "Downloading (…)okenizer_config.json: 100%"
          }
        },
        "0e41684f52df4c3ca369c1f8d8049505": {
          "model_module": "@jupyter-widgets/controls",
          "model_name": "FloatProgressModel",
          "model_module_version": "1.5.0",
          "state": {
            "_dom_classes": [],
            "_model_module": "@jupyter-widgets/controls",
            "_model_module_version": "1.5.0",
            "_model_name": "FloatProgressModel",
            "_view_count": null,
            "_view_module": "@jupyter-widgets/controls",
            "_view_module_version": "1.5.0",
            "_view_name": "ProgressView",
            "bar_style": "success",
            "description": "",
            "description_tooltip": null,
            "layout": "IPY_MODEL_da1143d4187d4f898190ba60dd1bec82",
            "max": 29,
            "min": 0,
            "orientation": "horizontal",
            "style": "IPY_MODEL_9a74eed5e47349b892d6335efbe6ed2f",
            "value": 29
          }
        },
        "77c425c90457425598377ab3b7515b6e": {
          "model_module": "@jupyter-widgets/controls",
          "model_name": "HTMLModel",
          "model_module_version": "1.5.0",
          "state": {
            "_dom_classes": [],
            "_model_module": "@jupyter-widgets/controls",
            "_model_module_version": "1.5.0",
            "_model_name": "HTMLModel",
            "_view_count": null,
            "_view_module": "@jupyter-widgets/controls",
            "_view_module_version": "1.5.0",
            "_view_name": "HTMLView",
            "description": "",
            "description_tooltip": null,
            "layout": "IPY_MODEL_558838662d35490b8a8e1be448e776e1",
            "placeholder": "​",
            "style": "IPY_MODEL_89609a9f670e450e9792dcfd81b6112c",
            "value": " 29.0/29.0 [00:00&lt;00:00, 478B/s]"
          }
        },
        "853e2f00b22244fc93b6644a4743b74b": {
          "model_module": "@jupyter-widgets/base",
          "model_name": "LayoutModel",
          "model_module_version": "1.2.0",
          "state": {
            "_model_module": "@jupyter-widgets/base",
            "_model_module_version": "1.2.0",
            "_model_name": "LayoutModel",
            "_view_count": null,
            "_view_module": "@jupyter-widgets/base",
            "_view_module_version": "1.2.0",
            "_view_name": "LayoutView",
            "align_content": null,
            "align_items": null,
            "align_self": null,
            "border": null,
            "bottom": null,
            "display": null,
            "flex": null,
            "flex_flow": null,
            "grid_area": null,
            "grid_auto_columns": null,
            "grid_auto_flow": null,
            "grid_auto_rows": null,
            "grid_column": null,
            "grid_gap": null,
            "grid_row": null,
            "grid_template_areas": null,
            "grid_template_columns": null,
            "grid_template_rows": null,
            "height": null,
            "justify_content": null,
            "justify_items": null,
            "left": null,
            "margin": null,
            "max_height": null,
            "max_width": null,
            "min_height": null,
            "min_width": null,
            "object_fit": null,
            "object_position": null,
            "order": null,
            "overflow": null,
            "overflow_x": null,
            "overflow_y": null,
            "padding": null,
            "right": null,
            "top": null,
            "visibility": null,
            "width": null
          }
        },
        "eb2a79a406f14ec59bcac9392867dacd": {
          "model_module": "@jupyter-widgets/base",
          "model_name": "LayoutModel",
          "model_module_version": "1.2.0",
          "state": {
            "_model_module": "@jupyter-widgets/base",
            "_model_module_version": "1.2.0",
            "_model_name": "LayoutModel",
            "_view_count": null,
            "_view_module": "@jupyter-widgets/base",
            "_view_module_version": "1.2.0",
            "_view_name": "LayoutView",
            "align_content": null,
            "align_items": null,
            "align_self": null,
            "border": null,
            "bottom": null,
            "display": null,
            "flex": null,
            "flex_flow": null,
            "grid_area": null,
            "grid_auto_columns": null,
            "grid_auto_flow": null,
            "grid_auto_rows": null,
            "grid_column": null,
            "grid_gap": null,
            "grid_row": null,
            "grid_template_areas": null,
            "grid_template_columns": null,
            "grid_template_rows": null,
            "height": null,
            "justify_content": null,
            "justify_items": null,
            "left": null,
            "margin": null,
            "max_height": null,
            "max_width": null,
            "min_height": null,
            "min_width": null,
            "object_fit": null,
            "object_position": null,
            "order": null,
            "overflow": null,
            "overflow_x": null,
            "overflow_y": null,
            "padding": null,
            "right": null,
            "top": null,
            "visibility": null,
            "width": null
          }
        },
        "67ea2ce9c76f4ab2908e19492cee76b4": {
          "model_module": "@jupyter-widgets/controls",
          "model_name": "DescriptionStyleModel",
          "model_module_version": "1.5.0",
          "state": {
            "_model_module": "@jupyter-widgets/controls",
            "_model_module_version": "1.5.0",
            "_model_name": "DescriptionStyleModel",
            "_view_count": null,
            "_view_module": "@jupyter-widgets/base",
            "_view_module_version": "1.2.0",
            "_view_name": "StyleView",
            "description_width": ""
          }
        },
        "da1143d4187d4f898190ba60dd1bec82": {
          "model_module": "@jupyter-widgets/base",
          "model_name": "LayoutModel",
          "model_module_version": "1.2.0",
          "state": {
            "_model_module": "@jupyter-widgets/base",
            "_model_module_version": "1.2.0",
            "_model_name": "LayoutModel",
            "_view_count": null,
            "_view_module": "@jupyter-widgets/base",
            "_view_module_version": "1.2.0",
            "_view_name": "LayoutView",
            "align_content": null,
            "align_items": null,
            "align_self": null,
            "border": null,
            "bottom": null,
            "display": null,
            "flex": null,
            "flex_flow": null,
            "grid_area": null,
            "grid_auto_columns": null,
            "grid_auto_flow": null,
            "grid_auto_rows": null,
            "grid_column": null,
            "grid_gap": null,
            "grid_row": null,
            "grid_template_areas": null,
            "grid_template_columns": null,
            "grid_template_rows": null,
            "height": null,
            "justify_content": null,
            "justify_items": null,
            "left": null,
            "margin": null,
            "max_height": null,
            "max_width": null,
            "min_height": null,
            "min_width": null,
            "object_fit": null,
            "object_position": null,
            "order": null,
            "overflow": null,
            "overflow_x": null,
            "overflow_y": null,
            "padding": null,
            "right": null,
            "top": null,
            "visibility": null,
            "width": null
          }
        },
        "9a74eed5e47349b892d6335efbe6ed2f": {
          "model_module": "@jupyter-widgets/controls",
          "model_name": "ProgressStyleModel",
          "model_module_version": "1.5.0",
          "state": {
            "_model_module": "@jupyter-widgets/controls",
            "_model_module_version": "1.5.0",
            "_model_name": "ProgressStyleModel",
            "_view_count": null,
            "_view_module": "@jupyter-widgets/base",
            "_view_module_version": "1.2.0",
            "_view_name": "StyleView",
            "bar_color": null,
            "description_width": ""
          }
        },
        "558838662d35490b8a8e1be448e776e1": {
          "model_module": "@jupyter-widgets/base",
          "model_name": "LayoutModel",
          "model_module_version": "1.2.0",
          "state": {
            "_model_module": "@jupyter-widgets/base",
            "_model_module_version": "1.2.0",
            "_model_name": "LayoutModel",
            "_view_count": null,
            "_view_module": "@jupyter-widgets/base",
            "_view_module_version": "1.2.0",
            "_view_name": "LayoutView",
            "align_content": null,
            "align_items": null,
            "align_self": null,
            "border": null,
            "bottom": null,
            "display": null,
            "flex": null,
            "flex_flow": null,
            "grid_area": null,
            "grid_auto_columns": null,
            "grid_auto_flow": null,
            "grid_auto_rows": null,
            "grid_column": null,
            "grid_gap": null,
            "grid_row": null,
            "grid_template_areas": null,
            "grid_template_columns": null,
            "grid_template_rows": null,
            "height": null,
            "justify_content": null,
            "justify_items": null,
            "left": null,
            "margin": null,
            "max_height": null,
            "max_width": null,
            "min_height": null,
            "min_width": null,
            "object_fit": null,
            "object_position": null,
            "order": null,
            "overflow": null,
            "overflow_x": null,
            "overflow_y": null,
            "padding": null,
            "right": null,
            "top": null,
            "visibility": null,
            "width": null
          }
        },
        "89609a9f670e450e9792dcfd81b6112c": {
          "model_module": "@jupyter-widgets/controls",
          "model_name": "DescriptionStyleModel",
          "model_module_version": "1.5.0",
          "state": {
            "_model_module": "@jupyter-widgets/controls",
            "_model_module_version": "1.5.0",
            "_model_name": "DescriptionStyleModel",
            "_view_count": null,
            "_view_module": "@jupyter-widgets/base",
            "_view_module_version": "1.2.0",
            "_view_name": "StyleView",
            "description_width": ""
          }
        },
        "119c7e998f9248019b50d6ee652b7667": {
          "model_module": "@jupyter-widgets/controls",
          "model_name": "HBoxModel",
          "model_module_version": "1.5.0",
          "state": {
            "_dom_classes": [],
            "_model_module": "@jupyter-widgets/controls",
            "_model_module_version": "1.5.0",
            "_model_name": "HBoxModel",
            "_view_count": null,
            "_view_module": "@jupyter-widgets/controls",
            "_view_module_version": "1.5.0",
            "_view_name": "HBoxView",
            "box_style": "",
            "children": [
              "IPY_MODEL_9b843aacbdf8424187ea06345b6c2e71",
              "IPY_MODEL_7f2c1503e1dc46f499cd7508bde93e10",
              "IPY_MODEL_ff80219b7bee49ccab6cea3276ff1228"
            ],
            "layout": "IPY_MODEL_d0d17f74f60649fa816333551c397950"
          }
        },
        "9b843aacbdf8424187ea06345b6c2e71": {
          "model_module": "@jupyter-widgets/controls",
          "model_name": "HTMLModel",
          "model_module_version": "1.5.0",
          "state": {
            "_dom_classes": [],
            "_model_module": "@jupyter-widgets/controls",
            "_model_module_version": "1.5.0",
            "_model_name": "HTMLModel",
            "_view_count": null,
            "_view_module": "@jupyter-widgets/controls",
            "_view_module_version": "1.5.0",
            "_view_name": "HTMLView",
            "description": "",
            "description_tooltip": null,
            "layout": "IPY_MODEL_abdbd357629d45c28d0c038ab1745d09",
            "placeholder": "​",
            "style": "IPY_MODEL_57563e1df4bc4cfa81e69df9f8c7c3da",
            "value": "Downloading (…)lve/main/config.json: 100%"
          }
        },
        "7f2c1503e1dc46f499cd7508bde93e10": {
          "model_module": "@jupyter-widgets/controls",
          "model_name": "FloatProgressModel",
          "model_module_version": "1.5.0",
          "state": {
            "_dom_classes": [],
            "_model_module": "@jupyter-widgets/controls",
            "_model_module_version": "1.5.0",
            "_model_name": "FloatProgressModel",
            "_view_count": null,
            "_view_module": "@jupyter-widgets/controls",
            "_view_module_version": "1.5.0",
            "_view_name": "ProgressView",
            "bar_style": "success",
            "description": "",
            "description_tooltip": null,
            "layout": "IPY_MODEL_2e45add3129a420c968d33819e19b44c",
            "max": 570,
            "min": 0,
            "orientation": "horizontal",
            "style": "IPY_MODEL_e6ba2b85791f4497961987868bdeb0b6",
            "value": 570
          }
        },
        "ff80219b7bee49ccab6cea3276ff1228": {
          "model_module": "@jupyter-widgets/controls",
          "model_name": "HTMLModel",
          "model_module_version": "1.5.0",
          "state": {
            "_dom_classes": [],
            "_model_module": "@jupyter-widgets/controls",
            "_model_module_version": "1.5.0",
            "_model_name": "HTMLModel",
            "_view_count": null,
            "_view_module": "@jupyter-widgets/controls",
            "_view_module_version": "1.5.0",
            "_view_name": "HTMLView",
            "description": "",
            "description_tooltip": null,
            "layout": "IPY_MODEL_ba3e45ccc3c4415bbfb6233cda3185f1",
            "placeholder": "​",
            "style": "IPY_MODEL_223296e1c6e94620b078afd26b9d235b",
            "value": " 570/570 [00:00&lt;00:00, 9.43kB/s]"
          }
        },
        "d0d17f74f60649fa816333551c397950": {
          "model_module": "@jupyter-widgets/base",
          "model_name": "LayoutModel",
          "model_module_version": "1.2.0",
          "state": {
            "_model_module": "@jupyter-widgets/base",
            "_model_module_version": "1.2.0",
            "_model_name": "LayoutModel",
            "_view_count": null,
            "_view_module": "@jupyter-widgets/base",
            "_view_module_version": "1.2.0",
            "_view_name": "LayoutView",
            "align_content": null,
            "align_items": null,
            "align_self": null,
            "border": null,
            "bottom": null,
            "display": null,
            "flex": null,
            "flex_flow": null,
            "grid_area": null,
            "grid_auto_columns": null,
            "grid_auto_flow": null,
            "grid_auto_rows": null,
            "grid_column": null,
            "grid_gap": null,
            "grid_row": null,
            "grid_template_areas": null,
            "grid_template_columns": null,
            "grid_template_rows": null,
            "height": null,
            "justify_content": null,
            "justify_items": null,
            "left": null,
            "margin": null,
            "max_height": null,
            "max_width": null,
            "min_height": null,
            "min_width": null,
            "object_fit": null,
            "object_position": null,
            "order": null,
            "overflow": null,
            "overflow_x": null,
            "overflow_y": null,
            "padding": null,
            "right": null,
            "top": null,
            "visibility": null,
            "width": null
          }
        },
        "abdbd357629d45c28d0c038ab1745d09": {
          "model_module": "@jupyter-widgets/base",
          "model_name": "LayoutModel",
          "model_module_version": "1.2.0",
          "state": {
            "_model_module": "@jupyter-widgets/base",
            "_model_module_version": "1.2.0",
            "_model_name": "LayoutModel",
            "_view_count": null,
            "_view_module": "@jupyter-widgets/base",
            "_view_module_version": "1.2.0",
            "_view_name": "LayoutView",
            "align_content": null,
            "align_items": null,
            "align_self": null,
            "border": null,
            "bottom": null,
            "display": null,
            "flex": null,
            "flex_flow": null,
            "grid_area": null,
            "grid_auto_columns": null,
            "grid_auto_flow": null,
            "grid_auto_rows": null,
            "grid_column": null,
            "grid_gap": null,
            "grid_row": null,
            "grid_template_areas": null,
            "grid_template_columns": null,
            "grid_template_rows": null,
            "height": null,
            "justify_content": null,
            "justify_items": null,
            "left": null,
            "margin": null,
            "max_height": null,
            "max_width": null,
            "min_height": null,
            "min_width": null,
            "object_fit": null,
            "object_position": null,
            "order": null,
            "overflow": null,
            "overflow_x": null,
            "overflow_y": null,
            "padding": null,
            "right": null,
            "top": null,
            "visibility": null,
            "width": null
          }
        },
        "57563e1df4bc4cfa81e69df9f8c7c3da": {
          "model_module": "@jupyter-widgets/controls",
          "model_name": "DescriptionStyleModel",
          "model_module_version": "1.5.0",
          "state": {
            "_model_module": "@jupyter-widgets/controls",
            "_model_module_version": "1.5.0",
            "_model_name": "DescriptionStyleModel",
            "_view_count": null,
            "_view_module": "@jupyter-widgets/base",
            "_view_module_version": "1.2.0",
            "_view_name": "StyleView",
            "description_width": ""
          }
        },
        "2e45add3129a420c968d33819e19b44c": {
          "model_module": "@jupyter-widgets/base",
          "model_name": "LayoutModel",
          "model_module_version": "1.2.0",
          "state": {
            "_model_module": "@jupyter-widgets/base",
            "_model_module_version": "1.2.0",
            "_model_name": "LayoutModel",
            "_view_count": null,
            "_view_module": "@jupyter-widgets/base",
            "_view_module_version": "1.2.0",
            "_view_name": "LayoutView",
            "align_content": null,
            "align_items": null,
            "align_self": null,
            "border": null,
            "bottom": null,
            "display": null,
            "flex": null,
            "flex_flow": null,
            "grid_area": null,
            "grid_auto_columns": null,
            "grid_auto_flow": null,
            "grid_auto_rows": null,
            "grid_column": null,
            "grid_gap": null,
            "grid_row": null,
            "grid_template_areas": null,
            "grid_template_columns": null,
            "grid_template_rows": null,
            "height": null,
            "justify_content": null,
            "justify_items": null,
            "left": null,
            "margin": null,
            "max_height": null,
            "max_width": null,
            "min_height": null,
            "min_width": null,
            "object_fit": null,
            "object_position": null,
            "order": null,
            "overflow": null,
            "overflow_x": null,
            "overflow_y": null,
            "padding": null,
            "right": null,
            "top": null,
            "visibility": null,
            "width": null
          }
        },
        "e6ba2b85791f4497961987868bdeb0b6": {
          "model_module": "@jupyter-widgets/controls",
          "model_name": "ProgressStyleModel",
          "model_module_version": "1.5.0",
          "state": {
            "_model_module": "@jupyter-widgets/controls",
            "_model_module_version": "1.5.0",
            "_model_name": "ProgressStyleModel",
            "_view_count": null,
            "_view_module": "@jupyter-widgets/base",
            "_view_module_version": "1.2.0",
            "_view_name": "StyleView",
            "bar_color": null,
            "description_width": ""
          }
        },
        "ba3e45ccc3c4415bbfb6233cda3185f1": {
          "model_module": "@jupyter-widgets/base",
          "model_name": "LayoutModel",
          "model_module_version": "1.2.0",
          "state": {
            "_model_module": "@jupyter-widgets/base",
            "_model_module_version": "1.2.0",
            "_model_name": "LayoutModel",
            "_view_count": null,
            "_view_module": "@jupyter-widgets/base",
            "_view_module_version": "1.2.0",
            "_view_name": "LayoutView",
            "align_content": null,
            "align_items": null,
            "align_self": null,
            "border": null,
            "bottom": null,
            "display": null,
            "flex": null,
            "flex_flow": null,
            "grid_area": null,
            "grid_auto_columns": null,
            "grid_auto_flow": null,
            "grid_auto_rows": null,
            "grid_column": null,
            "grid_gap": null,
            "grid_row": null,
            "grid_template_areas": null,
            "grid_template_columns": null,
            "grid_template_rows": null,
            "height": null,
            "justify_content": null,
            "justify_items": null,
            "left": null,
            "margin": null,
            "max_height": null,
            "max_width": null,
            "min_height": null,
            "min_width": null,
            "object_fit": null,
            "object_position": null,
            "order": null,
            "overflow": null,
            "overflow_x": null,
            "overflow_y": null,
            "padding": null,
            "right": null,
            "top": null,
            "visibility": null,
            "width": null
          }
        },
        "223296e1c6e94620b078afd26b9d235b": {
          "model_module": "@jupyter-widgets/controls",
          "model_name": "DescriptionStyleModel",
          "model_module_version": "1.5.0",
          "state": {
            "_model_module": "@jupyter-widgets/controls",
            "_model_module_version": "1.5.0",
            "_model_name": "DescriptionStyleModel",
            "_view_count": null,
            "_view_module": "@jupyter-widgets/base",
            "_view_module_version": "1.2.0",
            "_view_name": "StyleView",
            "description_width": ""
          }
        },
        "6e602b2e23ed47e89d6e59a910f5b018": {
          "model_module": "@jupyter-widgets/controls",
          "model_name": "HBoxModel",
          "model_module_version": "1.5.0",
          "state": {
            "_dom_classes": [],
            "_model_module": "@jupyter-widgets/controls",
            "_model_module_version": "1.5.0",
            "_model_name": "HBoxModel",
            "_view_count": null,
            "_view_module": "@jupyter-widgets/controls",
            "_view_module_version": "1.5.0",
            "_view_name": "HBoxView",
            "box_style": "",
            "children": [
              "IPY_MODEL_5ecfa8bc5f6f4a16b706e78f747fd921",
              "IPY_MODEL_39ea87239e254f4798db1b78acdb6056",
              "IPY_MODEL_45138689910a40bb98914694df79d7e8"
            ],
            "layout": "IPY_MODEL_9aa51ab35674490aa22b260a8c5412df"
          }
        },
        "5ecfa8bc5f6f4a16b706e78f747fd921": {
          "model_module": "@jupyter-widgets/controls",
          "model_name": "HTMLModel",
          "model_module_version": "1.5.0",
          "state": {
            "_dom_classes": [],
            "_model_module": "@jupyter-widgets/controls",
            "_model_module_version": "1.5.0",
            "_model_name": "HTMLModel",
            "_view_count": null,
            "_view_module": "@jupyter-widgets/controls",
            "_view_module_version": "1.5.0",
            "_view_name": "HTMLView",
            "description": "",
            "description_tooltip": null,
            "layout": "IPY_MODEL_0644d1519f4a40a694df7c4dc6b30c21",
            "placeholder": "​",
            "style": "IPY_MODEL_cf71e4f112f94627bdfa70e0813a9174",
            "value": "Downloading (…)&quot;tf_model.h5&quot;;: 100%"
          }
        },
        "39ea87239e254f4798db1b78acdb6056": {
          "model_module": "@jupyter-widgets/controls",
          "model_name": "FloatProgressModel",
          "model_module_version": "1.5.0",
          "state": {
            "_dom_classes": [],
            "_model_module": "@jupyter-widgets/controls",
            "_model_module_version": "1.5.0",
            "_model_name": "FloatProgressModel",
            "_view_count": null,
            "_view_module": "@jupyter-widgets/controls",
            "_view_module_version": "1.5.0",
            "_view_name": "ProgressView",
            "bar_style": "success",
            "description": "",
            "description_tooltip": null,
            "layout": "IPY_MODEL_e214b1ba25c046a0a60783dc9d2b6a18",
            "max": 526681800,
            "min": 0,
            "orientation": "horizontal",
            "style": "IPY_MODEL_830173e4ecec4b8f92f53391161c746f",
            "value": 526681800
          }
        },
        "45138689910a40bb98914694df79d7e8": {
          "model_module": "@jupyter-widgets/controls",
          "model_name": "HTMLModel",
          "model_module_version": "1.5.0",
          "state": {
            "_dom_classes": [],
            "_model_module": "@jupyter-widgets/controls",
            "_model_module_version": "1.5.0",
            "_model_name": "HTMLModel",
            "_view_count": null,
            "_view_module": "@jupyter-widgets/controls",
            "_view_module_version": "1.5.0",
            "_view_name": "HTMLView",
            "description": "",
            "description_tooltip": null,
            "layout": "IPY_MODEL_0e7ddde292f145fb83d4887d82e4c2f9",
            "placeholder": "​",
            "style": "IPY_MODEL_f6344e8c303d4f91ba18becc53357838",
            "value": " 527M/527M [00:06&lt;00:00, 83.8MB/s]"
          }
        },
        "9aa51ab35674490aa22b260a8c5412df": {
          "model_module": "@jupyter-widgets/base",
          "model_name": "LayoutModel",
          "model_module_version": "1.2.0",
          "state": {
            "_model_module": "@jupyter-widgets/base",
            "_model_module_version": "1.2.0",
            "_model_name": "LayoutModel",
            "_view_count": null,
            "_view_module": "@jupyter-widgets/base",
            "_view_module_version": "1.2.0",
            "_view_name": "LayoutView",
            "align_content": null,
            "align_items": null,
            "align_self": null,
            "border": null,
            "bottom": null,
            "display": null,
            "flex": null,
            "flex_flow": null,
            "grid_area": null,
            "grid_auto_columns": null,
            "grid_auto_flow": null,
            "grid_auto_rows": null,
            "grid_column": null,
            "grid_gap": null,
            "grid_row": null,
            "grid_template_areas": null,
            "grid_template_columns": null,
            "grid_template_rows": null,
            "height": null,
            "justify_content": null,
            "justify_items": null,
            "left": null,
            "margin": null,
            "max_height": null,
            "max_width": null,
            "min_height": null,
            "min_width": null,
            "object_fit": null,
            "object_position": null,
            "order": null,
            "overflow": null,
            "overflow_x": null,
            "overflow_y": null,
            "padding": null,
            "right": null,
            "top": null,
            "visibility": null,
            "width": null
          }
        },
        "0644d1519f4a40a694df7c4dc6b30c21": {
          "model_module": "@jupyter-widgets/base",
          "model_name": "LayoutModel",
          "model_module_version": "1.2.0",
          "state": {
            "_model_module": "@jupyter-widgets/base",
            "_model_module_version": "1.2.0",
            "_model_name": "LayoutModel",
            "_view_count": null,
            "_view_module": "@jupyter-widgets/base",
            "_view_module_version": "1.2.0",
            "_view_name": "LayoutView",
            "align_content": null,
            "align_items": null,
            "align_self": null,
            "border": null,
            "bottom": null,
            "display": null,
            "flex": null,
            "flex_flow": null,
            "grid_area": null,
            "grid_auto_columns": null,
            "grid_auto_flow": null,
            "grid_auto_rows": null,
            "grid_column": null,
            "grid_gap": null,
            "grid_row": null,
            "grid_template_areas": null,
            "grid_template_columns": null,
            "grid_template_rows": null,
            "height": null,
            "justify_content": null,
            "justify_items": null,
            "left": null,
            "margin": null,
            "max_height": null,
            "max_width": null,
            "min_height": null,
            "min_width": null,
            "object_fit": null,
            "object_position": null,
            "order": null,
            "overflow": null,
            "overflow_x": null,
            "overflow_y": null,
            "padding": null,
            "right": null,
            "top": null,
            "visibility": null,
            "width": null
          }
        },
        "cf71e4f112f94627bdfa70e0813a9174": {
          "model_module": "@jupyter-widgets/controls",
          "model_name": "DescriptionStyleModel",
          "model_module_version": "1.5.0",
          "state": {
            "_model_module": "@jupyter-widgets/controls",
            "_model_module_version": "1.5.0",
            "_model_name": "DescriptionStyleModel",
            "_view_count": null,
            "_view_module": "@jupyter-widgets/base",
            "_view_module_version": "1.2.0",
            "_view_name": "StyleView",
            "description_width": ""
          }
        },
        "e214b1ba25c046a0a60783dc9d2b6a18": {
          "model_module": "@jupyter-widgets/base",
          "model_name": "LayoutModel",
          "model_module_version": "1.2.0",
          "state": {
            "_model_module": "@jupyter-widgets/base",
            "_model_module_version": "1.2.0",
            "_model_name": "LayoutModel",
            "_view_count": null,
            "_view_module": "@jupyter-widgets/base",
            "_view_module_version": "1.2.0",
            "_view_name": "LayoutView",
            "align_content": null,
            "align_items": null,
            "align_self": null,
            "border": null,
            "bottom": null,
            "display": null,
            "flex": null,
            "flex_flow": null,
            "grid_area": null,
            "grid_auto_columns": null,
            "grid_auto_flow": null,
            "grid_auto_rows": null,
            "grid_column": null,
            "grid_gap": null,
            "grid_row": null,
            "grid_template_areas": null,
            "grid_template_columns": null,
            "grid_template_rows": null,
            "height": null,
            "justify_content": null,
            "justify_items": null,
            "left": null,
            "margin": null,
            "max_height": null,
            "max_width": null,
            "min_height": null,
            "min_width": null,
            "object_fit": null,
            "object_position": null,
            "order": null,
            "overflow": null,
            "overflow_x": null,
            "overflow_y": null,
            "padding": null,
            "right": null,
            "top": null,
            "visibility": null,
            "width": null
          }
        },
        "830173e4ecec4b8f92f53391161c746f": {
          "model_module": "@jupyter-widgets/controls",
          "model_name": "ProgressStyleModel",
          "model_module_version": "1.5.0",
          "state": {
            "_model_module": "@jupyter-widgets/controls",
            "_model_module_version": "1.5.0",
            "_model_name": "ProgressStyleModel",
            "_view_count": null,
            "_view_module": "@jupyter-widgets/base",
            "_view_module_version": "1.2.0",
            "_view_name": "StyleView",
            "bar_color": null,
            "description_width": ""
          }
        },
        "0e7ddde292f145fb83d4887d82e4c2f9": {
          "model_module": "@jupyter-widgets/base",
          "model_name": "LayoutModel",
          "model_module_version": "1.2.0",
          "state": {
            "_model_module": "@jupyter-widgets/base",
            "_model_module_version": "1.2.0",
            "_model_name": "LayoutModel",
            "_view_count": null,
            "_view_module": "@jupyter-widgets/base",
            "_view_module_version": "1.2.0",
            "_view_name": "LayoutView",
            "align_content": null,
            "align_items": null,
            "align_self": null,
            "border": null,
            "bottom": null,
            "display": null,
            "flex": null,
            "flex_flow": null,
            "grid_area": null,
            "grid_auto_columns": null,
            "grid_auto_flow": null,
            "grid_auto_rows": null,
            "grid_column": null,
            "grid_gap": null,
            "grid_row": null,
            "grid_template_areas": null,
            "grid_template_columns": null,
            "grid_template_rows": null,
            "height": null,
            "justify_content": null,
            "justify_items": null,
            "left": null,
            "margin": null,
            "max_height": null,
            "max_width": null,
            "min_height": null,
            "min_width": null,
            "object_fit": null,
            "object_position": null,
            "order": null,
            "overflow": null,
            "overflow_x": null,
            "overflow_y": null,
            "padding": null,
            "right": null,
            "top": null,
            "visibility": null,
            "width": null
          }
        },
        "f6344e8c303d4f91ba18becc53357838": {
          "model_module": "@jupyter-widgets/controls",
          "model_name": "DescriptionStyleModel",
          "model_module_version": "1.5.0",
          "state": {
            "_model_module": "@jupyter-widgets/controls",
            "_model_module_version": "1.5.0",
            "_model_name": "DescriptionStyleModel",
            "_view_count": null,
            "_view_module": "@jupyter-widgets/base",
            "_view_module_version": "1.2.0",
            "_view_name": "StyleView",
            "description_width": ""
          }
        }
      }
    }
  },
  "nbformat": 4,
  "nbformat_minor": 0
}