{
  "cells": [
    {
      "cell_type": "markdown",
      "metadata": {
        "id": "view-in-github",
        "colab_type": "text"
      },
      "source": [
        "<a href=\"https://colab.research.google.com/github/srilamaiti/SM_MIDS_W266_HW/blob/main/Multiclass_text_classification.ipynb\" target=\"_parent\"><img src=\"https://colab.research.google.com/assets/colab-badge.svg\" alt=\"Open In Colab\"/></a>"
      ]
    },
    {
      "cell_type": "markdown",
      "metadata": {
        "id": "Z-44Qz4-Xd1o"
      },
      "source": [
        "# Assignment 3: Fine tuning a multiclass classification BERT model\n",
        "\n",
        "**Description:** This assignment covers fine-tuning of a multiclass classification. You will compare two different types of solutions using BERT-based models. You should also be able to develop an intuition for:\n",
        "\n",
        "\n",
        "* Working with BERT\n",
        "* Using multiple models to focus on different sub-tasks\n",
        "* Different metrics to measure the effectiveness of your model\n",
        "\n",
        "\n",
        "\n",
        "The assignment notebook closely follows the lesson notebooks. We will use the 20 newsgroups dataset and will leverage some of the models, or part of the code, for our current investigation. \n",
        "\n",
        "**You are strongly encouraged to read through the entire notebook before answering any questions or writing any code.**\n",
        "\n",
        "The initial part of the notebook is purely setup. We will then generate our BERT model and see if and how we can improve it. \n",
        "\n",
        "Do not try to run this entire notebook on your GCP instance as the training of models requires a GPU to work in a timely fashion. This notebook should be run on a Google Colab leveraging a GPU. By default, when you open the notebook in Colab it will try to use a GPU. Total runtime of the entire notebook (with solutions and a Colab GPU) should be about 1h.\n",
        "\n",
        "\n",
        "[![Open In Colab](https://colab.research.google.com/assets/colab-badge.svg)](https://colab.research.google.com/github/datasci-w266/2023-spring-main/blob/master/assignment/a3/Multiclass_text_classification.ipynb)\n",
        "\n",
        "The overall assignment structure is as follows:\n",
        "\n",
        "1. Setup\n",
        "  \n",
        "  1.1 Libraries & Helper Functions\n",
        "\n",
        "  1.2 Data Acquisition\n",
        "\n",
        "  1.3 Training/Test/Validation Sets for BERT-based models\n",
        "\n",
        "2. Classification with a fine tuned BERT model\n",
        "\n",
        "  2.1 Create the specified BERT model\n",
        "  \n",
        "  2.2 Fine tune the BERT model as directed\n",
        "\n",
        "  2.3 Examine the predictions with various metrics\n",
        "\n",
        "3. Classification using two stages\n",
        "\n",
        "  3.1 Relabel the data to group the often confused classes\n",
        "\n",
        "  3.2 Train the first stage model on the relabeled data\n",
        "\n",
        "  3.3 Separate the data for just the confused classes\n",
        "\n",
        "  3.4. Train the second stage model on the two classes\n",
        "\n",
        "  3.5. Combine and evaluate the predictions from the two stages\n",
        "\n",
        "4. Look at examples of misclassifications, see what might have changed\n",
        "\n",
        "\n",
        "\n",
        "**INSTRUCTIONS:**: \n",
        "\n",
        "* Questions are always indicated as **QUESTION:**, so you can search for this string to make sure you answered all of the questions. You are expected to fill out, run, and submit this notebook, as well as to answer the questions in the **answers** file as you did in a1 and a2.\n",
        "\n",
        "* **### YOUR CODE HERE** indicates that you are supposed to write code.\n",
        "\n",
        "* If you want to, you can run all of the cells in section 1 in bulk. This is setup work and no questions are in there. At the end of section 1 we will state all of the relevant variables that were defined and created in section 1.\n",
        "\n",
        "* **IMPORTANT NOTE:** Because the data we're using is downloaded each time we run section 1, a different split of train, validation, and test records is created.  This means that the accuracy, precision, recall, and F1 scores will change, although the delta will be small.  Please enter the values from your final run so that the answer values in your answers file correspond to the answer values in the outputs in your notebook.\n"
      ]
    },
    {
      "cell_type": "markdown",
      "metadata": {
        "id": "NK2xTV-Xisrl"
      },
      "source": [
        "### 1. Setup\n",
        "\n",
        "Lets get all our libraries and download and process our data."
      ]
    },
    {
      "cell_type": "code",
      "execution_count": 85,
      "metadata": {
        "id": "3gzOXaFdmgO8"
      },
      "outputs": [],
      "source": [
        "!pip install -q transformers"
      ]
    },
    {
      "cell_type": "code",
      "execution_count": 86,
      "metadata": {
        "colab": {
          "base_uri": "https://localhost:8080/"
        },
        "id": "ULcKJUjHmkZT",
        "outputId": "e76694fa-457a-4f92-e7ef-991dd3128d98"
      },
      "outputs": [
        {
          "output_type": "stream",
          "name": "stdout",
          "text": [
            "Looking in indexes: https://pypi.org/simple, https://us-python.pkg.dev/colab-wheels/public/simple/\n",
            "Requirement already satisfied: pydot in /usr/local/lib/python3.8/dist-packages (1.3.0)\n",
            "Requirement already satisfied: pyparsing>=2.1.4 in /usr/local/lib/python3.8/dist-packages (from pydot) (3.0.9)\n"
          ]
        }
      ],
      "source": [
        "!pip install pydot"
      ]
    },
    {
      "cell_type": "code",
      "execution_count": 87,
      "metadata": {
        "id": "aTq7Qjqbmkfv"
      },
      "outputs": [],
      "source": [
        "from sklearn.datasets import fetch_20newsgroups\n",
        "from sklearn.model_selection import train_test_split\n",
        "from sklearn.metrics import classification_report"
      ]
    },
    {
      "cell_type": "code",
      "execution_count": 88,
      "metadata": {
        "id": "-6E-xzDawK0Q"
      },
      "outputs": [],
      "source": [
        "from collections import Counter\n",
        "import numpy as np\n",
        "import tensorflow as tf\n",
        "from tensorflow import keras\n",
        "\n",
        "import seaborn as sns\n",
        "import matplotlib.pyplot as plt\n",
        "from pprint import pprint "
      ]
    },
    {
      "cell_type": "code",
      "execution_count": 89,
      "metadata": {
        "id": "99yIOuqFXMwU"
      },
      "outputs": [],
      "source": [
        "from transformers import BertTokenizer, TFBertModel"
      ]
    },
    {
      "cell_type": "code",
      "execution_count": 90,
      "metadata": {
        "id": "UWk_PZ9hmkk0"
      },
      "outputs": [],
      "source": [
        "def read_20newsgroups(test_size=0.1):\n",
        "  # download & load 20newsgroups dataset from sklearn's repos\n",
        "  dataset = fetch_20newsgroups(subset=\"all\", shuffle=True, remove=(\"headers\", \"footers\", \"quotes\"))\n",
        "  documents = dataset.data\n",
        "  labels = dataset.target\n",
        "  # split into training & testing a return data as well as label names\n",
        "  return train_test_split(documents, labels, test_size=test_size), dataset.target_names\n",
        "  \n",
        "# call the function\n",
        "(train_texts, test_texts, train_labels, test_labels), target_names = read_20newsgroups()"
      ]
    },
    {
      "cell_type": "markdown",
      "metadata": {
        "id": "8Ocyl9dnb1OM"
      },
      "source": [
        "Take a look at the records.  We basically have a long string of text and an associated label.  That label is the Usenet group where the posting occured. The records are the raw text.  They vary significantly in size."
      ]
    },
    {
      "cell_type": "code",
      "execution_count": 91,
      "metadata": {
        "colab": {
          "base_uri": "https://localhost:8080/"
        },
        "id": "O7Akxu2Umkpo",
        "outputId": "8d42bf1d-8c28-4ace-c1eb-ed1fdd9ebc39"
      },
      "outputs": [
        {
          "output_type": "execute_result",
          "data": {
            "text/plain": [
              "['\\n\\nThough David Sternlight pushes the envelope of credibility by claiming that\\ntalk.politics.guns is not the place to discuss guns, or the meaning of the\\nSecond Amendment, it seems he would rather post to millions of people out \\nof relative ignorance of the subject than to follow the currently active \\nthreads discussing EXACTLY this topic which at least explore the fallacies \\nof his erroneous claim, and at most explode them.\\n\\nBasic fact #1, Mr. Sternlight:  The RIGHT described is a \"right of the people\\nto keep and bear arms;\" not a \"right of the people to form a militia,\" a\\n\"right of a militia to keep and bear arms,\" or a \"right of well-regulated\\npeople to keep and bear arms.\"  This should be apparent from a simple\\nreading of the sentence.\\n\\nFor the other arguments, I suggest you check out the thread, \"Some more\\nabout gun control,\" playing now in an alt.politics.usa.constitution\\nnear you.\\n-- ',\n",
              " '\\n\\nWhy must it be a US Government Space Launch Pad? Directly I mean..\\nI know of a few that could launch a small package into space.\\nNot including Ariadne, and the Russian Sites.. I know \"Poker Flats\" here in\\nAlaska, thou used to be only sounding rockets for Auroral Borealous(sp and\\nother northern atmospheric items, is at last I heard being upgraded to be able\\nto put sattelites into orbit. \\n\\nWhy must people in the US be fixed on using NASAs direct resources (Poker Flats\\nis runin part by NASA, but also by the Univesity of Alaska, and the Geophysical\\nInstitute). Sounds like typical US cultural centralism and protectionism..\\nAnd people wonder why we have the multi-trillion dollar deficite(sp).\\nYes, I am working on a spell checker..']"
            ]
          },
          "metadata": {},
          "execution_count": 91
        }
      ],
      "source": [
        "train_texts[:2]"
      ]
    },
    {
      "cell_type": "markdown",
      "metadata": {
        "id": "1eKIgSBdcHy9"
      },
      "source": [
        "Notice the \"labels\" are just integers that are an offset into the list of target names."
      ]
    },
    {
      "cell_type": "code",
      "execution_count": 92,
      "metadata": {
        "colab": {
          "base_uri": "https://localhost:8080/"
        },
        "id": "KRnu9CSQnMNN",
        "outputId": "eee5bdfc-634b-46f6-b068-cf6d8059afb6"
      },
      "outputs": [
        {
          "output_type": "execute_result",
          "data": {
            "text/plain": [
              "array([16, 14])"
            ]
          },
          "metadata": {},
          "execution_count": 92
        }
      ],
      "source": [
        "train_labels[:2]"
      ]
    },
    {
      "cell_type": "markdown",
      "metadata": {
        "id": "F-ksEnmbcWBt"
      },
      "source": [
        "The variable ''target_names'' stores all of the names of the labels."
      ]
    },
    {
      "cell_type": "code",
      "execution_count": 93,
      "metadata": {
        "colab": {
          "base_uri": "https://localhost:8080/"
        },
        "id": "qvNAnCstx-3S",
        "outputId": "ea3c6b74-f4bf-4011-afce-7e8542c5c920"
      },
      "outputs": [
        {
          "output_type": "stream",
          "name": "stdout",
          "text": [
            "['alt.atheism', 'comp.graphics', 'comp.os.ms-windows.misc', 'comp.sys.ibm.pc.hardware', 'comp.sys.mac.hardware', 'comp.windows.x', 'misc.forsale', 'rec.autos', 'rec.motorcycles', 'rec.sport.baseball', 'rec.sport.hockey', 'sci.crypt', 'sci.electronics', 'sci.med', 'sci.space', 'soc.religion.christian', 'talk.politics.guns', 'talk.politics.mideast', 'talk.politics.misc', 'talk.religion.misc']\n"
          ]
        }
      ],
      "source": [
        "print(target_names)"
      ]
    },
    {
      "cell_type": "markdown",
      "metadata": {
        "id": "m1SmEVYOcwP6"
      },
      "source": [
        "We already have a test set and a train set.  Let's explicitly set aside part of our training set for validation purposes."
      ]
    },
    {
      "cell_type": "code",
      "execution_count": 94,
      "metadata": {
        "id": "H1toWirQAAZ8"
      },
      "outputs": [],
      "source": [
        "len(train_texts)\n",
        "valid_texts = train_texts[16000:]\n",
        "valid_labels = train_labels[16000:]\n",
        "train_texts = train_texts[:16000]\n",
        "train_labels = train_labels[:16000]"
      ]
    },
    {
      "cell_type": "markdown",
      "metadata": {
        "id": "aBMiGVwHc76-"
      },
      "source": [
        "The validation set will always have 961 records."
      ]
    },
    {
      "cell_type": "code",
      "execution_count": 95,
      "metadata": {
        "colab": {
          "base_uri": "https://localhost:8080/"
        },
        "id": "bzuXsJjwAAOr",
        "outputId": "8ec66a03-5834-4c61-c264-9f8bf018bcf7"
      },
      "outputs": [
        {
          "output_type": "execute_result",
          "data": {
            "text/plain": [
              "961"
            ]
          },
          "metadata": {},
          "execution_count": 95
        }
      ],
      "source": [
        "len(valid_texts)"
      ]
    },
    {
      "cell_type": "markdown",
      "metadata": {
        "id": "SBy5EKYwdBcZ"
      },
      "source": [
        "The training set will always have 16000 records."
      ]
    },
    {
      "cell_type": "code",
      "execution_count": 96,
      "metadata": {
        "colab": {
          "base_uri": "https://localhost:8080/"
        },
        "id": "MMVgiD8SCHUk",
        "outputId": "8f68da1a-7c63-427b-ff3e-3321c55a6078"
      },
      "outputs": [
        {
          "output_type": "execute_result",
          "data": {
            "text/plain": [
              "16000"
            ]
          },
          "metadata": {},
          "execution_count": 96
        }
      ],
      "source": [
        "len(train_texts)"
      ]
    },
    {
      "cell_type": "markdown",
      "metadata": {
        "id": "LGVOwMBKu2OW"
      },
      "source": [
        "**NOTE:** Each time you rerun the data you will draw a *different* set of train and test documents even though the numbers 961 and 16000 will always be the same."
      ]
    },
    {
      "cell_type": "code",
      "execution_count": 97,
      "metadata": {
        "id": "mFISqjoM335H"
      },
      "outputs": [],
      "source": [
        "#get the labels in a needed data format for validation\n",
        "npvalid_labels = np.asarray(valid_labels)"
      ]
    },
    {
      "cell_type": "markdown",
      "metadata": {
        "id": "d3T5uytRdK7I"
      },
      "source": [
        "* train_texts - an array of text strings for training\n",
        "* test_texts - an array of text strings for testing \n",
        "* valid texts - an array of text strings for validation\n",
        "* train_labels - an array of integers representing the labels associated with train_texts\n",
        "* test_labels - an array of integers representing the labels associated with test_texts\n",
        "* valid_labels - an array of integers representing the labels associated with valid_texts\n",
        "* target_names - an array of label strings that correspond to the integers in the *_labels arrays\n",
        "\n",
        "### 2. Classification with a fine tuned BERT model\n",
        "\n",
        "Let's pick our BERT model.  We'll start with the base BERT model and we'll use the cased version since our data has capital and lower case letters."
      ]
    },
    {
      "cell_type": "code",
      "execution_count": 98,
      "metadata": {
        "id": "zjFWaM2ZnMIC"
      },
      "outputs": [],
      "source": [
        "#make it easier to use a variety of BERT subword models\n",
        "model_checkpoint = 'bert-base-cased'"
      ]
    },
    {
      "cell_type": "code",
      "execution_count": 99,
      "metadata": {
        "colab": {
          "base_uri": "https://localhost:8080/"
        },
        "id": "-7gV_GUdn9Ck",
        "outputId": "4c4d023e-0b67-48f4-92f3-79af69600c44"
      },
      "outputs": [
        {
          "output_type": "stream",
          "name": "stderr",
          "text": [
            "Some layers from the model checkpoint at bert-base-cased were not used when initializing TFBertModel: ['nsp___cls', 'mlm___cls']\n",
            "- This IS expected if you are initializing TFBertModel from the checkpoint of a model trained on another task or with another architecture (e.g. initializing a BertForSequenceClassification model from a BertForPreTraining model).\n",
            "- This IS NOT expected if you are initializing TFBertModel from the checkpoint of a model that you expect to be exactly identical (initializing a BertForSequenceClassification model from a BertForSequenceClassification model).\n",
            "All the layers of TFBertModel were initialized from the model checkpoint at bert-base-cased.\n",
            "If your task is similar to the task the model of the checkpoint was trained on, you can already use TFBertModel for predictions without further training.\n"
          ]
        }
      ],
      "source": [
        "bert_tokenizer = BertTokenizer.from_pretrained(model_checkpoint)\n",
        "bert_model = TFBertModel.from_pretrained(model_checkpoint)"
      ]
    },
    {
      "cell_type": "markdown",
      "metadata": {
        "id": "ZJGkIHSHdilH"
      },
      "source": [
        "We're setting our maximum training record length to 200.  BERT models can handle more and after you've completed the assignment you're welcome to try larger and small sized records."
      ]
    },
    {
      "cell_type": "code",
      "execution_count": 100,
      "metadata": {
        "id": "h_59AaVznMCV"
      },
      "outputs": [],
      "source": [
        "max_length = 200"
      ]
    },
    {
      "cell_type": "markdown",
      "metadata": {
        "id": "n6d54_bqd58L"
      },
      "source": [
        "Now we'll tokenize our three data slices.  This will take a minute or two."
      ]
    },
    {
      "cell_type": "code",
      "execution_count": 101,
      "metadata": {
        "id": "bgv0nftinL6z"
      },
      "outputs": [],
      "source": [
        "# tokenize the dataset, truncate when passed `max_length`, \n",
        "# and pad with 0's when less than `max_length` and return a tf Tensor\n",
        "train_encodings = bert_tokenizer(train_texts, truncation=True, padding=True, max_length=max_length, return_tensors='tf')\n",
        "valid_encodings = bert_tokenizer(valid_texts, truncation=True, padding=True, max_length=max_length, return_tensors='tf')\n",
        "test_encodings = bert_tokenizer(test_texts, truncation=True, padding=True, max_length=max_length, return_tensors='tf')"
      ]
    },
    {
      "cell_type": "markdown",
      "metadata": {
        "id": "2gNS0Fi0emN8"
      },
      "source": [
        "Notice our input_ids for the first training record and their padding. The train_encodings also includes an array of token_type_ids and an attention_mask array. "
      ]
    },
    {
      "cell_type": "code",
      "execution_count": 102,
      "metadata": {
        "colab": {
          "base_uri": "https://localhost:8080/"
        },
        "id": "XFEXxgAmnLve",
        "outputId": "d958d66b-e2dc-4097-c6f6-ac43146eed40"
      },
      "outputs": [
        {
          "output_type": "execute_result",
          "data": {
            "text/plain": [
              "<tf.Tensor: shape=(1, 200), dtype=int32, numpy=\n",
              "array([[  101,  3473,  1681, 15010,  4568, 14505,  1103, 11427,  1104,\n",
              "        24315,  1118,  6330,  1115,  2037,   119,  4039,   119,  3832,\n",
              "         1110,  1136,  1103,  1282,  1106,  6265,  3832,   117,  1137,\n",
              "         1103,  2764,  1104,  1103,  2307, 10060,   117,  1122,  3093,\n",
              "         1119,  1156,  1897,  2112,  1106,  9215,  1104,  1234,  1149,\n",
              "         1104,  5236, 21326,  1104,  1103,  2548,  1190,  1106,  2812,\n",
              "         1103,  1971,  2327, 18636, 10751,   142,  3190,  8101, 20156,\n",
              "         3663,  1142,  8366,  1134,  1120,  1655,  8664,  1103,  2303,\n",
              "         7409,  1905,  1104,  1117, 14044, 18516,  2285,  3548,   117,\n",
              "         1105,  1120,  1211, 16099,  1172,   119, 11568,  1864,   108,\n",
              "          122,   117,  1828,   119, 15010,  4568,   131,  1109,   155,\n",
              "        23413, 18784,  1758,  1110,   170,   107,  1268,  1104,  1103,\n",
              "         1234,  1106,  1712,  1105,  4965,  1739,   132,   107,  1136,\n",
              "          170,   107,  1268,  1104,  1103,  1234,  1106,  1532,   170,\n",
              "        10193,   117,   107,   170,   107,  1268,  1104,   170, 10193,\n",
              "         1106,  1712,  1105,  4965,  1739,   117,   107,  1137,   170,\n",
              "          107,  1268,  1104,  1218,   118, 12521,  1234,  1106,  1712,\n",
              "         1105,  4965,  1739,   119,   107,  1188,  1431,  1129,  6281,\n",
              "         1121,   170,  3014,  3455,  1104,  1103,  5650,   119,  1370,\n",
              "         1103,  1168,  9989,   117,   146,  5996,  1128,  4031,  1149,\n",
              "         1103, 12473,   117,   107,  1789,  1167,  1164,  2560,  1654,\n",
              "          117,   107,  1773,  1208,  1107,  1126,  2393,  1204,   119,\n",
              "         4039,   102]], dtype=int32)>"
            ]
          },
          "metadata": {},
          "execution_count": 102
        }
      ],
      "source": [
        "train_encodings.input_ids[:1]"
      ]
    },
    {
      "cell_type": "markdown",
      "metadata": {
        "id": "23lwfDw2T6gI"
      },
      "source": [
        "Write a function to create this multiclass bert model.\n",
        "\n",
        "Keep in mind the following:\n",
        "* Each record can have one of n labels where n = the size of target_names.\n",
        "* We'll still want a hidden size layer of size 201\n",
        "* We'll want our hidden layer to make use of the **pooler output** from BERT\n",
        "* We'll also want to use dropout\n",
        "* Our classification layer will need to be appropriately sized and use the correct non-linearity for a multi-class problem.\n",
        "* Since we have multiple labels we can no longer use binary cross entropy.  Instead we need to change our loss metric to a categorical cross entropy.  Which of the two categorical cross entropy metrics will work best here? \n",
        "* Make sure that training affects **all** of the layers in BERT.\n"
      ]
    },
    {
      "cell_type": "code",
      "execution_count": 103,
      "metadata": {
        "id": "RtWMrLi4tIun"
      },
      "outputs": [],
      "source": [
        "def create_bert_multiclass_model(checkpoint = model_checkpoint,\n",
        "                                 num_classes = 20,\n",
        "                                 hidden_size = 201, \n",
        "                                 dropout=0.3,\n",
        "                                 learning_rate=0.00005):\n",
        "    \"\"\"\n",
        "    Build a simple classification model with BERT. Use the Pooler Output for classification purposes.\n",
        "    \"\"\"\n",
        "    # Add trainable to True\n",
        "    bert_model = TFBertModel.from_pretrained(checkpoint)                \n",
        "    bert_model.trainable = True                              \n",
        "\n",
        "    ### YOUR CODE HERE\n",
        "    input_ids = tf.keras.layers.Input(shape=(max_length,), dtype=tf.int64, name='input_ids_layer')\n",
        "    token_type_ids = tf.keras.layers.Input(shape=(max_length,), dtype=tf.int64, name='token_type_ids_layer')\n",
        "    attention_mask = tf.keras.layers.Input(shape=(max_length,), dtype=tf.int64, name='attention_mask_layer')\n",
        "\n",
        "    bert_inputs = {'input_ids': input_ids,\n",
        "                   'token_type_ids': token_type_ids,\n",
        "                   'attention_mask': attention_mask}      \n",
        "\n",
        "    bert_out = bert_model(bert_inputs)\n",
        "\n",
        "    pooler_token = bert_out[1]\n",
        "    #cls_token = bert_out[0][:, 0, :]\n",
        "\n",
        "    hidden = tf.keras.layers.Dense(hidden_size, activation='relu', name='hidden_layer')(pooler_token)\n",
        "\n",
        "\n",
        "    hidden = tf.keras.layers.Dropout(dropout)(hidden)  \n",
        "\n",
        "\n",
        "    classification = tf.keras.layers.Dense(num_classes, \n",
        "                                           activation='softmax',\n",
        "                                           name='classification_layer')(hidden)\n",
        "    \n",
        "    classification_model = tf.keras.Model(inputs=[input_ids, token_type_ids, attention_mask], outputs=[classification])\n",
        "    \n",
        "    classification_model.compile(optimizer=tf.keras.optimizers.Adam(learning_rate=learning_rate),\n",
        "                                 #loss = tf.keras.losses.SparseCategoricalCrossentropy(from_logits=True), \n",
        "                                 loss = tf.keras.losses.SparseCategoricalCrossentropy(),\n",
        "                                 metrics='accuracy')\n",
        "    \n",
        "    ### END YOUR CODE\n",
        "    return classification_model"
      ]
    },
    {
      "cell_type": "code",
      "execution_count": 104,
      "metadata": {
        "colab": {
          "base_uri": "https://localhost:8080/"
        },
        "id": "uR-Id158tIlH",
        "outputId": "ae36dec0-bd1a-4c43-8d80-1491d0c117fa"
      },
      "outputs": [
        {
          "output_type": "stream",
          "name": "stderr",
          "text": [
            "Some layers from the model checkpoint at bert-base-cased were not used when initializing TFBertModel: ['nsp___cls', 'mlm___cls']\n",
            "- This IS expected if you are initializing TFBertModel from the checkpoint of a model trained on another task or with another architecture (e.g. initializing a BertForSequenceClassification model from a BertForPreTraining model).\n",
            "- This IS NOT expected if you are initializing TFBertModel from the checkpoint of a model that you expect to be exactly identical (initializing a BertForSequenceClassification model from a BertForSequenceClassification model).\n",
            "All the layers of TFBertModel were initialized from the model checkpoint at bert-base-cased.\n",
            "If your task is similar to the task the model of the checkpoint was trained on, you can already use TFBertModel for predictions without further training.\n"
          ]
        }
      ],
      "source": [
        "pooler_bert_model = create_bert_multiclass_model(checkpoint=model_checkpoint, num_classes=20)"
      ]
    },
    {
      "cell_type": "code",
      "execution_count": 105,
      "metadata": {
        "colab": {
          "base_uri": "https://localhost:8080/"
        },
        "id": "bMxpO16-tIaE",
        "outputId": "091c355b-f350-4921-8837-a273c682e478"
      },
      "outputs": [
        {
          "output_type": "stream",
          "name": "stdout",
          "text": [
            "Model: \"model_3\"\n",
            "__________________________________________________________________________________________________\n",
            " Layer (type)                   Output Shape         Param #     Connected to                     \n",
            "==================================================================================================\n",
            " attention_mask_layer (InputLay  [(None, 200)]       0           []                               \n",
            " er)                                                                                              \n",
            "                                                                                                  \n",
            " input_ids_layer (InputLayer)   [(None, 200)]        0           []                               \n",
            "                                                                                                  \n",
            " token_type_ids_layer (InputLay  [(None, 200)]       0           []                               \n",
            " er)                                                                                              \n",
            "                                                                                                  \n",
            " tf_bert_model_5 (TFBertModel)  TFBaseModelOutputWi  108310272   ['attention_mask_layer[0][0]',   \n",
            "                                thPoolingAndCrossAt               'input_ids_layer[0][0]',        \n",
            "                                tentions(last_hidde               'token_type_ids_layer[0][0]']   \n",
            "                                n_state=(None, 200,                                               \n",
            "                                 768),                                                            \n",
            "                                 pooler_output=(Non                                               \n",
            "                                e, 768),                                                          \n",
            "                                 past_key_values=No                                               \n",
            "                                ne, hidden_states=N                                               \n",
            "                                one, attentions=Non                                               \n",
            "                                e, cross_attentions                                               \n",
            "                                =None)                                                            \n",
            "                                                                                                  \n",
            " hidden_layer (Dense)           (None, 201)          154569      ['tf_bert_model_5[0][1]']        \n",
            "                                                                                                  \n",
            " dropout_225 (Dropout)          (None, 201)          0           ['hidden_layer[0][0]']           \n",
            "                                                                                                  \n",
            " classification_layer (Dense)   (None, 20)           4040        ['dropout_225[0][0]']            \n",
            "                                                                                                  \n",
            "==================================================================================================\n",
            "Total params: 108,468,881\n",
            "Trainable params: 108,468,881\n",
            "Non-trainable params: 0\n",
            "__________________________________________________________________________________________________\n"
          ]
        }
      ],
      "source": [
        "pooler_bert_model.summary()"
      ]
    },
    {
      "cell_type": "markdown",
      "metadata": {
        "id": "5chyZZnHdlf9"
      },
      "source": [
        "**QUESTION:** 2.1 How many trainable parameters are in your dense hidden layer?\n",
        "**154,569**\n",
        "\n",
        "**QUESTION:** 2.2 How many trainable parameters are in your classification layer? **4040**"
      ]
    },
    {
      "cell_type": "code",
      "execution_count": 106,
      "metadata": {
        "colab": {
          "base_uri": "https://localhost:8080/",
          "height": 438
        },
        "id": "xe3tTWX6FVZL",
        "outputId": "4ac3e03d-7b45-4876-e419-893583705b3a"
      },
      "outputs": [
        {
          "output_type": "execute_result",
          "data": {
            "image/png": "[encoded data removed]",
            "text/plain": [
              "<IPython.core.display.Image object>"
            ]
          },
          "metadata": {},
          "execution_count": 106
        }
      ],
      "source": [
        "keras.utils.plot_model(pooler_bert_model, show_shapes=False, show_dtype=False, show_layer_names=True, dpi=90)"
      ]
    },
    {
      "cell_type": "code",
      "execution_count": 107,
      "metadata": {
        "colab": {
          "base_uri": "https://localhost:8080/"
        },
        "id": "aLLjb3mOtICy",
        "outputId": "979a4feb-6ae3-4836-dc8a-5d09b64109e2"
      },
      "outputs": [
        {
          "output_type": "stream",
          "name": "stdout",
          "text": [
            "2000/2000 [==============================] - 731s 347ms/step - loss: 1.4600 - accuracy: 0.5642 - val_loss: 1.0778 - val_accuracy: 0.6701\n"
          ]
        }
      ],
      "source": [
        "#It takes 10 to 14 minutes to complete an epoch when using a GPU\n",
        "pooler_bert_model_history = pooler_bert_model.fit([train_encodings.input_ids, train_encodings.token_type_ids, train_encodings.attention_mask], \n",
        "                                                  train_labels,   \n",
        "                                                  validation_data=([valid_encodings.input_ids, valid_encodings.token_type_ids, valid_encodings.attention_mask], \n",
        "                                                  npvalid_labels),    \n",
        "                                                  batch_size=8, \n",
        "                                                  epochs=1)  "
      ]
    },
    {
      "cell_type": "markdown",
      "metadata": {
        "id": "rdHlOd4LJUOH"
      },
      "source": [
        "Now we need to run evaluate against our fine-tuned model.  This will give us an overall accuracy based on the test set."
      ]
    },
    {
      "cell_type": "code",
      "execution_count": 108,
      "metadata": {
        "colab": {
          "base_uri": "https://localhost:8080/"
        },
        "id": "dPQn2tJPEGdU",
        "outputId": "707a567e-07c6-40ee-c073-4b0cb45198ca"
      },
      "outputs": [
        {
          "output_type": "stream",
          "name": "stdout",
          "text": [
            "59/59 [==============================] - 26s 447ms/step - loss: 1.1129 - accuracy: 0.6605\n",
            "Test loss: 1.1129100322723389\n",
            "Test accuracy: 0.6604774594306946\n"
          ]
        }
      ],
      "source": [
        "#batch 8, ML=201\n",
        "score = pooler_bert_model.evaluate([test_encodings.input_ids, test_encodings.token_type_ids, test_encodings.attention_mask], \n",
        "                                                  test_labels) \n",
        "\n",
        "print('Test loss:', score[0]) \n",
        "print('Test accuracy:', score[1])"
      ]
    },
    {
      "cell_type": "markdown",
      "metadata": {
        "id": "3CnyZsXLfLJt"
      },
      "source": [
        "**QUESTION:** 2.3 What is the Test accuracy score you get from your model? (Just copy and paste the value into the answers sheet and round to five significant digits.) **0.66048**"
      ]
    },
    {
      "cell_type": "code",
      "execution_count": 109,
      "metadata": {
        "colab": {
          "base_uri": "https://localhost:8080/"
        },
        "id": "NS7Gp_IYEiJ_",
        "outputId": "6d3ca4b6-a7c4-4640-c685-1cacfe44684f"
      },
      "outputs": [
        {
          "output_type": "stream",
          "name": "stdout",
          "text": [
            "1/1 [==============================] - 3s 3s/step\n"
          ]
        }
      ],
      "source": [
        "#run predict for the first three elements in the test data set\n",
        "predictions = pooler_bert_model.predict([test_encodings.input_ids[:3], test_encodings.token_type_ids[:3], test_encodings.attention_mask[:3]])"
      ]
    },
    {
      "cell_type": "code",
      "execution_count": 110,
      "metadata": {
        "colab": {
          "base_uri": "https://localhost:8080/"
        },
        "id": "ymGM8QnpchnC",
        "outputId": "f6c39e29-4f6e-46b9-fa46-f4c9d2beb81f"
      },
      "outputs": [
        {
          "output_type": "execute_result",
          "data": {
            "text/plain": [
              "array([[5.98361075e-04, 2.54616116e-05, 3.24395078e-04, 1.27491759e-04,\n",
              "        6.61026352e-05, 1.17737785e-04, 2.65404407e-04, 9.08208531e-05,\n",
              "        3.20138679e-05, 9.88167703e-01, 8.21384415e-03, 1.04134167e-04,\n",
              "        1.94458291e-04, 4.08241613e-04, 2.90245604e-04, 1.07294145e-04,\n",
              "        2.07079924e-04, 5.60966728e-05, 4.67619917e-04, 1.35480863e-04],\n",
              "       [6.34917198e-03, 1.78793713e-01, 1.06723510e-01, 1.47427693e-02,\n",
              "        5.63207090e-01, 5.41763455e-02, 1.35044158e-02, 6.62436383e-03,\n",
              "        6.52454002e-03, 1.43431500e-03, 6.86232583e-04, 6.45920914e-03,\n",
              "        1.27412379e-02, 7.09493551e-03, 6.69626519e-03, 3.81741696e-03,\n",
              "        4.15003719e-03, 2.21166294e-03, 2.85744481e-03, 1.20534387e-03],\n",
              "       [1.54519193e-02, 3.73440271e-04, 5.10880898e-04, 6.57783239e-04,\n",
              "        5.37754560e-04, 2.75400933e-04, 1.55255361e-03, 1.94002583e-03,\n",
              "        8.41365661e-04, 1.14810595e-03, 6.57802622e-04, 4.64796671e-04,\n",
              "        4.62281139e-04, 9.37122502e-04, 3.22225125e-04, 8.43120396e-01,\n",
              "        5.80635562e-04, 8.54665413e-04, 1.04150095e-03, 1.28269464e-01]],\n",
              "      dtype=float32)"
            ]
          },
          "metadata": {},
          "execution_count": 110
        }
      ],
      "source": [
        "predictions"
      ]
    },
    {
      "cell_type": "code",
      "execution_count": 111,
      "metadata": {
        "colab": {
          "base_uri": "https://localhost:8080/"
        },
        "id": "-ahMJ-zwEiCs",
        "outputId": "7dd2d921-4fe2-4fad-a7a9-adaaa831d683"
      },
      "outputs": [
        {
          "output_type": "stream",
          "name": "stdout",
          "text": [
            "59/59 [==============================] - 26s 444ms/step\n"
          ]
        },
        {
          "output_type": "execute_result",
          "data": {
            "text/plain": [
              "<tf.Tensor: shape=(1885,), dtype=int64, numpy=array([ 9,  4, 15, ...,  6,  3,  8])>"
            ]
          },
          "metadata": {},
          "execution_count": 111
        }
      ],
      "source": [
        "#run and capture all predictions from our test set using model.predict\n",
        "### YOUR CODE HERE\n",
        "predictions_model1 = pooler_bert_model.predict([test_encodings.input_ids, test_encodings.token_type_ids, test_encodings.attention_mask])\n",
        "### END YOUR CODE\n",
        "\n",
        "#now we need to get the highest probability in the distribution for each prediction\n",
        "#and store that in a tf.Tensor\n",
        "predictions_model1 = tf.argmax(predictions_model1, axis=-1)\n",
        "predictions_model1"
      ]
    },
    {
      "cell_type": "markdown",
      "metadata": {
        "id": "LGI8oA6fMWTI"
      },
      "source": [
        "There are two ways to see what's going on with our classifier.  Overall accuracy is interesting but it can be misleading.  We need to make sure that each of our categories' prediction performance is operating at an equal or higher level than the overall.\n",
        "\n",
        "Here we'll use the classification report from scikit learn.  It expects two inputs as arrays.  One is the ground truth (y_true) and the other is the associated prediction (y_pred).  This is based on gethering all the predictions from our our test set."
      ]
    },
    {
      "cell_type": "code",
      "execution_count": 112,
      "metadata": {
        "colab": {
          "base_uri": "https://localhost:8080/"
        },
        "id": "wPqioIbh2XIE",
        "outputId": "8ac3eb63-8612-4883-955d-a20bb7a566f5"
      },
      "outputs": [
        {
          "output_type": "stream",
          "name": "stdout",
          "text": [
            "                          precision    recall  f1-score   support\n",
            "\n",
            "             alt.atheism       0.46      0.47      0.46        87\n",
            "           comp.graphics       0.73      0.60      0.65        89\n",
            " comp.os.ms-windows.misc       0.65      0.67      0.66       100\n",
            "comp.sys.ibm.pc.hardware       0.56      0.72      0.63        86\n",
            "   comp.sys.mac.hardware       0.81      0.57      0.67        95\n",
            "          comp.windows.x       0.86      0.87      0.87       107\n",
            "            misc.forsale       0.73      0.73      0.73        78\n",
            "               rec.autos       0.54      0.81      0.65       103\n",
            "         rec.motorcycles       0.63      0.59      0.61        91\n",
            "      rec.sport.baseball       0.99      0.77      0.87       100\n",
            "        rec.sport.hockey       0.85      0.88      0.87        95\n",
            "               sci.crypt       0.93      0.67      0.78       120\n",
            "         sci.electronics       0.81      0.43      0.56       106\n",
            "                 sci.med       0.86      0.72      0.78       107\n",
            "               sci.space       0.65      0.77      0.70       108\n",
            "  soc.religion.christian       0.62      0.80      0.69        93\n",
            "      talk.politics.guns       0.73      0.38      0.50        92\n",
            "   talk.politics.mideast       0.46      0.81      0.59        84\n",
            "      talk.politics.misc       0.36      0.75      0.48        72\n",
            "      talk.religion.misc       0.25      0.04      0.07        72\n",
            "\n",
            "                accuracy                           0.66      1885\n",
            "               macro avg       0.67      0.65      0.64      1885\n",
            "            weighted avg       0.69      0.66      0.66      1885\n",
            "\n"
          ]
        }
      ],
      "source": [
        "print(classification_report(test_labels, predictions_model1.numpy(), target_names=target_names))"
      ]
    },
    {
      "cell_type": "code",
      "source": [
        "classification_report(test_labels, predictions_model1.numpy(), target_names=target_names, output_dict = True)"
      ],
      "metadata": {
        "colab": {
          "base_uri": "https://localhost:8080/"
        },
        "id": "nN-5cQVW_hVB",
        "outputId": "64758d56-ddfd-48e9-cba5-0b21750442df"
      },
      "execution_count": 113,
      "outputs": [
        {
          "output_type": "execute_result",
          "data": {
            "text/plain": [
              "{'alt.atheism': {'precision': 0.45555555555555555,\n",
              "  'recall': 0.47126436781609193,\n",
              "  'f1-score': 0.4632768361581921,\n",
              "  'support': 87},\n",
              " 'comp.graphics': {'precision': 0.726027397260274,\n",
              "  'recall': 0.5955056179775281,\n",
              "  'f1-score': 0.654320987654321,\n",
              "  'support': 89},\n",
              " 'comp.os.ms-windows.misc': {'precision': 0.6504854368932039,\n",
              "  'recall': 0.67,\n",
              "  'f1-score': 0.6600985221674877,\n",
              "  'support': 100},\n",
              " 'comp.sys.ibm.pc.hardware': {'precision': 0.5636363636363636,\n",
              "  'recall': 0.7209302325581395,\n",
              "  'f1-score': 0.6326530612244898,\n",
              "  'support': 86},\n",
              " 'comp.sys.mac.hardware': {'precision': 0.8059701492537313,\n",
              "  'recall': 0.5684210526315789,\n",
              "  'f1-score': 0.6666666666666666,\n",
              "  'support': 95},\n",
              " 'comp.windows.x': {'precision': 0.8611111111111112,\n",
              "  'recall': 0.8691588785046729,\n",
              "  'f1-score': 0.8651162790697675,\n",
              "  'support': 107},\n",
              " 'misc.forsale': {'precision': 0.7307692307692307,\n",
              "  'recall': 0.7307692307692307,\n",
              "  'f1-score': 0.7307692307692306,\n",
              "  'support': 78},\n",
              " 'rec.autos': {'precision': 0.5424836601307189,\n",
              "  'recall': 0.8058252427184466,\n",
              "  'f1-score': 0.6484375,\n",
              "  'support': 103},\n",
              " 'rec.motorcycles': {'precision': 0.627906976744186,\n",
              "  'recall': 0.5934065934065934,\n",
              "  'f1-score': 0.6101694915254238,\n",
              "  'support': 91},\n",
              " 'rec.sport.baseball': {'precision': 0.9871794871794872,\n",
              "  'recall': 0.77,\n",
              "  'f1-score': 0.8651685393258428,\n",
              "  'support': 100},\n",
              " 'rec.sport.hockey': {'precision': 0.8484848484848485,\n",
              "  'recall': 0.8842105263157894,\n",
              "  'f1-score': 0.865979381443299,\n",
              "  'support': 95},\n",
              " 'sci.crypt': {'precision': 0.9302325581395349,\n",
              "  'recall': 0.6666666666666666,\n",
              "  'f1-score': 0.7766990291262136,\n",
              "  'support': 120},\n",
              " 'sci.electronics': {'precision': 0.8070175438596491,\n",
              "  'recall': 0.4339622641509434,\n",
              "  'f1-score': 0.5644171779141105,\n",
              "  'support': 106},\n",
              " 'sci.med': {'precision': 0.8555555555555555,\n",
              "  'recall': 0.719626168224299,\n",
              "  'f1-score': 0.7817258883248731,\n",
              "  'support': 107},\n",
              " 'sci.space': {'precision': 0.6484375,\n",
              "  'recall': 0.7685185185185185,\n",
              "  'f1-score': 0.7033898305084746,\n",
              "  'support': 108},\n",
              " 'soc.religion.christian': {'precision': 0.6166666666666667,\n",
              "  'recall': 0.7956989247311828,\n",
              "  'f1-score': 0.6948356807511737,\n",
              "  'support': 93},\n",
              " 'talk.politics.guns': {'precision': 0.7291666666666666,\n",
              "  'recall': 0.3804347826086957,\n",
              "  'f1-score': 0.5,\n",
              "  'support': 92},\n",
              " 'talk.politics.mideast': {'precision': 0.46258503401360546,\n",
              "  'recall': 0.8095238095238095,\n",
              "  'f1-score': 0.5887445887445887,\n",
              "  'support': 84},\n",
              " 'talk.politics.misc': {'precision': 0.35526315789473684,\n",
              "  'recall': 0.75,\n",
              "  'f1-score': 0.48214285714285726,\n",
              "  'support': 72},\n",
              " 'talk.religion.misc': {'precision': 0.25,\n",
              "  'recall': 0.041666666666666664,\n",
              "  'f1-score': 0.07142857142857142,\n",
              "  'support': 72},\n",
              " 'accuracy': 0.6604774535809018,\n",
              " 'macro avg': {'precision': 0.6727267449907562,\n",
              "  'recall': 0.6522794771894427,\n",
              "  'f1-score': 0.6413020059972792,\n",
              "  'support': 1885},\n",
              " 'weighted avg': {'precision': 0.6904155658089877,\n",
              "  'recall': 0.6604774535809018,\n",
              "  'f1-score': 0.6554546989085557,\n",
              "  'support': 1885}}"
            ]
          },
          "metadata": {},
          "execution_count": 113
        }
      ]
    },
    {
      "cell_type": "code",
      "source": [
        "report_orig = classification_report(test_labels, predictions_model1.numpy(), target_names=target_names, output_dict = True, zero_division=False)"
      ],
      "metadata": {
        "id": "7Y-tfBYzti9L"
      },
      "execution_count": 114,
      "outputs": []
    },
    {
      "cell_type": "markdown",
      "metadata": {
        "id": "ddMMQ2vBOJKj"
      },
      "source": [
        "**QUESTION:** 2.4 What is the key difference between the macro average F1 score and the weighted average F1 score?\n",
        "**In Macro-average F1 score, all classes contribute equally to the final average value. This does not work for imbalanced data set. For weighted average F1 score considers each representative class's weighted contribution towards the average.**\n",
        "\n",
        "**QUESTION:** 2.5 What is the macro average F1 score you get from the classification report?\n",
        "**0.64130**\n",
        "\n",
        "Now we'll generate another very valuable visualization of what's happening with our classifier -- a confusion matrix."
      ]
    },
    {
      "cell_type": "code",
      "execution_count": 115,
      "metadata": {
        "id": "udwdL6iKEh7b",
        "colab": {
          "base_uri": "https://localhost:8080/"
        },
        "outputId": "22de47b5-a1e4-408a-e06b-51169e873e4c"
      },
      "outputs": [
        {
          "output_type": "execute_result",
          "data": {
            "text/plain": [
              "<tf.Tensor: shape=(20,), dtype=int32, numpy=\n",
              "array([41,  0,  1,  0,  0,  0,  0,  0,  1,  0,  0,  1,  0,  3,  5, 13,  0,\n",
              "        6, 11,  5], dtype=int32)>"
            ]
          },
          "metadata": {},
          "execution_count": 115
        }
      ],
      "source": [
        "cm_orig = tf.math.confusion_matrix(test_labels, predictions_model1)\n",
        "cm_orig[0]"
      ]
    },
    {
      "cell_type": "code",
      "source": [
        "test_labels.shape, cm_orig.shape"
      ],
      "metadata": {
        "colab": {
          "base_uri": "https://localhost:8080/"
        },
        "id": "Zv-E5X8PNQ63",
        "outputId": "49fc2796-3be4-437b-c093-e698499ffd8e"
      },
      "execution_count": 116,
      "outputs": [
        {
          "output_type": "execute_result",
          "data": {
            "text/plain": [
              "((1885,), TensorShape([20, 20]))"
            ]
          },
          "metadata": {},
          "execution_count": 116
        }
      ]
    },
    {
      "cell_type": "code",
      "source": [
        "cm = cm_orig /cm_orig.numpy().sum(axis=1)[:, tf.newaxis]\n",
        "cm[0]"
      ],
      "metadata": {
        "colab": {
          "base_uri": "https://localhost:8080/"
        },
        "id": "u9_GtH_tdwfa",
        "outputId": "97d08f32-d53a-4e6f-acc9-b456f21154ab"
      },
      "execution_count": 117,
      "outputs": [
        {
          "output_type": "execute_result",
          "data": {
            "text/plain": [
              "<tf.Tensor: shape=(20,), dtype=float64, numpy=\n",
              "array([0.47126437, 0.        , 0.01149425, 0.        , 0.        ,\n",
              "       0.        , 0.        , 0.        , 0.01149425, 0.        ,\n",
              "       0.        , 0.01149425, 0.        , 0.03448276, 0.05747126,\n",
              "       0.14942529, 0.        , 0.06896552, 0.12643678, 0.05747126])>"
            ]
          },
          "metadata": {},
          "execution_count": 117
        }
      ]
    },
    {
      "cell_type": "code",
      "source": [
        "cm_orig[-1]"
      ],
      "metadata": {
        "colab": {
          "base_uri": "https://localhost:8080/"
        },
        "id": "EPXkiD5nJ9Fg",
        "outputId": "bd86d6e3-7b53-43f5-e16d-f868598195c8"
      },
      "execution_count": 118,
      "outputs": [
        {
          "output_type": "execute_result",
          "data": {
            "text/plain": [
              "<tf.Tensor: shape=(20,), dtype=int32, numpy=\n",
              "array([15,  0,  0,  0,  0,  0,  0,  2,  1,  0,  1,  0,  0,  1,  1, 30,  3,\n",
              "        8,  7,  3], dtype=int32)>"
            ]
          },
          "metadata": {},
          "execution_count": 118
        }
      ]
    },
    {
      "cell_type": "code",
      "source": [
        "cm[-1]"
      ],
      "metadata": {
        "colab": {
          "base_uri": "https://localhost:8080/"
        },
        "id": "2VsFTdNfKCTF",
        "outputId": "fbf7d4d4-da9d-4bf4-ed29-8152bf0076da"
      },
      "execution_count": 119,
      "outputs": [
        {
          "output_type": "execute_result",
          "data": {
            "text/plain": [
              "<tf.Tensor: shape=(20,), dtype=float64, numpy=\n",
              "array([0.20833333, 0.        , 0.        , 0.        , 0.        ,\n",
              "       0.        , 0.        , 0.02777778, 0.01388889, 0.        ,\n",
              "       0.01388889, 0.        , 0.        , 0.01388889, 0.01388889,\n",
              "       0.41666667, 0.04166667, 0.11111111, 0.09722222, 0.04166667])>"
            ]
          },
          "metadata": {},
          "execution_count": 119
        }
      ]
    },
    {
      "cell_type": "markdown",
      "metadata": {
        "id": "_9YL2AlQOY4Y"
      },
      "source": [
        "And now we'll display it!"
      ]
    },
    {
      "cell_type": "code",
      "execution_count": 120,
      "metadata": {
        "colab": {
          "base_uri": "https://localhost:8080/",
          "height": 585
        },
        "id": "gh0Bxg-8EhzZ",
        "outputId": "aaef0c58-0297-4259-c7da-286e43279fb1"
      },
      "outputs": [
        {
          "output_type": "execute_result",
          "data": {
            "text/plain": [
              "Text(159.0, 0.5, 'True')"
            ]
          },
          "metadata": {},
          "execution_count": 120
        },
        {
          "output_type": "display_data",
          "data": {
            "text/plain": [
              "<Figure size 1440x504 with 2 Axes>"
            ],
            "image/png": "[encoded data removed]"
          },
          "metadata": {
            "needs_background": "light"
          }
        }
      ],
      "source": [
        "plt.figure(figsize=(20,7))\n",
        "sns.heatmap(\n",
        "    cm, annot=True,\n",
        "    xticklabels=target_names,\n",
        "    yticklabels=target_names)\n",
        "plt.xlabel(\"Predicted\")\n",
        "plt.ylabel(\"True\")"
      ]
    },
    {
      "cell_type": "markdown",
      "metadata": {
        "id": "6OKhCGVDOgdl"
      },
      "source": [
        "### 3. Classification using two stages\n",
        "\n",
        "Okay, not bad.  As you can see, some categories are easier to distinguish than others. Look for the class with the lowest F1 score (it should be the one at the bottom of the list). In the confusion matrix, which other class is that one being mistaken for most often?\n",
        "\n",
        "You might notice that the categories in this dataset are somewhat heirarchical. There are more obvious differences between groups of news categories (e.g. computers vs recreation) and then subtler differences between categories within those groups (e.g. PC vs Mac, within computers).\n",
        "\n",
        "When this happens, one idea is to train a series of models, to first separate out the more obvious groups of classes, and then use more specialized sub-models to classify only a subset of the classes. Let's try that here."
      ]
    },
    {
      "cell_type": "markdown",
      "metadata": {
        "id": "E0qA4QBstsin"
      },
      "source": [
        "#### Step 1: New model with 19 classes\n",
        "\n",
        "For simplicity, we'll just combine two categories in our first step. We'll replace the label of the last class with the label of the class it's most often mistaken for. (That way, we'll have labels from 0 to 18 instead of 0 to 19, and don't have to renumber everything, though you would have to if you group them more.)"
      ]
    },
    {
      "cell_type": "code",
      "source": [
        "from sklearn.metrics import precision_score\n",
        "from sklearn.metrics import confusion_matrix\n",
        "from sklearn.metrics import recall_score\n",
        "from sklearn.metrics import accuracy_score\n",
        "from sklearn.metrics import f1_score\n",
        "\n",
        "# Calculate precision scores\n",
        "classification_precision_scores = precision_score(test_labels, predictions_model1.numpy(), average = None)\n",
        "y_pos = np.arange(len(classification_precision_scores))\n",
        "\n",
        "plt.bar(y_pos, classification_precision_scores, align = 'center', alpha = 0.5)\n",
        "plt.xticks(y_pos, set(test_labels), rotation = 90)\n",
        "plt.ylabel('Precision Score')\n",
        "plt.title('Precision scores per class')\n",
        "\n",
        "print(\"Off the positive predictions, % of the right predictions per class\")\n",
        "for prec, lbl in list(zip(classification_precision_scores, set(test_labels))):\n",
        "    print(f\"{lbl} class has precision : {prec}\")\n",
        "plt.show(block = False)\n",
        "\n",
        "# Calculate recall scores\n",
        "classification_recall_scores = recall_score(test_labels, predictions_model1.numpy(), average = None)\n",
        "y_pos = np.arange(len(classification_precision_scores))\n",
        "\n",
        "plt.bar(y_pos, classification_recall_scores, align = 'center', alpha = 0.5)\n",
        "plt.xticks(y_pos, set(test_labels), rotation = 90)\n",
        "plt.ylabel('Recall Score')\n",
        "plt.title('Recall scores per class')\n",
        "\n",
        "print(\"Off the positive cases, % of the right predictions per class\")\n",
        "for prec, lbl in list(zip(classification_precision_scores, set(test_labels))):\n",
        "    print(f\"{lbl} class has recall : {prec}\")\n",
        "plt.show(block = False)\n",
        "\n",
        "# Calculate F1 scores\n",
        "classification_f1_scores = f1_score(test_labels, predictions_model1.numpy(), average = None)\n",
        "y_pos = np.arange(len(classification_f1_scores))\n",
        "\n",
        "plt.bar(y_pos, classification_f1_scores, align = 'center', alpha = 0.5)\n",
        "plt.xticks(y_pos, set(test_labels), rotation = 90)\n",
        "plt.ylabel('F1 Score')\n",
        "plt.title('F1 scores per class')\n",
        "\n",
        "print(\"F1 scores per class\")\n",
        "for prec, lbl in list(zip(classification_f1_scores, set(test_labels))):\n",
        "    print(f\"{lbl} class has f1 score : {prec}\")\n",
        "plt.show(block = False)"
      ],
      "metadata": {
        "colab": {
          "base_uri": "https://localhost:8080/",
          "height": 1000
        },
        "id": "z9EbRp_A4_yZ",
        "outputId": "900d3b53-e309-4a36-9222-262e56191b5c"
      },
      "execution_count": 121,
      "outputs": [
        {
          "output_type": "stream",
          "name": "stdout",
          "text": [
            "Off the positive predictions, % of the right predictions per class\n",
            "0 class has precision : 0.45555555555555555\n",
            "1 class has precision : 0.726027397260274\n",
            "2 class has precision : 0.6504854368932039\n",
            "3 class has precision : 0.5636363636363636\n",
            "4 class has precision : 0.8059701492537313\n",
            "5 class has precision : 0.8611111111111112\n",
            "6 class has precision : 0.7307692307692307\n",
            "7 class has precision : 0.5424836601307189\n",
            "8 class has precision : 0.627906976744186\n",
            "9 class has precision : 0.9871794871794872\n",
            "10 class has precision : 0.8484848484848485\n",
            "11 class has precision : 0.9302325581395349\n",
            "12 class has precision : 0.8070175438596491\n",
            "13 class has precision : 0.8555555555555555\n",
            "14 class has precision : 0.6484375\n",
            "15 class has precision : 0.6166666666666667\n",
            "16 class has precision : 0.7291666666666666\n",
            "17 class has precision : 0.46258503401360546\n",
            "18 class has precision : 0.35526315789473684\n",
            "19 class has precision : 0.25\n"
          ]
        },
        {
          "output_type": "display_data",
          "data": {
            "text/plain": [
              "<Figure size 432x288 with 1 Axes>"
            ],
            "image/png": "[encoded data removed]"
          },
          "metadata": {
            "needs_background": "light"
          }
        },
        {
          "output_type": "stream",
          "name": "stdout",
          "text": [
            "Off the positive cases, % of the right predictions per class\n",
            "0 class has recall : 0.45555555555555555\n",
            "1 class has recall : 0.726027397260274\n",
            "2 class has recall : 0.6504854368932039\n",
            "3 class has recall : 0.5636363636363636\n",
            "4 class has recall : 0.8059701492537313\n",
            "5 class has recall : 0.8611111111111112\n",
            "6 class has recall : 0.7307692307692307\n",
            "7 class has recall : 0.5424836601307189\n",
            "8 class has recall : 0.627906976744186\n",
            "9 class has recall : 0.9871794871794872\n",
            "10 class has recall : 0.8484848484848485\n",
            "11 class has recall : 0.9302325581395349\n",
            "12 class has recall : 0.8070175438596491\n",
            "13 class has recall : 0.8555555555555555\n",
            "14 class has recall : 0.6484375\n",
            "15 class has recall : 0.6166666666666667\n",
            "16 class has recall : 0.7291666666666666\n",
            "17 class has recall : 0.46258503401360546\n",
            "18 class has recall : 0.35526315789473684\n",
            "19 class has recall : 0.25\n"
          ]
        },
        {
          "output_type": "display_data",
          "data": {
            "text/plain": [
              "<Figure size 432x288 with 1 Axes>"
            ],
            "image/png": "[encoded data removed]"
          },
          "metadata": {
            "needs_background": "light"
          }
        },
        {
          "output_type": "stream",
          "name": "stdout",
          "text": [
            "F1 scores per class\n",
            "0 class has f1 score : 0.4632768361581921\n",
            "1 class has f1 score : 0.654320987654321\n",
            "2 class has f1 score : 0.6600985221674877\n",
            "3 class has f1 score : 0.6326530612244898\n",
            "4 class has f1 score : 0.6666666666666666\n",
            "5 class has f1 score : 0.8651162790697675\n",
            "6 class has f1 score : 0.7307692307692306\n",
            "7 class has f1 score : 0.6484375\n",
            "8 class has f1 score : 0.6101694915254238\n",
            "9 class has f1 score : 0.8651685393258428\n",
            "10 class has f1 score : 0.865979381443299\n",
            "11 class has f1 score : 0.7766990291262136\n",
            "12 class has f1 score : 0.5644171779141105\n",
            "13 class has f1 score : 0.7817258883248731\n",
            "14 class has f1 score : 0.7033898305084746\n",
            "15 class has f1 score : 0.6948356807511737\n",
            "16 class has f1 score : 0.5\n",
            "17 class has f1 score : 0.5887445887445887\n",
            "18 class has f1 score : 0.48214285714285726\n",
            "19 class has f1 score : 0.07142857142857142\n"
          ]
        },
        {
          "output_type": "display_data",
          "data": {
            "text/plain": [
              "<Figure size 432x288 with 1 Axes>"
            ],
            "image/png": "[encoded data removed]"
          },
          "metadata": {
            "needs_background": "light"
          }
        }
      ]
    },
    {
      "cell_type": "code",
      "execution_count": 122,
      "metadata": {
        "id": "b0rAv6nLmrwN"
      },
      "outputs": [],
      "source": [
        "label_to_replace = 19\n",
        "\n",
        "# label_to_replace_with = ...\n",
        "### YOUR CODE HERE\n",
        "label_to_replace_with = 15\n",
        "\n",
        "### END YOUR CODE\n",
        "\n",
        "train_labels_19class = train_labels.copy()\n",
        "train_labels_19class[train_labels_19class == label_to_replace] = label_to_replace_with\n",
        "\n",
        "valid_labels_19class = npvalid_labels.copy()\n",
        "valid_labels_19class[valid_labels_19class == label_to_replace] = label_to_replace_with\n",
        "\n",
        "test_labels_19class = test_labels.copy()\n",
        "test_labels_19class[test_labels_19class == label_to_replace] = label_to_replace_with"
      ]
    },
    {
      "cell_type": "markdown",
      "metadata": {
        "id": "dSQd_UDQhmQd"
      },
      "source": [
        "Now let's create a new model with the same architecture, but to predict probabilities for 19 classes instead of 20. We're using all of the data in this first step, so we'll use the encodings we already preprocessed as inputs, but use the new labels that only have 19 classes."
      ]
    },
    {
      "cell_type": "code",
      "execution_count": 123,
      "metadata": {
        "id": "s7hR7ahmmrYL",
        "colab": {
          "base_uri": "https://localhost:8080/"
        },
        "outputId": "63b2ab6d-53c7-41ba-b444-ad740f98d383"
      },
      "outputs": [
        {
          "output_type": "stream",
          "name": "stderr",
          "text": [
            "Some layers from the model checkpoint at bert-base-cased were not used when initializing TFBertModel: ['nsp___cls', 'mlm___cls']\n",
            "- This IS expected if you are initializing TFBertModel from the checkpoint of a model trained on another task or with another architecture (e.g. initializing a BertForSequenceClassification model from a BertForPreTraining model).\n",
            "- This IS NOT expected if you are initializing TFBertModel from the checkpoint of a model that you expect to be exactly identical (initializing a BertForSequenceClassification model from a BertForSequenceClassification model).\n",
            "All the layers of TFBertModel were initialized from the model checkpoint at bert-base-cased.\n",
            "If your task is similar to the task the model of the checkpoint was trained on, you can already use TFBertModel for predictions without further training.\n"
          ]
        }
      ],
      "source": [
        "bert_model_19class = create_bert_multiclass_model(checkpoint = model_checkpoint, num_classes=19)"
      ]
    },
    {
      "cell_type": "code",
      "execution_count": 124,
      "metadata": {
        "id": "O4Qsai6UmrOj",
        "colab": {
          "base_uri": "https://localhost:8080/"
        },
        "outputId": "4dd24683-d2ab-49f9-f801-5ba94a4a57be"
      },
      "outputs": [
        {
          "output_type": "stream",
          "name": "stdout",
          "text": [
            "2000/2000 [==============================] - 737s 348ms/step - loss: 1.3433 - accuracy: 0.6013 - val_loss: 1.0076 - val_accuracy: 0.7014\n"
          ]
        }
      ],
      "source": [
        "bert_model_19class_history = bert_model_19class.fit([train_encodings.input_ids, \n",
        "                                                     train_encodings.token_type_ids, \n",
        "                                                     train_encodings.attention_mask\n",
        "                                                    ], \n",
        "                                                    train_labels_19class,   \n",
        "                                                    validation_data=([valid_encodings.input_ids, \n",
        "                                                                      valid_encodings.token_type_ids, \n",
        "                                                                      valid_encodings.attention_mask\n",
        "                                                                     ],\n",
        "                                                                     valid_labels_19class),    \n",
        "                                                    batch_size=8,\n",
        "                                                    epochs=1)"
      ]
    },
    {
      "cell_type": "code",
      "execution_count": 125,
      "metadata": {
        "id": "BkW9hMq9g9dV",
        "colab": {
          "base_uri": "https://localhost:8080/"
        },
        "outputId": "934d73a9-049f-4c69-edff-b0363d720799"
      },
      "outputs": [
        {
          "output_type": "stream",
          "name": "stdout",
          "text": [
            "59/59 [==============================] - 26s 448ms/step - loss: nan - accuracy: 0.6928\n",
            "Test loss: nan\n",
            "Test accuracy: 0.692838191986084\n"
          ]
        }
      ],
      "source": [
        "#Evaluate the fine tuned 19-class model against the test data with 19-class labels\n",
        "### YOUR CODE HERE\n",
        "score_19class = bert_model_19class.evaluate([test_encodings.input_ids, \n",
        "                                             test_encodings.token_type_ids, \n",
        "                                             test_encodings.attention_mask\n",
        "                                            ], \n",
        "                                            test_labels_19class) \n",
        "\n",
        "print('Test loss:', score_19class[0]) \n",
        "print('Test accuracy:', score_19class[1])\n",
        "### END YOUR CODE"
      ]
    },
    {
      "cell_type": "markdown",
      "metadata": {
        "id": "DPaUdul4hlp0"
      },
      "source": [
        "**QUESTION:** \n",
        "\n",
        "3.1 What is the test accuracy you get when you run the new first stage model with only 19 classes?\n",
        "**0.69284**"
      ]
    },
    {
      "cell_type": "code",
      "execution_count": 126,
      "metadata": {
        "id": "TrWtaXSug9UR",
        "colab": {
          "base_uri": "https://localhost:8080/"
        },
        "outputId": "06f01e3a-0a6b-471e-f75e-4367f516eda3"
      },
      "outputs": [
        {
          "output_type": "stream",
          "name": "stdout",
          "text": [
            "59/59 [==============================] - 29s 446ms/step\n"
          ]
        },
        {
          "output_type": "execute_result",
          "data": {
            "text/plain": [
              "<tf.Tensor: shape=(1885,), dtype=int64, numpy=array([ 9,  5, 15, ...,  6,  2,  8])>"
            ]
          },
          "metadata": {},
          "execution_count": 126
        }
      ],
      "source": [
        "#run and capture all the predictions from the 19 class data\n",
        "### YOUR CODE HERE \n",
        "predictions_19class = bert_model_19class.predict([test_encodings.input_ids, test_encodings.token_type_ids, test_encodings.attention_mask])\n",
        "predictions_19class = tf.argmax(predictions_19class, axis=-1)\n",
        "### END YOUR CODE\n",
        "predictions_19class"
      ]
    },
    {
      "cell_type": "code",
      "source": [
        "predictions_19class"
      ],
      "metadata": {
        "id": "Kj8j_rie1Rc4",
        "outputId": "22159f2d-49d7-4c47-91a9-7124d5669232",
        "colab": {
          "base_uri": "https://localhost:8080/"
        }
      },
      "execution_count": 127,
      "outputs": [
        {
          "output_type": "execute_result",
          "data": {
            "text/plain": [
              "<tf.Tensor: shape=(1885,), dtype=int64, numpy=array([ 9,  5, 15, ...,  6,  2,  8])>"
            ]
          },
          "metadata": {},
          "execution_count": 127
        }
      ]
    },
    {
      "cell_type": "code",
      "execution_count": 128,
      "metadata": {
        "id": "-nAlDV7K8T4q",
        "colab": {
          "base_uri": "https://localhost:8080/"
        },
        "outputId": "d2b25147-2828-470a-d65d-86d9c36c95f1"
      },
      "outputs": [
        {
          "output_type": "stream",
          "name": "stdout",
          "text": [
            "                          precision    recall  f1-score   support\n",
            "\n",
            "             alt.atheism       0.51      0.56      0.53        87\n",
            "           comp.graphics       0.61      0.70      0.65        89\n",
            " comp.os.ms-windows.misc       0.60      0.70      0.65       100\n",
            "comp.sys.ibm.pc.hardware       0.72      0.55      0.62        86\n",
            "   comp.sys.mac.hardware       0.83      0.61      0.70        95\n",
            "          comp.windows.x       0.73      0.85      0.79       107\n",
            "            misc.forsale       0.73      0.72      0.72        78\n",
            "               rec.autos       0.66      0.77      0.71       103\n",
            "         rec.motorcycles       0.93      0.55      0.69        91\n",
            "      rec.sport.baseball       0.83      0.83      0.83       100\n",
            "        rec.sport.hockey       0.92      0.87      0.90        95\n",
            "               sci.crypt       0.90      0.73      0.81       120\n",
            "         sci.electronics       0.69      0.62      0.65       106\n",
            "                 sci.med       0.86      0.81      0.84       107\n",
            "               sci.space       0.84      0.75      0.79       108\n",
            "    ** COMBINED CLASS **       0.53      0.81      0.64       165\n",
            "      talk.politics.guns       0.71      0.66      0.69        92\n",
            "   talk.politics.mideast       0.87      0.79      0.82        84\n",
            "      talk.politics.misc       0.68      0.61      0.64        72\n",
            "\n",
            "                accuracy                           0.72      1885\n",
            "               macro avg       0.74      0.71      0.72      1885\n",
            "            weighted avg       0.74      0.72      0.72      1885\n",
            "\n"
          ]
        }
      ],
      "source": [
        "target_names_19class = target_names[:label_to_replace_with] \\\n",
        "                     + ['** COMBINED CLASS **'] \\\n",
        "                     + target_names[label_to_replace_with+1:19]\n",
        "print(classification_report(test_labels_19class, predictions_19class,\n",
        "                            target_names=target_names_19class))"
      ]
    },
    {
      "cell_type": "code",
      "source": [
        "classification_report(test_labels_19class, predictions_19class,target_names=target_names_19class, output_dict=True)"
      ],
      "metadata": {
        "colab": {
          "base_uri": "https://localhost:8080/"
        },
        "id": "HFY7o6leWRaZ",
        "outputId": "1b87cec3-5926-4566-bc2f-a7949429b3dd"
      },
      "execution_count": 129,
      "outputs": [
        {
          "output_type": "execute_result",
          "data": {
            "text/plain": [
              "{'alt.atheism': {'precision': 0.5051546391752577,\n",
              "  'recall': 0.5632183908045977,\n",
              "  'f1-score': 0.532608695652174,\n",
              "  'support': 87},\n",
              " 'comp.graphics': {'precision': 0.6138613861386139,\n",
              "  'recall': 0.6966292134831461,\n",
              "  'f1-score': 0.6526315789473685,\n",
              "  'support': 89},\n",
              " 'comp.os.ms-windows.misc': {'precision': 0.603448275862069,\n",
              "  'recall': 0.7,\n",
              "  'f1-score': 0.6481481481481481,\n",
              "  'support': 100},\n",
              " 'comp.sys.ibm.pc.hardware': {'precision': 0.7230769230769231,\n",
              "  'recall': 0.5465116279069767,\n",
              "  'f1-score': 0.6225165562913907,\n",
              "  'support': 86},\n",
              " 'comp.sys.mac.hardware': {'precision': 0.8285714285714286,\n",
              "  'recall': 0.6105263157894737,\n",
              "  'f1-score': 0.703030303030303,\n",
              "  'support': 95},\n",
              " 'comp.windows.x': {'precision': 0.7338709677419355,\n",
              "  'recall': 0.8504672897196262,\n",
              "  'f1-score': 0.7878787878787878,\n",
              "  'support': 107},\n",
              " 'misc.forsale': {'precision': 0.7272727272727273,\n",
              "  'recall': 0.717948717948718,\n",
              "  'f1-score': 0.7225806451612903,\n",
              "  'support': 78},\n",
              " 'rec.autos': {'precision': 0.6583333333333333,\n",
              "  'recall': 0.7669902912621359,\n",
              "  'f1-score': 0.7085201793721974,\n",
              "  'support': 103},\n",
              " 'rec.motorcycles': {'precision': 0.9259259259259259,\n",
              "  'recall': 0.5494505494505495,\n",
              "  'f1-score': 0.6896551724137931,\n",
              "  'support': 91},\n",
              " 'rec.sport.baseball': {'precision': 0.83,\n",
              "  'recall': 0.83,\n",
              "  'f1-score': 0.83,\n",
              "  'support': 100},\n",
              " 'rec.sport.hockey': {'precision': 0.9222222222222223,\n",
              "  'recall': 0.8736842105263158,\n",
              "  'f1-score': 0.8972972972972973,\n",
              "  'support': 95},\n",
              " 'sci.crypt': {'precision': 0.8979591836734694,\n",
              "  'recall': 0.7333333333333333,\n",
              "  'f1-score': 0.8073394495412844,\n",
              "  'support': 120},\n",
              " 'sci.electronics': {'precision': 0.6875,\n",
              "  'recall': 0.6226415094339622,\n",
              "  'f1-score': 0.6534653465346534,\n",
              "  'support': 106},\n",
              " 'sci.med': {'precision': 0.8613861386138614,\n",
              "  'recall': 0.8130841121495327,\n",
              "  'f1-score': 0.8365384615384616,\n",
              "  'support': 107},\n",
              " 'sci.space': {'precision': 0.84375,\n",
              "  'recall': 0.75,\n",
              "  'f1-score': 0.7941176470588235,\n",
              "  'support': 108},\n",
              " '** COMBINED CLASS **': {'precision': 0.525691699604743,\n",
              "  'recall': 0.806060606060606,\n",
              "  'f1-score': 0.6363636363636364,\n",
              "  'support': 165},\n",
              " 'talk.politics.guns': {'precision': 0.7093023255813954,\n",
              "  'recall': 0.6630434782608695,\n",
              "  'f1-score': 0.6853932584269663,\n",
              "  'support': 92},\n",
              " 'talk.politics.mideast': {'precision': 0.868421052631579,\n",
              "  'recall': 0.7857142857142857,\n",
              "  'f1-score': 0.825,\n",
              "  'support': 84},\n",
              " 'talk.politics.misc': {'precision': 0.676923076923077,\n",
              "  'recall': 0.6111111111111112,\n",
              "  'f1-score': 0.6423357664233577,\n",
              "  'support': 72},\n",
              " 'accuracy': 0.7183023872679045,\n",
              " 'macro avg': {'precision': 0.7443511213867664,\n",
              "  'recall': 0.7100218443660653,\n",
              "  'f1-score': 0.7197589963199964,\n",
              "  'support': 1885},\n",
              " 'weighted avg': {'precision': 0.7402441426309497,\n",
              "  'recall': 0.7183023872679045,\n",
              "  'f1-score': 0.7210773392191046,\n",
              "  'support': 1885}}"
            ]
          },
          "metadata": {},
          "execution_count": 129
        }
      ]
    },
    {
      "cell_type": "code",
      "source": [
        "report_19cls = classification_report(test_labels_19class, predictions_19class,target_names=target_names_19class, output_dict=True, zero_division=False)"
      ],
      "metadata": {
        "id": "RhGH5NK2txXl"
      },
      "execution_count": 130,
      "outputs": []
    },
    {
      "cell_type": "markdown",
      "metadata": {
        "id": "Eh6nKilF8V7b"
      },
      "source": [
        "**QUESTION:** \n",
        "\n",
        "3.2 What is the F1 score you get for the combined class when you run the new first stage model with only 19 classes?\n",
        "**F1 score is 0.63636.**"
      ]
    },
    {
      "cell_type": "markdown",
      "metadata": {
        "id": "TTZcBibxR153"
      },
      "source": [
        "#### Step 2: New model with only the two classes combined in step one\n",
        "\n",
        "Now, our first stage model is able to determine which text is one of the two often confused classes, but we need to train a more specific model to distinguish between just these two classes. Ideally, this model will only focus on the more subtle differences between these two news categories, since it doesn't have to learn everything else about the other categories.\n",
        "\n",
        "For this model, we're only going to train using the text examples that are one of the two confused categories. We'll keep the encodings we already tokenized, so we need to separate out the input_ids, token_type_ids, and attention_mask for just the rows that have one of these two labels."
      ]
    },
    {
      "cell_type": "code",
      "source": [
        "label_to_replace, label_to_replace_with"
      ],
      "metadata": {
        "colab": {
          "base_uri": "https://localhost:8080/"
        },
        "id": "nqqK1IlhcTLQ",
        "outputId": "f2a48e0a-b8df-4836-cd51-441f04bf286a"
      },
      "execution_count": 131,
      "outputs": [
        {
          "output_type": "execute_result",
          "data": {
            "text/plain": [
              "(19, 15)"
            ]
          },
          "metadata": {},
          "execution_count": 131
        }
      ]
    },
    {
      "cell_type": "code",
      "execution_count": 132,
      "metadata": {
        "id": "N4TmPG6B1mz0"
      },
      "outputs": [],
      "source": [
        "train_mask_2class = (train_labels_19class == label_to_replace_with)\n",
        "train_encodings_2class = {'input_ids': train_encodings.input_ids[train_mask_2class],\n",
        "                          'token_type_ids': train_encodings.token_type_ids[train_mask_2class],\n",
        "                          'attention_mask': train_encodings.attention_mask[train_mask_2class]}\n",
        "train_labels_2class = train_labels.copy()[train_mask_2class]\n",
        "train_labels_2class = (train_labels_2class == label_to_replace_with).astype(int)\n",
        "\n",
        "valid_mask_2class = (valid_labels_19class == label_to_replace_with)\n",
        "valid_encodings_2class = {'input_ids': valid_encodings.input_ids[valid_mask_2class],\n",
        "                          'token_type_ids': valid_encodings.token_type_ids[valid_mask_2class],\n",
        "                          'attention_mask': valid_encodings.attention_mask[valid_mask_2class]}\n",
        "valid_labels_2class = npvalid_labels.copy()[valid_mask_2class]\n",
        "valid_labels_2class = (valid_labels_2class == label_to_replace_with).astype(int)\n",
        "\n",
        "test_mask_2class = (test_labels_19class == label_to_replace_with)\n",
        "test_encodings_2class = {'input_ids': test_encodings.input_ids[test_mask_2class],\n",
        "                          'token_type_ids': test_encodings.token_type_ids[test_mask_2class],\n",
        "                          'attention_mask': test_encodings.attention_mask[test_mask_2class]}\n",
        "test_labels_2class = test_labels.copy()[test_mask_2class]\n",
        "test_labels_2class = (test_labels_2class == label_to_replace_with).astype(int)"
      ]
    },
    {
      "cell_type": "code",
      "execution_count": 133,
      "metadata": {
        "id": "xwTzhDVp9YTT",
        "colab": {
          "base_uri": "https://localhost:8080/"
        },
        "outputId": "fcfe982b-1fc0-4e03-c05f-cb90f5363892"
      },
      "outputs": [
        {
          "output_type": "execute_result",
          "data": {
            "text/plain": [
              "(1372,)"
            ]
          },
          "metadata": {},
          "execution_count": 133
        }
      ],
      "source": [
        "train_labels_2class.shape"
      ]
    },
    {
      "cell_type": "code",
      "execution_count": 134,
      "metadata": {
        "id": "O76HzIGh9dct",
        "colab": {
          "base_uri": "https://localhost:8080/"
        },
        "outputId": "2ebb80ec-6266-4012-e7b7-bf0421d960c6"
      },
      "outputs": [
        {
          "output_type": "execute_result",
          "data": {
            "text/plain": [
              "array([0, 1, 1, ..., 1, 1, 1])"
            ]
          },
          "metadata": {},
          "execution_count": 134
        }
      ],
      "source": [
        "train_labels_2class"
      ]
    },
    {
      "cell_type": "markdown",
      "metadata": {
        "id": "3c7M7sFCucU8"
      },
      "source": [
        "Create and train a new model with the same architecture as before, except that it only predicts two classes. (Note that we could change this to a binary prediction model, but we'll keep it multiclass for consistency here.)"
      ]
    },
    {
      "cell_type": "code",
      "execution_count": 135,
      "metadata": {
        "id": "dNe5zVOflttk",
        "colab": {
          "base_uri": "https://localhost:8080/"
        },
        "outputId": "cc5802f7-61f1-4d51-fbe4-ef3295d19920"
      },
      "outputs": [
        {
          "output_type": "stream",
          "name": "stderr",
          "text": [
            "Some layers from the model checkpoint at bert-base-cased were not used when initializing TFBertModel: ['nsp___cls', 'mlm___cls']\n",
            "- This IS expected if you are initializing TFBertModel from the checkpoint of a model trained on another task or with another architecture (e.g. initializing a BertForSequenceClassification model from a BertForPreTraining model).\n",
            "- This IS NOT expected if you are initializing TFBertModel from the checkpoint of a model that you expect to be exactly identical (initializing a BertForSequenceClassification model from a BertForSequenceClassification model).\n",
            "All the layers of TFBertModel were initialized from the model checkpoint at bert-base-cased.\n",
            "If your task is similar to the task the model of the checkpoint was trained on, you can already use TFBertModel for predictions without further training.\n"
          ]
        }
      ],
      "source": [
        "bert_model_2class = create_bert_multiclass_model(checkpoint=model_checkpoint, num_classes=2)"
      ]
    },
    {
      "cell_type": "code",
      "execution_count": 136,
      "metadata": {
        "id": "-F5DM3zGlvSd",
        "colab": {
          "base_uri": "https://localhost:8080/"
        },
        "outputId": "9ca4ba87-746a-49ce-9e31-442de5d7b900"
      },
      "outputs": [
        {
          "output_type": "stream",
          "name": "stdout",
          "text": [
            "172/172 [==============================] - 126s 384ms/step - loss: 0.7115 - accuracy: 0.6028 - val_loss: 0.6113 - val_accuracy: 0.6705\n"
          ]
        }
      ],
      "source": [
        "bert_model_2class_history = bert_model_2class.fit([train_encodings_2class['input_ids'],\n",
        "                                                   train_encodings_2class['token_type_ids'],\n",
        "                                                   train_encodings_2class['attention_mask']], \n",
        "                                                  train_labels_2class,   \n",
        "                                                  validation_data=([valid_encodings_2class['input_ids'],\n",
        "                                                                    valid_encodings_2class['token_type_ids'],\n",
        "                                                                    valid_encodings_2class['attention_mask']],\n",
        "                                                                   valid_labels_2class),    \n",
        "                                                  batch_size=8, \n",
        "                                                  epochs=1)"
      ]
    },
    {
      "cell_type": "code",
      "execution_count": 137,
      "metadata": {
        "id": "UNEUeufxp1g5",
        "colab": {
          "base_uri": "https://localhost:8080/"
        },
        "outputId": "dd52a2d3-56f4-42a0-c42b-aeed57d438f1"
      },
      "outputs": [
        {
          "output_type": "stream",
          "name": "stdout",
          "text": [
            "6/6 [==============================] - 6s 366ms/step - loss: 0.6190 - accuracy: 0.6848\n",
            "Test loss: 0.6190174221992493\n",
            "Test accuracy: 0.6848484873771667\n"
          ]
        }
      ],
      "source": [
        "#Evaluate the two-class model against the two-class test set.\n",
        "### YOUR CODE HERE\n",
        "score_2class = bert_model_2class.evaluate([test_encodings_2class['input_ids'], test_encodings_2class['token_type_ids'], test_encodings_2class['attention_mask']], \n",
        "                                                  test_labels_2class) \n",
        "\n",
        "### END YOUR CODE\n",
        "print('Test loss:', score_2class[0]) \n",
        "print('Test accuracy:', score_2class[1])"
      ]
    },
    {
      "cell_type": "code",
      "execution_count": 138,
      "metadata": {
        "id": "aPuN8_gaESJZ",
        "colab": {
          "base_uri": "https://localhost:8080/"
        },
        "outputId": "97842377-e62e-4baa-8991-c205a0a13b34"
      },
      "outputs": [
        {
          "output_type": "stream",
          "name": "stdout",
          "text": [
            "6/6 [==============================] - 5s 364ms/step\n"
          ]
        },
        {
          "output_type": "execute_result",
          "data": {
            "text/plain": [
              "<tf.Tensor: shape=(165,), dtype=int64, numpy=\n",
              "array([1, 0, 1, 0, 0, 0, 1, 1, 0, 1, 1, 1, 0, 1, 1, 0, 1, 1, 1, 1, 0, 0,\n",
              "       1, 1, 0, 1, 1, 0, 1, 1, 1, 0, 1, 1, 1, 0, 1, 1, 0, 1, 0, 1, 1, 1,\n",
              "       1, 1, 0, 0, 1, 0, 0, 0, 1, 0, 1, 1, 1, 1, 1, 1, 1, 1, 1, 1, 1, 1,\n",
              "       0, 1, 0, 1, 1, 1, 1, 0, 0, 1, 0, 1, 0, 1, 1, 1, 1, 1, 0, 0, 0, 1,\n",
              "       0, 1, 1, 1, 1, 1, 1, 0, 1, 1, 1, 1, 1, 1, 1, 0, 1, 1, 0, 0, 1, 1,\n",
              "       1, 1, 1, 1, 1, 0, 1, 0, 0, 0, 0, 0, 1, 1, 1, 1, 1, 0, 1, 1, 1, 1,\n",
              "       1, 1, 1, 1, 1, 1, 1, 1, 1, 1, 1, 0, 1, 0, 1, 0, 1, 1, 1, 0, 1, 1,\n",
              "       1, 1, 1, 1, 0, 1, 1, 1, 0, 1, 1])>"
            ]
          },
          "metadata": {},
          "execution_count": 138
        }
      ],
      "source": [
        "#run and capture all the predictions from the 2-class test data\n",
        "### YOUR CODE HERE \n",
        "predictions_2class = bert_model_2class.predict([test_encodings_2class['input_ids'], test_encodings_2class['token_type_ids'], test_encodings_2class['attention_mask']])\n",
        "predictions_2class = tf.argmax(predictions_2class, axis=-1)\n",
        "### END YOUR CODE\n",
        "predictions_2class"
      ]
    },
    {
      "cell_type": "code",
      "execution_count": 139,
      "metadata": {
        "id": "zEnHd3ijESPH",
        "colab": {
          "base_uri": "https://localhost:8080/"
        },
        "outputId": "27ca2170-b4b7-4d46-dd54-d1ed697c1d75"
      },
      "outputs": [
        {
          "output_type": "stream",
          "name": "stdout",
          "text": [
            "                        precision    recall  f1-score   support\n",
            "\n",
            "soc.religion.christian       0.71      0.47      0.57        72\n",
            "    talk.religion.misc       0.68      0.85      0.75        93\n",
            "\n",
            "              accuracy                           0.68       165\n",
            "             macro avg       0.69      0.66      0.66       165\n",
            "          weighted avg       0.69      0.68      0.67       165\n",
            "\n"
          ]
        }
      ],
      "source": [
        "# Run the sklearn classification_report again with the 2-class predictions\n",
        "### YOUR CODE HERE\n",
        "target_names_2class = [target_names[label_to_replace_with]] + [target_names[label_to_replace]]\n",
        "print(classification_report(test_labels_2class, predictions_2class.numpy(),target_names=target_names_2class))\n",
        "### END YOUR CODE"
      ]
    },
    {
      "cell_type": "code",
      "source": [
        "classification_report(test_labels_2class, predictions_2class.numpy(),target_names=target_names_2class, output_dict=True)"
      ],
      "metadata": {
        "colab": {
          "base_uri": "https://localhost:8080/"
        },
        "id": "CLrASyNXe4kc",
        "outputId": "6180e57f-81e0-4e5e-c8d8-5ac98fcb0280"
      },
      "execution_count": 140,
      "outputs": [
        {
          "output_type": "execute_result",
          "data": {
            "text/plain": [
              "{'soc.religion.christian': {'precision': 0.7083333333333334,\n",
              "  'recall': 0.4722222222222222,\n",
              "  'f1-score': 0.5666666666666667,\n",
              "  'support': 72},\n",
              " 'talk.religion.misc': {'precision': 0.6752136752136753,\n",
              "  'recall': 0.8494623655913979,\n",
              "  'f1-score': 0.7523809523809524,\n",
              "  'support': 93},\n",
              " 'accuracy': 0.6848484848484848,\n",
              " 'macro avg': {'precision': 0.6917735042735043,\n",
              "  'recall': 0.66084229390681,\n",
              "  'f1-score': 0.6595238095238095,\n",
              "  'support': 165},\n",
              " 'weighted avg': {'precision': 0.6896658896658897,\n",
              "  'recall': 0.6848484848484848,\n",
              "  'f1-score': 0.6713419913419914,\n",
              "  'support': 165}}"
            ]
          },
          "metadata": {},
          "execution_count": 140
        }
      ]
    },
    {
      "cell_type": "code",
      "source": [
        "report_2cls = classification_report(test_labels_2class, predictions_2class,target_names=target_names_2class, output_dict=True, zero_division=False)"
      ],
      "metadata": {
        "id": "mRY95gXHt74C"
      },
      "execution_count": 141,
      "outputs": []
    },
    {
      "cell_type": "markdown",
      "metadata": {
        "id": "1aTDW3JBut1P"
      },
      "source": [
        "**QUESTION:** \n",
        "\n",
        "3.3 What is the macro average F1 score you get when you run the new second stage model with only 2 classes?\n",
        "**Macro average F1 score 0.65952.**"
      ]
    },
    {
      "cell_type": "markdown",
      "metadata": {
        "id": "90DMNd_Nuzgz"
      },
      "source": [
        "#### Step 3: Combine the predicted labels from the two steps\n",
        "\n",
        "To combine our models into two steps, start with the predictions from the first step. Keep all predicted labels except the ones with a predicted value of label_to_replace_with (the label we gave to both of the confused classes in the first step).\n",
        "\n",
        "Wherever the first model predicted the combined category, we'll replace the predictions with the label from the second model. If we used these models in inference, we'd only send an example to the second model if the first model predicted that it was from the combined class."
      ]
    },
    {
      "cell_type": "code",
      "execution_count": 142,
      "metadata": {
        "id": "bmSd5B8M-YPh",
        "colab": {
          "base_uri": "https://localhost:8080/",
          "height": 71
        },
        "outputId": "f77bda30-372d-49f1-ae64-96107e5bc084"
      },
      "outputs": [
        {
          "output_type": "execute_result",
          "data": {
            "text/plain": [
              "'\\npredictions_2class = predictions_2class.numpy()\\npredictions_2class[predictions_2class == 0] = label_to_replace\\npredictions_2class[predictions_2class == 1] = label_to_replace_with\\n\\npredictions_2steps = predictions_19class.numpy()\\npredictions_2steps[test_mask_2class] = predictions_2class\\n\\npredictions_2steps\\n'"
            ],
            "application/vnd.google.colaboratory.intrinsic+json": {
              "type": "string"
            }
          },
          "metadata": {},
          "execution_count": 142
        }
      ],
      "source": [
        "'''\n",
        "predictions_2class = predictions_2class.numpy()\n",
        "predictions_2class[predictions_2class == 0] = label_to_replace\n",
        "predictions_2class[predictions_2class == 1] = label_to_replace_with\n",
        "\n",
        "predictions_2steps = predictions_19class.numpy()\n",
        "predictions_2steps[test_mask_2class] = predictions_2class\n",
        "\n",
        "predictions_2steps\n",
        "'''"
      ]
    },
    {
      "cell_type": "code",
      "execution_count": 143,
      "metadata": {
        "id": "czf7y8Ha5hu-",
        "colab": {
          "base_uri": "https://localhost:8080/"
        },
        "outputId": "674f31b6-585b-4620-d594-5e3042e25a05"
      },
      "outputs": [
        {
          "output_type": "stream",
          "name": "stdout",
          "text": [
            "8/8 [==============================] - 3s 434ms/step\n"
          ]
        },
        {
          "output_type": "execute_result",
          "data": {
            "text/plain": [
              "array([ 9,  5, 15, ...,  6,  2,  8])"
            ]
          },
          "metadata": {},
          "execution_count": 143
        }
      ],
      "source": [
        "test_mark_2class_step3 = (predictions_19class.numpy() == label_to_replace_with)\n",
        "test_encodings_2class_step3 = {'input_ids': test_encodings.input_ids[test_mark_2class_step3],\n",
        "                               'token_type_ids': test_encodings.token_type_ids[test_mark_2class_step3],\n",
        "                               'attention_mask': test_encodings.attention_mask[test_mark_2class_step3]}\n",
        "\n",
        "# Running those examples through the step 2 model and save the predictions\n",
        "predictions_2class_step3 = bert_model_2class.predict([test_encodings_2class_step3['input_ids'],\n",
        "                                                      test_encodings_2class_step3['token_type_ids'],\n",
        "                                                      test_encodings_2class_step3['attention_mask']],)\n",
        "predictions_2class_step3 = tf.argmax(predictions_2class_step3, axis=-1)\n",
        "\n",
        "# Replace the step 2 model's predicted labels with the original values from 20 class dataset\n",
        "predictions_2class_step3 = predictions_2class_step3.numpy()\n",
        "predictions_2class_step3[predictions_2class_step3 == 0] = label_to_replace\n",
        "predictions_2class_step3[predictions_2class_step3 == 1] = label_to_replace_with\n",
        "\n",
        "# Combine the labels from bothb steps for the full dataset\n",
        "predictions_2steps_step3 = predictions_19class.numpy()\n",
        "predictions_2steps_step3[test_mark_2class_step3] = predictions_2class_step3\n",
        "\n",
        "predictions_2steps_step3"
      ]
    },
    {
      "cell_type": "markdown",
      "metadata": {
        "id": "dxUBa20mv0Iq"
      },
      "source": [
        "Now let's look at the classification report and confusion matrix, using the combined predictions from our two step model (compared to the original labels). Did the overall results get better?"
      ]
    },
    {
      "cell_type": "code",
      "source": [
        "print(classification_report(test_labels, predictions_2steps_step3, target_names=target_names))"
      ],
      "metadata": {
        "colab": {
          "base_uri": "https://localhost:8080/"
        },
        "id": "1cKDRON5HjiM",
        "outputId": "9f8e33e4-18ff-4211-a2de-aa4e8129b84f"
      },
      "execution_count": 144,
      "outputs": [
        {
          "output_type": "stream",
          "name": "stdout",
          "text": [
            "                          precision    recall  f1-score   support\n",
            "\n",
            "             alt.atheism       0.51      0.56      0.53        87\n",
            "           comp.graphics       0.61      0.70      0.65        89\n",
            " comp.os.ms-windows.misc       0.60      0.70      0.65       100\n",
            "comp.sys.ibm.pc.hardware       0.72      0.55      0.62        86\n",
            "   comp.sys.mac.hardware       0.83      0.61      0.70        95\n",
            "          comp.windows.x       0.73      0.85      0.79       107\n",
            "            misc.forsale       0.73      0.72      0.72        78\n",
            "               rec.autos       0.66      0.77      0.71       103\n",
            "         rec.motorcycles       0.93      0.55      0.69        91\n",
            "      rec.sport.baseball       0.83      0.83      0.83       100\n",
            "        rec.sport.hockey       0.92      0.87      0.90        95\n",
            "               sci.crypt       0.90      0.73      0.81       120\n",
            "         sci.electronics       0.69      0.62      0.65       106\n",
            "                 sci.med       0.86      0.81      0.84       107\n",
            "               sci.space       0.84      0.75      0.79       108\n",
            "  soc.religion.christian       0.56      0.78      0.65        93\n",
            "      talk.politics.guns       0.71      0.66      0.69        92\n",
            "   talk.politics.mideast       0.87      0.79      0.82        84\n",
            "      talk.politics.misc       0.68      0.61      0.64        72\n",
            "      talk.religion.misc       0.15      0.25      0.18        72\n",
            "\n",
            "                accuracy                           0.70      1885\n",
            "               macro avg       0.72      0.69      0.69      1885\n",
            "            weighted avg       0.73      0.70      0.70      1885\n",
            "\n"
          ]
        }
      ]
    },
    {
      "cell_type": "code",
      "execution_count": 145,
      "metadata": {
        "id": "bbtOD45X6QgO",
        "colab": {
          "base_uri": "https://localhost:8080/"
        },
        "outputId": "bb770fc8-e2cf-455c-8aee-bb3a09fae2df"
      },
      "outputs": [
        {
          "output_type": "execute_result",
          "data": {
            "text/plain": [
              "{'alt.atheism': {'precision': 0.5051546391752577,\n",
              "  'recall': 0.5632183908045977,\n",
              "  'f1-score': 0.532608695652174,\n",
              "  'support': 87},\n",
              " 'comp.graphics': {'precision': 0.6138613861386139,\n",
              "  'recall': 0.6966292134831461,\n",
              "  'f1-score': 0.6526315789473685,\n",
              "  'support': 89},\n",
              " 'comp.os.ms-windows.misc': {'precision': 0.603448275862069,\n",
              "  'recall': 0.7,\n",
              "  'f1-score': 0.6481481481481481,\n",
              "  'support': 100},\n",
              " 'comp.sys.ibm.pc.hardware': {'precision': 0.7230769230769231,\n",
              "  'recall': 0.5465116279069767,\n",
              "  'f1-score': 0.6225165562913907,\n",
              "  'support': 86},\n",
              " 'comp.sys.mac.hardware': {'precision': 0.8285714285714286,\n",
              "  'recall': 0.6105263157894737,\n",
              "  'f1-score': 0.703030303030303,\n",
              "  'support': 95},\n",
              " 'comp.windows.x': {'precision': 0.7338709677419355,\n",
              "  'recall': 0.8504672897196262,\n",
              "  'f1-score': 0.7878787878787878,\n",
              "  'support': 107},\n",
              " 'misc.forsale': {'precision': 0.7272727272727273,\n",
              "  'recall': 0.717948717948718,\n",
              "  'f1-score': 0.7225806451612903,\n",
              "  'support': 78},\n",
              " 'rec.autos': {'precision': 0.6583333333333333,\n",
              "  'recall': 0.7669902912621359,\n",
              "  'f1-score': 0.7085201793721974,\n",
              "  'support': 103},\n",
              " 'rec.motorcycles': {'precision': 0.9259259259259259,\n",
              "  'recall': 0.5494505494505495,\n",
              "  'f1-score': 0.6896551724137931,\n",
              "  'support': 91},\n",
              " 'rec.sport.baseball': {'precision': 0.83,\n",
              "  'recall': 0.83,\n",
              "  'f1-score': 0.83,\n",
              "  'support': 100},\n",
              " 'rec.sport.hockey': {'precision': 0.9222222222222223,\n",
              "  'recall': 0.8736842105263158,\n",
              "  'f1-score': 0.8972972972972973,\n",
              "  'support': 95},\n",
              " 'sci.crypt': {'precision': 0.8979591836734694,\n",
              "  'recall': 0.7333333333333333,\n",
              "  'f1-score': 0.8073394495412844,\n",
              "  'support': 120},\n",
              " 'sci.electronics': {'precision': 0.6875,\n",
              "  'recall': 0.6226415094339622,\n",
              "  'f1-score': 0.6534653465346534,\n",
              "  'support': 106},\n",
              " 'sci.med': {'precision': 0.8613861386138614,\n",
              "  'recall': 0.8130841121495327,\n",
              "  'f1-score': 0.8365384615384616,\n",
              "  'support': 107},\n",
              " 'sci.space': {'precision': 0.84375,\n",
              "  'recall': 0.75,\n",
              "  'f1-score': 0.7941176470588235,\n",
              "  'support': 108},\n",
              " 'soc.religion.christian': {'precision': 0.5615384615384615,\n",
              "  'recall': 0.7849462365591398,\n",
              "  'f1-score': 0.6547085201793722,\n",
              "  'support': 93},\n",
              " 'talk.politics.guns': {'precision': 0.7093023255813954,\n",
              "  'recall': 0.6630434782608695,\n",
              "  'f1-score': 0.6853932584269663,\n",
              "  'support': 92},\n",
              " 'talk.politics.mideast': {'precision': 0.868421052631579,\n",
              "  'recall': 0.7857142857142857,\n",
              "  'f1-score': 0.825,\n",
              "  'support': 84},\n",
              " 'talk.politics.misc': {'precision': 0.676923076923077,\n",
              "  'recall': 0.6111111111111112,\n",
              "  'f1-score': 0.6423357664233577,\n",
              "  'support': 72},\n",
              " 'talk.religion.misc': {'precision': 0.14634146341463414,\n",
              "  'recall': 0.25,\n",
              "  'f1-score': 0.1846153846153846,\n",
              "  'support': 72},\n",
              " 'accuracy': 0.6960212201591512,\n",
              " 'macro avg': {'precision': 0.7162429765848457,\n",
              "  'recall': 0.6859650336726887,\n",
              "  'f1-score': 0.6939190599255526,\n",
              "  'support': 1885},\n",
              " 'weighted avg': {'precision': 0.7275229393705508,\n",
              "  'recall': 0.6960212201591512,\n",
              "  'f1-score': 0.7047273127305047,\n",
              "  'support': 1885}}"
            ]
          },
          "metadata": {},
          "execution_count": 145
        }
      ],
      "source": [
        "# Run the sklearn classification_report with all 20 classes from the 2-step predictions\n",
        "### YOUR CODE HERE\n",
        "classification_report(test_labels, predictions_2steps_step3, target_names=target_names, output_dict=True)\n",
        "### END YOUR CODE"
      ]
    },
    {
      "cell_type": "code",
      "source": [
        "report_combined = classification_report(test_labels, predictions_2steps_step3, target_names=target_names, output_dict=True)"
      ],
      "metadata": {
        "id": "AnEDWi3DuTr-"
      },
      "execution_count": 146,
      "outputs": []
    },
    {
      "cell_type": "code",
      "source": [
        "label_to_replace, label_to_replace_with"
      ],
      "metadata": {
        "colab": {
          "base_uri": "https://localhost:8080/"
        },
        "id": "Dl9lcUEcHPS3",
        "outputId": "d670d425-3867-4ab8-8259-d76ef79a5e04"
      },
      "execution_count": 147,
      "outputs": [
        {
          "output_type": "execute_result",
          "data": {
            "text/plain": [
              "(19, 15)"
            ]
          },
          "metadata": {},
          "execution_count": 147
        }
      ]
    },
    {
      "cell_type": "code",
      "execution_count": 148,
      "metadata": {
        "id": "GoxOfneGDG60"
      },
      "outputs": [],
      "source": [
        "cm = tf.math.confusion_matrix(test_labels, predictions_2steps_step3)\n",
        "cm = cm/cm.numpy().sum(axis=1)[:, tf.newaxis]"
      ]
    },
    {
      "cell_type": "code",
      "execution_count": 149,
      "metadata": {
        "id": "of7FDh3CDHGy",
        "colab": {
          "base_uri": "https://localhost:8080/",
          "height": 585
        },
        "outputId": "2fe35113-0d9a-4b6b-c95e-f3b812e43948"
      },
      "outputs": [
        {
          "output_type": "execute_result",
          "data": {
            "text/plain": [
              "Text(159.0, 0.5, 'True')"
            ]
          },
          "metadata": {},
          "execution_count": 149
        },
        {
          "output_type": "display_data",
          "data": {
            "text/plain": [
              "<Figure size 1440x504 with 2 Axes>"
            ],
            "image/png": "[encoded data removed]"
          },
          "metadata": {
            "needs_background": "light"
          }
        }
      ],
      "source": [
        "plt.figure(figsize=(20,7))\n",
        "sns.heatmap(\n",
        "    cm, annot=True,\n",
        "    xticklabels=target_names,\n",
        "    yticklabels=target_names)\n",
        "plt.xlabel(\"Predicted\")\n",
        "plt.ylabel(\"True\")"
      ]
    },
    {
      "cell_type": "markdown",
      "metadata": {
        "id": "8jXBmgS2iXDI"
      },
      "source": [
        "**QUESTION:**\n",
        "\n",
        "3.4 What is the macro average F1 score you get from the combined two-step model? \n",
        "\n",
        "3.5 What is the difference in points between the macro weighted F1 score for the original model and the combined two-step model? \n",
        "\n",
        "3.6 What is the new F1 score for the last category (i.e. label_to_replace, the one that had the lowest F1 score in the original model)? \n",
        "\n",
        "3.7 What is the new F1 score for the other category that you combined with the last category in the two-step model (i.e. label_to_replace_with)? \n",
        "\n",
        "3.8 Which metric (precision or recall) is now lower for the other category (i.e. label_to_replace_with)? "
      ]
    },
    {
      "cell_type": "markdown",
      "source": [
        "3.4 What is the macro average F1 score you get from the combined two-step model? **0.69392**"
      ],
      "metadata": {
        "id": "qwuhRCkMwweg"
      }
    },
    {
      "cell_type": "code",
      "source": [
        "report_combined['macro avg']['f1-score']"
      ],
      "metadata": {
        "colab": {
          "base_uri": "https://localhost:8080/"
        },
        "id": "lWb9s2Rww0Zw",
        "outputId": "c8c46c22-f639-4829-d99e-cad361353deb"
      },
      "execution_count": 150,
      "outputs": [
        {
          "output_type": "execute_result",
          "data": {
            "text/plain": [
              "0.6939190599255526"
            ]
          },
          "metadata": {},
          "execution_count": 150
        }
      ]
    },
    {
      "cell_type": "markdown",
      "source": [
        "3.5 What is the difference in points between the macro weighted F1 score for the original model and the combined two-step model? **0.05262**"
      ],
      "metadata": {
        "id": "6pemPZL_rBVK"
      }
    },
    {
      "cell_type": "code",
      "source": [
        "report_combined['macro avg']['f1-score'] - report_orig['macro avg']['f1-score']"
      ],
      "metadata": {
        "colab": {
          "base_uri": "https://localhost:8080/"
        },
        "id": "WG87DAvAue7s",
        "outputId": "dd7945e1-ce10-4b73-f8a0-7a0fd63670df"
      },
      "execution_count": 151,
      "outputs": [
        {
          "output_type": "execute_result",
          "data": {
            "text/plain": [
              "0.05261705392827343"
            ]
          },
          "metadata": {},
          "execution_count": 151
        }
      ]
    },
    {
      "cell_type": "markdown",
      "source": [
        "3.6 What is the new F1 score for the last category (i.e. label_to_replace, the one that had the lowest F1 score in the original model)? **0.18462**"
      ],
      "metadata": {
        "id": "jJFhef3Xrf-K"
      }
    },
    {
      "cell_type": "code",
      "source": [
        "label_to_replace, target_names[label_to_replace]"
      ],
      "metadata": {
        "colab": {
          "base_uri": "https://localhost:8080/"
        },
        "id": "B2LCrclmr-Is",
        "outputId": "00e47069-399b-4d4c-afee-18b5644d696e"
      },
      "execution_count": 152,
      "outputs": [
        {
          "output_type": "execute_result",
          "data": {
            "text/plain": [
              "(19, 'talk.religion.misc')"
            ]
          },
          "metadata": {},
          "execution_count": 152
        }
      ]
    },
    {
      "cell_type": "code",
      "source": [
        "report_combined[target_names[label_to_replace]]['f1-score']"
      ],
      "metadata": {
        "colab": {
          "base_uri": "https://localhost:8080/"
        },
        "id": "jOsm7Gucrreo",
        "outputId": "ca57ea48-ebbe-4fd2-bd77-f0e83ca12271"
      },
      "execution_count": 153,
      "outputs": [
        {
          "output_type": "execute_result",
          "data": {
            "text/plain": [
              "0.1846153846153846"
            ]
          },
          "metadata": {},
          "execution_count": 153
        }
      ]
    },
    {
      "cell_type": "markdown",
      "source": [
        "3.7 What is the new F1 score for the other category that you combined with the last category in the two-step model (i.e. label_to_replace_with)? **0.65471**"
      ],
      "metadata": {
        "id": "UcgeoD9Zu3Ma"
      }
    },
    {
      "cell_type": "code",
      "source": [
        "label_to_replace_with, target_names[label_to_replace_with]"
      ],
      "metadata": {
        "colab": {
          "base_uri": "https://localhost:8080/"
        },
        "id": "chq5yj2xvDfX",
        "outputId": "4daa378e-6b8f-46af-b5ec-9ed324f5fce1"
      },
      "execution_count": 154,
      "outputs": [
        {
          "output_type": "execute_result",
          "data": {
            "text/plain": [
              "(15, 'soc.religion.christian')"
            ]
          },
          "metadata": {},
          "execution_count": 154
        }
      ]
    },
    {
      "cell_type": "code",
      "source": [
        "report_combined[target_names[label_to_replace_with]]['f1-score']"
      ],
      "metadata": {
        "colab": {
          "base_uri": "https://localhost:8080/"
        },
        "id": "CzXIAfA5u5li",
        "outputId": "6770ae7b-04cb-4bdc-86f0-818509f59560"
      },
      "execution_count": 155,
      "outputs": [
        {
          "output_type": "execute_result",
          "data": {
            "text/plain": [
              "0.6547085201793722"
            ]
          },
          "metadata": {},
          "execution_count": 155
        }
      ]
    },
    {
      "cell_type": "markdown",
      "source": [
        "3.8 Which metric (precision or recall) is now lower for the other category (i.e. label_to_replace_with)? **precision**"
      ],
      "metadata": {
        "id": "8ldrSVzOvL4n"
      }
    },
    {
      "cell_type": "code",
      "source": [
        "print(f\"Precision in 2step model : {report_combined[target_names[label_to_replace_with]]['precision']}\")\n",
        "print(f\"Recall in 2step model : {report_combined[target_names[label_to_replace_with]]['recall']}\")\n",
        "\n",
        "print(f\"Precision in original model : {report_orig[target_names[label_to_replace_with]]['precision']}\")\n",
        "print(f\"Recall in original model : {report_orig[target_names[label_to_replace_with]]['recall']}\")"
      ],
      "metadata": {
        "colab": {
          "base_uri": "https://localhost:8080/"
        },
        "id": "Dx5g6wAbvZuo",
        "outputId": "6000955c-5728-4676-97ab-75084bb0a85a"
      },
      "execution_count": 156,
      "outputs": [
        {
          "output_type": "stream",
          "name": "stdout",
          "text": [
            "Precision in 2step model : 0.5615384615384615\n",
            "Recall in 2step model : 0.7849462365591398\n",
            "Precision in original model : 0.6166666666666667\n",
            "Recall in original model : 0.7956989247311828\n"
          ]
        }
      ]
    },
    {
      "cell_type": "markdown",
      "metadata": {
        "id": "coyVPop8SuG9"
      },
      "source": [
        "### Look at examples of misclassifications\n",
        "\n",
        "What happened in the two-step model? Did everything improve, or did something get worse? We were concerned about the last news category, which had a very low F1 score in the original model. In the two-step model, the F1 score for that category should have gone up.\n",
        "\n",
        "But for the other category that the original model often confused with the last category, the F1 score might have gone down. In particular, one of the two component metrics, precision or recall, probably went down. (We ask you which one went down in question 3.7 above.)\n",
        "\n",
        "We might be able to tell what happened from the confusion matrix, but it's also always a good idea to look at actual examples that were misclassified, to see if we can spot any patterns. We can also isolate more specific examples, like test examples that the original model got right, but the two-step model got wrong. Let's do that below.\n",
        "\n",
        "**CRITICAL NOTE:**  If nothing prints out when you run the code below, there are two possibilities.  The first is that there is some error in the code or variable names you have created in earlier cells.  The second possibility is that given your current train, validation, and test split, the second model predicted the \"label_to_replace_with\" class and the first model did so too.  This is unlikely but it is possible. In either case, you must go back and re-run the *ENTIRE* notebook to make sure you get a new train, validation, and test split which will allow you to observe the first and second models disagreeing. Please make sure you enter the metric values from this new run into your answers file."
      ]
    },
    {
      "cell_type": "code",
      "execution_count": 157,
      "metadata": {
        "id": "Lj98aBdmNMrE",
        "colab": {
          "base_uri": "https://localhost:8080/"
        },
        "outputId": "d212dc52-5903-4d5f-c23a-c0d39d856a9f"
      },
      "outputs": [
        {
          "output_type": "execute_result",
          "data": {
            "text/plain": [
              "array([False, False,  True, ..., False, False, False])"
            ]
          },
          "metadata": {},
          "execution_count": 157
        }
      ],
      "source": [
        "# Make a vector the length of our test set, with 1 if the second model predicted the\n",
        "# \"label_to_replace_with\" class, and 0s otherwise\n",
        "select_predictions = (predictions_2steps_step3 == label_to_replace_with)\n",
        "select_predictions"
      ]
    },
    {
      "cell_type": "code",
      "execution_count": 158,
      "metadata": {
        "id": "vaBVzlNXdsWN",
        "colab": {
          "base_uri": "https://localhost:8080/"
        },
        "outputId": "220b4467-fb7b-43f8-e8b3-2fb1f2aeaa03"
      },
      "outputs": [
        {
          "output_type": "execute_result",
          "data": {
            "text/plain": [
              "array([False, False, False, ..., False, False, False])"
            ]
          },
          "metadata": {},
          "execution_count": 158
        }
      ],
      "source": [
        "# Now only keep a 1 if that was not the correct label, i.e. it was a false positive\n",
        "select_predictions = select_predictions * (test_labels != label_to_replace_with)\n",
        "select_predictions"
      ]
    },
    {
      "cell_type": "code",
      "execution_count": 159,
      "metadata": {
        "id": "E05K9v-RdsLT"
      },
      "outputs": [],
      "source": [
        "# And now only keep a 1 if the original model predicted the correct label instead\n",
        "select_predictions = select_predictions * (test_labels == predictions_model1.numpy())"
      ]
    },
    {
      "cell_type": "code",
      "execution_count": 160,
      "metadata": {
        "id": "x4dEwbnc_6qr",
        "colab": {
          "base_uri": "https://localhost:8080/"
        },
        "outputId": "33448b3d-e9ad-4692-a73c-1223aa0548c1"
      },
      "outputs": [
        {
          "output_type": "stream",
          "name": "stdout",
          "text": [
            "Input text number: 62\n",
            "Prediction: model1 = talk.politics.mideast, model2 = soc.religion.christian):\n",
            "Text:    I only want to say that I agree with Noam on this point and I hope that all sides stop targeting civilians.\n",
            "\n",
            "\n",
            "Input text number: 892\n",
            "Prediction: model1 = talk.religion.misc, model2 = soc.religion.christian):\n",
            "Text:   You know, everybody scoffed at that guy they hung up on a cross too. He claimed also to be the son of God; and it took almost two thousand  years to forget what he preached.  \tLove thy neighbor as thyself.   Anybody else wonder if those two guys setting the fires were 'agent  provacateurs.'  \n",
            "\n",
            "\n",
            "Input text number: 948\n",
            "Prediction: model1 = alt.atheism, model2 = soc.religion.christian):\n",
            "Text: Stuff deleted  All five schools of law (to the best of my knowledge) support the death sentence for apostasy WHEN it is accompanied by open, persistent, and aggravated hostility to Islam. Otherwise I agree, there is no legal support for punishment of disbelief. The Qur'an makes it clear that belief is a matter of conscience. Public or private disavowal of Islam or conversion to another faith is not punishable (there are some jurists who have gone against this trend and insisted that apostasy is punishable (even by death) - but historically they are the exception.  Cursing and Insulting the Prophets falls under the category of \"Shatim\". \n",
            "\n",
            "\n",
            "Input text number: 1150\n",
            "Prediction: model1 = alt.atheism, model2 = soc.religion.christian):\n",
            "Text:  My own personal and highly subjective opinion is that freedom is a good thing.  However, when I here people assert that the only \"true\" freedom is in following the words of this and that Messiah, I realise that people don't even agree on the meaning of the word.  What does it mean to say that word X represents an objective value when word X has no objective meaning?\n",
            "\n",
            "\n",
            "Input text number: 1216\n",
            "Prediction: model1 = alt.atheism, model2 = soc.religion.christian):\n",
            "Text:    No. The christians were leary of having an atheist spokesman   (seems so clandestine, and all that), so they had him removed.  Of   course, Keith is busy explaining to his fellow captives how he   isn't really being persecuted, since (after all) they *are*   feeding him, and any resistance on his part would only be viewed   as trouble making.      I understand he did make a bit of a fuss when they tatooed \"In God   We Trust\" on his forehead, though.  /\\/\\/\\/\\/\\/\\/\\/\\/\\/\\/\\/\\/\\/\\/\\/\\/\\/\\/\\/\\/\\/\\/\\/\\/\\/\\/\\/\\/\\/\\/\\/\\/\\/\\   Bob Beauchaine bobbe@vice.ICO.TEK.COM   They said that Queens could stay, they blew the Bronx away, and sank Manhattan out at sea.\n",
            "\n",
            "\n",
            "Input text number: 1223\n",
            "Prediction: model1 = alt.atheism, model2 = soc.religion.christian):\n",
            "Text:   Well, this is alt.atheism.  I hope you arent here to try to convert anyone.   Many would disagree.  [...]  Well, you shouldn't give any particular book too much weight.  Actually, I don't think that any of these statements is correct.  It is more likely that most of Jesus' fame was attributed to him after his death by those who had some strong motives...  [...]  What's a prophecy, and what's so significant about them?   I think we understand.   Well, sell your computer and donate you life to your religion now... Don't waste any time.\n",
            "\n",
            "\n",
            "Input text number: 1370\n",
            "Prediction: model1 = talk.politics.mideast, model2 = soc.religion.christian):\n",
            "Text:  [all deleted...]  Sam Zbib's posting is so confused and nonsensical as not to warrant a reasoned response.  We're getting used to this, too. \n",
            "\n",
            "\n",
            "Input text number: 1559\n",
            "Prediction: model1 = alt.atheism, model2 = soc.religion.christian):\n",
            "Text:   Due to a discussion on this group some time ago, the theists would   more likely take an Asimov quote out of context and paint him as   the biggest Bible thumpin', God fearin', atheist hatin' christian   you ever laid eyes on.  Right up there with Einstein.   /\\/\\/\\/\\/\\/\\/\\/\\/\\/\\/\\/\\/\\/\\/\\/\\/\\/\\/\\/\\/\\/\\/\\/\\/\\/\\/\\/\\/\\/\\/\\/\\/\\/\\   Bob Beauchaine bobbe@vice.ICO.TEK.COM   They said that Queens could stay, they blew the Bronx away, and sank Manhattan out at sea.\n",
            "\n",
            "\n",
            "Input text number: 1643\n",
            "Prediction: model1 = alt.atheism, model2 = soc.religion.christian):\n",
            "Text:   \tI agree, we spend too much energy on the nonexistance of God.  --          \"Satan and the Angels do not have freewill.           They do what god tells them to do. \"\n",
            "\n",
            "\n",
            "Input text number: 1855\n",
            "Prediction: model1 = rec.sport.baseball, model2 = soc.religion.christian):\n",
            "Text:  \tThe only problem is, Dave Kingman was *always* taking off. Rosh Hashana, Yom Kippur, Easter, the day Elvis died (8/16), the entire spring training month of Ramadan, Purim, the 4th of July (both games  that day), my birthday (OK, during the World Series, he never had to  play there), Memorial day (both games that day), ... \tGuys, help me out here.  I've run fresh out of holidays that  coincide with the baseball season and I'm trying to catalogue all the days in his career that Dave Kingman (or at least his bat) went AWOL. \tA complete religious calendar detailing every holiday in every extant religion in the Western Hemisphere would be appreciated.  Only then can we truly be certain that Dave Kingman observed every holiday ever conceived... \t:-), of course ...NOT! \n",
            "\n",
            "\n"
          ]
        }
      ],
      "source": [
        "# Print out the original and clean text of the examples that met the above conditions\n",
        "for i in np.where(select_predictions)[0]:\n",
        "    \n",
        "    print(f\"Input text number: {i}\")\n",
        "\n",
        "    print('Prediction: model1 = %s, model2 = %s):\\nText: %s\\n\\n' %\n",
        "          (target_names[predictions_model1[i]],\n",
        "           target_names[predictions_2steps_step3[i]],\n",
        "           test_texts[i][:1000].replace('\\n', ' ')))"
      ]
    },
    {
      "cell_type": "markdown",
      "metadata": {
        "id": "ppncPlCzzz0B"
      },
      "source": [
        "**QUESTION:** \n",
        "\n",
        "4.1 Why do you think the two-step model got these examples wrong, when the original model got them right?\n",
        "\n",
        "- A. The two-step model saw less examples of the \"label_to_replace\" class, because we replaced them with the \"label_to_replace_with\" examples. So it didn't learn the kind of text in that class as well as the original model.\n",
        "\n",
        "- B. In the two-step process, the step 1 model overpredicted the combined class, and the step 2 model overpredicted the \"label_to_replace_with\" class. A third class is now getting mistaken more often for the \"label_to_replace_with\" class, than in the original model.\n",
        "\n",
        "- C. It's probably just random that the original model got these specific examples right and the two-step model got them wrong.\n",
        "\n",
        "**B**\n",
        "\n",
        "4.2 Is there anything you might try next, to try to make the two-step model better?\n",
        "\n",
        "- A. Try to balance the training data across classes at each step, or add class weights when calling model.fit.\n",
        "\n",
        "- B. Try to combine another similar category with the two easily confused ones, for a step 1 model with 18 classes and the step 2 model with 3 classes.\n",
        "\n",
        "- C. Try both A and B\n",
        "\n",
        "**C**"
      ]
    }
  ],
  "metadata": {
    "accelerator": "GPU",
    "colab": {
      "provenance": [],
      "include_colab_link": true
    },
    "gpuClass": "standard",
    "kernelspec": {
      "display_name": "Python 3",
      "language": "python",
      "name": "python3"
    },
    "language_info": {
      "codemirror_mode": {
        "name": "ipython",
        "version": 3
      },
      "file_extension": ".py",
      "mimetype": "text/x-python",
      "name": "python",
      "nbconvert_exporter": "python",
      "pygments_lexer": "ipython3",
      "version": "3.8.5"
    }
  },
  "nbformat": 4,
  "nbformat_minor": 0
}