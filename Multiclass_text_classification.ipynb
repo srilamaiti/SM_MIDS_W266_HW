{
  "cells": [
    {
      "cell_type": "markdown",
      "metadata": {
        "id": "view-in-github",
        "colab_type": "text"
      },
      "source": [
        "<a href=\"https://colab.research.google.com/github/srilamaiti/SM_MIDS_W266_HW/blob/main/Multiclass_text_classification.ipynb\" target=\"_parent\"><img src=\"https://colab.research.google.com/assets/colab-badge.svg\" alt=\"Open In Colab\"/></a>"
      ]
    },
    {
      "cell_type": "markdown",
      "metadata": {
        "id": "Z-44Qz4-Xd1o"
      },
      "source": [
        "# Assignment 3: Fine tuning a multiclass classification BERT model\n",
        "\n",
        "**Description:** This assignment covers fine-tuning of a multiclass classification. You will compare two different types of solutions using BERT-based models. You should also be able to develop an intuition for:\n",
        "\n",
        "\n",
        "* Working with BERT\n",
        "* Using multiple models to focus on different sub-tasks\n",
        "* Different metrics to measure the effectiveness of your model\n",
        "\n",
        "\n",
        "\n",
        "The assignment notebook closely follows the lesson notebooks. We will use the 20 newsgroups dataset and will leverage some of the models, or part of the code, for our current investigation. \n",
        "\n",
        "**You are strongly encouraged to read through the entire notebook before answering any questions or writing any code.**\n",
        "\n",
        "The initial part of the notebook is purely setup. We will then generate our BERT model and see if and how we can improve it. \n",
        "\n",
        "Do not try to run this entire notebook on your GCP instance as the training of models requires a GPU to work in a timely fashion. This notebook should be run on a Google Colab leveraging a GPU. By default, when you open the notebook in Colab it will try to use a GPU. Total runtime of the entire notebook (with solutions and a Colab GPU) should be about 1h.\n",
        "\n",
        "\n",
        "[![Open In Colab](https://colab.research.google.com/assets/colab-badge.svg)](https://colab.research.google.com/github/datasci-w266/2023-spring-main/blob/master/assignment/a3/Multiclass_text_classification.ipynb)\n",
        "\n",
        "The overall assignment structure is as follows:\n",
        "\n",
        "1. Setup\n",
        "  \n",
        "  1.1 Libraries & Helper Functions\n",
        "\n",
        "  1.2 Data Acquisition\n",
        "\n",
        "  1.3 Training/Test/Validation Sets for BERT-based models\n",
        "\n",
        "2. Classification with a fine tuned BERT model\n",
        "\n",
        "  2.1 Create the specified BERT model\n",
        "  \n",
        "  2.2 Fine tune the BERT model as directed\n",
        "\n",
        "  2.3 Examine the predictions with various metrics\n",
        "\n",
        "3. Classification using two stages\n",
        "\n",
        "  3.1 Relabel the data to group the often confused classes\n",
        "\n",
        "  3.2 Train the first stage model on the relabeled data\n",
        "\n",
        "  3.3 Separate the data for just the confused classes\n",
        "\n",
        "  3.4. Train the second stage model on the two classes\n",
        "\n",
        "  3.5. Combine and evaluate the predictions from the two stages\n",
        "\n",
        "4. Look at examples of misclassifications, see what might have changed\n",
        "\n",
        "\n",
        "\n",
        "**INSTRUCTIONS:**: \n",
        "\n",
        "* Questions are always indicated as **QUESTION:**, so you can search for this string to make sure you answered all of the questions. You are expected to fill out, run, and submit this notebook, as well as to answer the questions in the **answers** file as you did in a1 and a2.\n",
        "\n",
        "* **### YOUR CODE HERE** indicates that you are supposed to write code.\n",
        "\n",
        "* If you want to, you can run all of the cells in section 1 in bulk. This is setup work and no questions are in there. At the end of section 1 we will state all of the relevant variables that were defined and created in section 1.\n",
        "\n",
        "* **IMPORTANT NOTE:** Because the data we're using is downloaded each time we run section 1, a different split of train, validation, and test records is created.  This means that the accuracy, precision, recall, and F1 scores will change, although the delta will be small.  Please enter the values from your final run so that the answer values in your answers file correspond to the answer values in the outputs in your notebook.\n"
      ]
    },
    {
      "cell_type": "markdown",
      "metadata": {
        "id": "NK2xTV-Xisrl"
      },
      "source": [
        "### 1. Setup\n",
        "\n",
        "Lets get all our libraries and download and process our data."
      ]
    },
    {
      "cell_type": "code",
      "execution_count": 1,
      "metadata": {
        "id": "3gzOXaFdmgO8"
      },
      "outputs": [],
      "source": [
        "!pip install -q transformers"
      ]
    },
    {
      "cell_type": "code",
      "execution_count": 2,
      "metadata": {
        "colab": {
          "base_uri": "https://localhost:8080/"
        },
        "id": "ULcKJUjHmkZT",
        "outputId": "e6971d49-5ad2-45b9-c50f-e703ac5c7ff5"
      },
      "outputs": [
        {
          "output_type": "stream",
          "name": "stdout",
          "text": [
            "Looking in indexes: https://pypi.org/simple, https://us-python.pkg.dev/colab-wheels/public/simple/\n",
            "Requirement already satisfied: pydot in /usr/local/lib/python3.8/dist-packages (1.3.0)\n",
            "Requirement already satisfied: pyparsing>=2.1.4 in /usr/local/lib/python3.8/dist-packages (from pydot) (3.0.9)\n"
          ]
        }
      ],
      "source": [
        "!pip install pydot"
      ]
    },
    {
      "cell_type": "code",
      "execution_count": 3,
      "metadata": {
        "id": "aTq7Qjqbmkfv"
      },
      "outputs": [],
      "source": [
        "from sklearn.datasets import fetch_20newsgroups\n",
        "from sklearn.model_selection import train_test_split\n",
        "from sklearn.metrics import classification_report"
      ]
    },
    {
      "cell_type": "code",
      "execution_count": 4,
      "metadata": {
        "id": "-6E-xzDawK0Q"
      },
      "outputs": [],
      "source": [
        "from collections import Counter\n",
        "import numpy as np\n",
        "import tensorflow as tf\n",
        "from tensorflow import keras\n",
        "\n",
        "import seaborn as sns\n",
        "import matplotlib.pyplot as plt\n",
        "from pprint import pprint "
      ]
    },
    {
      "cell_type": "code",
      "execution_count": 5,
      "metadata": {
        "id": "99yIOuqFXMwU"
      },
      "outputs": [],
      "source": [
        "from transformers import BertTokenizer, TFBertModel"
      ]
    },
    {
      "cell_type": "code",
      "execution_count": 6,
      "metadata": {
        "id": "UWk_PZ9hmkk0"
      },
      "outputs": [],
      "source": [
        "def read_20newsgroups(test_size=0.1):\n",
        "  # download & load 20newsgroups dataset from sklearn's repos\n",
        "  dataset = fetch_20newsgroups(subset=\"all\", shuffle=True, remove=(\"headers\", \"footers\", \"quotes\"))\n",
        "  documents = dataset.data\n",
        "  labels = dataset.target\n",
        "  # split into training & testing a return data as well as label names\n",
        "  return train_test_split(documents, labels, test_size=test_size), dataset.target_names\n",
        "  \n",
        "# call the function\n",
        "(train_texts, test_texts, train_labels, test_labels), target_names = read_20newsgroups()"
      ]
    },
    {
      "cell_type": "markdown",
      "metadata": {
        "id": "8Ocyl9dnb1OM"
      },
      "source": [
        "Take a look at the records.  We basically have a long string of text and an associated label.  That label is the Usenet group where the posting occured. The records are the raw text.  They vary significantly in size."
      ]
    },
    {
      "cell_type": "code",
      "execution_count": 7,
      "metadata": {
        "colab": {
          "base_uri": "https://localhost:8080/"
        },
        "id": "O7Akxu2Umkpo",
        "outputId": "8cfbda9e-903f-46f2-e6f7-766b54263752"
      },
      "outputs": [
        {
          "output_type": "execute_result",
          "data": {
            "text/plain": [
              "['I have a question about the autocheck-boxes in Windows.\\nIs it a possibility to let the boxes have several different colors at the\\nsame time?\\n\\nFrode Kvam :-)\\n\\n--\\n_______________________________________________________________________________\\n  _/_/_/_/_/   _/_/_/_/        _/_/_/     _/_/_/       _/_/_/_/_/\\n  _/           _/      _/    _/      _/   _/    _/     _/\\n  _/           _/      _/    _/      _/   _/      _/   _/\\n  _/_/_/       _/_/_/_/      _/      _/   _/      _/   _/_/_/\\n  _/           _/    _/      _/      _/   _/      _/   _/\\n  _/           _/      _/    _/      _/   _/    _/     _/\\n  _/           _/      _/      _/_/_/     _/_/_/       _/_/_/_/_/    (C)\\n_______________________________________________________________________________\\n  Name:         Frode Kvam\\n  Univ:         University of Trondheim, dept of informatics\\n  E-mail:       frode@ifi.unit.no\\n  Snail-mail:   Lademoens Kirkealle 8\\n                7042 TRONDHEIM\\n  Voice:        + 47 7 50 45 06\\n_______________________________________________________________________________',\n",
              " \"This is turning into a FAQ\\n\\n\\nHere is how to violate your Quadra 700 warranty and install your own\\nmemory.\\n\\n1)  Insert usual disclaimer here\\n \\n2)  Remove the top lid of the machine. You will see the floppy disk and\\n    hard drive mounted in a plastic tower. Follow the usual anti-static\\n    precautions and of course make sure the machine is OFF when you do\\n    this. Unplug the wall and monitor power supply cords from the back\\n\\tof the mac.\\n \\n3)  Remove the power supply by pulling the plastic interlocking tab on the\\n    tower forward and simultaneously pulling the power supply straight up.\\n    The tab is a piece of plastic from the left posterior aspect of the\\n    tower which extends downward to hook on to the power supply. You may\\n    also feel a horseshoe shaped piece at the right portion of the power\\n    supply. Leave that alone. The plastic tab from the tower is all you\\n    need release.\\n \\n4)  Look at the rear of the tower assembly. You will see the flat ribbon\\n    SCSI connector to the hard drive, a power cable and a flat ribbon cable\\n    leading to the floppy drive. Disconnect all these from the motherboard.\\n    The hard drive power cable connector has a tab which must be squeezed\\n    to release it.\\n                                            \\n5)  Unplug the drive activity LED from its clear plastic mount\\n\\n6)  Look down the posterior, cylindrical section of the plastic tower. A\\n    phillips head screw is at the base. Remove it, taking care not to drop\\n    it into the case. A bit of gummy glue on your screwdriver is helpful\\n    here.\\n\\n7)  Remove the tower assembly by pulling medially the plastic tab on the\\n    right side of the tower. This tab prevents the tower from sliding\\n\\tposteriorly. Slide the entire tower assembly 1 cm posteriorly then\\n\\tlift the tower assembly straight up and out of the case.\\n\\n8)  Congratulations, you have now gained access to your machine's SIMM\\n    slots.\\n\\n9)  The six big slots are for VRAM. One usually must install all six to\\n    gain useful video modes. All SIMMS (RAM or VRAM)  installed with their\\n\\tchips facing the front of the motherboard.\\n\\t\\n    The four smaller sockets in front are for RAM SIMMS. Install SIMMS in\\n\\tsets of four into these sockets. Be sure you seat the SIMMS squarely\\n\\tand firmly into a fully upright position.\\n\\t\\n10) Reinstall the tower assembly by first placing the right wall of the\\n    tower against the right wall of the case with the tower assembly about\\n\\t1 cm posterior of its intended position. Lower the tower assembly into\\n\\tplace while maintaining contact with the right wall of the case.\\n    Once fully down, slide the tower assembly anteriorly until it clicks\\n    into place.\\n\\t\\n11) Reconnect the motherboard ends of the cables. DONT'T FORGET THE FLOPPY\\n    DRIVE CABLE.\\n\\n12) Replace the phillips head screw\\n\\n13) Drop the power supply straight down into place until it clicks in.\\n\\n14) Plug the hard drive activity light back into its clear plastic mount\"]"
            ]
          },
          "metadata": {},
          "execution_count": 7
        }
      ],
      "source": [
        "train_texts[:2]"
      ]
    },
    {
      "cell_type": "markdown",
      "metadata": {
        "id": "1eKIgSBdcHy9"
      },
      "source": [
        "Notice the \"labels\" are just integers that are an offset into the list of target names."
      ]
    },
    {
      "cell_type": "code",
      "execution_count": 8,
      "metadata": {
        "colab": {
          "base_uri": "https://localhost:8080/"
        },
        "id": "KRnu9CSQnMNN",
        "outputId": "78f108cf-b248-40d6-d5d7-a6a202f6261c"
      },
      "outputs": [
        {
          "output_type": "execute_result",
          "data": {
            "text/plain": [
              "array([2, 4])"
            ]
          },
          "metadata": {},
          "execution_count": 8
        }
      ],
      "source": [
        "train_labels[:2]"
      ]
    },
    {
      "cell_type": "markdown",
      "metadata": {
        "id": "F-ksEnmbcWBt"
      },
      "source": [
        "The variable ''target_names'' stores all of the names of the labels."
      ]
    },
    {
      "cell_type": "code",
      "execution_count": 9,
      "metadata": {
        "colab": {
          "base_uri": "https://localhost:8080/"
        },
        "id": "qvNAnCstx-3S",
        "outputId": "ba4ca636-e50e-4d55-da9f-04bd8cc776dd"
      },
      "outputs": [
        {
          "output_type": "stream",
          "name": "stdout",
          "text": [
            "['alt.atheism', 'comp.graphics', 'comp.os.ms-windows.misc', 'comp.sys.ibm.pc.hardware', 'comp.sys.mac.hardware', 'comp.windows.x', 'misc.forsale', 'rec.autos', 'rec.motorcycles', 'rec.sport.baseball', 'rec.sport.hockey', 'sci.crypt', 'sci.electronics', 'sci.med', 'sci.space', 'soc.religion.christian', 'talk.politics.guns', 'talk.politics.mideast', 'talk.politics.misc', 'talk.religion.misc']\n"
          ]
        }
      ],
      "source": [
        "print(target_names)"
      ]
    },
    {
      "cell_type": "markdown",
      "metadata": {
        "id": "m1SmEVYOcwP6"
      },
      "source": [
        "We already have a test set and a train set.  Let's explicitly set aside part of our training set for validation purposes."
      ]
    },
    {
      "cell_type": "code",
      "execution_count": 10,
      "metadata": {
        "id": "H1toWirQAAZ8"
      },
      "outputs": [],
      "source": [
        "len(train_texts)\n",
        "valid_texts = train_texts[16000:]\n",
        "valid_labels = train_labels[16000:]\n",
        "train_texts = train_texts[:16000]\n",
        "train_labels = train_labels[:16000]"
      ]
    },
    {
      "cell_type": "markdown",
      "metadata": {
        "id": "aBMiGVwHc76-"
      },
      "source": [
        "The validation set will always have 961 records."
      ]
    },
    {
      "cell_type": "code",
      "execution_count": 11,
      "metadata": {
        "colab": {
          "base_uri": "https://localhost:8080/"
        },
        "id": "bzuXsJjwAAOr",
        "outputId": "2a3341a4-bd29-4d93-c290-04f775d1bb81"
      },
      "outputs": [
        {
          "output_type": "execute_result",
          "data": {
            "text/plain": [
              "961"
            ]
          },
          "metadata": {},
          "execution_count": 11
        }
      ],
      "source": [
        "len(valid_texts)"
      ]
    },
    {
      "cell_type": "markdown",
      "metadata": {
        "id": "SBy5EKYwdBcZ"
      },
      "source": [
        "The training set will always have 16000 records."
      ]
    },
    {
      "cell_type": "code",
      "execution_count": 12,
      "metadata": {
        "colab": {
          "base_uri": "https://localhost:8080/"
        },
        "id": "MMVgiD8SCHUk",
        "outputId": "9cb8d292-3722-488d-8f2c-73f33f57ad23"
      },
      "outputs": [
        {
          "output_type": "execute_result",
          "data": {
            "text/plain": [
              "16000"
            ]
          },
          "metadata": {},
          "execution_count": 12
        }
      ],
      "source": [
        "len(train_texts)"
      ]
    },
    {
      "cell_type": "markdown",
      "metadata": {
        "id": "LGVOwMBKu2OW"
      },
      "source": [
        "**NOTE:** Each time you rerun the data you will draw a *different* set of train and test documents even though the numbers 961 and 16000 will always be the same."
      ]
    },
    {
      "cell_type": "code",
      "execution_count": 13,
      "metadata": {
        "id": "mFISqjoM335H"
      },
      "outputs": [],
      "source": [
        "#get the labels in a needed data format for validation\n",
        "npvalid_labels = np.asarray(valid_labels)"
      ]
    },
    {
      "cell_type": "markdown",
      "metadata": {
        "id": "d3T5uytRdK7I"
      },
      "source": [
        "* train_texts - an array of text strings for training\n",
        "* test_texts - an array of text strings for testing \n",
        "* valid texts - an array of text strings for validation\n",
        "* train_labels - an array of integers representing the labels associated with train_texts\n",
        "* test_labels - an array of integers representing the labels associated with test_texts\n",
        "* valid_labels - an array of integers representing the labels associated with valid_texts\n",
        "* target_names - an array of label strings that correspond to the integers in the *_labels arrays\n",
        "\n",
        "### 2. Classification with a fine tuned BERT model\n",
        "\n",
        "Let's pick our BERT model.  We'll start with the base BERT model and we'll use the cased version since our data has capital and lower case letters."
      ]
    },
    {
      "cell_type": "code",
      "execution_count": 14,
      "metadata": {
        "id": "zjFWaM2ZnMIC"
      },
      "outputs": [],
      "source": [
        "#make it easier to use a variety of BERT subword models\n",
        "model_checkpoint = 'bert-base-cased'"
      ]
    },
    {
      "cell_type": "code",
      "execution_count": 15,
      "metadata": {
        "colab": {
          "base_uri": "https://localhost:8080/"
        },
        "id": "-7gV_GUdn9Ck",
        "outputId": "6b945eed-a728-42f4-f983-92ee8f2ca68d"
      },
      "outputs": [
        {
          "output_type": "stream",
          "name": "stderr",
          "text": [
            "Some layers from the model checkpoint at bert-base-cased were not used when initializing TFBertModel: ['mlm___cls', 'nsp___cls']\n",
            "- This IS expected if you are initializing TFBertModel from the checkpoint of a model trained on another task or with another architecture (e.g. initializing a BertForSequenceClassification model from a BertForPreTraining model).\n",
            "- This IS NOT expected if you are initializing TFBertModel from the checkpoint of a model that you expect to be exactly identical (initializing a BertForSequenceClassification model from a BertForSequenceClassification model).\n",
            "All the layers of TFBertModel were initialized from the model checkpoint at bert-base-cased.\n",
            "If your task is similar to the task the model of the checkpoint was trained on, you can already use TFBertModel for predictions without further training.\n"
          ]
        }
      ],
      "source": [
        "bert_tokenizer = BertTokenizer.from_pretrained(model_checkpoint)\n",
        "bert_model = TFBertModel.from_pretrained(model_checkpoint)"
      ]
    },
    {
      "cell_type": "markdown",
      "metadata": {
        "id": "ZJGkIHSHdilH"
      },
      "source": [
        "We're setting our maximum training record length to 200.  BERT models can handle more and after you've completed the assignment you're welcome to try larger and small sized records."
      ]
    },
    {
      "cell_type": "code",
      "execution_count": 16,
      "metadata": {
        "id": "h_59AaVznMCV"
      },
      "outputs": [],
      "source": [
        "max_length = 200"
      ]
    },
    {
      "cell_type": "markdown",
      "metadata": {
        "id": "n6d54_bqd58L"
      },
      "source": [
        "Now we'll tokenize our three data slices.  This will take a minute or two."
      ]
    },
    {
      "cell_type": "code",
      "execution_count": 17,
      "metadata": {
        "id": "bgv0nftinL6z"
      },
      "outputs": [],
      "source": [
        "# tokenize the dataset, truncate when passed `max_length`, \n",
        "# and pad with 0's when less than `max_length` and return a tf Tensor\n",
        "train_encodings = bert_tokenizer(train_texts, truncation=True, padding=True, max_length=max_length, return_tensors='tf')\n",
        "valid_encodings = bert_tokenizer(valid_texts, truncation=True, padding=True, max_length=max_length, return_tensors='tf')\n",
        "test_encodings = bert_tokenizer(test_texts, truncation=True, padding=True, max_length=max_length, return_tensors='tf')"
      ]
    },
    {
      "cell_type": "markdown",
      "metadata": {
        "id": "2gNS0Fi0emN8"
      },
      "source": [
        "Notice our input_ids for the first training record and their padding. The train_encodings also includes an array of token_type_ids and an attention_mask array. "
      ]
    },
    {
      "cell_type": "code",
      "execution_count": 18,
      "metadata": {
        "colab": {
          "base_uri": "https://localhost:8080/"
        },
        "id": "XFEXxgAmnLve",
        "outputId": "be502e41-3b4f-414e-f740-86f3b12cfdae"
      },
      "outputs": [
        {
          "output_type": "execute_result",
          "data": {
            "text/plain": [
              "<tf.Tensor: shape=(1, 200), dtype=int32, numpy=\n",
              "array([[  101,   146,  1138,   170,  2304,  1164,  1103, 12365,  4386,\n",
              "         2158,   118,  8171,  1107,  5647,   119,  2181,  1122,   170,\n",
              "         5417,  1106,  1519,  1103,  8171,  1138,  1317,  1472,  5769,\n",
              "         1120,  1103,  1269,  1159,   136, 13359, 13040,   148,  2497,\n",
              "         1306,   131,   118,   114,   118,   118,   168,   168,   168,\n",
              "          168,   168,   168,   168,   168,   168,   168,   168,   168,\n",
              "          168,   168,   168,   168,   168,   168,   168,   168,   168,\n",
              "          168,   168,   168,   168,   168,   168,   168,   168,   168,\n",
              "          168,   168,   168,   168,   168,   168,   168,   168,   168,\n",
              "          168,   168,   168,   168,   168,   168,   168,   168,   168,\n",
              "          168,   168,   168,   168,   168,   168,   168,   168,   168,\n",
              "          168,   168,   168,   168,   168,   168,   168,   168,   168,\n",
              "          168,   168,   168,   168,   168,   168,   168,   168,   168,\n",
              "          168,   168,   168,   168,   168,   120,   168,   120,   168,\n",
              "          120,   168,   120,   168,   120,   168,   120,   168,   120,\n",
              "          168,   120,   168,   120,   168,   120,   168,   120,   168,\n",
              "          120,   168,   120,   168,   120,   168,   120,   168,   120,\n",
              "          168,   120,   168,   120,   168,   120,   168,   120,   168,\n",
              "          120,   168,   120,   168,   120,   168,   120,   168,   120,\n",
              "          168,   120,   168,   120,   168,   120,   168,   120,   168,\n",
              "          120,   168,   120,   168,   120,   168,   120,   168,   120,\n",
              "          168,   120,   168,   120,   168,   120,   168,   120,   168,\n",
              "          120,   102]], dtype=int32)>"
            ]
          },
          "metadata": {},
          "execution_count": 18
        }
      ],
      "source": [
        "train_encodings.input_ids[:1]"
      ]
    },
    {
      "cell_type": "markdown",
      "metadata": {
        "id": "23lwfDw2T6gI"
      },
      "source": [
        "Write a function to create this multiclass bert model.\n",
        "\n",
        "Keep in mind the following:\n",
        "* Each record can have one of n labels where n = the size of target_names.\n",
        "* We'll still want a hidden size layer of size 201\n",
        "* We'll want our hidden layer to make use of the **pooler output** from BERT\n",
        "* We'll also want to use dropout\n",
        "* Our classification layer will need to be appropriately sized and use the correct non-linearity for a multi-class problem.\n",
        "* Since we have multiple labels we can no longer use binary cross entropy.  Instead we need to change our loss metric to a categorical cross entropy.  Which of the two categorical cross entropy metrics will work best here? \n",
        "* Make sure that training affects **all** of the layers in BERT.\n"
      ]
    },
    {
      "cell_type": "code",
      "execution_count": 19,
      "metadata": {
        "id": "RtWMrLi4tIun"
      },
      "outputs": [],
      "source": [
        "def create_bert_multiclass_model(checkpoint = model_checkpoint,\n",
        "                                 num_classes = 20,\n",
        "                                 hidden_size = 201, \n",
        "                                 dropout=0.3,\n",
        "                                 learning_rate=0.00005):\n",
        "    \"\"\"\n",
        "    Build a simple classification model with BERT. Use the Pooler Output for classification purposes.\n",
        "    \"\"\"\n",
        "    # Add trainable to True\n",
        "    bert_model = TFBertModel.from_pretrained(checkpoint)                \n",
        "    bert_model.trainable = True                              \n",
        "\n",
        "    ### YOUR CODE HERE\n",
        "    input_ids = tf.keras.layers.Input(shape=(max_length,), dtype=tf.int64, name='input_ids_layer')\n",
        "    token_type_ids = tf.keras.layers.Input(shape=(max_length,), dtype=tf.int64, name='token_type_ids_layer')\n",
        "    attention_mask = tf.keras.layers.Input(shape=(max_length,), dtype=tf.int64, name='attention_mask_layer')\n",
        "\n",
        "    bert_inputs = {'input_ids': input_ids,\n",
        "                   'token_type_ids': token_type_ids,\n",
        "                   'attention_mask': attention_mask}      \n",
        "\n",
        "    bert_out = bert_model(bert_inputs)\n",
        "\n",
        "    pooler_token = bert_out[1]\n",
        "    #cls_token = bert_out[0][:, 0, :]\n",
        "\n",
        "    hidden = tf.keras.layers.Dense(hidden_size, activation='relu', name='hidden_layer')(pooler_token)\n",
        "\n",
        "\n",
        "    hidden = tf.keras.layers.Dropout(dropout)(hidden)  \n",
        "\n",
        "\n",
        "    classification = tf.keras.layers.Dense(num_classes, \n",
        "                                           activation='softmax',\n",
        "                                           name='classification_layer')(hidden)\n",
        "    \n",
        "    classification_model = tf.keras.Model(inputs=[input_ids, token_type_ids, attention_mask], outputs=[classification])\n",
        "    \n",
        "    classification_model.compile(optimizer=tf.keras.optimizers.Adam(learning_rate=learning_rate),\n",
        "                                 #loss = tf.keras.losses.SparseCategoricalCrossentropy(from_logits=True), \n",
        "                                 loss = tf.keras.losses.SparseCategoricalCrossentropy(),\n",
        "                                 metrics='accuracy')\n",
        "    \n",
        "    ### END YOUR CODE\n",
        "    return classification_model"
      ]
    },
    {
      "cell_type": "code",
      "execution_count": 20,
      "metadata": {
        "colab": {
          "base_uri": "https://localhost:8080/"
        },
        "id": "uR-Id158tIlH",
        "outputId": "03204647-8c13-4fdb-d4f9-a16a06ea9db9"
      },
      "outputs": [
        {
          "output_type": "stream",
          "name": "stderr",
          "text": [
            "Some layers from the model checkpoint at bert-base-cased were not used when initializing TFBertModel: ['mlm___cls', 'nsp___cls']\n",
            "- This IS expected if you are initializing TFBertModel from the checkpoint of a model trained on another task or with another architecture (e.g. initializing a BertForSequenceClassification model from a BertForPreTraining model).\n",
            "- This IS NOT expected if you are initializing TFBertModel from the checkpoint of a model that you expect to be exactly identical (initializing a BertForSequenceClassification model from a BertForSequenceClassification model).\n",
            "All the layers of TFBertModel were initialized from the model checkpoint at bert-base-cased.\n",
            "If your task is similar to the task the model of the checkpoint was trained on, you can already use TFBertModel for predictions without further training.\n"
          ]
        }
      ],
      "source": [
        "pooler_bert_model = create_bert_multiclass_model(checkpoint=model_checkpoint, num_classes=20)"
      ]
    },
    {
      "cell_type": "code",
      "execution_count": 21,
      "metadata": {
        "colab": {
          "base_uri": "https://localhost:8080/"
        },
        "id": "bMxpO16-tIaE",
        "outputId": "13b9406b-ee2b-415c-f434-da1dce0d2298"
      },
      "outputs": [
        {
          "output_type": "stream",
          "name": "stdout",
          "text": [
            "Model: \"model\"\n",
            "__________________________________________________________________________________________________\n",
            " Layer (type)                   Output Shape         Param #     Connected to                     \n",
            "==================================================================================================\n",
            " attention_mask_layer (InputLay  [(None, 200)]       0           []                               \n",
            " er)                                                                                              \n",
            "                                                                                                  \n",
            " input_ids_layer (InputLayer)   [(None, 200)]        0           []                               \n",
            "                                                                                                  \n",
            " token_type_ids_layer (InputLay  [(None, 200)]       0           []                               \n",
            " er)                                                                                              \n",
            "                                                                                                  \n",
            " tf_bert_model_1 (TFBertModel)  TFBaseModelOutputWi  108310272   ['attention_mask_layer[0][0]',   \n",
            "                                thPoolingAndCrossAt               'input_ids_layer[0][0]',        \n",
            "                                tentions(last_hidde               'token_type_ids_layer[0][0]']   \n",
            "                                n_state=(None, 200,                                               \n",
            "                                 768),                                                            \n",
            "                                 pooler_output=(Non                                               \n",
            "                                e, 768),                                                          \n",
            "                                 past_key_values=No                                               \n",
            "                                ne, hidden_states=N                                               \n",
            "                                one, attentions=Non                                               \n",
            "                                e, cross_attentions                                               \n",
            "                                =None)                                                            \n",
            "                                                                                                  \n",
            " hidden_layer (Dense)           (None, 201)          154569      ['tf_bert_model_1[0][1]']        \n",
            "                                                                                                  \n",
            " dropout_74 (Dropout)           (None, 201)          0           ['hidden_layer[0][0]']           \n",
            "                                                                                                  \n",
            " classification_layer (Dense)   (None, 20)           4040        ['dropout_74[0][0]']             \n",
            "                                                                                                  \n",
            "==================================================================================================\n",
            "Total params: 108,468,881\n",
            "Trainable params: 108,468,881\n",
            "Non-trainable params: 0\n",
            "__________________________________________________________________________________________________\n"
          ]
        }
      ],
      "source": [
        "pooler_bert_model.summary()"
      ]
    },
    {
      "cell_type": "markdown",
      "metadata": {
        "id": "5chyZZnHdlf9"
      },
      "source": [
        "**QUESTION:** 2.1 How many trainable parameters are in your dense hidden layer?\n",
        "**154,569**\n",
        "\n",
        "**QUESTION:** 2.2 How many trainable parameters are in your classification layer? **4040**"
      ]
    },
    {
      "cell_type": "code",
      "execution_count": 22,
      "metadata": {
        "colab": {
          "base_uri": "https://localhost:8080/",
          "height": 438
        },
        "id": "xe3tTWX6FVZL",
        "outputId": "507230e5-342f-4c60-deac-5424ff0eb16b"
      },
      "outputs": [
        {
          "output_type": "execute_result",
          "data": {
            "image/png": "[encoded data removed]",
            "text/plain": [
              "<IPython.core.display.Image object>"
            ]
          },
          "metadata": {},
          "execution_count": 22
        }
      ],
      "source": [
        "keras.utils.plot_model(pooler_bert_model, show_shapes=False, show_dtype=False, show_layer_names=True, dpi=90)"
      ]
    },
    {
      "cell_type": "code",
      "execution_count": 23,
      "metadata": {
        "colab": {
          "base_uri": "https://localhost:8080/"
        },
        "id": "aLLjb3mOtICy",
        "outputId": "c00b09a0-3d7f-4c18-dd98-a082110e8cb0"
      },
      "outputs": [
        {
          "output_type": "stream",
          "name": "stdout",
          "text": [
            "2000/2000 [==============================] - 740s 349ms/step - loss: 1.4795 - accuracy: 0.5515 - val_loss: 1.1104 - val_accuracy: 0.6618\n"
          ]
        }
      ],
      "source": [
        "#It takes 10 to 14 minutes to complete an epoch when using a GPU\n",
        "pooler_bert_model_history = pooler_bert_model.fit([train_encodings.input_ids, \n",
        "                                                   train_encodings.token_type_ids, \n",
        "                                                   train_encodings.attention_mask\n",
        "                                                  ], \n",
        "                                                  train_labels,   \n",
        "                                                  validation_data=([valid_encodings.input_ids, \n",
        "                                                                    valid_encodings.token_type_ids, \n",
        "                                                                    valid_encodings.attention_mask\n",
        "                                                                   ], \n",
        "                                                  npvalid_labels),    \n",
        "                                                  batch_size=8, \n",
        "                                                  epochs=1)  "
      ]
    },
    {
      "cell_type": "markdown",
      "metadata": {
        "id": "rdHlOd4LJUOH"
      },
      "source": [
        "Now we need to run evaluate against our fine-tuned model.  This will give us an overall accuracy based on the test set."
      ]
    },
    {
      "cell_type": "code",
      "execution_count": 24,
      "metadata": {
        "colab": {
          "base_uri": "https://localhost:8080/"
        },
        "id": "dPQn2tJPEGdU",
        "outputId": "03865b48-44cc-4bf3-aac0-15c034236345"
      },
      "outputs": [
        {
          "output_type": "stream",
          "name": "stdout",
          "text": [
            "59/59 [==============================] - 25s 429ms/step - loss: 1.0396 - accuracy: 0.6875\n",
            "Test loss: 1.0395877361297607\n",
            "Test accuracy: 0.6875331401824951\n"
          ]
        }
      ],
      "source": [
        "#batch 8, ML=201\n",
        "score = pooler_bert_model.evaluate([test_encodings.input_ids, \n",
        "                                    test_encodings.token_type_ids, \n",
        "                                    test_encodings.attention_mask\n",
        "                                   ], \n",
        "                                   test_labels) \n",
        "\n",
        "print('Test loss:', score[0]) \n",
        "print('Test accuracy:', score[1])"
      ]
    },
    {
      "cell_type": "markdown",
      "metadata": {
        "id": "3CnyZsXLfLJt"
      },
      "source": [
        "**QUESTION:** 2.3 What is the Test accuracy score you get from your model? (Just copy and paste the value into the answers sheet and round to five significant digits.) **0.68700**"
      ]
    },
    {
      "cell_type": "code",
      "execution_count": 25,
      "metadata": {
        "colab": {
          "base_uri": "https://localhost:8080/"
        },
        "id": "NS7Gp_IYEiJ_",
        "outputId": "ef6b9f7a-4fe2-4564-dc6c-0194a8a9dd77"
      },
      "outputs": [
        {
          "output_type": "stream",
          "name": "stdout",
          "text": [
            "1/1 [==============================] - 4s 4s/step\n"
          ]
        }
      ],
      "source": [
        "#run predict for the first three elements in the test data set\n",
        "predictions = pooler_bert_model.predict([test_encodings.input_ids[:3], \n",
        "                                         test_encodings.token_type_ids[:3], \n",
        "                                         test_encodings.attention_mask[:3]\n",
        "                                        ])"
      ]
    },
    {
      "cell_type": "code",
      "execution_count": 26,
      "metadata": {
        "colab": {
          "base_uri": "https://localhost:8080/"
        },
        "id": "ymGM8QnpchnC",
        "outputId": "346e0682-0016-4184-a3ee-f5fa7c04b954"
      },
      "outputs": [
        {
          "output_type": "execute_result",
          "data": {
            "text/plain": [
              "array([[0.04278501, 0.01701607, 0.00546706, 0.00376719, 0.01067212,\n",
              "        0.004211  , 0.00841793, 0.03614307, 0.04552156, 0.0240715 ,\n",
              "        0.03359871, 0.07862629, 0.01194178, 0.02420959, 0.05070288,\n",
              "        0.02175944, 0.17573918, 0.04882137, 0.323951  , 0.03257724],\n",
              "       [0.03604548, 0.00432183, 0.00122062, 0.00157277, 0.00511926,\n",
              "        0.00105704, 0.00254358, 0.07198135, 0.07160604, 0.0113715 ,\n",
              "        0.01313202, 0.00696027, 0.00616197, 0.01314279, 0.02690784,\n",
              "        0.0300334 , 0.18339714, 0.01018546, 0.46803614, 0.03520347],\n",
              "       [0.03132817, 0.05623175, 0.05992948, 0.04148361, 0.0742566 ,\n",
              "        0.03909081, 0.04482935, 0.10185586, 0.06758734, 0.05808549,\n",
              "        0.04013959, 0.03815933, 0.06193433, 0.0472418 , 0.05174851,\n",
              "        0.02640915, 0.03630592, 0.06377558, 0.02774842, 0.03185884]],\n",
              "      dtype=float32)"
            ]
          },
          "metadata": {},
          "execution_count": 26
        }
      ],
      "source": [
        "predictions"
      ]
    },
    {
      "cell_type": "code",
      "execution_count": 27,
      "metadata": {
        "colab": {
          "base_uri": "https://localhost:8080/"
        },
        "id": "-ahMJ-zwEiCs",
        "outputId": "b5e977ad-205f-44a9-c5d4-e85320f988b9"
      },
      "outputs": [
        {
          "output_type": "stream",
          "name": "stdout",
          "text": [
            "59/59 [==============================] - 25s 417ms/step\n"
          ]
        },
        {
          "output_type": "execute_result",
          "data": {
            "text/plain": [
              "<tf.Tensor: shape=(1885,), dtype=int64, numpy=array([18, 18,  7, ...,  3, 10, 10])>"
            ]
          },
          "metadata": {},
          "execution_count": 27
        }
      ],
      "source": [
        "#run and capture all predictions from our test set using model.predict\n",
        "### YOUR CODE HERE\n",
        "predictions_model1 = pooler_bert_model.predict([test_encodings.input_ids, \n",
        "                                                test_encodings.token_type_ids, \n",
        "                                                test_encodings.attention_mask\n",
        "                                               ])\n",
        "### END YOUR CODE\n",
        "\n",
        "#now we need to get the highest probability in the distribution for each prediction\n",
        "#and store that in a tf.Tensor\n",
        "predictions_model1 = tf.argmax(predictions_model1, axis=-1)\n",
        "predictions_model1"
      ]
    },
    {
      "cell_type": "markdown",
      "metadata": {
        "id": "LGI8oA6fMWTI"
      },
      "source": [
        "There are two ways to see what's going on with our classifier.  Overall accuracy is interesting but it can be misleading.  We need to make sure that each of our categories' prediction performance is operating at an equal or higher level than the overall.\n",
        "\n",
        "Here we'll use the classification report from scikit learn.  It expects two inputs as arrays.  One is the ground truth (y_true) and the other is the associated prediction (y_pred).  This is based on gethering all the predictions from our our test set."
      ]
    },
    {
      "cell_type": "code",
      "execution_count": 28,
      "metadata": {
        "colab": {
          "base_uri": "https://localhost:8080/"
        },
        "id": "wPqioIbh2XIE",
        "outputId": "95ad2586-61aa-443a-d0c1-bba88e7d870d"
      },
      "outputs": [
        {
          "output_type": "stream",
          "name": "stdout",
          "text": [
            "                          precision    recall  f1-score   support\n",
            "\n",
            "             alt.atheism       0.58      0.53      0.55        76\n",
            "           comp.graphics       0.54      0.73      0.62        96\n",
            " comp.os.ms-windows.misc       0.61      0.59      0.60        94\n",
            "comp.sys.ibm.pc.hardware       0.45      0.74      0.56       101\n",
            "   comp.sys.mac.hardware       0.72      0.54      0.62       103\n",
            "          comp.windows.x       0.89      0.49      0.64        95\n",
            "            misc.forsale       0.82      0.83      0.82       103\n",
            "               rec.autos       0.44      0.78      0.56       108\n",
            "         rec.motorcycles       0.66      0.74      0.70        87\n",
            "      rec.sport.baseball       0.80      0.84      0.82        92\n",
            "        rec.sport.hockey       0.94      0.81      0.87        96\n",
            "               sci.crypt       0.96      0.64      0.77       107\n",
            "         sci.electronics       0.76      0.58      0.66       107\n",
            "                 sci.med       0.85      0.89      0.87        98\n",
            "               sci.space       0.80      0.77      0.78        94\n",
            "  soc.religion.christian       0.68      0.86      0.76       108\n",
            "      talk.politics.guns       0.67      0.66      0.67        95\n",
            "   talk.politics.mideast       0.93      0.82      0.87        90\n",
            "      talk.politics.misc       0.62      0.61      0.61        71\n",
            "      talk.religion.misc       0.50      0.03      0.06        64\n",
            "\n",
            "                accuracy                           0.69      1885\n",
            "               macro avg       0.71      0.67      0.67      1885\n",
            "            weighted avg       0.72      0.69      0.68      1885\n",
            "\n"
          ]
        }
      ],
      "source": [
        "print(classification_report(test_labels, predictions_model1.numpy(), target_names=target_names))"
      ]
    },
    {
      "cell_type": "code",
      "source": [
        "classification_report(test_labels, predictions_model1.numpy(), target_names=target_names, output_dict = True)"
      ],
      "metadata": {
        "colab": {
          "base_uri": "https://localhost:8080/"
        },
        "id": "nN-5cQVW_hVB",
        "outputId": "1b62994f-9d18-463b-a799-269512773e09"
      },
      "execution_count": 29,
      "outputs": [
        {
          "output_type": "execute_result",
          "data": {
            "text/plain": [
              "{'alt.atheism': {'precision': 0.5797101449275363,\n",
              "  'recall': 0.5263157894736842,\n",
              "  'f1-score': 0.5517241379310345,\n",
              "  'support': 76},\n",
              " 'comp.graphics': {'precision': 0.5426356589147286,\n",
              "  'recall': 0.7291666666666666,\n",
              "  'f1-score': 0.6222222222222222,\n",
              "  'support': 96},\n",
              " 'comp.os.ms-windows.misc': {'precision': 0.6111111111111112,\n",
              "  'recall': 0.5851063829787234,\n",
              "  'f1-score': 0.5978260869565217,\n",
              "  'support': 94},\n",
              " 'comp.sys.ibm.pc.hardware': {'precision': 0.45454545454545453,\n",
              "  'recall': 0.7425742574257426,\n",
              "  'f1-score': 0.5639097744360902,\n",
              "  'support': 101},\n",
              " 'comp.sys.mac.hardware': {'precision': 0.717948717948718,\n",
              "  'recall': 0.5436893203883495,\n",
              "  'f1-score': 0.6187845303867404,\n",
              "  'support': 103},\n",
              " 'comp.windows.x': {'precision': 0.8867924528301887,\n",
              "  'recall': 0.49473684210526314,\n",
              "  'f1-score': 0.6351351351351352,\n",
              "  'support': 95},\n",
              " 'misc.forsale': {'precision': 0.8173076923076923,\n",
              "  'recall': 0.8252427184466019,\n",
              "  'f1-score': 0.821256038647343,\n",
              "  'support': 103},\n",
              " 'rec.autos': {'precision': 0.4375,\n",
              "  'recall': 0.7777777777777778,\n",
              "  'f1-score': 0.56,\n",
              "  'support': 108},\n",
              " 'rec.motorcycles': {'precision': 0.6597938144329897,\n",
              "  'recall': 0.735632183908046,\n",
              "  'f1-score': 0.6956521739130436,\n",
              "  'support': 87},\n",
              " 'rec.sport.baseball': {'precision': 0.8020833333333334,\n",
              "  'recall': 0.8369565217391305,\n",
              "  'f1-score': 0.8191489361702128,\n",
              "  'support': 92},\n",
              " 'rec.sport.hockey': {'precision': 0.9397590361445783,\n",
              "  'recall': 0.8125,\n",
              "  'f1-score': 0.8715083798882681,\n",
              "  'support': 96},\n",
              " 'sci.crypt': {'precision': 0.9583333333333334,\n",
              "  'recall': 0.6448598130841121,\n",
              "  'f1-score': 0.7709497206703911,\n",
              "  'support': 107},\n",
              " 'sci.electronics': {'precision': 0.7560975609756098,\n",
              "  'recall': 0.5794392523364486,\n",
              "  'f1-score': 0.656084656084656,\n",
              "  'support': 107},\n",
              " 'sci.med': {'precision': 0.8529411764705882,\n",
              "  'recall': 0.8877551020408163,\n",
              "  'f1-score': 0.87,\n",
              "  'support': 98},\n",
              " 'sci.space': {'precision': 0.8,\n",
              "  'recall': 0.7659574468085106,\n",
              "  'f1-score': 0.7826086956521738,\n",
              "  'support': 94},\n",
              " 'soc.religion.christian': {'precision': 0.6838235294117647,\n",
              "  'recall': 0.8611111111111112,\n",
              "  'f1-score': 0.7622950819672131,\n",
              "  'support': 108},\n",
              " 'talk.politics.guns': {'precision': 0.6702127659574468,\n",
              "  'recall': 0.6631578947368421,\n",
              "  'f1-score': 0.6666666666666666,\n",
              "  'support': 95},\n",
              " 'talk.politics.mideast': {'precision': 0.925,\n",
              "  'recall': 0.8222222222222222,\n",
              "  'f1-score': 0.8705882352941177,\n",
              "  'support': 90},\n",
              " 'talk.politics.misc': {'precision': 0.6231884057971014,\n",
              "  'recall': 0.6056338028169014,\n",
              "  'f1-score': 0.6142857142857142,\n",
              "  'support': 71},\n",
              " 'talk.religion.misc': {'precision': 0.5,\n",
              "  'recall': 0.03125,\n",
              "  'f1-score': 0.058823529411764705,\n",
              "  'support': 64},\n",
              " 'accuracy': 0.6875331564986737,\n",
              " 'macro avg': {'precision': 0.7109392094221088,\n",
              "  'recall': 0.6735542553033476,\n",
              "  'f1-score': 0.6704734857859654,\n",
              "  'support': 1885},\n",
              " 'weighted avg': {'precision': 0.7160709234114236,\n",
              "  'recall': 0.6875331564986737,\n",
              "  'f1-score': 0.6824489124916512,\n",
              "  'support': 1885}}"
            ]
          },
          "metadata": {},
          "execution_count": 29
        }
      ]
    },
    {
      "cell_type": "code",
      "source": [
        "report_orig = classification_report(test_labels, \n",
        "                                    predictions_model1.numpy(), \n",
        "                                    target_names=target_names, \n",
        "                                    output_dict = True, \n",
        "                                    zero_division=False\n",
        "                                  )"
      ],
      "metadata": {
        "id": "7Y-tfBYzti9L"
      },
      "execution_count": 30,
      "outputs": []
    },
    {
      "cell_type": "markdown",
      "metadata": {
        "id": "ddMMQ2vBOJKj"
      },
      "source": [
        "**QUESTION:** 2.4 What is the key difference between the macro average F1 score and the weighted average F1 score?\n",
        "**In Macro-average F1 score, all classes contribute equally to the final average value. This does not work for imbalanced data set. For weighted average F1 score considers each representative class's weighted contribution towards the average.**\n",
        "\n",
        "**QUESTION:** 2.5 What is the macro average F1 score you get from the classification report?\n",
        "**0.65974**\n",
        "\n",
        "Now we'll generate another very valuable visualization of what's happening with our classifier -- a confusion matrix."
      ]
    },
    {
      "cell_type": "code",
      "execution_count": 31,
      "metadata": {
        "id": "udwdL6iKEh7b",
        "colab": {
          "base_uri": "https://localhost:8080/"
        },
        "outputId": "11cea972-0a8b-4b2a-a237-911e5adf5e41"
      },
      "outputs": [
        {
          "output_type": "execute_result",
          "data": {
            "text/plain": [
              "<tf.Tensor: shape=(20,), dtype=int32, numpy=\n",
              "array([40,  0,  0,  0,  0,  0,  0,  2,  4,  1,  2,  0,  0,  0,  1, 19,  3,\n",
              "        2,  1,  1], dtype=int32)>"
            ]
          },
          "metadata": {},
          "execution_count": 31
        }
      ],
      "source": [
        "cm_orig = tf.math.confusion_matrix(test_labels, predictions_model1)\n",
        "cm_orig[0]"
      ]
    },
    {
      "cell_type": "code",
      "source": [
        "test_labels.shape, cm_orig.shape"
      ],
      "metadata": {
        "colab": {
          "base_uri": "https://localhost:8080/"
        },
        "id": "Zv-E5X8PNQ63",
        "outputId": "b4e6e76d-1cfe-4de2-c981-617ccca398c9"
      },
      "execution_count": 32,
      "outputs": [
        {
          "output_type": "execute_result",
          "data": {
            "text/plain": [
              "((1885,), TensorShape([20, 20]))"
            ]
          },
          "metadata": {},
          "execution_count": 32
        }
      ]
    },
    {
      "cell_type": "code",
      "source": [
        "cm = cm_orig /cm_orig.numpy().sum(axis=1)[:, tf.newaxis]\n",
        "cm[0]"
      ],
      "metadata": {
        "colab": {
          "base_uri": "https://localhost:8080/"
        },
        "id": "u9_GtH_tdwfa",
        "outputId": "4cccb083-0352-49a7-daa5-a96390b30989"
      },
      "execution_count": 33,
      "outputs": [
        {
          "output_type": "execute_result",
          "data": {
            "text/plain": [
              "<tf.Tensor: shape=(20,), dtype=float64, numpy=\n",
              "array([0.52631579, 0.        , 0.        , 0.        , 0.        ,\n",
              "       0.        , 0.        , 0.02631579, 0.05263158, 0.01315789,\n",
              "       0.02631579, 0.        , 0.        , 0.        , 0.01315789,\n",
              "       0.25      , 0.03947368, 0.02631579, 0.01315789, 0.01315789])>"
            ]
          },
          "metadata": {},
          "execution_count": 33
        }
      ]
    },
    {
      "cell_type": "code",
      "source": [
        "cm_orig[-1]"
      ],
      "metadata": {
        "colab": {
          "base_uri": "https://localhost:8080/"
        },
        "id": "EPXkiD5nJ9Fg",
        "outputId": "f756ddff-1ed6-4a6b-c5ae-1ee4d22c4fdf"
      },
      "execution_count": 34,
      "outputs": [
        {
          "output_type": "execute_result",
          "data": {
            "text/plain": [
              "<tf.Tensor: shape=(20,), dtype=int32, numpy=\n",
              "array([11,  0,  3,  0,  0,  0,  0,  8,  1,  2,  0,  0,  0,  0,  3, 22, 10,\n",
              "        0,  2,  2], dtype=int32)>"
            ]
          },
          "metadata": {},
          "execution_count": 34
        }
      ]
    },
    {
      "cell_type": "code",
      "source": [
        "cm[-1]"
      ],
      "metadata": {
        "colab": {
          "base_uri": "https://localhost:8080/"
        },
        "id": "2VsFTdNfKCTF",
        "outputId": "12bc4a13-ee84-4308-b133-92bbed764259"
      },
      "execution_count": 35,
      "outputs": [
        {
          "output_type": "execute_result",
          "data": {
            "text/plain": [
              "<tf.Tensor: shape=(20,), dtype=float64, numpy=\n",
              "array([0.171875, 0.      , 0.046875, 0.      , 0.      , 0.      ,\n",
              "       0.      , 0.125   , 0.015625, 0.03125 , 0.      , 0.      ,\n",
              "       0.      , 0.      , 0.046875, 0.34375 , 0.15625 , 0.      ,\n",
              "       0.03125 , 0.03125 ])>"
            ]
          },
          "metadata": {},
          "execution_count": 35
        }
      ]
    },
    {
      "cell_type": "markdown",
      "metadata": {
        "id": "_9YL2AlQOY4Y"
      },
      "source": [
        "And now we'll display it!"
      ]
    },
    {
      "cell_type": "code",
      "execution_count": 36,
      "metadata": {
        "colab": {
          "base_uri": "https://localhost:8080/",
          "height": 585
        },
        "id": "gh0Bxg-8EhzZ",
        "outputId": "d19b7939-4ebb-4d25-c5dc-3eddc22a16f1"
      },
      "outputs": [
        {
          "output_type": "execute_result",
          "data": {
            "text/plain": [
              "Text(159.0, 0.5, 'True')"
            ]
          },
          "metadata": {},
          "execution_count": 36
        },
        {
          "output_type": "display_data",
          "data": {
            "text/plain": [
              "<Figure size 1440x504 with 2 Axes>"
            ],
            "image/png": "[encoded data removed]"
          },
          "metadata": {
            "needs_background": "light"
          }
        }
      ],
      "source": [
        "plt.figure(figsize=(20,7))\n",
        "sns.heatmap(\n",
        "    cm, annot=True,\n",
        "    xticklabels=target_names,\n",
        "    yticklabels=target_names)\n",
        "plt.xlabel(\"Predicted\")\n",
        "plt.ylabel(\"True\")"
      ]
    },
    {
      "cell_type": "markdown",
      "metadata": {
        "id": "6OKhCGVDOgdl"
      },
      "source": [
        "### 3. Classification using two stages\n",
        "\n",
        "Okay, not bad.  As you can see, some categories are easier to distinguish than others. Look for the class with the lowest F1 score (it should be the one at the bottom of the list). In the confusion matrix, which other class is that one being mistaken for most often?\n",
        "\n",
        "You might notice that the categories in this dataset are somewhat heirarchical. There are more obvious differences between groups of news categories (e.g. computers vs recreation) and then subtler differences between categories within those groups (e.g. PC vs Mac, within computers).\n",
        "\n",
        "When this happens, one idea is to train a series of models, to first separate out the more obvious groups of classes, and then use more specialized sub-models to classify only a subset of the classes. Let's try that here."
      ]
    },
    {
      "cell_type": "markdown",
      "metadata": {
        "id": "E0qA4QBstsin"
      },
      "source": [
        "#### Step 1: New model with 19 classes\n",
        "\n",
        "For simplicity, we'll just combine two categories in our first step. We'll replace the label of the last class with the label of the class it's most often mistaken for. (That way, we'll have labels from 0 to 18 instead of 0 to 19, and don't have to renumber everything, though you would have to if you group them more.)"
      ]
    },
    {
      "cell_type": "code",
      "source": [
        "from sklearn.metrics import precision_score\n",
        "from sklearn.metrics import confusion_matrix\n",
        "from sklearn.metrics import recall_score\n",
        "from sklearn.metrics import accuracy_score\n",
        "from sklearn.metrics import f1_score\n",
        "\n",
        "# Calculate precision scores\n",
        "classification_precision_scores = precision_score(test_labels, predictions_model1.numpy(), average = None)\n",
        "y_pos = np.arange(len(classification_precision_scores))\n",
        "\n",
        "plt.bar(y_pos, classification_precision_scores, align = 'center', alpha = 0.5)\n",
        "plt.xticks(y_pos, set(test_labels), rotation = 90)\n",
        "plt.ylabel('Precision Score')\n",
        "plt.title('Precision scores per class')\n",
        "\n",
        "print(\"Off the positive predictions, % of the right predictions per class\")\n",
        "for prec, lbl in list(zip(classification_precision_scores, set(test_labels))):\n",
        "    print(f\"{lbl} class has precision : {prec}\")\n",
        "plt.show(block = False)\n",
        "\n",
        "# Calculate recall scores\n",
        "classification_recall_scores = recall_score(test_labels, predictions_model1.numpy(), average = None)\n",
        "y_pos = np.arange(len(classification_precision_scores))\n",
        "\n",
        "plt.bar(y_pos, classification_recall_scores, align = 'center', alpha = 0.5)\n",
        "plt.xticks(y_pos, set(test_labels), rotation = 90)\n",
        "plt.ylabel('Recall Score')\n",
        "plt.title('Recall scores per class')\n",
        "\n",
        "print(\"Off the positive cases, % of the right predictions per class\")\n",
        "for prec, lbl in list(zip(classification_precision_scores, set(test_labels))):\n",
        "    print(f\"{lbl} class has recall : {prec}\")\n",
        "plt.show(block = False)\n",
        "\n",
        "# Calculate F1 scores\n",
        "classification_f1_scores = f1_score(test_labels, predictions_model1.numpy(), average = None)\n",
        "y_pos = np.arange(len(classification_f1_scores))\n",
        "\n",
        "plt.bar(y_pos, classification_f1_scores, align = 'center', alpha = 0.5)\n",
        "plt.xticks(y_pos, set(test_labels), rotation = 90)\n",
        "plt.ylabel('F1 Score')\n",
        "plt.title('F1 scores per class')\n",
        "\n",
        "print(\"F1 scores per class\")\n",
        "for prec, lbl in list(zip(classification_f1_scores, set(test_labels))):\n",
        "    print(f\"{lbl} class has f1 score : {prec}\")\n",
        "plt.show(block = False)"
      ],
      "metadata": {
        "colab": {
          "base_uri": "https://localhost:8080/",
          "height": 1000
        },
        "id": "z9EbRp_A4_yZ",
        "outputId": "1184a57e-26c0-4f9d-e35d-8051bf3c6364"
      },
      "execution_count": 37,
      "outputs": [
        {
          "output_type": "stream",
          "name": "stdout",
          "text": [
            "Off the positive predictions, % of the right predictions per class\n",
            "0 class has precision : 0.5797101449275363\n",
            "1 class has precision : 0.5426356589147286\n",
            "2 class has precision : 0.6111111111111112\n",
            "3 class has precision : 0.45454545454545453\n",
            "4 class has precision : 0.717948717948718\n",
            "5 class has precision : 0.8867924528301887\n",
            "6 class has precision : 0.8173076923076923\n",
            "7 class has precision : 0.4375\n",
            "8 class has precision : 0.6597938144329897\n",
            "9 class has precision : 0.8020833333333334\n",
            "10 class has precision : 0.9397590361445783\n",
            "11 class has precision : 0.9583333333333334\n",
            "12 class has precision : 0.7560975609756098\n",
            "13 class has precision : 0.8529411764705882\n",
            "14 class has precision : 0.8\n",
            "15 class has precision : 0.6838235294117647\n",
            "16 class has precision : 0.6702127659574468\n",
            "17 class has precision : 0.925\n",
            "18 class has precision : 0.6231884057971014\n",
            "19 class has precision : 0.5\n"
          ]
        },
        {
          "output_type": "display_data",
          "data": {
            "text/plain": [
              "<Figure size 432x288 with 1 Axes>"
            ],
            "image/png": "[encoded data removed]"
          },
          "metadata": {
            "needs_background": "light"
          }
        },
        {
          "output_type": "stream",
          "name": "stdout",
          "text": [
            "Off the positive cases, % of the right predictions per class\n",
            "0 class has recall : 0.5797101449275363\n",
            "1 class has recall : 0.5426356589147286\n",
            "2 class has recall : 0.6111111111111112\n",
            "3 class has recall : 0.45454545454545453\n",
            "4 class has recall : 0.717948717948718\n",
            "5 class has recall : 0.8867924528301887\n",
            "6 class has recall : 0.8173076923076923\n",
            "7 class has recall : 0.4375\n",
            "8 class has recall : 0.6597938144329897\n",
            "9 class has recall : 0.8020833333333334\n",
            "10 class has recall : 0.9397590361445783\n",
            "11 class has recall : 0.9583333333333334\n",
            "12 class has recall : 0.7560975609756098\n",
            "13 class has recall : 0.8529411764705882\n",
            "14 class has recall : 0.8\n",
            "15 class has recall : 0.6838235294117647\n",
            "16 class has recall : 0.6702127659574468\n",
            "17 class has recall : 0.925\n",
            "18 class has recall : 0.6231884057971014\n",
            "19 class has recall : 0.5\n"
          ]
        },
        {
          "output_type": "display_data",
          "data": {
            "text/plain": [
              "<Figure size 432x288 with 1 Axes>"
            ],
            "image/png": "[encoded data removed]"
          },
          "metadata": {
            "needs_background": "light"
          }
        },
        {
          "output_type": "stream",
          "name": "stdout",
          "text": [
            "F1 scores per class\n",
            "0 class has f1 score : 0.5517241379310345\n",
            "1 class has f1 score : 0.6222222222222222\n",
            "2 class has f1 score : 0.5978260869565217\n",
            "3 class has f1 score : 0.5639097744360902\n",
            "4 class has f1 score : 0.6187845303867404\n",
            "5 class has f1 score : 0.6351351351351352\n",
            "6 class has f1 score : 0.821256038647343\n",
            "7 class has f1 score : 0.56\n",
            "8 class has f1 score : 0.6956521739130436\n",
            "9 class has f1 score : 0.8191489361702128\n",
            "10 class has f1 score : 0.8715083798882681\n",
            "11 class has f1 score : 0.7709497206703911\n",
            "12 class has f1 score : 0.656084656084656\n",
            "13 class has f1 score : 0.87\n",
            "14 class has f1 score : 0.7826086956521738\n",
            "15 class has f1 score : 0.7622950819672131\n",
            "16 class has f1 score : 0.6666666666666666\n",
            "17 class has f1 score : 0.8705882352941177\n",
            "18 class has f1 score : 0.6142857142857142\n",
            "19 class has f1 score : 0.058823529411764705\n"
          ]
        },
        {
          "output_type": "display_data",
          "data": {
            "text/plain": [
              "<Figure size 432x288 with 1 Axes>"
            ],
            "image/png": "[encoded data removed]"
          },
          "metadata": {
            "needs_background": "light"
          }
        }
      ]
    },
    {
      "cell_type": "code",
      "source": [
        "np.max(cm[-1]), np.argmax(cm[-1]), np.argmin(cm[-1]), np.min(cm[-1])"
      ],
      "metadata": {
        "colab": {
          "base_uri": "https://localhost:8080/"
        },
        "id": "XoXbVviOV5Bj",
        "outputId": "2d7a6ce1-95c6-4d63-9b2a-4c2ff57d7afa"
      },
      "execution_count": 38,
      "outputs": [
        {
          "output_type": "execute_result",
          "data": {
            "text/plain": [
              "(0.34375, 15, 1, 0.0)"
            ]
          },
          "metadata": {},
          "execution_count": 38
        }
      ]
    },
    {
      "cell_type": "code",
      "execution_count": 39,
      "metadata": {
        "id": "b0rAv6nLmrwN"
      },
      "outputs": [],
      "source": [
        "label_to_replace = 19\n",
        "\n",
        "# label_to_replace_with = ...\n",
        "### YOUR CODE HERE\n",
        "label_to_replace_with = np.argmax(cm[-1])\n",
        "\n",
        "### END YOUR CODE\n",
        "\n",
        "train_labels_19class = train_labels.copy()\n",
        "train_labels_19class[train_labels_19class == label_to_replace] = label_to_replace_with\n",
        "\n",
        "valid_labels_19class = npvalid_labels.copy()\n",
        "valid_labels_19class[valid_labels_19class == label_to_replace] = label_to_replace_with\n",
        "\n",
        "test_labels_19class = test_labels.copy()\n",
        "test_labels_19class[test_labels_19class == label_to_replace] = label_to_replace_with"
      ]
    },
    {
      "cell_type": "markdown",
      "metadata": {
        "id": "dSQd_UDQhmQd"
      },
      "source": [
        "Now let's create a new model with the same architecture, but to predict probabilities for 19 classes instead of 20. We're using all of the data in this first step, so we'll use the encodings we already preprocessed as inputs, but use the new labels that only have 19 classes."
      ]
    },
    {
      "cell_type": "code",
      "execution_count": 40,
      "metadata": {
        "id": "s7hR7ahmmrYL",
        "colab": {
          "base_uri": "https://localhost:8080/"
        },
        "outputId": "ea1332e1-9542-4dcf-f62c-97deba30c501"
      },
      "outputs": [
        {
          "output_type": "stream",
          "name": "stderr",
          "text": [
            "Some layers from the model checkpoint at bert-base-cased were not used when initializing TFBertModel: ['mlm___cls', 'nsp___cls']\n",
            "- This IS expected if you are initializing TFBertModel from the checkpoint of a model trained on another task or with another architecture (e.g. initializing a BertForSequenceClassification model from a BertForPreTraining model).\n",
            "- This IS NOT expected if you are initializing TFBertModel from the checkpoint of a model that you expect to be exactly identical (initializing a BertForSequenceClassification model from a BertForSequenceClassification model).\n",
            "All the layers of TFBertModel were initialized from the model checkpoint at bert-base-cased.\n",
            "If your task is similar to the task the model of the checkpoint was trained on, you can already use TFBertModel for predictions without further training.\n"
          ]
        }
      ],
      "source": [
        "bert_model_19class = create_bert_multiclass_model(checkpoint = model_checkpoint, num_classes=19)"
      ]
    },
    {
      "cell_type": "code",
      "execution_count": 41,
      "metadata": {
        "id": "O4Qsai6UmrOj",
        "colab": {
          "base_uri": "https://localhost:8080/"
        },
        "outputId": "8ce663c0-168a-42cc-a9cf-3acd8c8ff7df"
      },
      "outputs": [
        {
          "output_type": "stream",
          "name": "stdout",
          "text": [
            "2000/2000 [==============================] - 722s 341ms/step - loss: 1.3689 - accuracy: 0.5904 - val_loss: 1.0128 - val_accuracy: 0.6930\n"
          ]
        }
      ],
      "source": [
        "bert_model_19class_history = bert_model_19class.fit([train_encodings.input_ids, \n",
        "                                                     train_encodings.token_type_ids, \n",
        "                                                     train_encodings.attention_mask\n",
        "                                                    ], \n",
        "                                                    train_labels_19class,   \n",
        "                                                    validation_data=([valid_encodings.input_ids, \n",
        "                                                                      valid_encodings.token_type_ids, \n",
        "                                                                      valid_encodings.attention_mask\n",
        "                                                                     ],\n",
        "                                                                     valid_labels_19class),    \n",
        "                                                    batch_size=8,\n",
        "                                                    epochs=1)"
      ]
    },
    {
      "cell_type": "code",
      "execution_count": 42,
      "metadata": {
        "id": "BkW9hMq9g9dV",
        "colab": {
          "base_uri": "https://localhost:8080/"
        },
        "outputId": "715e6434-955a-4cc9-ed4f-f003c654ce79"
      },
      "outputs": [
        {
          "output_type": "stream",
          "name": "stdout",
          "text": [
            "59/59 [==============================] - 26s 446ms/step - loss: 0.9780 - accuracy: 0.6923\n",
            "Test loss: 0.9780091643333435\n",
            "Test accuracy: 0.692307710647583\n"
          ]
        }
      ],
      "source": [
        "#Evaluate the fine tuned 19-class model against the test data with 19-class labels\n",
        "### YOUR CODE HERE\n",
        "score_19class = bert_model_19class.evaluate([test_encodings.input_ids, \n",
        "                                             test_encodings.token_type_ids, \n",
        "                                             test_encodings.attention_mask\n",
        "                                            ], \n",
        "                                            test_labels_19class) \n",
        "\n",
        "print('Test loss:', score_19class[0]) \n",
        "print('Test accuracy:', score_19class[1])\n",
        "### END YOUR CODE"
      ]
    },
    {
      "cell_type": "markdown",
      "metadata": {
        "id": "DPaUdul4hlp0"
      },
      "source": [
        "**QUESTION:** \n",
        "\n",
        "3.1 What is the test accuracy you get when you run the new first stage model with only 19 classes?\n",
        "**0.685411**"
      ]
    },
    {
      "cell_type": "code",
      "execution_count": 43,
      "metadata": {
        "id": "TrWtaXSug9UR",
        "colab": {
          "base_uri": "https://localhost:8080/"
        },
        "outputId": "1f00f9bd-f718-4800-8be0-c14084601c2a"
      },
      "outputs": [
        {
          "output_type": "stream",
          "name": "stdout",
          "text": [
            "59/59 [==============================] - 28s 425ms/step\n"
          ]
        },
        {
          "output_type": "execute_result",
          "data": {
            "text/plain": [
              "<tf.Tensor: shape=(1885,), dtype=int64, numpy=array([11, 18,  7, ...,  4, 10, 10])>"
            ]
          },
          "metadata": {},
          "execution_count": 43
        }
      ],
      "source": [
        "#run and capture all the predictions from the 19 class data\n",
        "### YOUR CODE HERE \n",
        "predictions_19class = bert_model_19class.predict([test_encodings.input_ids, \n",
        "                                                  test_encodings.token_type_ids, \n",
        "                                                  test_encodings.attention_mask\n",
        "                                                 ]\n",
        "                                                )\n",
        "predictions_19class = tf.argmax(predictions_19class, axis=-1)\n",
        "### END YOUR CODE\n",
        "predictions_19class"
      ]
    },
    {
      "cell_type": "code",
      "source": [
        "predictions_19class"
      ],
      "metadata": {
        "id": "Kj8j_rie1Rc4",
        "outputId": "5c68c57d-3f38-433f-d2b5-cebace796d44",
        "colab": {
          "base_uri": "https://localhost:8080/"
        }
      },
      "execution_count": 44,
      "outputs": [
        {
          "output_type": "execute_result",
          "data": {
            "text/plain": [
              "<tf.Tensor: shape=(1885,), dtype=int64, numpy=array([11, 18,  7, ...,  4, 10, 10])>"
            ]
          },
          "metadata": {},
          "execution_count": 44
        }
      ]
    },
    {
      "cell_type": "code",
      "execution_count": 45,
      "metadata": {
        "id": "-nAlDV7K8T4q",
        "colab": {
          "base_uri": "https://localhost:8080/"
        },
        "outputId": "230ec4ec-3def-4c13-9c08-84a03c3070ef"
      },
      "outputs": [
        {
          "output_type": "stream",
          "name": "stdout",
          "text": [
            "                          precision    recall  f1-score   support\n",
            "\n",
            "             alt.atheism       0.57      0.42      0.48        76\n",
            "           comp.graphics       0.77      0.53      0.63        96\n",
            " comp.os.ms-windows.misc       0.46      0.82      0.59        94\n",
            "comp.sys.ibm.pc.hardware       0.57      0.44      0.49       101\n",
            "   comp.sys.mac.hardware       0.54      0.69      0.61       103\n",
            "          comp.windows.x       0.86      0.76      0.80        95\n",
            "            misc.forsale       0.79      0.79      0.79       103\n",
            "               rec.autos       0.57      0.76      0.65       108\n",
            "         rec.motorcycles       0.62      0.69      0.66        87\n",
            "      rec.sport.baseball       0.69      0.84      0.76        92\n",
            "        rec.sport.hockey       0.87      0.85      0.86        96\n",
            "               sci.crypt       0.90      0.65      0.76       107\n",
            "         sci.electronics       0.70      0.58      0.64       107\n",
            "                 sci.med       0.85      0.84      0.84        98\n",
            "               sci.space       0.83      0.68      0.75        94\n",
            "    ** COMBINED CLASS **       0.75      0.76      0.76       172\n",
            "      talk.politics.guns       0.69      0.49      0.58        95\n",
            "   talk.politics.mideast       0.86      0.83      0.85        90\n",
            "      talk.politics.misc       0.52      0.63      0.57        71\n",
            "\n",
            "                accuracy                           0.69      1885\n",
            "               macro avg       0.71      0.69      0.69      1885\n",
            "            weighted avg       0.71      0.69      0.69      1885\n",
            "\n"
          ]
        }
      ],
      "source": [
        "# This will take columns before label_to_replace_with : :label_to_replace_with\n",
        "# This will take columns from next column of label_to_replace_with all the way till one column before the last column, which column to replace : label_to_replace_with+1:19              \n",
        "target_names_19class = target_names[:label_to_replace_with] \\\n",
        "                     + ['** COMBINED CLASS **'] \\\n",
        "                     + target_names[label_to_replace_with+1:19] \n",
        "print(classification_report(test_labels_19class, predictions_19class,\n",
        "                            target_names=target_names_19class))"
      ]
    },
    {
      "cell_type": "code",
      "source": [
        "classification_report(test_labels_19class, \n",
        "                      predictions_19class,\n",
        "                      target_names=target_names_19class, \n",
        "                      output_dict=True\n",
        "                     )"
      ],
      "metadata": {
        "colab": {
          "base_uri": "https://localhost:8080/"
        },
        "id": "HFY7o6leWRaZ",
        "outputId": "6a020632-95e7-4c6a-fc04-6e594de54093"
      },
      "execution_count": 46,
      "outputs": [
        {
          "output_type": "execute_result",
          "data": {
            "text/plain": [
              "{'alt.atheism': {'precision': 0.5714285714285714,\n",
              "  'recall': 0.42105263157894735,\n",
              "  'f1-score': 0.48484848484848486,\n",
              "  'support': 76},\n",
              " 'comp.graphics': {'precision': 0.7727272727272727,\n",
              "  'recall': 0.53125,\n",
              "  'f1-score': 0.6296296296296297,\n",
              "  'support': 96},\n",
              " 'comp.os.ms-windows.misc': {'precision': 0.4583333333333333,\n",
              "  'recall': 0.8191489361702128,\n",
              "  'f1-score': 0.5877862595419847,\n",
              "  'support': 94},\n",
              " 'comp.sys.ibm.pc.hardware': {'precision': 0.5714285714285714,\n",
              "  'recall': 0.43564356435643564,\n",
              "  'f1-score': 0.49438202247191015,\n",
              "  'support': 101},\n",
              " 'comp.sys.mac.hardware': {'precision': 0.5419847328244275,\n",
              "  'recall': 0.6893203883495146,\n",
              "  'f1-score': 0.6068376068376069,\n",
              "  'support': 103},\n",
              " 'comp.windows.x': {'precision': 0.8571428571428571,\n",
              "  'recall': 0.7578947368421053,\n",
              "  'f1-score': 0.8044692737430167,\n",
              "  'support': 95},\n",
              " 'misc.forsale': {'precision': 0.7941176470588235,\n",
              "  'recall': 0.7864077669902912,\n",
              "  'f1-score': 0.7902439024390243,\n",
              "  'support': 103},\n",
              " 'rec.autos': {'precision': 0.5694444444444444,\n",
              "  'recall': 0.7592592592592593,\n",
              "  'f1-score': 0.6507936507936508,\n",
              "  'support': 108},\n",
              " 'rec.motorcycles': {'precision': 0.625,\n",
              "  'recall': 0.6896551724137931,\n",
              "  'f1-score': 0.6557377049180328,\n",
              "  'support': 87},\n",
              " 'rec.sport.baseball': {'precision': 0.6936936936936937,\n",
              "  'recall': 0.8369565217391305,\n",
              "  'f1-score': 0.7586206896551725,\n",
              "  'support': 92},\n",
              " 'rec.sport.hockey': {'precision': 0.8723404255319149,\n",
              "  'recall': 0.8541666666666666,\n",
              "  'f1-score': 0.8631578947368421,\n",
              "  'support': 96},\n",
              " 'sci.crypt': {'precision': 0.8974358974358975,\n",
              "  'recall': 0.6542056074766355,\n",
              "  'f1-score': 0.7567567567567568,\n",
              "  'support': 107},\n",
              " 'sci.electronics': {'precision': 0.7045454545454546,\n",
              "  'recall': 0.5794392523364486,\n",
              "  'f1-score': 0.635897435897436,\n",
              "  'support': 107},\n",
              " 'sci.med': {'precision': 0.845360824742268,\n",
              "  'recall': 0.8367346938775511,\n",
              "  'f1-score': 0.8410256410256411,\n",
              "  'support': 98},\n",
              " 'sci.space': {'precision': 0.8311688311688312,\n",
              "  'recall': 0.6808510638297872,\n",
              "  'f1-score': 0.7485380116959065,\n",
              "  'support': 94},\n",
              " '** COMBINED CLASS **': {'precision': 0.7485714285714286,\n",
              "  'recall': 0.7616279069767442,\n",
              "  'f1-score': 0.755043227665706,\n",
              "  'support': 172},\n",
              " 'talk.politics.guns': {'precision': 0.6911764705882353,\n",
              "  'recall': 0.49473684210526314,\n",
              "  'f1-score': 0.5766871165644172,\n",
              "  'support': 95},\n",
              " 'talk.politics.mideast': {'precision': 0.8620689655172413,\n",
              "  'recall': 0.8333333333333334,\n",
              "  'f1-score': 0.847457627118644,\n",
              "  'support': 90},\n",
              " 'talk.politics.misc': {'precision': 0.5232558139534884,\n",
              "  'recall': 0.6338028169014085,\n",
              "  'f1-score': 0.5732484076433122,\n",
              "  'support': 71},\n",
              " 'accuracy': 0.6923076923076923,\n",
              " 'macro avg': {'precision': 0.7069065913756187,\n",
              "  'recall': 0.6871309032212384,\n",
              "  'f1-score': 0.6874295444201671,\n",
              "  'support': 1885},\n",
              " 'weighted avg': {'precision': 0.7121672581482617,\n",
              "  'recall': 0.6923076923076923,\n",
              "  'f1-score': 0.6929518161944906,\n",
              "  'support': 1885}}"
            ]
          },
          "metadata": {},
          "execution_count": 46
        }
      ]
    },
    {
      "cell_type": "code",
      "source": [
        "report_19cls = classification_report(test_labels_19class, \n",
        "                                     predictions_19class,target_names=target_names_19class, \n",
        "                                     output_dict=True, \n",
        "                                     zero_division=False\n",
        "                                    )"
      ],
      "metadata": {
        "id": "RhGH5NK2txXl"
      },
      "execution_count": 47,
      "outputs": []
    },
    {
      "cell_type": "code",
      "source": [
        "cm = tf.math.confusion_matrix(test_labels_19class, predictions_19class)\n",
        "cm = cm/cm.numpy().sum(axis=1)[:, tf.newaxis]\n",
        "plt.figure(figsize=(20,7))\n",
        "sns.heatmap(\n",
        "    cm, annot=True,\n",
        "    xticklabels=target_names_19class,\n",
        "    yticklabels=target_names_19class)\n",
        "plt.xlabel(\"Predicted\")\n",
        "plt.ylabel(\"True\")"
      ],
      "metadata": {
        "colab": {
          "base_uri": "https://localhost:8080/",
          "height": 585
        },
        "id": "U6uPHk19mNPl",
        "outputId": "bf451ae7-8b1d-49cb-acb0-91dff699c5d2"
      },
      "execution_count": 48,
      "outputs": [
        {
          "output_type": "execute_result",
          "data": {
            "text/plain": [
              "Text(159.0, 0.5, 'True')"
            ]
          },
          "metadata": {},
          "execution_count": 48
        },
        {
          "output_type": "display_data",
          "data": {
            "text/plain": [
              "<Figure size 1440x504 with 2 Axes>"
            ],
            "image/png": "[encoded data removed]"
          },
          "metadata": {
            "needs_background": "light"
          }
        }
      ]
    },
    {
      "cell_type": "markdown",
      "metadata": {
        "id": "Eh6nKilF8V7b"
      },
      "source": [
        "**QUESTION:** \n",
        "\n",
        "3.2 What is the F1 score you get for the combined class when you run the new first stage model with only 19 classes?\n",
        "**F1 score is 0.69872.**"
      ]
    },
    {
      "cell_type": "markdown",
      "metadata": {
        "id": "TTZcBibxR153"
      },
      "source": [
        "#### Step 2: New model with only the two classes combined in step one\n",
        "\n",
        "Now, our first stage model is able to determine which text is one of the two often confused classes, but we need to train a more specific model to distinguish between just these two classes. Ideally, this model will only focus on the more subtle differences between these two news categories, since it doesn't have to learn everything else about the other categories.\n",
        "\n",
        "For this model, we're only going to train using the text examples that are one of the two confused categories. We'll keep the encodings we already tokenized, so we need to separate out the input_ids, token_type_ids, and attention_mask for just the rows that have one of these two labels."
      ]
    },
    {
      "cell_type": "code",
      "source": [
        "label_to_replace, label_to_replace_with"
      ],
      "metadata": {
        "colab": {
          "base_uri": "https://localhost:8080/"
        },
        "id": "nqqK1IlhcTLQ",
        "outputId": "48f70912-eb31-4b3c-e7ce-3dec2684729e"
      },
      "execution_count": 49,
      "outputs": [
        {
          "output_type": "execute_result",
          "data": {
            "text/plain": [
              "(19, 15)"
            ]
          },
          "metadata": {},
          "execution_count": 49
        }
      ]
    },
    {
      "cell_type": "code",
      "execution_count": 50,
      "metadata": {
        "id": "N4TmPG6B1mz0"
      },
      "outputs": [],
      "source": [
        "train_mask_2class = (train_labels_19class == label_to_replace_with)\n",
        "train_encodings_2class = {'input_ids': train_encodings.input_ids[train_mask_2class],\n",
        "                          'token_type_ids': train_encodings.token_type_ids[train_mask_2class],\n",
        "                          'attention_mask': train_encodings.attention_mask[train_mask_2class]}\n",
        "train_labels_2class = train_labels.copy()[train_mask_2class]\n",
        "train_labels_2class = (train_labels_2class == label_to_replace_with).astype(int)\n",
        "\n",
        "valid_mask_2class = (valid_labels_19class == label_to_replace_with)\n",
        "valid_encodings_2class = {'input_ids': valid_encodings.input_ids[valid_mask_2class],\n",
        "                          'token_type_ids': valid_encodings.token_type_ids[valid_mask_2class],\n",
        "                          'attention_mask': valid_encodings.attention_mask[valid_mask_2class]}\n",
        "valid_labels_2class = npvalid_labels.copy()[valid_mask_2class]\n",
        "valid_labels_2class = (valid_labels_2class == label_to_replace_with).astype(int)\n",
        "\n",
        "test_mask_2class = (test_labels_19class == label_to_replace_with)\n",
        "test_encodings_2class = {'input_ids': test_encodings.input_ids[test_mask_2class],\n",
        "                          'token_type_ids': test_encodings.token_type_ids[test_mask_2class],\n",
        "                          'attention_mask': test_encodings.attention_mask[test_mask_2class]}\n",
        "test_labels_2class = test_labels.copy()[test_mask_2class]\n",
        "test_labels_2class = (test_labels_2class == label_to_replace_with).astype(int)"
      ]
    },
    {
      "cell_type": "code",
      "execution_count": 51,
      "metadata": {
        "id": "xwTzhDVp9YTT",
        "colab": {
          "base_uri": "https://localhost:8080/"
        },
        "outputId": "8fa49cb4-e6a7-4b2e-f51f-c6b4d69d4205"
      },
      "outputs": [
        {
          "output_type": "execute_result",
          "data": {
            "text/plain": [
              "(1366,)"
            ]
          },
          "metadata": {},
          "execution_count": 51
        }
      ],
      "source": [
        "train_labels_2class.shape"
      ]
    },
    {
      "cell_type": "code",
      "execution_count": 52,
      "metadata": {
        "id": "O76HzIGh9dct",
        "colab": {
          "base_uri": "https://localhost:8080/"
        },
        "outputId": "271343db-174a-4618-eb72-a87ecb0d47ea"
      },
      "outputs": [
        {
          "output_type": "execute_result",
          "data": {
            "text/plain": [
              "array([0, 0, 1, ..., 1, 0, 0])"
            ]
          },
          "metadata": {},
          "execution_count": 52
        }
      ],
      "source": [
        "train_labels_2class"
      ]
    },
    {
      "cell_type": "markdown",
      "metadata": {
        "id": "3c7M7sFCucU8"
      },
      "source": [
        "Create and train a new model with the same architecture as before, except that it only predicts two classes. (Note that we could change this to a binary prediction model, but we'll keep it multiclass for consistency here.)"
      ]
    },
    {
      "cell_type": "code",
      "execution_count": 53,
      "metadata": {
        "id": "dNe5zVOflttk",
        "colab": {
          "base_uri": "https://localhost:8080/"
        },
        "outputId": "f8ef7fd0-e628-4f96-c869-47a372118283"
      },
      "outputs": [
        {
          "output_type": "stream",
          "name": "stderr",
          "text": [
            "Some layers from the model checkpoint at bert-base-cased were not used when initializing TFBertModel: ['mlm___cls', 'nsp___cls']\n",
            "- This IS expected if you are initializing TFBertModel from the checkpoint of a model trained on another task or with another architecture (e.g. initializing a BertForSequenceClassification model from a BertForPreTraining model).\n",
            "- This IS NOT expected if you are initializing TFBertModel from the checkpoint of a model that you expect to be exactly identical (initializing a BertForSequenceClassification model from a BertForSequenceClassification model).\n",
            "All the layers of TFBertModel were initialized from the model checkpoint at bert-base-cased.\n",
            "If your task is similar to the task the model of the checkpoint was trained on, you can already use TFBertModel for predictions without further training.\n"
          ]
        }
      ],
      "source": [
        "bert_model_2class = create_bert_multiclass_model(checkpoint=model_checkpoint, num_classes=2)"
      ]
    },
    {
      "cell_type": "code",
      "execution_count": 54,
      "metadata": {
        "id": "-F5DM3zGlvSd",
        "colab": {
          "base_uri": "https://localhost:8080/"
        },
        "outputId": "b9a1be06-6f66-4fad-c128-1244aa51fe1c"
      },
      "outputs": [
        {
          "output_type": "stream",
          "name": "stdout",
          "text": [
            "171/171 [==============================] - 112s 382ms/step - loss: 0.6719 - accuracy: 0.6281 - val_loss: 0.6390 - val_accuracy: 0.6552\n"
          ]
        }
      ],
      "source": [
        "bert_model_2class_history = bert_model_2class.fit([train_encodings_2class['input_ids'],\n",
        "                                                   train_encodings_2class['token_type_ids'],\n",
        "                                                   train_encodings_2class['attention_mask']], \n",
        "                                                  train_labels_2class,   \n",
        "                                                  validation_data=([valid_encodings_2class['input_ids'],\n",
        "                                                                    valid_encodings_2class['token_type_ids'],\n",
        "                                                                    valid_encodings_2class['attention_mask']],\n",
        "                                                                   valid_labels_2class\n",
        "                                                                  ),    \n",
        "                                                  batch_size=8, \n",
        "                                                  epochs=1)"
      ]
    },
    {
      "cell_type": "code",
      "execution_count": 55,
      "metadata": {
        "id": "UNEUeufxp1g5",
        "colab": {
          "base_uri": "https://localhost:8080/"
        },
        "outputId": "f59899ba-920f-48c6-b1ed-2f9ac6cd5f59"
      },
      "outputs": [
        {
          "output_type": "stream",
          "name": "stdout",
          "text": [
            "6/6 [==============================] - 2s 375ms/step - loss: 0.4399 - accuracy: 0.8140\n",
            "Test loss: 0.4398711919784546\n",
            "Test accuracy: 0.8139534592628479\n"
          ]
        }
      ],
      "source": [
        "#Evaluate the two-class model against the two-class test set.\n",
        "### YOUR CODE HERE\n",
        "score_2class = bert_model_2class.evaluate([test_encodings_2class['input_ids'], \n",
        "                                           test_encodings_2class['token_type_ids'], \n",
        "                                           test_encodings_2class['attention_mask']\n",
        "                                          ], \n",
        "                                          test_labels_2class) \n",
        "\n",
        "### END YOUR CODE\n",
        "print('Test loss:', score_2class[0]) \n",
        "print('Test accuracy:', score_2class[1])"
      ]
    },
    {
      "cell_type": "code",
      "execution_count": 56,
      "metadata": {
        "id": "aPuN8_gaESJZ",
        "colab": {
          "base_uri": "https://localhost:8080/"
        },
        "outputId": "5cbb57ea-32b3-4457-a68f-873f123f333d"
      },
      "outputs": [
        {
          "output_type": "stream",
          "name": "stdout",
          "text": [
            "6/6 [==============================] - 6s 367ms/step\n"
          ]
        },
        {
          "output_type": "execute_result",
          "data": {
            "text/plain": [
              "<tf.Tensor: shape=(172,), dtype=int64, numpy=\n",
              "array([0, 1, 1, 1, 1, 1, 1, 1, 1, 1, 1, 1, 1, 1, 1, 1, 1, 0, 1, 1, 1, 0,\n",
              "       1, 0, 1, 1, 1, 1, 1, 1, 1, 1, 1, 1, 1, 0, 0, 1, 1, 1, 0, 0, 0, 0,\n",
              "       1, 1, 1, 1, 1, 1, 1, 1, 1, 1, 1, 1, 1, 0, 1, 0, 1, 1, 1, 1, 1, 1,\n",
              "       1, 1, 0, 1, 1, 0, 0, 0, 1, 1, 1, 1, 1, 1, 1, 1, 1, 1, 0, 1, 0, 0,\n",
              "       1, 1, 1, 1, 0, 1, 1, 1, 1, 0, 1, 1, 1, 1, 1, 1, 1, 1, 1, 1, 1, 1,\n",
              "       1, 1, 1, 1, 1, 1, 0, 1, 1, 1, 0, 1, 1, 1, 1, 1, 0, 0, 1, 0, 1, 0,\n",
              "       0, 1, 1, 0, 1, 1, 1, 0, 1, 1, 0, 1, 1, 0, 1, 1, 1, 0, 0, 0, 1, 1,\n",
              "       1, 0, 1, 1, 1, 1, 1, 0, 1, 0, 1, 1, 0, 1, 1, 0, 1, 1])>"
            ]
          },
          "metadata": {},
          "execution_count": 56
        }
      ],
      "source": [
        "#run and capture all the predictions from the 2-class test data\n",
        "### YOUR CODE HERE \n",
        "predictions_2class = bert_model_2class.predict([test_encodings_2class['input_ids'], \n",
        "                                                test_encodings_2class['token_type_ids'], \n",
        "                                                test_encodings_2class['attention_mask']\n",
        "                                               ]\n",
        "                                              )\n",
        "predictions_2class = tf.argmax(predictions_2class, axis=-1)\n",
        "### END YOUR CODE\n",
        "predictions_2class"
      ]
    },
    {
      "cell_type": "code",
      "execution_count": 57,
      "metadata": {
        "id": "zEnHd3ijESPH",
        "colab": {
          "base_uri": "https://localhost:8080/"
        },
        "outputId": "804f7505-6b55-4abe-cd4f-06190a742d29"
      },
      "outputs": [
        {
          "output_type": "stream",
          "name": "stdout",
          "text": [
            "                        precision    recall  f1-score   support\n",
            "\n",
            "soc.religion.christian       0.90      0.56      0.69        64\n",
            "    talk.religion.misc       0.79      0.96      0.87       108\n",
            "\n",
            "              accuracy                           0.81       172\n",
            "             macro avg       0.84      0.76      0.78       172\n",
            "          weighted avg       0.83      0.81      0.80       172\n",
            "\n"
          ]
        }
      ],
      "source": [
        "# Run the sklearn classification_report again with the 2-class predictions\n",
        "### YOUR CODE HERE\n",
        "target_names_2class = [target_names[label_to_replace_with]] + [target_names[label_to_replace]]\n",
        "print(classification_report(test_labels_2class, predictions_2class.numpy(),target_names=target_names_2class))\n",
        "### END YOUR CODE"
      ]
    },
    {
      "cell_type": "code",
      "source": [
        "classification_report(test_labels_2class, \n",
        "                      predictions_2class.numpy(),\n",
        "                      target_names=target_names_2class, \n",
        "                      output_dict=True)"
      ],
      "metadata": {
        "colab": {
          "base_uri": "https://localhost:8080/"
        },
        "id": "CLrASyNXe4kc",
        "outputId": "fa366714-835b-41d2-8c16-b13123fc0ec3"
      },
      "execution_count": 58,
      "outputs": [
        {
          "output_type": "execute_result",
          "data": {
            "text/plain": [
              "{'soc.religion.christian': {'precision': 0.9,\n",
              "  'recall': 0.5625,\n",
              "  'f1-score': 0.6923076923076923,\n",
              "  'support': 64},\n",
              " 'talk.religion.misc': {'precision': 0.7878787878787878,\n",
              "  'recall': 0.9629629629629629,\n",
              "  'f1-score': 0.8666666666666665,\n",
              "  'support': 108},\n",
              " 'accuracy': 0.813953488372093,\n",
              " 'macro avg': {'precision': 0.843939393939394,\n",
              "  'recall': 0.7627314814814814,\n",
              "  'f1-score': 0.7794871794871794,\n",
              "  'support': 172},\n",
              " 'weighted avg': {'precision': 0.829598308668076,\n",
              "  'recall': 0.813953488372093,\n",
              "  'f1-score': 0.8017889087656528,\n",
              "  'support': 172}}"
            ]
          },
          "metadata": {},
          "execution_count": 58
        }
      ]
    },
    {
      "cell_type": "code",
      "source": [
        "report_2cls = classification_report(test_labels_2class, \n",
        "                                    predictions_2class,\n",
        "                                    target_names=target_names_2class, \n",
        "                                    output_dict=True, \n",
        "                                    zero_division=False\n",
        "                                   )"
      ],
      "metadata": {
        "id": "mRY95gXHt74C"
      },
      "execution_count": 59,
      "outputs": []
    },
    {
      "cell_type": "markdown",
      "metadata": {
        "id": "1aTDW3JBut1P"
      },
      "source": [
        "**QUESTION:** \n",
        "\n",
        "3.3 What is the macro average F1 score you get when you run the new second stage model with only 2 classes?\n",
        "**Macro average F1 score 0.75454.**"
      ]
    },
    {
      "cell_type": "markdown",
      "metadata": {
        "id": "90DMNd_Nuzgz"
      },
      "source": [
        "#### Step 3: Combine the predicted labels from the two steps\n",
        "\n",
        "To combine our models into two steps, start with the predictions from the first step. Keep all predicted labels except the ones with a predicted value of label_to_replace_with (the label we gave to both of the confused classes in the first step).\n",
        "\n",
        "Wherever the first model predicted the combined category, we'll replace the predictions with the label from the second model. If we used these models in inference, we'd only send an example to the second model if the first model predicted that it was from the combined class."
      ]
    },
    {
      "cell_type": "code",
      "execution_count": 60,
      "metadata": {
        "id": "bmSd5B8M-YPh",
        "colab": {
          "base_uri": "https://localhost:8080/",
          "height": 71
        },
        "outputId": "f23530e7-5c95-406f-da72-d45c2fc60cec"
      },
      "outputs": [
        {
          "output_type": "execute_result",
          "data": {
            "text/plain": [
              "'\\npredictions_2class = predictions_2class.numpy()\\npredictions_2class[predictions_2class == 0] = label_to_replace\\npredictions_2class[predictions_2class == 1] = label_to_replace_with\\n\\npredictions_2steps = predictions_19class.numpy()\\npredictions_2steps[test_mask_2class] = predictions_2class\\n\\npredictions_2steps\\n'"
            ],
            "application/vnd.google.colaboratory.intrinsic+json": {
              "type": "string"
            }
          },
          "metadata": {},
          "execution_count": 60
        }
      ],
      "source": [
        "'''\n",
        "predictions_2class = predictions_2class.numpy()\n",
        "predictions_2class[predictions_2class == 0] = label_to_replace\n",
        "predictions_2class[predictions_2class == 1] = label_to_replace_with\n",
        "\n",
        "predictions_2steps = predictions_19class.numpy()\n",
        "predictions_2steps[test_mask_2class] = predictions_2class\n",
        "\n",
        "predictions_2steps\n",
        "'''"
      ]
    },
    {
      "cell_type": "code",
      "execution_count": 61,
      "metadata": {
        "id": "czf7y8Ha5hu-",
        "colab": {
          "base_uri": "https://localhost:8080/"
        },
        "outputId": "58d7b084-de94-42e1-bcc9-cd1e13b02185"
      },
      "outputs": [
        {
          "output_type": "stream",
          "name": "stdout",
          "text": [
            "6/6 [==============================] - 2s 378ms/step\n"
          ]
        },
        {
          "output_type": "execute_result",
          "data": {
            "text/plain": [
              "array([11, 18,  7, ...,  4, 10, 10])"
            ]
          },
          "metadata": {},
          "execution_count": 61
        }
      ],
      "source": [
        "test_mark_2class_step3 = (predictions_19class.numpy() == label_to_replace_with)\n",
        "test_encodings_2class_step3 = {'input_ids': test_encodings.input_ids[test_mark_2class_step3],\n",
        "                               'token_type_ids': test_encodings.token_type_ids[test_mark_2class_step3],\n",
        "                               'attention_mask': test_encodings.attention_mask[test_mark_2class_step3]}\n",
        "\n",
        "# Running those examples through the step 2 model and save the predictions\n",
        "predictions_2class_step3 = bert_model_2class.predict([test_encodings_2class_step3['input_ids'],\n",
        "                                                      test_encodings_2class_step3['token_type_ids'],\n",
        "                                                      test_encodings_2class_step3['attention_mask']],)\n",
        "predictions_2class_step3 = tf.argmax(predictions_2class_step3, axis=-1)\n",
        "\n",
        "# Replace the step 2 model's predicted labels with the original values from 20 class dataset\n",
        "predictions_2class_step3 = predictions_2class_step3.numpy()\n",
        "predictions_2class_step3[predictions_2class_step3 == 0] = label_to_replace\n",
        "predictions_2class_step3[predictions_2class_step3 == 1] = label_to_replace_with\n",
        "\n",
        "# Combine the labels from bothb steps for the full dataset\n",
        "predictions_2steps_step3 = predictions_19class.numpy()\n",
        "predictions_2steps_step3[test_mark_2class_step3] = predictions_2class_step3\n",
        "\n",
        "predictions_2steps_step3"
      ]
    },
    {
      "cell_type": "markdown",
      "metadata": {
        "id": "dxUBa20mv0Iq"
      },
      "source": [
        "Now let's look at the classification report and confusion matrix, using the combined predictions from our two step model (compared to the original labels). Did the overall results get better?"
      ]
    },
    {
      "cell_type": "code",
      "source": [
        "print(classification_report(test_labels, predictions_2steps_step3, target_names=target_names))"
      ],
      "metadata": {
        "colab": {
          "base_uri": "https://localhost:8080/"
        },
        "id": "1cKDRON5HjiM",
        "outputId": "a15844f7-6dd2-4a07-c9e7-4c30bbbe9ba7"
      },
      "execution_count": 62,
      "outputs": [
        {
          "output_type": "stream",
          "name": "stdout",
          "text": [
            "                          precision    recall  f1-score   support\n",
            "\n",
            "             alt.atheism       0.57      0.42      0.48        76\n",
            "           comp.graphics       0.77      0.53      0.63        96\n",
            " comp.os.ms-windows.misc       0.46      0.82      0.59        94\n",
            "comp.sys.ibm.pc.hardware       0.57      0.44      0.49       101\n",
            "   comp.sys.mac.hardware       0.54      0.69      0.61       103\n",
            "          comp.windows.x       0.86      0.76      0.80        95\n",
            "            misc.forsale       0.79      0.79      0.79       103\n",
            "               rec.autos       0.57      0.76      0.65       108\n",
            "         rec.motorcycles       0.62      0.69      0.66        87\n",
            "      rec.sport.baseball       0.69      0.84      0.76        92\n",
            "        rec.sport.hockey       0.87      0.85      0.86        96\n",
            "               sci.crypt       0.90      0.65      0.76       107\n",
            "         sci.electronics       0.70      0.58      0.64       107\n",
            "                 sci.med       0.85      0.84      0.84        98\n",
            "               sci.space       0.83      0.68      0.75        94\n",
            "  soc.religion.christian       0.64      0.89      0.74       108\n",
            "      talk.politics.guns       0.69      0.49      0.58        95\n",
            "   talk.politics.mideast       0.86      0.83      0.85        90\n",
            "      talk.politics.misc       0.52      0.63      0.57        71\n",
            "      talk.religion.misc       0.40      0.16      0.22        64\n",
            "\n",
            "                accuracy                           0.68      1885\n",
            "               macro avg       0.69      0.67      0.66      1885\n",
            "            weighted avg       0.69      0.68      0.67      1885\n",
            "\n"
          ]
        }
      ]
    },
    {
      "cell_type": "code",
      "execution_count": 63,
      "metadata": {
        "id": "bbtOD45X6QgO",
        "colab": {
          "base_uri": "https://localhost:8080/"
        },
        "outputId": "6246a688-96f1-4848-dc6e-9feffc507b9b"
      },
      "outputs": [
        {
          "output_type": "execute_result",
          "data": {
            "text/plain": [
              "{'alt.atheism': {'precision': 0.5714285714285714,\n",
              "  'recall': 0.42105263157894735,\n",
              "  'f1-score': 0.48484848484848486,\n",
              "  'support': 76},\n",
              " 'comp.graphics': {'precision': 0.7727272727272727,\n",
              "  'recall': 0.53125,\n",
              "  'f1-score': 0.6296296296296297,\n",
              "  'support': 96},\n",
              " 'comp.os.ms-windows.misc': {'precision': 0.4583333333333333,\n",
              "  'recall': 0.8191489361702128,\n",
              "  'f1-score': 0.5877862595419847,\n",
              "  'support': 94},\n",
              " 'comp.sys.ibm.pc.hardware': {'precision': 0.5714285714285714,\n",
              "  'recall': 0.43564356435643564,\n",
              "  'f1-score': 0.49438202247191015,\n",
              "  'support': 101},\n",
              " 'comp.sys.mac.hardware': {'precision': 0.5419847328244275,\n",
              "  'recall': 0.6893203883495146,\n",
              "  'f1-score': 0.6068376068376069,\n",
              "  'support': 103},\n",
              " 'comp.windows.x': {'precision': 0.8571428571428571,\n",
              "  'recall': 0.7578947368421053,\n",
              "  'f1-score': 0.8044692737430167,\n",
              "  'support': 95},\n",
              " 'misc.forsale': {'precision': 0.7941176470588235,\n",
              "  'recall': 0.7864077669902912,\n",
              "  'f1-score': 0.7902439024390243,\n",
              "  'support': 103},\n",
              " 'rec.autos': {'precision': 0.5694444444444444,\n",
              "  'recall': 0.7592592592592593,\n",
              "  'f1-score': 0.6507936507936508,\n",
              "  'support': 108},\n",
              " 'rec.motorcycles': {'precision': 0.625,\n",
              "  'recall': 0.6896551724137931,\n",
              "  'f1-score': 0.6557377049180328,\n",
              "  'support': 87},\n",
              " 'rec.sport.baseball': {'precision': 0.6936936936936937,\n",
              "  'recall': 0.8369565217391305,\n",
              "  'f1-score': 0.7586206896551725,\n",
              "  'support': 92},\n",
              " 'rec.sport.hockey': {'precision': 0.8723404255319149,\n",
              "  'recall': 0.8541666666666666,\n",
              "  'f1-score': 0.8631578947368421,\n",
              "  'support': 96},\n",
              " 'sci.crypt': {'precision': 0.8974358974358975,\n",
              "  'recall': 0.6542056074766355,\n",
              "  'f1-score': 0.7567567567567568,\n",
              "  'support': 107},\n",
              " 'sci.electronics': {'precision': 0.7045454545454546,\n",
              "  'recall': 0.5794392523364486,\n",
              "  'f1-score': 0.635897435897436,\n",
              "  'support': 107},\n",
              " 'sci.med': {'precision': 0.845360824742268,\n",
              "  'recall': 0.8367346938775511,\n",
              "  'f1-score': 0.8410256410256411,\n",
              "  'support': 98},\n",
              " 'sci.space': {'precision': 0.8311688311688312,\n",
              "  'recall': 0.6808510638297872,\n",
              "  'f1-score': 0.7485380116959065,\n",
              "  'support': 94},\n",
              " 'soc.religion.christian': {'precision': 0.64,\n",
              "  'recall': 0.8888888888888888,\n",
              "  'f1-score': 0.7441860465116279,\n",
              "  'support': 108},\n",
              " 'talk.politics.guns': {'precision': 0.6911764705882353,\n",
              "  'recall': 0.49473684210526314,\n",
              "  'f1-score': 0.5766871165644172,\n",
              "  'support': 95},\n",
              " 'talk.politics.mideast': {'precision': 0.8620689655172413,\n",
              "  'recall': 0.8333333333333334,\n",
              "  'f1-score': 0.847457627118644,\n",
              "  'support': 90},\n",
              " 'talk.politics.misc': {'precision': 0.5232558139534884,\n",
              "  'recall': 0.6338028169014085,\n",
              "  'f1-score': 0.5732484076433122,\n",
              "  'support': 71},\n",
              " 'talk.religion.misc': {'precision': 0.4,\n",
              "  'recall': 0.15625,\n",
              "  'f1-score': 0.2247191011235955,\n",
              "  'support': 64},\n",
              " 'accuracy': 0.6790450928381963,\n",
              " 'macro avg': {'precision': 0.6861326903782664,\n",
              "  'recall': 0.6669499071557837,\n",
              "  'f1-score': 0.6637511631976345,\n",
              "  'support': 1885},\n",
              " 'weighted avg': {'precision': 0.694111934161903,\n",
              "  'recall': 0.6790450928381963,\n",
              "  'f1-score': 0.6743240604049229,\n",
              "  'support': 1885}}"
            ]
          },
          "metadata": {},
          "execution_count": 63
        }
      ],
      "source": [
        "# Run the sklearn classification_report with all 20 classes from the 2-step predictions\n",
        "### YOUR CODE HERE\n",
        "classification_report(test_labels, predictions_2steps_step3, target_names=target_names, output_dict=True)\n",
        "### END YOUR CODE"
      ]
    },
    {
      "cell_type": "code",
      "source": [
        "report_combined = classification_report(test_labels, predictions_2steps_step3, target_names=target_names, output_dict=True)"
      ],
      "metadata": {
        "id": "AnEDWi3DuTr-"
      },
      "execution_count": 64,
      "outputs": []
    },
    {
      "cell_type": "code",
      "source": [
        "label_to_replace, label_to_replace_with"
      ],
      "metadata": {
        "colab": {
          "base_uri": "https://localhost:8080/"
        },
        "id": "Dl9lcUEcHPS3",
        "outputId": "8e1b0ba3-3766-4cb0-eb83-aa26495484e9"
      },
      "execution_count": 65,
      "outputs": [
        {
          "output_type": "execute_result",
          "data": {
            "text/plain": [
              "(19, 15)"
            ]
          },
          "metadata": {},
          "execution_count": 65
        }
      ]
    },
    {
      "cell_type": "code",
      "execution_count": 66,
      "metadata": {
        "id": "GoxOfneGDG60"
      },
      "outputs": [],
      "source": [
        "cm = tf.math.confusion_matrix(test_labels, predictions_2steps_step3)\n",
        "cm = cm/cm.numpy().sum(axis=1)[:, tf.newaxis]"
      ]
    },
    {
      "cell_type": "code",
      "execution_count": 67,
      "metadata": {
        "id": "of7FDh3CDHGy",
        "colab": {
          "base_uri": "https://localhost:8080/",
          "height": 585
        },
        "outputId": "f82a9048-9fa0-4d99-f51d-36ab8947fd1b"
      },
      "outputs": [
        {
          "output_type": "execute_result",
          "data": {
            "text/plain": [
              "Text(159.0, 0.5, 'True')"
            ]
          },
          "metadata": {},
          "execution_count": 67
        },
        {
          "output_type": "display_data",
          "data": {
            "text/plain": [
              "<Figure size 1440x504 with 2 Axes>"
            ],
            "image/png": "[encoded data removed]"
          },
          "metadata": {
            "needs_background": "light"
          }
        }
      ],
      "source": [
        "plt.figure(figsize=(20,7))\n",
        "sns.heatmap(\n",
        "    cm, annot=True,\n",
        "    xticklabels=target_names,\n",
        "    yticklabels=target_names)\n",
        "plt.xlabel(\"Predicted\")\n",
        "plt.ylabel(\"True\")"
      ]
    },
    {
      "cell_type": "markdown",
      "metadata": {
        "id": "8jXBmgS2iXDI"
      },
      "source": [
        "**QUESTION:**\n",
        "\n",
        "3.4 What is the macro average F1 score you get from the combined two-step model? \n",
        "\n",
        "3.5 What is the difference in points between the macro weighted F1 score for the original model and the combined two-step model? \n",
        "\n",
        "3.6 What is the new F1 score for the last category (i.e. label_to_replace, the one that had the lowest F1 score in the original model)? \n",
        "\n",
        "3.7 What is the new F1 score for the other category that you combined with the last category in the two-step model (i.e. label_to_replace_with)? \n",
        "\n",
        "3.8 Which metric (precision or recall) is now lower for the other category (i.e. label_to_replace_with)? "
      ]
    },
    {
      "cell_type": "markdown",
      "source": [
        "3.4 What is the macro average F1 score you get from the combined two-step model? **0.66160**"
      ],
      "metadata": {
        "id": "qwuhRCkMwweg"
      }
    },
    {
      "cell_type": "code",
      "source": [
        "report_combined['macro avg']['f1-score']"
      ],
      "metadata": {
        "colab": {
          "base_uri": "https://localhost:8080/"
        },
        "id": "lWb9s2Rww0Zw",
        "outputId": "25c1cb43-ba3e-4eb5-c9a2-3bbc6bc3e003"
      },
      "execution_count": 68,
      "outputs": [
        {
          "output_type": "execute_result",
          "data": {
            "text/plain": [
              "0.6637511631976345"
            ]
          },
          "metadata": {},
          "execution_count": 68
        }
      ]
    },
    {
      "cell_type": "markdown",
      "source": [
        "3.5 What is the difference in points between the macro weighted F1 score for the original model and the combined two-step model? **0.00186**"
      ],
      "metadata": {
        "id": "6pemPZL_rBVK"
      }
    },
    {
      "cell_type": "code",
      "source": [
        "report_combined['macro avg']['f1-score'] - report_orig['macro avg']['f1-score']"
      ],
      "metadata": {
        "colab": {
          "base_uri": "https://localhost:8080/"
        },
        "id": "WG87DAvAue7s",
        "outputId": "f374985e-158e-4f00-9a39-72156374471e"
      },
      "execution_count": 69,
      "outputs": [
        {
          "output_type": "execute_result",
          "data": {
            "text/plain": [
              "-0.006722322588330942"
            ]
          },
          "metadata": {},
          "execution_count": 69
        }
      ]
    },
    {
      "cell_type": "markdown",
      "source": [
        "3.6 What is the new F1 score for the last category (i.e. label_to_replace, the one that had the lowest F1 score in the original model)? **0.18750**"
      ],
      "metadata": {
        "id": "jJFhef3Xrf-K"
      }
    },
    {
      "cell_type": "code",
      "source": [
        "label_to_replace, target_names[label_to_replace]"
      ],
      "metadata": {
        "colab": {
          "base_uri": "https://localhost:8080/"
        },
        "id": "B2LCrclmr-Is",
        "outputId": "04869917-61cd-4a24-de64-42c36f290cea"
      },
      "execution_count": 70,
      "outputs": [
        {
          "output_type": "execute_result",
          "data": {
            "text/plain": [
              "(19, 'talk.religion.misc')"
            ]
          },
          "metadata": {},
          "execution_count": 70
        }
      ]
    },
    {
      "cell_type": "code",
      "source": [
        "report_combined[target_names[label_to_replace]]['f1-score']"
      ],
      "metadata": {
        "colab": {
          "base_uri": "https://localhost:8080/"
        },
        "id": "jOsm7Gucrreo",
        "outputId": "4f43da37-9443-4ef7-bd78-13b2acfab5f2"
      },
      "execution_count": 71,
      "outputs": [
        {
          "output_type": "execute_result",
          "data": {
            "text/plain": [
              "0.2247191011235955"
            ]
          },
          "metadata": {},
          "execution_count": 71
        }
      ]
    },
    {
      "cell_type": "markdown",
      "source": [
        "3.7 What is the new F1 score for the other category that you combined with the last category in the two-step model (i.e. label_to_replace_with)? **0.71296**"
      ],
      "metadata": {
        "id": "UcgeoD9Zu3Ma"
      }
    },
    {
      "cell_type": "code",
      "source": [
        "label_to_replace_with, target_names[label_to_replace_with]"
      ],
      "metadata": {
        "colab": {
          "base_uri": "https://localhost:8080/"
        },
        "id": "chq5yj2xvDfX",
        "outputId": "716d9882-fc12-4374-95b6-e0370e4efc2d"
      },
      "execution_count": 72,
      "outputs": [
        {
          "output_type": "execute_result",
          "data": {
            "text/plain": [
              "(15, 'soc.religion.christian')"
            ]
          },
          "metadata": {},
          "execution_count": 72
        }
      ]
    },
    {
      "cell_type": "code",
      "source": [
        "report_combined[target_names[label_to_replace_with]]['f1-score']"
      ],
      "metadata": {
        "colab": {
          "base_uri": "https://localhost:8080/"
        },
        "id": "CzXIAfA5u5li",
        "outputId": "f6998b46-1592-4d4c-f52d-c8e456945d9d"
      },
      "execution_count": 73,
      "outputs": [
        {
          "output_type": "execute_result",
          "data": {
            "text/plain": [
              "0.7441860465116279"
            ]
          },
          "metadata": {},
          "execution_count": 73
        }
      ]
    },
    {
      "cell_type": "markdown",
      "source": [
        "3.8 Which metric (precision or recall) is now lower for the other category (i.e. label_to_replace_with)? **precision**"
      ],
      "metadata": {
        "id": "8ldrSVzOvL4n"
      }
    },
    {
      "cell_type": "code",
      "source": [
        "print(f\"Precision in 2step model : {report_combined[target_names[label_to_replace_with]]['precision']}\")\n",
        "print(f\"Recall in 2step model : {report_combined[target_names[label_to_replace_with]]['recall']}\")\n",
        "\n",
        "print(f\"Precision in original model : {report_orig[target_names[label_to_replace_with]]['precision']}\")\n",
        "print(f\"Recall in original model : {report_orig[target_names[label_to_replace_with]]['recall']}\")"
      ],
      "metadata": {
        "colab": {
          "base_uri": "https://localhost:8080/"
        },
        "id": "Dx5g6wAbvZuo",
        "outputId": "5840b90d-231b-402c-88ad-d66f350a1377"
      },
      "execution_count": 74,
      "outputs": [
        {
          "output_type": "stream",
          "name": "stdout",
          "text": [
            "Precision in 2step model : 0.64\n",
            "Recall in 2step model : 0.8888888888888888\n",
            "Precision in original model : 0.6838235294117647\n",
            "Recall in original model : 0.8611111111111112\n"
          ]
        }
      ]
    },
    {
      "cell_type": "markdown",
      "metadata": {
        "id": "coyVPop8SuG9"
      },
      "source": [
        "### Look at examples of misclassifications\n",
        "\n",
        "What happened in the two-step model? Did everything improve, or did something get worse? We were concerned about the last news category, which had a very low F1 score in the original model. In the two-step model, the F1 score for that category should have gone up.\n",
        "\n",
        "But for the other category that the original model often confused with the last category, the F1 score might have gone down. In particular, one of the two component metrics, precision or recall, probably went down. (We ask you which one went down in question 3.7 above.)\n",
        "\n",
        "We might be able to tell what happened from the confusion matrix, but it's also always a good idea to look at actual examples that were misclassified, to see if we can spot any patterns. We can also isolate more specific examples, like test examples that the original model got right, but the two-step model got wrong. Let's do that below.\n",
        "\n",
        "**CRITICAL NOTE:**  If nothing prints out when you run the code below, there are two possibilities.  The first is that there is some error in the code or variable names you have created in earlier cells.  The second possibility is that given your current train, validation, and test split, the second model predicted the \"label_to_replace_with\" class and the first model did so too.  This is unlikely but it is possible. In either case, you must go back and re-run the *ENTIRE* notebook to make sure you get a new train, validation, and test split which will allow you to observe the first and second models disagreeing. Please make sure you enter the metric values from this new run into your answers file."
      ]
    },
    {
      "cell_type": "code",
      "execution_count": 75,
      "metadata": {
        "id": "Lj98aBdmNMrE",
        "colab": {
          "base_uri": "https://localhost:8080/"
        },
        "outputId": "82ef3781-d8d5-4ec7-99d0-27b2c94c188f"
      },
      "outputs": [
        {
          "output_type": "execute_result",
          "data": {
            "text/plain": [
              "array([False, False, False, ..., False, False, False])"
            ]
          },
          "metadata": {},
          "execution_count": 75
        }
      ],
      "source": [
        "# Make a vector the length of our test set, with 1 if the second model predicted the\n",
        "# \"label_to_replace_with\" class, and 0s otherwise\n",
        "select_predictions = (predictions_2steps_step3 == label_to_replace_with)\n",
        "select_predictions"
      ]
    },
    {
      "cell_type": "code",
      "execution_count": 76,
      "metadata": {
        "id": "vaBVzlNXdsWN",
        "colab": {
          "base_uri": "https://localhost:8080/"
        },
        "outputId": "b965dc17-2faf-4597-a1cd-b75d9c57f20f"
      },
      "outputs": [
        {
          "output_type": "execute_result",
          "data": {
            "text/plain": [
              "array([False, False, False, ..., False, False, False])"
            ]
          },
          "metadata": {},
          "execution_count": 76
        }
      ],
      "source": [
        "# Now only keep a 1 if that was not the correct label, i.e. it was a false positive\n",
        "select_predictions = select_predictions * (test_labels != label_to_replace_with)\n",
        "select_predictions"
      ]
    },
    {
      "cell_type": "code",
      "execution_count": 77,
      "metadata": {
        "id": "E05K9v-RdsLT"
      },
      "outputs": [],
      "source": [
        "# And now only keep a 1 if the original model predicted the correct label instead\n",
        "select_predictions = select_predictions * (test_labels == predictions_model1.numpy())"
      ]
    },
    {
      "cell_type": "code",
      "execution_count": 78,
      "metadata": {
        "id": "x4dEwbnc_6qr",
        "colab": {
          "base_uri": "https://localhost:8080/"
        },
        "outputId": "e6269a2b-02ea-4aa7-9612-81159c4dacc8"
      },
      "outputs": [
        {
          "output_type": "stream",
          "name": "stdout",
          "text": [
            "Input text number: 64\n",
            "Prediction: model1 = alt.atheism, model2 = soc.religion.christian):\n",
            "Text:  That's fascinating.  I take it that you're expressing skepticism at the idea that those ignorant savages could have influenced the Constitution of the people who stole their continent.  You could be right, but it sounds plausible to me.  Is there any reason that you dismiss it out-of-hand?  Here's some more:     Recent scholarship has shown that in the mid-1700s Indians were not    only invited to participate in the deliberations of our \"founding    fathers,\" but that the Great Binding Law of the Iroquois Confederacy    arguably became the single most important model for the 1754 Albany    Plan of Union, and later the Articles of Confederation and the    Constitution.  That this would be absent from our school texts,    and from history, and from media is not surprising given the devotion    Americans feel to our founding myth: Great men gathered to express    a new vision that has withstood the test of time.  If it were    revealed that Indians had a role in it, imagine the blow to t\n",
            "\n",
            "\n",
            "Input text number: 86\n",
            "Prediction: model1 = sci.space, model2 = soc.religion.christian):\n",
            "Text: Sterrenkundig symposium 'Compacte Objecten'                                              op 26 april 1993   In het jaar 1643, zeven jaar na de oprichting van de Universiteit van Utrecht, benoemde de universiteit haar eerste sterrenkundige waarnemer. Hiermee ontstond de tweede universiteitssterrenwacht ter wereld. Aert Jansz, de eerste waarnemer, en zijn opvolgers voerden de Utrechtse sterrenkunde in de daaropvolgende jaren, decennia en eeuwen naar de voorhoede van het astronomisch onderzoek. Dit jaar is het 350 jaar geleden dat deze historische benoeming plaatsvond.  De huidige generatie Utrechtse sterrenkundigen en studenten sterrenkunde, verenigd in het Sterrekundig Instituut Utrecht, vieren de benoeming van hun 'oervader' middels een breed scala aan feestelijke activiteiten. Zo is er voor scholieren een planetenproject, programmeert de Studium Generale een aantal voordrachten met een sterrenkundig thema en wordt op de Dies Natalis aan een astronoom een eredoctoraat uitgereikt. Er st\n",
            "\n",
            "\n",
            "Input text number: 123\n",
            "Prediction: model1 = talk.politics.guns, model2 = soc.religion.christian):\n",
            "Text:  Please tell me what you think would have happened had the people  come out with their hands up several weeks ago.   More than someone who would not release children from the compound.  I.e., more than David Koresh/Vernon Howell/\"Jesus Christ\". I saw lengthy excerpts from an Australian documentary made in  1992 that clearly showed that this was a cult.  I am not pleased with the BATF handling of the affair.  I think they  bungled it badly from the start.  But I don't think they are  responsible for the fire, which started in two different places.   \n",
            "\n",
            "\n",
            "Input text number: 228\n",
            "Prediction: model1 = alt.atheism, model2 = soc.religion.christian):\n",
            "Text:     No wonder in the light of that you are a probably a theist who tries to pass as an agnostic. I still remember your post about your daughter singing Chrismas Carols and your feelings of it well.\n",
            "\n",
            "\n",
            "Input text number: 770\n",
            "Prediction: model1 = talk.politics.misc, model2 = soc.religion.christian):\n",
            "Text:  [...]   Not that I think anyone cares, but this pattern (using other examples of course) was discussed 2,000 years ago by Aristotle in _Nicomachean_Ethics_.   Note that you can't use this insight to reason backwards; e.g.:  Since the conservatives see the media as liberal and the liberals see the media as conservative, the media are fair!  (though I've seen this \"reasoning\" implied)     Ken\n",
            "\n",
            "\n",
            "Input text number: 815\n",
            "Prediction: model1 = sci.space, model2 = soc.religion.christian):\n",
            "Text: Wm Hathaway comments;    I agree that the desire for beauty is valid, but I think your desire to impose your vision of beauty is not.  You mention the age-old desire to somehow get up there, but ignore the beauty of the actual achievment of that vision.  You mention the beauty of a very dark sky, not impeded by the effects of humans, but ignore the beauty of the as-dark-as-can-be sky that is only visible from space, a vision that we, or at least, our descendents, may one day be able to see, in part, because of efforts that others call ugly.  One day, I hope, humans will be able to look out, not upon half the heavens, with only nature-creted lights, but upon all of the heavens, with no lights.  If advertising in space can help us reach that goal, it is no less beautiful for the way we reach it, than the 'pristine' sky of yesteryear (or yester-century), which is totally unreachable.  One of the original conceptions of beauty in wetsern sculpture was a human form, in the effort of strivin\n",
            "\n",
            "\n",
            "Input text number: 860\n",
            "Prediction: model1 = talk.politics.guns, model2 = soc.religion.christian):\n",
            "Text: agencies   your   dictionary    I don't recall saying Baptists do any of that.  Though I suppose some do.  And   none of them are listed in the dictionary as characteristics of a cult.  My   mother stockpiled Campbells soup when it was on sale.     You are an intolerent, foul-mouthed human.  You sound like you are ready to   join the KKK or neo-nazis, with a narrow mind like yours.   Far from it, I defend the rights of anyone to be different under our   constitution, which was formed in part to protect religious cults which had   been persecuted in England before migrating here to be free.  You are the one   endangering our constitution.   Jim -- jmd@handheld.com\n",
            "\n",
            "\n",
            "Input text number: 894\n",
            "Prediction: model1 = alt.atheism, model2 = soc.religion.christian):\n",
            "Text:  Prove it.  I am an atheist.  It doesn't mean I am for or against abortion.   An obvious effect of homosexuality is non-procreation.  That, unlike your statement, is a fact.  Please prove that (a) homosexuality is defended as  means of population control, (b) being atheist causes you to hold these beliefs.  I defend homosexuality because (a) what people do with their bodies is none of my business (b) I defend the equal rights of all humans.  Do you?   Define values. Prove your statement.   Prove your statement.  Electrons are waves.  Electrons are particles.  I  believe in both.  I have physical proof of both.  I have no proof of god(tm) only an ancient book.  That is not indicative of the existence of a being with omnipotence or omnipresence.  And, by your own argument, christians don't exist.    First of all, your earlier statements have absolutely nothing to do with your question.  Why did you post them?  To show that athiests, besides not existing (your view), are more humane than \n",
            "\n",
            "\n",
            "Input text number: 942\n",
            "Prediction: model1 = talk.politics.misc, model2 = soc.religion.christian):\n",
            "Text: # ##So tell me---what's immoral about homosexuality? #  # CC: # #The promiscuity and fetishism that characterizes it. #  # Hmmm. #  # I've told you more than once that I've been monogamous for almost 4 years # now, and that I really don't get into fetishes.  Then you are nearly the only homosexual who is.  I don't believe you. You've changed your story before.  # Yet you maintain my homosexual activity is still immoral. #  # Care to elaborate? #  # For that matter, explain why fetishes are immoral? #  # kane@{buast7,astro}.bu.edu (Hot Young Star) Astronomy Dept, Boston University,  The fact that your fetish is more important than who you are making love to.  (Actually, in your case, \"having sex with.\")\n",
            "\n",
            "\n",
            "Input text number: 1036\n",
            "Prediction: model1 = talk.politics.misc, model2 = soc.religion.christian):\n",
            "Text: :      Here's a hypothetical question...  If Clayton said something like \"all : those niggers are really stupid.\"  (Please don't be offended, I'm not racist : but merely using an example of Clayton's malign logic).  And then said he : read a report that a lot of blacks in inner cities dropped out of school, I : bet he wouldn't have your support.  Yet he can claim that all homosexuals are : dishonest, evil, lying child molesters without *PERSONALLY* having a single : homosexual friend or acquaintance and you'll sit there and support him.  :      God created a place for bigots.  It's called Hell and Clayton is going : to burn there for a long time.  I pray for him to find in his heart the : Christian values he espouses so that he can learn to love his gay brothers : and sisters, because anyone with so much hatred in his soul coulld never : be righteous.  There is a difference between supporting Claytons opinions and supporting his right to speak.  I want you to know that you cannot educa\n",
            "\n",
            "\n",
            "Input text number: 1147\n",
            "Prediction: model1 = alt.atheism, model2 = soc.religion.christian):\n",
            "Text:  I've been following this train of talk, and the question of dismissing atoms as   being in some sense \"not real\" leaves me uneasy.  It seems to be implied that we obseve only the effects, and therefore the   underlying thing is not necessarily real.  The tree outside my window is in   this category... is observe the light which bounces off of it, not the tree   itself.  The observation is indirect, but no more so than observations I have   made of atoms.  Also, what about observations and experiments that have been routinely done   with individual atoms.  I am thinking in particular of atom trapping   experiments and tests of fundamental quantum mechanics such as the quantum Zeno   effect, where an individual atom is studied for a long period of time.  Some of the attempts at quantum mechanical arguments were not very satisfying   either.  One has to be carefull about making such arguments without a solid   technical background in the field.  What I read seemed a little confused a   q\n",
            "\n",
            "\n",
            "Input text number: 1187\n",
            "Prediction: model1 = talk.religion.misc, model2 = soc.religion.christian):\n",
            "Text: Someone posted a list of x number of alleged Bible contradictions.  As Joslin said, most people do value quantity over quality.  Dave Butler posted some good quality alleged contradictions that are taking a long time to properly exegete.  If you want a good list (quantity) - _When Critics Ask, A Popular Handbook On Bible Difficulties_ by Dr. Norman Geisler deals with over 800 alleged contradictions.  Frank\n",
            "\n",
            "\n",
            "Input text number: 1437\n",
            "Prediction: model1 = alt.atheism, model2 = soc.religion.christian):\n",
            "Text:   \tAgreed.  --          \"Satan and the Angels do not have freewill.           They do what god tells them to do. \"\n",
            "\n",
            "\n"
          ]
        }
      ],
      "source": [
        "# Print out the original and clean text of the examples that met the above conditions\n",
        "for i in np.where(select_predictions)[0]:\n",
        "    \n",
        "    print(f\"Input text number: {i}\")\n",
        "\n",
        "    print('Prediction: model1 = %s, model2 = %s):\\nText: %s\\n\\n' %\n",
        "          (target_names[predictions_model1[i]],\n",
        "           target_names[predictions_2steps_step3[i]],\n",
        "           test_texts[i][:1000].replace('\\n', ' ')))"
      ]
    },
    {
      "cell_type": "markdown",
      "metadata": {
        "id": "ppncPlCzzz0B"
      },
      "source": [
        "**QUESTION:** \n",
        "\n",
        "4.1 Why do you think the two-step model got these examples wrong, when the original model got them right?\n",
        "\n",
        "- A. The two-step model saw less examples of the \"label_to_replace\" class, because we replaced them with the \"label_to_replace_with\" examples. So it didn't learn the kind of text in that class as well as the original model.\n",
        "\n",
        "- B. In the two-step process, the step 1 model overpredicted the combined class, and the step 2 model overpredicted the \"label_to_replace_with\" class. A third class is now getting mistaken more often for the \"label_to_replace_with\" class, than in the original model.\n",
        "\n",
        "- C. It's probably just random that the original model got these specific examples right and the two-step model got them wrong.\n",
        "\n",
        "**B**\n",
        "\n",
        "4.2 Is there anything you might try next, to try to make the two-step model better?\n",
        "\n",
        "- A. Try to balance the training data across classes at each step, or add class weights when calling model.fit.\n",
        "\n",
        "- B. Try to combine another similar category with the two easily confused ones, for a step 1 model with 18 classes and the step 2 model with 3 classes.\n",
        "\n",
        "- C. Try both A and B\n",
        "\n",
        "**C**"
      ]
    }
  ],
  "metadata": {
    "accelerator": "GPU",
    "colab": {
      "provenance": [],
      "include_colab_link": true
    },
    "gpuClass": "standard",
    "kernelspec": {
      "display_name": "Python 3",
      "language": "python",
      "name": "python3"
    },
    "language_info": {
      "codemirror_mode": {
        "name": "ipython",
        "version": 3
      },
      "file_extension": ".py",
      "mimetype": "text/x-python",
      "name": "python",
      "nbconvert_exporter": "python",
      "pygments_lexer": "ipython3",
      "version": "3.8.5"
    }
  },
  "nbformat": 4,
  "nbformat_minor": 0
}